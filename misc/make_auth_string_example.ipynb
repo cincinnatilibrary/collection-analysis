{
  "nbformat": 4,
  "nbformat_minor": 0,
  "metadata": {
    "colab": {
      "name": "make_auth_string_example.ipynb",
      "provenance": [],
      "collapsed_sections": [],
      "authorship_tag": "ABX9TyOdVlovss/OId/QbdLDwW7u",
      "include_colab_link": true
    },
    "kernelspec": {
      "name": "python3",
      "display_name": "Python 3"
    },
    "language_info": {
      "name": "python"
    }
  },
  "cells": [
    {
      "cell_type": "markdown",
      "metadata": {
        "id": "view-in-github",
        "colab_type": "text"
      },
      "source": [
        "<a href=\"https://colab.research.google.com/github/cincinnatilibrary/collection-analysis/blob/master/misc/make_auth_string_example.ipynb\" target=\"_parent\"><img src=\"https://colab.research.google.com/assets/colab-badge.svg\" alt=\"Open In Colab\"/></a>"
      ]
    },
    {
      "cell_type": "code",
      "execution_count": 1,
      "metadata": {
        "id": "r06dd-D7imIu"
      },
      "outputs": [],
      "source": [
        "from getpass import getpass\n",
        "from base64 import b64encode\n",
        "import requests\n",
        "\n",
        "base_url = 'https://classic.cincinnatilibrary.org:443/iii/sierra-api/v6/'\n",
        "\n",
        "def make_auth_string(client_key, client_secret):\n",
        "  \"\"\"\n",
        "  given client_key, client_secret inputs, produce the auth_string for the sierra rest api\n",
        "  (or, better yet, store this auth string, and use it as the requested input from the user)\n",
        "  \"\"\"\n",
        "  auth_string = b64encode(\n",
        "      (client_key + ':' + client_secret).encode('utf-8')\n",
        "  ).decode('utf-8')\n",
        "\n",
        "  return(auth_string)\n",
        "\n",
        "\n",
        "def make_auth_headers(auth_string):\n",
        "  headers = {}\n",
        "  headers['authorization'] = 'basic ' + auth_string\n",
        "\n",
        "  return(headers)\n",
        "\n",
        "\n",
        "def set_access_headers(base_url, auth_string=None, client_key=None, client_secret=None):\n",
        "  \"\"\"\n",
        "  use this function to set and refresh the access_headers for future\n",
        "  authorizing API requests\n",
        "\n",
        "  either use the client_key and client_secret \n",
        "  ... or the auth_string (which has been pre-encoded from the key + secret)\n",
        "  \"\"\"\n",
        "  if (auth_string is None and client_key is None and client_key is None):\n",
        "    # can't work with no input\n",
        "    return(-1)\n",
        "\n",
        "  if ( (auth_string is None) and (client_key is not None and client_key is not None) ):\n",
        "    auth_string = make_auth_string(client_key, client_secret)\n",
        "  \n",
        "  headers = {}\n",
        "  headers['authorization'] = 'basic ' + auth_string\n",
        "\n",
        "  try:\n",
        "      r = requests.post(base_url + 'token', headers=headers, verify=True)\n",
        "\n",
        "  except requests.ConnectionError as e:\n",
        "      # print('connection error: {}'.format(e))\n",
        "      return(\n",
        "        -1\n",
        "      )\n",
        "      return 0\n",
        "\n",
        "  if r.status_code != 200:\n",
        "      print(r.status_code)\n",
        "      return 0\n",
        "\n",
        "  access_token = r.json()['access_token']\n",
        "\n",
        "  # set our headers to use the access token\n",
        "  headers['authorization'] = 'bearer ' + access_token\n",
        "\n",
        "  # Note: depending on the Sierra REST API request endpoint,\n",
        "  # you may need to change the types below to fit the request,\n",
        "  # but these are pretty standard\n",
        "  headers['content-type'] = 'application/json'\n",
        "  headers['accept'] = 'application/json'\n",
        "\n",
        "  return headers\n"
      ]
    },
    {
      "cell_type": "code",
      "source": [
        "# client_key = getpass('client_key:')\n",
        "# client_secret = getpass('client_secret:')\n",
        "\n",
        "# headers = make_auth_headers(\n",
        "#     make_auth_string(client_key, client_secret)\n",
        "# )"
      ],
      "metadata": {
        "id": "Jgl00Xj6jTgZ"
      },
      "execution_count": 2,
      "outputs": []
    },
    {
      "cell_type": "code",
      "source": [
        "# cut out the middle man, and just store / ask for the auth string directly ...\n",
        "auth_string = getpass('auth_string:')"
      ],
      "metadata": {
        "colab": {
          "base_uri": "https://localhost:8080/"
        },
        "id": "AtKBi2i5qYST",
        "outputId": "e2bb0ae5-b36d-4d12-a4b0-8c70a6dee31b"
      },
      "execution_count": 3,
      "outputs": [
        {
          "name": "stdout",
          "output_type": "stream",
          "text": [
            "auth_string:··········\n"
          ]
        }
      ]
    },
    {
      "cell_type": "code",
      "source": [
        "# TODO: start some sort of timer here to indicate when our token needs to be refreshed ...\n",
        "headers = set_access_headers(base_url=base_url, auth_string=auth_string)\n",
        "\n",
        "r = requests.get(base_url + 'info/token', headers=headers, verify=True)\n",
        "r.json()['expiresIn']"
      ],
      "metadata": {
        "colab": {
          "base_uri": "https://localhost:8080/"
        },
        "id": "nUpJ-5j4wBAA",
        "outputId": "e6d03143-1807-446d-ebe8-b49c3d7604e0"
      },
      "execution_count": 4,
      "outputs": [
        {
          "output_type": "execute_result",
          "data": {
            "text/plain": [
              "3599"
            ]
          },
          "metadata": {},
          "execution_count": 4
        }
      ]
    }
  ]
}