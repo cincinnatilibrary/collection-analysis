{
 "cells": [
  {
   "cell_type": "code",
   "execution_count": null,
   "id": "affiliated-leave",
   "metadata": {},
   "outputs": [],
   "source": [
    "# use the sierra db to find distinct patron records with holds in:\n",
    "#     'b', -- Bib hold ready for pickup.\n",
    "#     'j', -- Volume hold ready for pickup.\n",
    "#     'i' -- Item hold ready for pickup.\n",
    "\n",
    "# use the REST API to find the holds for that list of patrons above with a \"pickupByDate\"\n",
    "\n",
    "# place the hold id into the sqlite db with the value for the \"pickupByDate\" field\n",
    "\n",
    "!wget --quiet https://raw.githubusercontent.com/cincinnatilibrary/collection-analysis/master/misc/chpl_helper.py --output-document=chpl_helper.py\n",
    "\n",
    "import pandas as pd\n",
    "from sqlalchemy import create_engine\n",
    "from sqlalchemy.types import Integer, BigInteger, Numeric\n",
    "import os\n",
    "from getpass import getpass\n",
    "import requests\n",
    "\n",
    "import vars\n",
    "import chpl_helper\n",
    "\n",
    "sierra_engine = create_engine('postgresql://{}:{}@sierra-db.plch.net:1032/iii'.format(vars.pg_username, vars.pg_password))\n",
    "\n",
    "# point this to the base URL for the Sierra REST API\n",
    "base_url = 'https://classic.cincinnatilibrary.org:443/iii/sierra-api/v6/'"
   ]
  },
  {
   "cell_type": "code",
   "execution_count": null,
   "id": "initial-fruit",
   "metadata": {},
   "outputs": [],
   "source": [
    "# REMOVE and refresh the sqlite database file in the local directory\n",
    "try:\n",
    "    os.remove('items_pickup_by.db')\n",
    "except:\n",
    "    pass\n",
    "\n",
    "os.close(os.open('items_pickup_by.db', os.O_CREAT))\n",
    "\n",
    "engine = create_engine('sqlite:///items_pickup_by.db', echo=False)"
   ]
  },
  {
   "cell_type": "code",
   "execution_count": null,
   "id": "minus-tribute",
   "metadata": {},
   "outputs": [],
   "source": [
    "%%time\n",
    "sql = \"\"\"\\\n",
    "SELECT DISTINCT\n",
    "--h.patron_record_id,\n",
    "rm.record_num AS patron_record_num\n",
    "FROM \n",
    "sierra_view.\"hold\" AS h\n",
    "JOIN sierra_view.record_metadata rm ON rm.id = h.patron_record_id \n",
    "WHERE \n",
    "h.status IN (\n",
    "    'b', -- Bib hold ready for pickup\n",
    "    'j', -- Volume hold ready for pickup.\n",
    "    'i' -- Item hold ready for pickup.\n",
    ")\n",
    "\"\"\"\n",
    "\n",
    "df = pd.read_sql(con=sierra_engine, sql=sql)\n",
    "print(df.shape)"
   ]
  },
  {
   "cell_type": "code",
   "execution_count": null,
   "id": "monetary-biography",
   "metadata": {},
   "outputs": [],
   "source": [
    "# client_key = getpass('Enter the client KEY value: ')\n",
    "# client_secret = getpass('Enter the client SECRET value: ')\n",
    "auth_string = getpass('Enter the auth_string value: ')\n",
    "\n",
    "# test our credentials\n",
    "headers = chpl_helper.set_access_headers(base_url, auth_string=auth_string)\n",
    "r = requests.get(base_url + 'info/token', headers=headers, verify=True)\n",
    "print('access token expires in: {} seconds'.format(r.json()['expiresIn']))"
   ]
  },
  {
   "cell_type": "code",
   "execution_count": null,
   "id": "valuable-mobile",
   "metadata": {},
   "outputs": [],
   "source": [
    "# get the \"pickupByDate\" values ...\n",
    "# get /v6/patrons/{id}/holds \n",
    "# https://classic.cincinnatilibrary.org:443/iii/sierra-api/v6/patrons/1923269/holds?fields=pickupByDate\n",
    "\n",
    "for i, patron in enumerate(df.itertuples()):\n",
    "    r = requests.get(base_url + f'patrons/{patron[1]}/holds' , headers=headers, params={'fields': 'pickupByDate'})\n",
    "    temp_df = pd.DataFrame([row for row in r.json()['entries'] if 'pickupByDate' in row])\n",
    "    temp_df.to_sql(name='item_data', con=engine, if_exists='append')\n"
   ]
  }
 ],
 "metadata": {
  "kernelspec": {
   "display_name": "Python 3",
   "language": "python",
   "name": "python3"
  },
  "language_info": {
   "codemirror_mode": {
    "name": "ipython",
    "version": 3
   },
   "file_extension": ".py",
   "mimetype": "text/x-python",
   "name": "python",
   "nbconvert_exporter": "python",
   "pygments_lexer": "ipython3",
   "version": "3.7.3"
  }
 },
 "nbformat": 4,
 "nbformat_minor": 5
}
