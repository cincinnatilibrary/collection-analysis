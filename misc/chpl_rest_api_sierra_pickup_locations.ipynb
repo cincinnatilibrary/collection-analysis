{
  "cells": [
    {
      "cell_type": "markdown",
      "metadata": {
        "id": "view-in-github",
        "colab_type": "text"
      },
      "source": [
        "<a href=\"https://colab.research.google.com/github/cincinnatilibrary/collection-analysis/blob/master/misc/chpl_rest_api_sierra_pickup_locations.ipynb\" target=\"_parent\"><img src=\"https://colab.research.google.com/assets/colab-badge.svg\" alt=\"Open In Colab\"/></a>"
      ]
    },
    {
      "cell_type": "markdown",
      "metadata": {
        "id": "HrJKYk82ZuQh"
      },
      "source": [
        "<img src=\"https://ilsweb.cincinnatilibrary.org/img/CHPL_Brandmark_Primary.png\" alt=\"CHPL\" title=\"CHPL\" width=\"250\"/>\n",
        "\n",
        "# REST API: Pickup Locations\n",
        "\n",
        "This script will output a list of pickup locations that can be used to place holds\n"
      ]
    },
    {
      "cell_type": "code",
      "execution_count": 7,
      "metadata": {
        "id": "mYssGRtpZxqb"
      },
      "outputs": [],
      "source": [
        "# <--- Click the play button to the left to get started\n",
        "\n",
        "# this is the helper script that contains some needed functions\n",
        "!wget --quiet https://raw.githubusercontent.com/cincinnatilibrary/collection-analysis/master/misc/chpl_helper.py --output-document=chpl_helper.py\n",
        "\n",
        "# import the helper functions we just downloaded ...\n",
        "import chpl_helper\n",
        "from getpass import getpass\n",
        "import requests\n",
        "\n",
        "# point this to the base URL for the Sierra REST API\n",
        "base_url = 'https://classic.cincinnatilibrary.org:443/iii/sierra-api/v6/'"
      ]
    },
    {
      "cell_type": "markdown",
      "metadata": {
        "id": "D72kS5LMbcpJ"
      },
      "source": [
        "## Enter REST-API Credentials\n",
        "\n",
        "In order to be authorized to use the REST API, you must enter valid credientials.\n",
        "\n",
        "When prompted, enter in the **`auth_string`** as your password:"
      ]
    },
    {
      "cell_type": "code",
      "execution_count": 8,
      "metadata": {
        "id": "6zcODxHbbahd",
        "colab": {
          "base_uri": "https://localhost:8080/"
        },
        "outputId": "e24c7f18-6038-495e-c8db-5e7813b5105a"
      },
      "outputs": [
        {
          "output_type": "stream",
          "name": "stdout",
          "text": [
            "Enter the auth_string value: ··········\n",
            "access token expires in: 3599 seconds\n"
          ]
        }
      ],
      "source": [
        "# client_key = getpass('Enter the client KEY value: ')\n",
        "# client_secret = getpass('Enter the client SECRET value: ')\n",
        "auth_string = getpass('Enter the auth_string value: ')\n",
        "\n",
        "# test our credentials\n",
        "\n",
        "headers = chpl_helper.set_access_headers(base_url, auth_string=auth_string)\n",
        "r = requests.get(base_url + 'info/token', headers=headers, verify=True)\n",
        "print('access token expires in: {} seconds'.format(r.json()['expiresIn']))"
      ]
    },
    {
      "cell_type": "code",
      "source": [
        "r = requests.get(base_url + 'branches/pickupLocations', headers=headers, params={'language': 'eng'})\n",
        "r.json()"
      ],
      "metadata": {
        "id": "E-RqM3l-sKCD",
        "colab": {
          "base_uri": "https://localhost:8080/"
        },
        "outputId": "7066f634-f64b-48da-f2db-bddc6925bdfd"
      },
      "execution_count": 9,
      "outputs": [
        {
          "output_type": "execute_result",
          "data": {
            "text/plain": [
              "[{'code': '1    ', 'name': 'Main Library'},\n",
              " {'code': '1w   ', 'name': 'Main Library Pickup Window'},\n",
              " {'code': 'an   ', 'name': 'Anderson'},\n",
              " {'code': 'anw  ', 'name': 'Anderson Pickup Window'},\n",
              " {'code': 'av   ', 'name': 'Avondale'},\n",
              " {'code': 'ba   ', 'name': 'Blue Ash'},\n",
              " {'code': 'bh   ', 'name': 'Bond Hill'},\n",
              " {'code': 'ch   ', 'name': 'Cheviot'},\n",
              " {'code': 'cl   ', 'name': 'Clifton'},\n",
              " {'code': 'cll  ', 'name': 'Clifton Pickup Locker'},\n",
              " {'code': 'co   ', 'name': 'College Hill'},\n",
              " {'code': 'cr   ', 'name': 'Corryville'},\n",
              " {'code': 'cv   ', 'name': 'Covedale'},\n",
              " {'code': 'cvw  ', 'name': 'Covedale Pickup Window'},\n",
              " {'code': 'dp   ', 'name': 'Deer Park'},\n",
              " {'code': 'dt   ', 'name': 'Delhi Township'},\n",
              " {'code': 'dtw  ', 'name': 'Delhi Township Pickup Window'},\n",
              " {'code': 'ep   ', 'name': 'Elmwood Place'},\n",
              " {'code': 'fo   ', 'name': 'Forest Park'},\n",
              " {'code': 'ge   ', 'name': 'Green Township'},\n",
              " {'code': 'gh   ', 'name': 'Greenhills'},\n",
              " {'code': 'gr   ', 'name': 'Groesbeck'},\n",
              " {'code': 'grw  ', 'name': 'Groesbeck Pickup Window'},\n",
              " {'code': 'ha   ', 'name': 'Harrison'},\n",
              " {'code': 'haw  ', 'name': 'Harrison Pickup Window'},\n",
              " {'code': 'hp   ', 'name': 'Hyde Park'},\n",
              " {'code': 'lv   ', 'name': 'Loveland'},\n",
              " {'code': 'ma   ', 'name': 'Madeira'},\n",
              " {'code': 'md   ', 'name': 'Madisonville'},\n",
              " {'code': 'mm   ', 'name': 'Mariemont'},\n",
              " {'code': 'mn   ', 'name': 'Miami Township'},\n",
              " {'code': 'mo   ', 'name': 'Monfort Heights'},\n",
              " {'code': 'mt   ', 'name': 'Mt Healthy'},\n",
              " {'code': 'mw   ', 'name': 'Mt Washington'},\n",
              " {'code': 'nr   ', 'name': 'North Central'},\n",
              " {'code': 'ns   ', 'name': 'Northside'},\n",
              " {'code': 'nw   ', 'name': 'Norwood'},\n",
              " {'code': 'oa   ', 'name': 'Oakley'},\n",
              " {'code': 'oal  ', 'name': 'Oakley Pickup Locker'},\n",
              " {'code': 'os   ', 'name': 'Outreach Services (Lib Use Only)'},\n",
              " {'code': 'pl   ', 'name': 'Pleasant Ridge'},\n",
              " {'code': 'pr   ', 'name': 'Price Hill'},\n",
              " {'code': 're   ', 'name': 'Reading'},\n",
              " {'code': 'rew  ', 'name': 'Reading Pickup Window'},\n",
              " {'code': 'sb   ', 'name': 'St Bernard'},\n",
              " {'code': 'sh   ', 'name': 'Sharonville'},\n",
              " {'code': 'sm   ', 'name': 'Symmes Township'},\n",
              " {'code': 'smw  ', 'name': 'Symmes Township Pickup Window'},\n",
              " {'code': 'wh   ', 'name': 'Walnut Hills'},\n",
              " {'code': 'wt   ', 'name': 'West End'},\n",
              " {'code': 'ww   ', 'name': 'Westwood'},\n",
              " {'code': 'wy   ', 'name': 'Wyoming'}]"
            ]
          },
          "metadata": {},
          "execution_count": 9
        }
      ]
    }
  ],
  "metadata": {
    "colab": {
      "collapsed_sections": [],
      "name": "chpl_rest_api_sierra_pickup_locations",
      "provenance": [],
      "include_colab_link": true
    },
    "kernelspec": {
      "display_name": "Python 3",
      "language": "python",
      "name": "python3"
    },
    "language_info": {
      "codemirror_mode": {
        "name": "ipython",
        "version": 3
      },
      "file_extension": ".py",
      "mimetype": "text/x-python",
      "name": "python",
      "nbconvert_exporter": "python",
      "pygments_lexer": "ipython3",
      "version": "3.8.10"
    }
  },
  "nbformat": 4,
  "nbformat_minor": 0
}