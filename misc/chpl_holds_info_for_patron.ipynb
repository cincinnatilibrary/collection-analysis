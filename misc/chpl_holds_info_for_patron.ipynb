{
  "cells": [
    {
      "cell_type": "markdown",
      "metadata": {
        "id": "view-in-github",
        "colab_type": "text"
      },
      "source": [
        "<a href=\"https://colab.research.google.com/github/cincinnatilibrary/collection-analysis/blob/master/misc/chpl_holds_info_for_patron.ipynb\" target=\"_parent\"><img src=\"https://colab.research.google.com/assets/colab-badge.svg\" alt=\"Open In Colab\"/></a>"
      ]
    },
    {
      "cell_type": "markdown",
      "metadata": {
        "id": "HrJKYk82ZuQh"
      },
      "source": [
        "<img src=\"https://ilsweb.cincinnatilibrary.org/img/CHPL_Brandmark_Primary.png\" alt=\"CHPL\" title=\"CHPL\" width=\"250\"/>\n",
        "\n",
        "# REST API: Lookup Holds Info Given Patron Record Number\n",
        "\n",
        "---\n"
      ]
    },
    {
      "cell_type": "markdown",
      "metadata": {
        "id": "D72kS5LMbcpJ"
      },
      "source": [
        "## 1. Enter REST-API Credentials\n",
        "\n",
        "In order to be authorized to use the REST API, you must enter valid credientials.\n",
        "\n",
        "When prompted, enter in the **`auth_string`** as your password:"
      ]
    },
    {
      "cell_type": "code",
      "execution_count": 1,
      "metadata": {
        "id": "6zcODxHbbahd",
        "colab": {
          "base_uri": "https://localhost:8080/"
        },
        "outputId": "ac0b1ca8-c4f1-45ee-caaf-7c1bdaed328e"
      },
      "outputs": [
        {
          "output_type": "stream",
          "name": "stdout",
          "text": [
            "Enter the auth_string value: ··········\n",
            "access token expires in: 3599 seconds\n"
          ]
        }
      ],
      "source": [
        "# <--- Click the play button to the left to get started\n",
        "\n",
        "# this is the helper script that contains some needed functions\n",
        "!wget --quiet https://raw.githubusercontent.com/cincinnatilibrary/collection-analysis/master/misc/chpl_helper.py --output-document=chpl_helper.py\n",
        "\n",
        "# import the helper functions we just downloaded ...\n",
        "import chpl_helper\n",
        "import getpass\n",
        "from google.colab import files\n",
        "import pandas as pd\n",
        "import requests\n",
        "import json\n",
        "import re\n",
        "\n",
        "# this is to grab the record number from the end of a response\n",
        "re_record_num = re.compile('.*?([0-9]+)$')\n",
        "\n",
        "# point this to the base URL for the Sierra REST API\n",
        "base_url = 'https://classic.cincinnatilibrary.org:443/iii/sierra-api/v6/'\n",
        "\n",
        "# client_key = getpass('Enter the client KEY value: ')\n",
        "# client_secret = getpass('Enter the client SECRET value: ')\n",
        "auth_string = getpass.getpass('Enter the auth_string value: ')\n",
        "\n",
        "# test our credentials\n",
        "\n",
        "headers = chpl_helper.set_access_headers(base_url, auth_string=auth_string)\n",
        "r = requests.get(base_url + 'info/token', headers=headers, verify=True)\n",
        "print('access token expires in: {} seconds'.format(r.json()['expiresIn']))"
      ]
    },
    {
      "cell_type": "markdown",
      "source": [
        "## 2. Input patron record number and get information on holds\n",
        "\n",
        "Note, There is no `p` or checkdigit on this record number--*just the number portion*"
      ],
      "metadata": {
        "id": "R7pn3xjBrjOD"
      }
    },
    {
      "cell_type": "code",
      "source": [
        "patron_record_num = input('patron record num: ')\n",
        "\n",
        "try:\n",
        "  r = requests.get(base_url + f'patrons/{patron_record_num}/holds' , headers=headers, params={'fields': 'pickupByDate'})\n",
        "\n",
        "  print('total number of holds: ', r.json()['total'], '\\n---\\n', sep='', end='')\n",
        "\n",
        "  if r.json()['total'] > 0:\n",
        "    for i, entry in enumerate(r.json()['entries'], start=1):\n",
        "      # if 'id' in entry:\n",
        "      #   print(entry['id'], end=' ')\n",
        "      r_hold = requests.get(entry['id'], headers=headers, params={'fields': 'placed,pickupLocation,pickupLocation,note,record,status'})\n",
        "      # print(i, r_hold.json(), end='')\n",
        "      m = re_record_num.match(r_hold.json()['id'])\n",
        "      hold_num = m[1] if m else ''\n",
        "      m = re_record_num.match(r_hold.json()['record'])\n",
        "      hold_record_num = m[1] if m else ''\n",
        "      print(\n",
        "          i, ' ',\n",
        "          'hold id: ', hold_num, \n",
        "          'for record: ', r_hold.json()['record'],\n",
        "          'status: ', r_hold.json()['status'], \n",
        "          'placed: ', r_hold.json()['placed'],\n",
        "          'pickupLocation: ', r_hold.json()['pickupLocation'],\n",
        "          'note: ', r_hold.json()['note'],\n",
        "          end=''\n",
        "      )\n",
        "\n",
        "      if 'pickupByDate' in entry:\n",
        "        print('pickupByDate: ', entry['pickupByDate'])\n",
        "      else:\n",
        "        print('')\n",
        "\n",
        "except:\n",
        "  pass\n",
        "\n"
      ],
      "metadata": {
        "colab": {
          "base_uri": "https://localhost:8080/"
        },
        "id": "Pil2ca60aE6s",
        "outputId": "efd4bbb8-b6c0-4049-d743-cc202f7eac62"
      },
      "execution_count": 2,
      "outputs": [
        {
          "output_type": "stream",
          "name": "stdout",
          "text": [
            "patron record num: 2509457\n",
            "total number of holds: 30\n",
            "---\n",
            "1   hold id:  50089033 for record:  https://classic.cincinnatilibrary.org/iii/sierra-api/v6/items/1794877 status:  {'code': '0', 'name': 'on hold.'} placed:  2022-01-31 pickupLocation:  {'code': 'dt', 'name': 'Delhi Township'} note:  chpl-bulk-hold-script\n",
            "2   hold id:  50089044 for record:  https://classic.cincinnatilibrary.org/iii/sierra-api/v6/items/10169651 status:  {'code': '0', 'name': 'on hold.'} placed:  2022-01-31 pickupLocation:  {'code': 'dt', 'name': 'Delhi Township'} note:  chpl-bulk-hold-script\n",
            "3   hold id:  50089045 for record:  https://classic.cincinnatilibrary.org/iii/sierra-api/v6/items/3745043 status:  {'code': '0', 'name': 'on hold.'} placed:  2022-01-31 pickupLocation:  {'code': 'dt', 'name': 'Delhi Township'} note:  chpl-bulk-hold-script\n",
            "4   hold id:  50089046 for record:  https://classic.cincinnatilibrary.org/iii/sierra-api/v6/items/4075716 status:  {'code': '0', 'name': 'on hold.'} placed:  2022-01-31 pickupLocation:  {'code': 'dt', 'name': 'Delhi Township'} note:  chpl-bulk-hold-script\n",
            "5   hold id:  50089047 for record:  https://classic.cincinnatilibrary.org/iii/sierra-api/v6/items/4147932 status:  {'code': 't', 'name': 'bib, item, or volume in transit to pickup location.'} placed:  2022-01-31 pickupLocation:  {'code': 'dt', 'name': 'Delhi Township'} note:  chpl-bulk-hold-script\n",
            "6   hold id:  50089048 for record:  https://classic.cincinnatilibrary.org/iii/sierra-api/v6/items/4606884 status:  {'code': '0', 'name': 'on hold.'} placed:  2022-01-31 pickupLocation:  {'code': 'dt', 'name': 'Delhi Township'} note:  chpl-bulk-hold-script\n",
            "7   hold id:  50089049 for record:  https://classic.cincinnatilibrary.org/iii/sierra-api/v6/items/4632245 status:  {'code': '0', 'name': 'on hold.'} placed:  2022-01-31 pickupLocation:  {'code': 'fo', 'name': 'Forest Park'} note:  chpl-bulk-hold-script\n",
            "8   hold id:  50089050 for record:  https://classic.cincinnatilibrary.org/iii/sierra-api/v6/items/4699100 status:  {'code': '0', 'name': 'on hold.'} placed:  2022-01-31 pickupLocation:  {'code': 'fo', 'name': 'Forest Park'} note:  chpl-bulk-hold-script\n",
            "9   hold id:  50089051 for record:  https://classic.cincinnatilibrary.org/iii/sierra-api/v6/items/4827145 status:  {'code': 't', 'name': 'bib, item, or volume in transit to pickup location.'} placed:  2022-01-31 pickupLocation:  {'code': 'dt', 'name': 'Delhi Township'} note:  chpl-bulk-hold-script\n",
            "10   hold id:  50089052 for record:  https://classic.cincinnatilibrary.org/iii/sierra-api/v6/items/5049433 status:  {'code': 't', 'name': 'bib, item, or volume in transit to pickup location.'} placed:  2022-01-31 pickupLocation:  {'code': 'fo', 'name': 'Forest Park'} note:  chpl-bulk-hold-script\n",
            "11   hold id:  50089053 for record:  https://classic.cincinnatilibrary.org/iii/sierra-api/v6/items/5236548 status:  {'code': '0', 'name': 'on hold.'} placed:  2022-01-31 pickupLocation:  {'code': 'dt', 'name': 'Delhi Township'} note:  chpl-bulk-hold-script\n",
            "12   hold id:  50089054 for record:  https://classic.cincinnatilibrary.org/iii/sierra-api/v6/items/5749302 status:  {'code': '0', 'name': 'on hold.'} placed:  2022-01-31 pickupLocation:  {'code': 'dt', 'name': 'Delhi Township'} note:  chpl-bulk-hold-script\n",
            "13   hold id:  50089055 for record:  https://classic.cincinnatilibrary.org/iii/sierra-api/v6/items/5784063 status:  {'code': '0', 'name': 'on hold.'} placed:  2022-01-31 pickupLocation:  {'code': 'dt', 'name': 'Delhi Township'} note:  chpl-bulk-hold-script\n",
            "14   hold id:  50089056 for record:  https://classic.cincinnatilibrary.org/iii/sierra-api/v6/items/6000848 status:  {'code': 't', 'name': 'bib, item, or volume in transit to pickup location.'} placed:  2022-01-31 pickupLocation:  {'code': 'dt', 'name': 'Delhi Township'} note:  chpl-bulk-hold-script\n",
            "15   hold id:  50089057 for record:  https://classic.cincinnatilibrary.org/iii/sierra-api/v6/items/6114362 status:  {'code': '0', 'name': 'on hold.'} placed:  2022-01-31 pickupLocation:  {'code': 'dt', 'name': 'Delhi Township'} note:  chpl-bulk-hold-script\n",
            "16   hold id:  50089058 for record:  https://classic.cincinnatilibrary.org/iii/sierra-api/v6/items/6156381 status:  {'code': 't', 'name': 'bib, item, or volume in transit to pickup location.'} placed:  2022-01-31 pickupLocation:  {'code': 'dt', 'name': 'Delhi Township'} note:  chpl-bulk-hold-script\n",
            "17   hold id:  50089059 for record:  https://classic.cincinnatilibrary.org/iii/sierra-api/v6/items/7243876 status:  {'code': '0', 'name': 'on hold.'} placed:  2022-01-31 pickupLocation:  {'code': 'dt', 'name': 'Delhi Township'} note:  chpl-bulk-hold-script\n",
            "18   hold id:  50089060 for record:  https://classic.cincinnatilibrary.org/iii/sierra-api/v6/items/7445359 status:  {'code': 't', 'name': 'bib, item, or volume in transit to pickup location.'} placed:  2022-01-31 pickupLocation:  {'code': 'fo', 'name': 'Forest Park'} note:  chpl-bulk-hold-script\n",
            "19   hold id:  50089061 for record:  https://classic.cincinnatilibrary.org/iii/sierra-api/v6/items/7957785 status:  {'code': 't', 'name': 'bib, item, or volume in transit to pickup location.'} placed:  2022-01-31 pickupLocation:  {'code': 'fo', 'name': 'Forest Park'} note:  chpl-bulk-hold-script\n",
            "20   hold id:  50089062 for record:  https://classic.cincinnatilibrary.org/iii/sierra-api/v6/items/8474434 status:  {'code': 't', 'name': 'bib, item, or volume in transit to pickup location.'} placed:  2022-01-31 pickupLocation:  {'code': 'fo', 'name': 'Forest Park'} note:  chpl-bulk-hold-script\n",
            "21   hold id:  50089063 for record:  https://classic.cincinnatilibrary.org/iii/sierra-api/v6/items/9055922 status:  {'code': '0', 'name': 'on hold.'} placed:  2022-01-31 pickupLocation:  {'code': 'dt', 'name': 'Delhi Township'} note:  chpl-bulk-hold-script\n",
            "22   hold id:  50089064 for record:  https://classic.cincinnatilibrary.org/iii/sierra-api/v6/items/9310874 status:  {'code': 't', 'name': 'bib, item, or volume in transit to pickup location.'} placed:  2022-01-31 pickupLocation:  {'code': 'dt', 'name': 'Delhi Township'} note:  chpl-bulk-hold-script\n",
            "23   hold id:  50089070 for record:  https://classic.cincinnatilibrary.org/iii/sierra-api/v6/items/10351108 status:  {'code': 't', 'name': 'bib, item, or volume in transit to pickup location.'} placed:  2022-01-31 pickupLocation:  {'code': 'dt', 'name': 'Delhi Township'} note:  chpl-bulk-hold-script\n",
            "24   hold id:  50089071 for record:  https://classic.cincinnatilibrary.org/iii/sierra-api/v6/items/10400055 status:  {'code': 't', 'name': 'bib, item, or volume in transit to pickup location.'} placed:  2022-01-31 pickupLocation:  {'code': 'dt', 'name': 'Delhi Township'} note:  chpl-bulk-hold-script\n",
            "25   hold id:  50089072 for record:  https://classic.cincinnatilibrary.org/iii/sierra-api/v6/items/10709128 status:  {'code': 't', 'name': 'bib, item, or volume in transit to pickup location.'} placed:  2022-01-31 pickupLocation:  {'code': 'dt', 'name': 'Delhi Township'} note:  chpl-bulk-hold-script\n",
            "26   hold id:  50089073 for record:  https://classic.cincinnatilibrary.org/iii/sierra-api/v6/items/10769198 status:  {'code': '0', 'name': 'on hold.'} placed:  2022-01-31 pickupLocation:  {'code': 'dt', 'name': 'Delhi Township'} note:  chpl-bulk-hold-script\n",
            "27   hold id:  50089074 for record:  https://classic.cincinnatilibrary.org/iii/sierra-api/v6/items/10920736 status:  {'code': 't', 'name': 'bib, item, or volume in transit to pickup location.'} placed:  2022-01-31 pickupLocation:  {'code': 'fo', 'name': 'Forest Park'} note:  chpl-bulk-hold-script\n",
            "28   hold id:  50089075 for record:  https://classic.cincinnatilibrary.org/iii/sierra-api/v6/items/11012205 status:  {'code': 't', 'name': 'bib, item, or volume in transit to pickup location.'} placed:  2022-01-31 pickupLocation:  {'code': 'dt', 'name': 'Delhi Township'} note:  chpl-bulk-hold-script\n",
            "29   hold id:  50089076 for record:  https://classic.cincinnatilibrary.org/iii/sierra-api/v6/items/11282311 status:  {'code': 't', 'name': 'bib, item, or volume in transit to pickup location.'} placed:  2022-01-31 pickupLocation:  {'code': 'dt', 'name': 'Delhi Township'} note:  chpl-bulk-hold-script\n",
            "30   hold id:  50089077 for record:  https://classic.cincinnatilibrary.org/iii/sierra-api/v6/items/11404884 status:  {'code': '0', 'name': 'on hold.'} placed:  2022-01-31 pickupLocation:  {'code': 'fo', 'name': 'Forest Park'} note:  chpl-bulk-hold-script\n"
          ]
        }
      ]
    }
  ],
  "metadata": {
    "colab": {
      "collapsed_sections": [],
      "name": "chpl_holds_info_for_patron.ipynb",
      "provenance": [],
      "include_colab_link": true
    },
    "kernelspec": {
      "display_name": "Python 3",
      "language": "python",
      "name": "python3"
    },
    "language_info": {
      "codemirror_mode": {
        "name": "ipython",
        "version": 3
      },
      "file_extension": ".py",
      "mimetype": "text/x-python",
      "name": "python",
      "nbconvert_exporter": "python",
      "pygments_lexer": "ipython3",
      "version": "3.8.10"
    }
  },
  "nbformat": 4,
  "nbformat_minor": 0
}