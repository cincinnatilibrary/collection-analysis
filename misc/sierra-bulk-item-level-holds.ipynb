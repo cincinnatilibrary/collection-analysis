{
 "cells": [
  {
   "cell_type": "markdown",
   "metadata": {
    "id": "HrJKYk82ZuQh"
   },
   "source": [
    "# Sierra REST API -- Bulk Item-level Holds \n",
    "\n",
    "The purpose of this script is to place item-level holds for given patron records / accounts from a given Excel sheet having 2 columns:\n",
    "\n",
    "1. `item_barcode` : the barcode from the item\n",
    "1. `branch_account` : the patron record number associated with the branch account (note that the record number should contain the check digit)\n",
    "\n",
    "The input Excel Workbook should consist of 1 sheet, and have 2 columns as defined above. Below is an example of how it would look (with 2 rows of example data provided):\n",
    "\n",
    "| barcode       \t| branch_account \t|\n",
    "|---------------\t|----------------\t|\n",
    "| A000055325526 \t| p10023768      \t|\n",
    "| A000057896540 \t| p10023768      \t|\n",
    "| A000067386443 \t| p10023768      \t|\n",
    "| A000071676870 \t| p10023768      \t|"
   ]
  },
  {
   "cell_type": "markdown",
   "metadata": {
    "id": "nbeDERz8aRsZ"
   },
   "source": [
    "## Getting Started / Setting Up the Environment\n",
    "\n",
    "This script has some dependencies and requirements in order to run successfully.\n",
    "\n",
    "Follow the steps outlined below\n",
    "\n",
    "1. Run the following cell which will set up the environment for the script.\n",
    "   \n",
    "   **NOTE:** If you are prompted to \"RESTART RUNTME\", click on that button and proceed to the next cell"
   ]
  },
  {
   "cell_type": "code",
   "execution_count": null,
   "metadata": {
    "id": "mYssGRtpZxqb"
   },
   "outputs": [],
   "source": [
    "# click the play button to the left, restart the runtime if needed\n",
    "\n",
    "# point this to the base URL for the Sierra REST API\n",
    "base_url = 'https://sierra-test.cincinnatilibrary.org:443/iii/sierra-api/v6/'\n",
    "\n",
    "!pip install -U pip\n",
    "!pip install pandas==1.3.4 openpyxl==3.0.9 requests==2.26.0 SQLAlchemy==1.4.27\n",
    "\n",
    "# import the needed modules\n",
    "from base64 import b64encode\n",
    "from getpass import getpass\n",
    "from google.colab import files\n",
    "from io import BytesIO\n",
    "import json\n",
    "import numpy as np\n",
    "import pandas as pd\n",
    "import re\n",
    "import requests\n",
    "from sqlalchemy import create_engine"
   ]
  },
  {
   "cell_type": "markdown",
   "metadata": {
    "id": "D72kS5LMbcpJ"
   },
   "source": [
    "## Enter REST-API Credentials\n",
    "\n",
    "In order to be authorized to use the REST API, you must enter valid credientials.\n",
    "\n",
    "When prompted ...\n",
    "\n",
    "1. Input client **KEY** value, press enter\n",
    "1. Input client **SECRET** value, press enter"
   ]
  },
  {
   "cell_type": "code",
   "execution_count": null,
   "metadata": {
    "id": "6zcODxHbbahd"
   },
   "outputs": [],
   "source": [
    "client_key = getpass('Enter the client KEY value: ')\n",
    "client_secret = getpass('Enter the client SECRET value: ')"
   ]
  },
  {
   "cell_type": "code",
   "execution_count": null,
   "metadata": {
    "id": "UM0go8pEwN_E"
   },
   "outputs": [],
   "source": [
    "# this will get an initial access token\n",
    "def set_access_headers():\n",
    "    \"\"\"\n",
    "    use this function to set and refresh the access_headers for future\n",
    "    authorizing API requests\n",
    "    \"\"\"\n",
    "\n",
    "    auth_string = b64encode(\n",
    "      (client_key + ':' + client_secret).encode('utf-8')\n",
    "    ).decode('utf-8')\n",
    "\n",
    "    headers = {}\n",
    "    headers['authorization'] = 'basic ' + auth_string\n",
    "\n",
    "    try:\n",
    "        r = requests.post(base_url + 'token', headers=headers, verify=True)\n",
    "\n",
    "    except requests.ConnectionError as e:\n",
    "        print('connection error: {}'.format(e))\n",
    "        return 0\n",
    "\n",
    "    if r.status_code != 200:\n",
    "        print(r.status_code)\n",
    "        return 0\n",
    "\n",
    "    access_token = r.json()['access_token']\n",
    "\n",
    "    # set our headers to use the access token\n",
    "    headers['authorization'] = 'bearer ' + access_token\n",
    "\n",
    "    # Note: depending on the Sierra REST API request endpoint,\n",
    "    # you may need to change the types below to fit the request,\n",
    "    # but these are pretty standard\n",
    "    headers['content-type'] = 'application/json'\n",
    "    headers['accept'] = 'application/json'\n",
    "\n",
    "    return headers\n",
    "\n",
    "# this refreshes the token, and creates the header we need to send in the request\n",
    "headers = set_access_headers()\n",
    "\n",
    "# get the response as r\n",
    "r = requests.get(base_url + 'info/token', headers=headers, verify=True)\n",
    "\n",
    "# get the how many seconds are left before the token expires ...\n",
    "print('access token expires in: {} seconds'.format(r.json()['expiresIn']))"
   ]
  },
  {
   "cell_type": "markdown",
   "metadata": {
    "id": "m1MkkIyNgtb9"
   },
   "source": [
    "## Upload Input File\n",
    "\n",
    "This file will be processed to placed the holds.\n",
    "\n",
    "When prompted, upload the input file"
   ]
  },
  {
   "cell_type": "code",
   "execution_count": null,
   "metadata": {
    "id": "oXg2-NIahAK_"
   },
   "outputs": [],
   "source": [
    "input_file = files.upload()"
   ]
  },
  {
   "cell_type": "code",
   "execution_count": null,
   "metadata": {
    "id": "Rbw3wfLihiXh"
   },
   "outputs": [],
   "source": [
    "df = pd.read_excel( \n",
    "    [key for key in input_file.keys()][0], \n",
    "    converters={\n",
    "        'barcode': str,        \n",
    "    }\n",
    ")\n",
    "print(df.head(5))\n",
    "print('...')\n",
    "print('total rows in input: ', df.shape[0])"
   ]
  },
  {
   "cell_type": "code",
   "execution_count": null,
   "metadata": {
    "id": "30FpLpWEqxAS"
   },
   "outputs": [],
   "source": [
    "# construct the item query we'll use to convert barcodes to item record numbers (API endpoint URLs)\n",
    "operands = [row['barcode'] for i, row in df.iterrows()]\n",
    "item_query = {\"queries\": [{\"target\": {\"record\": {\"type\": \"item\"}, \"field\": {\"tag\": \"b\"}}, \"expr\": [{\"op\": \"in\", \"operands\": operands}]}]}\n",
    "\n",
    "print(json.dumps(item_query))\n",
    "\n",
    "headers = set_access_headers()\n",
    "\n",
    "print('\\nsearching ...')\n",
    "\n",
    "r = requests.post(\n",
    "    base_url + 'items/query?offset=0&limit={}'.format(len(operands)), \n",
    "    headers=headers,\n",
    "    data=json.dumps(item_query),\n",
    "    verify=True\n",
    ")\n",
    "\n",
    "print(\"response json: \", r.json())\n",
    "\n",
    "print('...')\n",
    "\n",
    "print('total rows of items from search: {}'.format(r.json()['total']) )"
   ]
  },
  {
   "cell_type": "code",
   "execution_count": null,
   "metadata": {
    "id": "MDTcgqnjJrlb"
   },
   "outputs": [],
   "source": [
    "for i, entry in enumerate(r.json()['entries']):\n",
    "    print(i, entry['link'])\n",
    "    r_entry = requests.get(\n",
    "        url=entry['link'] + '?fields=id,location,status,barcode,bibIds',\n",
    "        headers=headers,\n",
    "        verify=True\n",
    "    )\n",
    "    print(r_entry.json())\n",
    "    \n",
    "    # extract the item record number\n",
    "    item_record_num = r_entry.json()['id']\n",
    "        \n",
    "    #extract the barcode\n",
    "    search_barcode = str(r_entry.json()['barcode'])\n",
    "    \n",
    "    # match the barcode to get the patron record \n",
    "    # (remember that we're stripping off extra spaces, the 'p' and the last 'checkdigit'\n",
    "    patron_record_num = df[df.barcode == search_barcode].branch_account.values[0].strip()[1:-1]\n",
    "    \n",
    "    print('placing hold...')\n",
    "    print(f'item_record_num:\\t{item_record_num}\\nsearch_barcode:\\t\\t{search_barcode}\\npatron_record_num:\\t{patron_record_num}')\n",
    "\n",
    "    # patron_record_num = df[df.barcode == search_barcode].branch_account.values[0].strip()[1:-1]\n",
    "    \n",
    "    # place the hold ...\n",
    "    \n",
    "    body_data = {\n",
    "        \"recordType\": \"i\",\n",
    "        \"recordNumber\": int(item_record_num),\n",
    "        \"pickupLocation\": \"1\",\n",
    "        # \"neededBy\": \"\",\n",
    "        # \"numberOfCopies\": 1,\n",
    "        \"note\": \"chpl-bulk-hold-script\"\n",
    "    }\n",
    "    \n",
    "    r_hold = requests.post(\n",
    "        url=base_url + f'patrons/{patron_record_num}/holds/requests',\n",
    "        headers=headers,\n",
    "        data=json.dumps(body_data),\n",
    "        verify=True\n",
    "    )\n",
    "\n",
    "    print(\"response json: \", r_hold.json())\n",
    "    \n",
    "    print('---')\n"
   ]
  }
 ],
 "metadata": {
  "colab": {
   "collapsed_sections": [],
   "name": "Untitled.ipynb",
   "provenance": [],
   "toc_visible": true
  },
  "kernelspec": {
   "display_name": "Python 3",
   "language": "python",
   "name": "python3"
  },
  "language_info": {
   "codemirror_mode": {
    "name": "ipython",
    "version": 3
   },
   "file_extension": ".py",
   "mimetype": "text/x-python",
   "name": "python",
   "nbconvert_exporter": "python",
   "pygments_lexer": "ipython3",
   "version": "3.8.10"
  }
 },
 "nbformat": 4,
 "nbformat_minor": 4
}
