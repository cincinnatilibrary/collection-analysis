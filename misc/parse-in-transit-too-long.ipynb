{
 "cells": [
  {
   "cell_type": "code",
   "execution_count": null,
   "id": "8220b470-985b-4a8b-85b9-1615cc58326b",
   "metadata": {},
   "outputs": [],
   "source": [
    "# producing a report from sierra\n",
    "# INN-Reach -> Reports -> (report type) In transit too long\n",
    "#\n",
    "# ... output data looks like this:\n",
    "# Min. Days In Transit    : 1\n",
    "# Patron Number           : p11111111\n",
    "# Patron Name             : Joe, Patron, J\n",
    "# Virtual Item Number     : i1111111@some_code\n",
    "# Barcode                 : some_barcode\n",
    "# Home Library            : some-home-library\n",
    "# Item Location           : item-external-location\n",
    "# Title                   : Some Title\n",
    "# Call Number             : Some Callnumber\n",
    "# In Transit Date         : Thu Apr 02 2020\n",
    "# Central Name            : ohpir\n",
    "# Central Status          : some status"
   ]
  },
  {
   "cell_type": "code",
   "execution_count": 1,
   "id": "317501a1-523f-4281-9b14-a62748bf020f",
   "metadata": {},
   "outputs": [],
   "source": [
    "import pandas as pd\n",
    "import re\n",
    "from sqlalchemy import create_engine"
   ]
  },
  {
   "cell_type": "code",
   "execution_count": 2,
   "id": "e538a62f-f51f-45e5-9a82-b47a6cf90a2c",
   "metadata": {},
   "outputs": [],
   "source": [
    "record_list = []\n",
    "with open('long-in-transit-2022-02-01.txt', 'r') as f:\n",
    "    header = f.readline()\n",
    "    count = 0\n",
    "    record = {}\n",
    "    while line := f.readline():\n",
    "        count += 1\n",
    "        # print(line, end='')\n",
    "        row = line.split(':')\n",
    "        if len(row) == 1:\n",
    "            record_list.append(record)\n",
    "            record = {}\n",
    "        else:\n",
    "            record[row[0].strip()] = row[1].strip()"
   ]
  },
  {
   "cell_type": "code",
   "execution_count": 3,
   "id": "0986816f-7a47-4676-aebc-b215be26f082",
   "metadata": {},
   "outputs": [],
   "source": [
    "df = pd.DataFrame(record_list)\n",
    "# convert dates from this format: 'Thu Apr 02 2020'\n",
    "# ... to this format:             '2020-04-02 00:00:00'\n",
    "df['in_transit_date'] =  pd.to_datetime(df['In Transit Date'])"
   ]
  },
  {
   "cell_type": "code",
   "execution_count": 4,
   "id": "b946dd7f-79ca-4186-889c-fbc9c1b5b81d",
   "metadata": {},
   "outputs": [
    {
     "data": {
      "text/html": [
       "<div>\n",
       "<style scoped>\n",
       "    .dataframe tbody tr th:only-of-type {\n",
       "        vertical-align: middle;\n",
       "    }\n",
       "\n",
       "    .dataframe tbody tr th {\n",
       "        vertical-align: top;\n",
       "    }\n",
       "\n",
       "    .dataframe thead th {\n",
       "        text-align: right;\n",
       "    }\n",
       "</style>\n",
       "<table border=\"1\" class=\"dataframe\">\n",
       "  <thead>\n",
       "    <tr style=\"text-align: right;\">\n",
       "      <th></th>\n",
       "      <th>total_in_transit</th>\n",
       "      <th>count_over_10_days</th>\n",
       "      <th>avg_days_in_transit</th>\n",
       "    </tr>\n",
       "  </thead>\n",
       "  <tbody>\n",
       "    <tr>\n",
       "      <th>0</th>\n",
       "      <td>2291</td>\n",
       "      <td>719</td>\n",
       "      <td>9.08</td>\n",
       "    </tr>\n",
       "  </tbody>\n",
       "</table>\n",
       "</div>"
      ],
      "text/plain": [
       "   total_in_transit  count_over_10_days  avg_days_in_transit\n",
       "0              2291                 719                 9.08"
      ]
     },
     "execution_count": 4,
     "metadata": {},
     "output_type": "execute_result"
    }
   ],
   "source": [
    "engine = create_engine('sqlite:///ill-in-transit.db')\n",
    "df.to_sql(name = 'data', con=engine, if_exists='replace')\n",
    "\n",
    "sql = \"\"\"\\\n",
    "with search as (\n",
    "    SELECT\n",
    "    rowid,\n",
    "    cast(julianday('now') as INTEGER) - cast(julianday(data.in_transit_date) as INTEGER) as days_in_transit\n",
    "    FROM\n",
    "    data\n",
    ")\n",
    "SELECT\n",
    "count(*) as total_in_transit,\n",
    "(\n",
    "    SELECT\n",
    "    count(*)\n",
    "    FROM\n",
    "    search\n",
    "    WHERE\n",
    "    search.days_in_transit > 10\n",
    ") as count_over_10_days,\n",
    "round(avg(search.days_in_transit), 2) as avg_days_in_transit\n",
    "FROM\n",
    "search\n",
    "\"\"\"\n",
    "pd.read_sql(sql=sql, con=engine)"
   ]
  }
 ],
 "metadata": {
  "kernelspec": {
   "display_name": "Python 3",
   "language": "python",
   "name": "python3"
  },
  "language_info": {
   "codemirror_mode": {
    "name": "ipython",
    "version": 3
   },
   "file_extension": ".py",
   "mimetype": "text/x-python",
   "name": "python",
   "nbconvert_exporter": "python",
   "pygments_lexer": "ipython3",
   "version": "3.9.5"
  }
 },
 "nbformat": 4,
 "nbformat_minor": 5
}
