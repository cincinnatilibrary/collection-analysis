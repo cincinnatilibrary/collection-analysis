{
 "cells": [
  {
   "cell_type": "code",
   "execution_count": 1,
   "id": "8220b470-985b-4a8b-85b9-1615cc58326b",
   "metadata": {},
   "outputs": [],
   "source": [
    "# producing a report from sierra\n",
    "# INN-Reach -> Reports -> (report type) In transit too long\n",
    "#\n",
    "# ... output data looks like this:\n",
    "# Min. Days In Transit    : 1\n",
    "# Patron Number           : p11111111\n",
    "# Patron Name             : Joe, Patron, J\n",
    "# Virtual Item Number     : i1111111@some_code\n",
    "# Barcode                 : some_barcode\n",
    "# Home Library            : some-home-library\n",
    "# Item Location           : item-external-location\n",
    "# Title                   : Some Title\n",
    "# Call Number             : Some Callnumber\n",
    "# In Transit Date         : Thu Apr 02 2020\n",
    "# Central Name            : ohpir\n",
    "# Central Status          : some status"
   ]
  },
  {
   "cell_type": "code",
   "execution_count": 2,
   "id": "317501a1-523f-4281-9b14-a62748bf020f",
   "metadata": {},
   "outputs": [],
   "source": [
    "import pandas as pd\n",
    "import re\n",
    "from sqlalchemy import create_engine\n",
    "import altair as alt\n",
    "from IPython.display import HTML"
   ]
  },
  {
   "cell_type": "code",
   "execution_count": 3,
   "id": "e538a62f-f51f-45e5-9a82-b47a6cf90a2c",
   "metadata": {},
   "outputs": [],
   "source": [
    "record_list = []\n",
    "with open('long-in-transit-2022-02-01.txt', 'r') as f:\n",
    "    header = f.readline()\n",
    "    count = 0\n",
    "    record = {}\n",
    "    while line := f.readline():\n",
    "        count += 1\n",
    "        # print(line, end='')\n",
    "        row = line.split(':')\n",
    "        if len(row) == 1:\n",
    "            record_list.append(record)\n",
    "            record = {}\n",
    "        else:\n",
    "            record[row[0].strip()] = row[1].strip()"
   ]
  },
  {
   "cell_type": "code",
   "execution_count": 4,
   "id": "0986816f-7a47-4676-aebc-b215be26f082",
   "metadata": {},
   "outputs": [],
   "source": [
    "df = pd.DataFrame(record_list)\n",
    "# convert dates from this format: 'Thu Apr 02 2020'\n",
    "# ... to this format:             '2020-04-02 00:00:00'\n",
    "df['in_transit_date'] =  pd.to_datetime(df['In Transit Date'])"
   ]
  },
  {
   "cell_type": "code",
   "execution_count": 5,
   "id": "b946dd7f-79ca-4186-889c-fbc9c1b5b81d",
   "metadata": {},
   "outputs": [
    {
     "data": {
      "text/html": [
       "<div>\n",
       "<style scoped>\n",
       "    .dataframe tbody tr th:only-of-type {\n",
       "        vertical-align: middle;\n",
       "    }\n",
       "\n",
       "    .dataframe tbody tr th {\n",
       "        vertical-align: top;\n",
       "    }\n",
       "\n",
       "    .dataframe thead th {\n",
       "        text-align: right;\n",
       "    }\n",
       "</style>\n",
       "<table border=\"1\" class=\"dataframe\">\n",
       "  <thead>\n",
       "    <tr style=\"text-align: right;\">\n",
       "      <th></th>\n",
       "      <th>total_in_transit</th>\n",
       "      <th>count_over_10_days</th>\n",
       "      <th>avg_days_in_transit</th>\n",
       "    </tr>\n",
       "  </thead>\n",
       "  <tbody>\n",
       "    <tr>\n",
       "      <th>0</th>\n",
       "      <td>2291</td>\n",
       "      <td>734</td>\n",
       "      <td>10.08</td>\n",
       "    </tr>\n",
       "  </tbody>\n",
       "</table>\n",
       "</div>"
      ],
      "text/plain": [
       "   total_in_transit  count_over_10_days  avg_days_in_transit\n",
       "0              2291                 734                10.08"
      ]
     },
     "execution_count": 5,
     "metadata": {},
     "output_type": "execute_result"
    }
   ],
   "source": [
    "engine = create_engine('sqlite:///ill-in-transit.db')\n",
    "df.to_sql(name = 'data', con=engine, if_exists='replace')\n",
    "\n",
    "sql = \"\"\"\\\n",
    "with search as (\n",
    "    SELECT\n",
    "    rowid,\n",
    "    cast(julianday('now') as INTEGER) - cast(julianday(data.in_transit_date) as INTEGER) as days_in_transit\n",
    "    FROM\n",
    "    data\n",
    ")\n",
    "SELECT\n",
    "count(*) as total_in_transit,\n",
    "(\n",
    "    SELECT\n",
    "    count(*)\n",
    "    FROM\n",
    "    search\n",
    "    WHERE\n",
    "    search.days_in_transit > 10\n",
    ") as count_over_10_days,\n",
    "round(avg(search.days_in_transit), 2) as avg_days_in_transit\n",
    "FROM\n",
    "search\n",
    "\"\"\"\n",
    "pd.read_sql(sql=sql, con=engine)"
   ]
  },
  {
   "cell_type": "code",
   "execution_count": 6,
   "id": "9b11868f-e252-410e-8494-113a14da567c",
   "metadata": {},
   "outputs": [],
   "source": [
    "sql = \"\"\"\\\n",
    "with search as (\n",
    "    SELECT\n",
    "    rowid,\n",
    "    cast(julianday('now') as INTEGER) - cast(julianday(data.in_transit_date) as INTEGER) as days_in_transit,\n",
    "    \"Item Location\" as item_location\n",
    "    FROM\n",
    "    data\n",
    ")\n",
    "SELECT\n",
    "item_location,\n",
    "round(avg(days_in_transit), 2) as avg_days_in_transit,\n",
    "count(*) as count_items\n",
    "FROM\n",
    "search\n",
    "group by 1\n",
    "\"\"\"\n",
    "\n",
    "df = pd.read_sql(sql=sql, con=engine)\n",
    "# df.head()\n",
    "\n",
    "chart = alt.Chart(df).mark_bar().encode(\n",
    "    x=alt.X('avg_days_in_transit', ),\n",
    "    y=alt.Y('item_location', sort='-x'),\n",
    "    tooltip=['item_location', 'avg_days_in_transit', 'count_items'],\n",
    "    # color='op_name',\n",
    ").properties(\n",
    "    title=''\n",
    ").configure_title(\n",
    "    # fontSize=20,\n",
    "    anchor='start',\n",
    ")"
   ]
  },
  {
   "cell_type": "code",
   "execution_count": 7,
   "id": "7736d10c-f815-467b-836a-233b782aa0f6",
   "metadata": {},
   "outputs": [
    {
     "data": {
      "text/html": [
       "<!DOCTYPE html>\n",
       "<html>\n",
       "<head>\n",
       "  <style>\n",
       "    .error {\n",
       "        color: red;\n",
       "    }\n",
       "  </style>\n",
       "  <script type=\"text/javascript\" src=\"https://cdn.jsdelivr.net/npm//vega@5\"></script>\n",
       "  <script type=\"text/javascript\" src=\"https://cdn.jsdelivr.net/npm//vega-lite@4.8.1\"></script>\n",
       "  <script type=\"text/javascript\" src=\"https://cdn.jsdelivr.net/npm//vega-embed@6\"></script>\n",
       "</head>\n",
       "<body>\n",
       "  <div id=\"vis\"></div>\n",
       "  <script>\n",
       "    (function(vegaEmbed) {\n",
       "      var spec = {\"config\": {\"view\": {\"continuousWidth\": 400, \"continuousHeight\": 300}, \"title\": {\"anchor\": \"start\"}}, \"data\": {\"name\": \"data-19bb85f829b718243c18ce44dbeeab7d\"}, \"mark\": \"bar\", \"encoding\": {\"tooltip\": [{\"type\": \"nominal\", \"field\": \"item_location\"}, {\"type\": \"quantitative\", \"field\": \"avg_days_in_transit\"}, {\"type\": \"quantitative\", \"field\": \"count_items\"}], \"x\": {\"type\": \"quantitative\", \"field\": \"avg_days_in_transit\"}, \"y\": {\"type\": \"nominal\", \"field\": \"item_location\", \"sort\": \"-x\"}}, \"title\": \"\", \"$schema\": \"https://vega.github.io/schema/vega-lite/v4.8.1.json\", \"datasets\": {\"data-19bb85f829b718243c18ce44dbeeab7d\": [{\"item_location\": null, \"avg_days_in_transit\": null, \"count_items\": 1}, {\"item_location\": \"9alex-Alexandria Public Library\", \"avg_days_in_transit\": 9.0, \"count_items\": 11}, {\"item_location\": \"9ascp-Akron Summit County PL\", \"avg_days_in_transit\": 11.63, \"count_items\": 286}, {\"item_location\": \"9bexl-Bexley Public Library\", \"avg_days_in_transit\": 5.49, \"count_items\": 43}, {\"item_location\": \"9brad-Bradford Public Library\", \"avg_days_in_transit\": 11.5, \"count_items\": 4}, {\"item_location\": \"9cler-Clermont County PL\", \"avg_days_in_transit\": 10.05, \"count_items\": 95}, {\"item_location\": \"9clrk-Clark County Public Library\", \"avg_days_in_transit\": 10.54, \"count_items\": 113}, {\"item_location\": \"9colu-Columbiana Public Library\", \"avg_days_in_transit\": 11.5, \"count_items\": 2}, {\"item_location\": \"9coml-Columbus Metropolitan Library\", \"avg_days_in_transit\": 6.91, \"count_items\": 70}, {\"item_location\": \"9dayt-Dayton Metro Library\", \"avg_days_in_transit\": 9.32, \"count_items\": 79}, {\"item_location\": \"9delw-Delaware County DL\", \"avg_days_in_transit\": 8.39, \"count_items\": 28}, {\"item_location\": \"9fair-Fairfield County District Library\", \"avg_days_in_transit\": 6.57, \"count_items\": 58}, {\"item_location\": \"9gran-Grandview Heights Public Library\", \"avg_days_in_transit\": 7.92, \"count_items\": 26}, {\"item_location\": \"9grpl-Granville Public Library\", \"avg_days_in_transit\": 7.76, \"count_items\": 17}, {\"item_location\": \"9lane-Lane Libraries\", \"avg_days_in_transit\": 15.25, \"count_items\": 102}, {\"item_location\": \"9lepp-Lepper Library\", \"avg_days_in_transit\": 5.0, \"count_items\": 4}, {\"item_location\": \"9lond-London Public Library\", \"avg_days_in_transit\": 13.0, \"count_items\": 3}, {\"item_location\": \"9mary-Marysville Public Library\", \"avg_days_in_transit\": 9.18, \"count_items\": 11}, {\"item_location\": \"9midp-Midpointe Library System\", \"avg_days_in_transit\": 8.48, \"count_items\": 50}, {\"item_location\": \"9mrpl-Mansfield Richland Lib\", \"avg_days_in_transit\": 7.05, \"count_items\": 41}, {\"item_location\": \"9msln-Massillon Public Library\", \"avg_days_in_transit\": 10.13, \"count_items\": 24}, {\"item_location\": \"9musk-Muskingum County Library System\", \"avg_days_in_transit\": 11.94, \"count_items\": 17}, {\"item_location\": \"9patk-Pataskala Public Library\", \"avg_days_in_transit\": 4.73, \"count_items\": 11}, {\"item_location\": \"9pick-Pickaway County District Library\", \"avg_days_in_transit\": 6.0, \"count_items\": 10}, {\"item_location\": \"9pict-Pickerington Public Library\", \"avg_days_in_transit\": 7.44, \"count_items\": 9}, {\"item_location\": \"9plai-Plain City Public Library\", \"avg_days_in_transit\": 5.88, \"count_items\": 8}, {\"item_location\": \"9slmp-Salem Public Library\", \"avg_days_in_transit\": 24.0, \"count_items\": 8}, {\"item_location\": \"9sout-Southwest Public Libraries\", \"avg_days_in_transit\": 6.28, \"count_items\": 29}, {\"item_location\": \"9star-Stark County District Library\", \"avg_days_in_transit\": 8.79, \"count_items\": 138}, {\"item_location\": \"9troy-Troy-Miami County Public Library\", \"avg_days_in_transit\": 17.38, \"count_items\": 13}, {\"item_location\": \"9uppe-Upper Arlington Public Library\", \"avg_days_in_transit\": 6.93, \"count_items\": 74}, {\"item_location\": \"9wagn-Wagnalls Memorial Library\", \"avg_days_in_transit\": 9.5, \"count_items\": 6}, {\"item_location\": \"9wcpl-Washington-Centerville PL\", \"avg_days_in_transit\": 9.89, \"count_items\": 113}, {\"item_location\": \"9wlls-Wellsville Carnegie Public Library\", \"avg_days_in_transit\": 15.0, \"count_items\": 1}, {\"item_location\": \"9wort-Worthington Libraries\", \"avg_days_in_transit\": 7.32, \"count_items\": 34}, {\"item_location\": \"9wppl-Westlake Porter PL\", \"avg_days_in_transit\": 6.45, \"count_items\": 20}, {\"item_location\": \"9wrig-Wright Library\", \"avg_days_in_transit\": 7.13, \"count_items\": 23}, {\"item_location\": \"ak2ug-~Univ of Akron\", \"avg_days_in_transit\": 14.18, \"count_items\": 11}, {\"item_location\": \"an3bg-~Antioch College\", \"avg_days_in_transit\": 3.0, \"count_items\": 1}, {\"item_location\": \"as2ug-~Ashland U\", \"avg_days_in_transit\": 5.33, \"count_items\": 3}, {\"item_location\": \"at3ug-~Athenaeum of Ohio\", \"avg_days_in_transit\": 11.5, \"count_items\": 4}, {\"item_location\": \"bf1ug-~Bluffton University\", \"avg_days_in_transit\": 9.33, \"count_items\": 3}, {\"item_location\": \"bg1ug-~Bowling Green\", \"avg_days_in_transit\": 10.58, \"count_items\": 12}, {\"item_location\": \"bw3bg-~Baldwin Wallace College\", \"avg_days_in_transit\": 19.0, \"count_items\": 4}, {\"item_location\": \"ca2ug-~Case Western\", \"avg_days_in_transit\": 18.56, \"count_items\": 9}, {\"item_location\": \"cc2pl-Cuyahoga County PL\", \"avg_days_in_transit\": 12.0, \"count_items\": 51}, {\"item_location\": \"cc2tg-~Cuyahoga Comm\", \"avg_days_in_transit\": 3.0, \"count_items\": 1}, {\"item_location\": \"cd3bg-~Cedarville University\", \"avg_days_in_transit\": 11.0, \"count_items\": 5}, {\"item_location\": \"cf2pl-Cuyahoga Falls Lib\", \"avg_days_in_transit\": 6.78, \"count_items\": 9}, {\"item_location\": \"ci3ug-~U Cincinnati\", \"avg_days_in_transit\": 9.0, \"count_items\": 12}, {\"item_location\": \"co4tg-~Columbus State Comm\", \"avg_days_in_transit\": 3.0, \"count_items\": 1}, {\"item_location\": \"cp4ug-~Capital University\", \"avg_days_in_transit\": 7.2, \"count_items\": 10}, {\"item_location\": \"cs2ug-~Cleveland State\", \"avg_days_in_transit\": 6.75, \"count_items\": 4}, {\"item_location\": \"ct3tg-~Cincinnati St T&C College\", \"avg_days_in_transit\": 9.6, \"count_items\": 5}, {\"item_location\": \"da3ug-~Univ of Dayton\", \"avg_days_in_transit\": 7.9, \"count_items\": 10}, {\"item_location\": \"de1bg-~Defiance College\", \"avg_days_in_transit\": 10.0, \"count_items\": 1}, {\"item_location\": \"de4ug-~Denison University\", \"avg_days_in_transit\": 9.33, \"count_items\": 12}, {\"item_location\": \"ed3tg-~Edison State Comm\", \"avg_days_in_transit\": 16.0, \"count_items\": 1}, {\"item_location\": \"fi1ug-~University of Findlay\", \"avg_days_in_transit\": 13.0, \"count_items\": 1}, {\"item_location\": \"fr2ug-~Franciscan University\", \"avg_days_in_transit\": 11.0, \"count_items\": 3}, {\"item_location\": \"gc1pl-Greene County PL\", \"avg_days_in_transit\": 6.46, \"count_items\": 67}, {\"item_location\": \"hr2bg-~Hiram College\", \"avg_days_in_transit\": 7.25, \"count_items\": 4}, {\"item_location\": \"jo2ug-~John Carroll University\", \"avg_days_in_transit\": 9.4, \"count_items\": 5}, {\"item_location\": \"ke2bg-~Kenyon College\", \"avg_days_in_transit\": 8.0, \"count_items\": 1}, {\"item_location\": \"ke2ug-~Kent State Univ\", \"avg_days_in_transit\": 9.92, \"count_items\": 36}, {\"item_location\": \"la2tg-~Lakeland Comm\", \"avg_days_in_transit\": 6.5, \"count_items\": 4}, {\"item_location\": \"le2bg-~Lake Erie College\", \"avg_days_in_transit\": 6.0, \"count_items\": 1}, {\"item_location\": \"lo2tg-~Lorain College\", \"avg_days_in_transit\": 15.0, \"count_items\": 1}, {\"item_location\": \"ms4sg-~Methodist Theological School\", \"avg_days_in_transit\": 3.0, \"count_items\": 1}, {\"item_location\": \"mu3ug-~Miami University\", \"avg_days_in_transit\": 10.09, \"count_items\": 11}, {\"item_location\": \"mu4bg-~Muskingum University\", \"avg_days_in_transit\": 20.0, \"count_items\": 6}, {\"item_location\": \"mv4bg-~Mt Vernon Nazarene\", \"avg_days_in_transit\": 7.2, \"count_items\": 5}, {\"item_location\": \"nd2bg-~Notre Dame College\", \"avg_days_in_transit\": 7.0, \"count_items\": 1}, {\"item_location\": \"ob2bg-~Oberlin College\", \"avg_days_in_transit\": 13.31, \"count_items\": 13}, {\"item_location\": \"oh5dp-~Shared Depository System\", \"avg_days_in_transit\": 14.16, \"count_items\": 19}, {\"item_location\": \"on1ug-~Ohio Northern University\", \"avg_days_in_transit\": 4.67, \"count_items\": 3}, {\"item_location\": \"os4ug-~Ohio State Univ\", \"avg_days_in_transit\": 15.66, \"count_items\": 50}, {\"item_location\": \"ot4bg-~Otterbein College\", \"avg_days_in_transit\": 10.0, \"count_items\": 2}, {\"item_location\": \"ou4ug-~Ohio University\", \"avg_days_in_transit\": 11.64, \"count_items\": 25}, {\"item_location\": \"ow4ug-~Ohio Wesleyan University\", \"avg_days_in_transit\": 9.0, \"count_items\": 1}, {\"item_location\": \"pc2pl-Portage County DL\", \"avg_days_in_transit\": 32.85, \"count_items\": 27}, {\"item_location\": \"pc4sg-~Pontifical College Josephinum\", \"avg_days_in_transit\": 7.25, \"count_items\": 4}, {\"item_location\": \"ri4tg-~Rio Grande College\", \"avg_days_in_transit\": 12.33, \"count_items\": 3}, {\"item_location\": \"sh4ug-~Shawnee State Univ\", \"avg_days_in_transit\": 4.0, \"count_items\": 1}, {\"item_location\": \"si3tg-~Sinclair Comm\", \"avg_days_in_transit\": 3.0, \"count_items\": 1}, {\"item_location\": \"sl4gg-~State Library of Ohio\", \"avg_days_in_transit\": 15.0, \"count_items\": 1}, {\"item_location\": \"te1tg-~Terra Comm\", \"avg_days_in_transit\": 3.0, \"count_items\": 2}, {\"item_location\": \"tl1pl-Toledo PL\", \"avg_days_in_transit\": 9.95, \"count_items\": 81}, {\"item_location\": \"to1ug-~TOL\", \"avg_days_in_transit\": 5.5, \"count_items\": 4}, {\"item_location\": \"wa2pl-Wadsworth PL\", \"avg_days_in_transit\": 8.18, \"count_items\": 17}, {\"item_location\": \"we4pl-Westerville PL\", \"avg_days_in_transit\": 11.8, \"count_items\": 35}, {\"item_location\": \"wl3bg-~Wilmington College\", \"avg_days_in_transit\": 3.0, \"count_items\": 1}, {\"item_location\": \"wn3ug-~Wittenburg University\", \"avg_days_in_transit\": 10.0, \"count_items\": 2}, {\"item_location\": \"wo2bg-~The College of Wooster\", \"avg_days_in_transit\": 6.0, \"count_items\": 2}, {\"item_location\": \"ws3ug-~Wright State\", \"avg_days_in_transit\": 6.47, \"count_items\": 19}, {\"item_location\": \"wt2pl-Warren Trumbull County Lib\", \"avg_days_in_transit\": 8.68, \"count_items\": 34}, {\"item_location\": \"xa3ug-~Xavier University\", \"avg_days_in_transit\": 13.0, \"count_items\": 3}, {\"item_location\": \"ym2pl-Youngstown Mahoning County Lib\", \"avg_days_in_transit\": 7.81, \"count_items\": 37}, {\"item_location\": \"ys2ug-~Youngstown University\", \"avg_days_in_transit\": 15.67, \"count_items\": 6}]}};\n",
       "      var embedOpt = {\"mode\": \"vega-lite\"};\n",
       "\n",
       "      function showError(el, error){\n",
       "          el.innerHTML = ('<div class=\"error\" style=\"color:red;\">'\n",
       "                          + '<p>JavaScript Error: ' + error.message + '</p>'\n",
       "                          + \"<p>This usually means there's a typo in your chart specification. \"\n",
       "                          + \"See the javascript console for the full traceback.</p>\"\n",
       "                          + '</div>');\n",
       "          throw error;\n",
       "      }\n",
       "      const el = document.getElementById('vis');\n",
       "      vegaEmbed(\"#vis\", spec, embedOpt)\n",
       "        .catch(error => showError(el, error));\n",
       "    })(vegaEmbed);\n",
       "\n",
       "  </script>\n",
       "</body>\n",
       "</html>"
      ],
      "text/plain": [
       "<IPython.core.display.HTML object>"
      ]
     },
     "execution_count": 7,
     "metadata": {},
     "output_type": "execute_result"
    }
   ],
   "source": [
    "chart.save('output.html')\n",
    "HTML('output.html')"
   ]
  }
 ],
 "metadata": {
  "kernelspec": {
   "display_name": "Python 3",
   "language": "python",
   "name": "python3"
  },
  "language_info": {
   "codemirror_mode": {
    "name": "ipython",
    "version": 3
   },
   "file_extension": ".py",
   "mimetype": "text/x-python",
   "name": "python",
   "nbconvert_exporter": "python",
   "pygments_lexer": "ipython3",
   "version": "3.9.5"
  }
 },
 "nbformat": 4,
 "nbformat_minor": 5
}
