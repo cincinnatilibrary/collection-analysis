{
  "cells": [
    {
      "cell_type": "markdown",
      "metadata": {
        "id": "view-in-github",
        "colab_type": "text"
      },
      "source": [
        "<a href=\"https://colab.research.google.com/github/cincinnatilibrary/collection-analysis/blob/master/misc/chpl_rest_api_sierra_bulk_item_level_holds.ipynb\" target=\"_parent\"><img src=\"https://colab.research.google.com/assets/colab-badge.svg\" alt=\"Open In Colab\"/></a>"
      ]
    },
    {
      "cell_type": "markdown",
      "metadata": {
        "id": "HrJKYk82ZuQh"
      },
      "source": [
        "<img src=\"https://ilsweb.cincinnatilibrary.org/img/CHPL_Brandmark_Primary.png\" alt=\"CHPL\" title=\"CHPL\" width=\"250\"/>\n",
        "\n",
        "# REST API: Bulk Item-level Holds\n",
        "\n",
        "**This script here:** https://github.com/cincinnatilibrary/collection-analysis/blob/master/misc/chpl_rest_api_sierra_bulk_item_level_holds.ipynb\n",
        "\n",
        "**Additional instructions here:** https://cincinnatilibrary-my.sharepoint.com/:w:/g/personal/rebecca_quinones_chpl_org/EZ0sAeiIhqRGvrkHF-93jvABZpCouaEWzeH3OKWwqKZq4A\n",
        "\n",
        "---\n",
        "\n",
        "**Purpose:** for various collection-health purposes, this script can be used in conjunction with CollectionHQ to move groups of items from one location to another using the holds functionality.\n",
        "\n",
        "**The script expects:**\n",
        "\n",
        "* Excel workbook with 1 sheet having the following format:\n",
        "  \n",
        "  * In this example below, the script will place four item-level holds, and set the locations to the coorisponding pickup location--using their pickup location codes (Anderson, Blue Ash, Deer Park, Price Hill)\n",
        "\n",
        "| barcode       | branch pickup location\t|\n",
        "|-------------- |------------------------\t|\n",
        "| A000055325526 | an |\n",
        "| A000057896540 | ba |\n",
        "| A000067386443 | dp |\n",
        "| A000071676870 | pr |\n",
        "\n",
        "* Patron record number with no leading text character, or trailing check-digit\n",
        "\n",
        "  (e.g. ~p1234567a~ → 1234567)\n",
        "\n",
        "  * Patron cards currently in use for this project are:\n",
        "    \n",
        "    * patron record number: `2512420` (patron barcode: `507026982`)\n",
        "\n",
        "    * patron record number: `2512422` (patron barcode: `507036982`)\n",
        "\n",
        "---\n",
        "\n",
        "*Note*: The current 5-character pickup location codes can be found here:\n",
        "\n",
        "https://github.com/cincinnatilibrary/collection-analysis/blob/master/misc/chpl_rest_api_sierra_pickup_locations.ipynb\n",
        "\n",
        "---\n",
        "\n",
        "## 1. Enter REST-API Credentials\n",
        "\n",
        "In order to be authorized to use the REST API, you must enter valid credientials.\n",
        "\n",
        " ↴ **Click on the play button below**, then when prompted, enter in the **`auth_string`** as your password:"
      ]
    },
    {
      "cell_type": "code",
      "execution_count": null,
      "metadata": {
        "id": "6zcODxHbbahd",
        "cellView": "form"
      },
      "outputs": [],
      "source": [
        "#@title\n",
        "# <--- Click the play button to the left to get started\n",
        "import time\n",
        "\n",
        "# this is the helper script that contains some needed functions\n",
        "!wget --quiet https://raw.githubusercontent.com/cincinnatilibrary/collection-analysis/8352bf7d9debf027e760e426c6d54a1df3aee77c/misc/chpl_helper.py --output-document=chpl_helper.py\n",
        "!pip install -U rich > /dev/null\n",
        "time.sleep(1)\n",
        "\n",
        "# import the helper functions we just downloaded ...\n",
        "import chpl_helper\n",
        "from getpass import getpass, getuser\n",
        "from google.colab import files\n",
        "import pandas as pd\n",
        "import requests\n",
        "import json\n",
        "from io import StringIO\n",
        "from rich.progress import Progress, SpinnerColumn, TextColumn, track\n",
        "from rich import print\n",
        "import logging\n",
        "\n",
        "# create log file\n",
        "ts = pd.Timestamp('now').isoformat()\n",
        "logging.basicConfig(\n",
        "    filename=\"bulk_holds_log.txt\", \n",
        "    format=\"%(asctime)s\\t%(levelname)s\\t%(message)s\", \n",
        "    level=logging.DEBUG\n",
        ")\n",
        "logging.info('script started: {}'.format(ts))\n",
        "\n",
        "# point this to the base URL for the Sierra REST API\n",
        "base_url = 'https://classic.cincinnatilibrary.org:443/iii/sierra-api/v6/'\n",
        "\n",
        "# client_key = getpass('Enter the client KEY value: ')\n",
        "# client_secret = getpass('Enter the client SECRET value: ')\n",
        "auth_string = getpass('Enter the auth_string value: ')\n",
        "\n",
        "# test our credentials\n",
        "\n",
        "try:\n",
        "  headers = chpl_helper.set_access_headers(base_url, auth_string=auth_string)\n",
        "  r = requests.get(base_url + 'info/token', headers=headers, verify=True)\n",
        "  print('access token expires in: {} seconds'.format(r.json()['expiresIn']))\n",
        "  logging.info('keyId: {}'.format(r.json()['keyId']))\n",
        "  logging.info('expiresIn: {}'.format(r.json()['expiresIn']))\n",
        "except:\n",
        "  logging.error('requst info/token status:{} \\tcontent:'.format(r.status_code, r.content))\n"
      ]
    },
    {
      "cell_type": "markdown",
      "source": [
        "## 2. Upload Input File\n",
        "\n",
        "This file will be processed to placed the holds.\n",
        "\n",
        " ↴ **Click on the play button below**, then when prompted, upload the input file:"
      ],
      "metadata": {
        "id": "R7pn3xjBrjOD"
      }
    },
    {
      "cell_type": "code",
      "source": [
        "#@title\n",
        "input_file = files.upload()\n",
        "\n",
        "# convert the input file to a Dataframe ... \n",
        "df = pd.read_excel( \n",
        "    [key for key in input_file.keys()][0],\n",
        "    usecols=[0,1],\n",
        "    converters={\n",
        "        0: str,\n",
        "        1: str\n",
        "    }\n",
        ")\n",
        "# print(df.head(5))\n",
        "# print('...')\n",
        "print('total rows in input: ', df.shape[0])\n",
        "\n",
        "# construct the item query we'll use to convert barcodes to item record numbers \n",
        "# (API endpoint URLs)\n",
        "operands = [row['barcode'] for i, row in df.iterrows()]\n",
        "item_query = {\n",
        "  \"queries\": [\n",
        "    {\n",
        "      \"target\": {\n",
        "        \"record\": {\n",
        "          \"type\": \"item\"\n",
        "        },\n",
        "        \"field\": {\n",
        "          \"tag\": \"b\"\n",
        "        }\n",
        "      },\n",
        "      \"expr\": [\n",
        "        {\n",
        "          \"op\": \"in\",\n",
        "          \"operands\": operands\n",
        "        }\n",
        "      ]\n",
        "    }\n",
        "  ]\n",
        "}\n",
        "\n",
        "# print(json.dumps(item_query))\n",
        "\n",
        "headers = chpl_helper.set_access_headers(base_url, auth_string=auth_string)\n",
        "\n",
        "try:\n",
        "  text_column = TextColumn(\"Searching\")\n",
        "  spinner_column = SpinnerColumn(finished_text='Complete!')\n",
        "  with Progress(text_column, spinner_column, expand=False) as progress:\n",
        "  #Progress(transient=True) as progress:\n",
        "    task = progress.add_task(\"Searching ...\")\n",
        "\n",
        "    r = requests.post(\n",
        "      base_url + 'items/query?offset=0&limit={}'.format(len(operands)), \n",
        "      headers=headers,\n",
        "      data=json.dumps(item_query),\n",
        "      verify=True\n",
        "    )\n",
        "    progress.update(task, completed=1)\n",
        "\n",
        "  # print(\"response json: \", r.json())\n",
        "  print('...')\n",
        "  msg = 'total rows of items returned from search: {}'.format(r.json()['total'])\n",
        "  logging.info(msg)\n",
        "  print(msg)\n",
        "\n",
        "except:\n",
        "  logging.error('items/query failed')\n",
        "  print('error?')"
      ],
      "metadata": {
        "id": "Wjac6ooErlrq",
        "cellView": "form"
      },
      "execution_count": null,
      "outputs": []
    },
    {
      "cell_type": "markdown",
      "source": [
        "## 3. Enter the patron record number being use to place the holds:\n",
        "\n",
        "When prompted, enter the patron record number without leading character, or check-digits\n",
        "\n",
        "(e.g. ~p2509457a~ → 2509457):\n",
        "\n",
        "↴ **Click on the play button below**"
      ],
      "metadata": {
        "id": "-ckNgHKEFKIE"
      }
    },
    {
      "cell_type": "code",
      "source": [
        "#@title\n",
        "patron_record_num = input('patron record number: ')\n",
        "\n",
        "logging.info('using patron number {}'.format(patron_record_num))\n",
        "\n",
        "try:\n",
        "  r_patron = requests.get(\n",
        "        base_url + 'patrons/{}/holds'.format(patron_record_num), \n",
        "        headers=headers,\n",
        "        verify=True\n",
        "      )\n",
        "  logging.info(r_patron.json())\n",
        "  print('patron {} has {} total holds'.format(\n",
        "      patron_record_num, \n",
        "      r_patron.json()['total'])\n",
        "  )\n",
        "except:\n",
        "  logging.error('patrons/{}/holds failed'.format(patron_record_num))\n",
        "  logging.error(r_patron.content)\n",
        "\n",
        "# testing if a item has volume records associated with it\n",
        "#\n",
        "# r_entry = requests.get(\n",
        "#         url=r.json()['entries'][0]['link'] + '?fields=id,location,status,barcode,bibIds,volumes',\n",
        "#         headers=headers,\n",
        "#         verify=True\n",
        "# )\n",
        "\n",
        "# print(r_entry.json())\n",
        "\n",
        "# if len(r_entry.json()['volumes']) > 0:\n",
        "#   print('has vols')"
      ],
      "metadata": {
        "id": "XvNROH4iFIJo",
        "cellView": "form"
      },
      "execution_count": null,
      "outputs": []
    },
    {
      "cell_type": "markdown",
      "source": [
        "## 4. Place the Holds:\n",
        "\n",
        " ↴ **Click on the play button below**, for the holds to be placed\n",
        " :"
      ],
      "metadata": {
        "id": "oen8FMDlSgrI"
      }
    },
    {
      "cell_type": "code",
      "source": [
        "#@title\n",
        "len_entries = len(r.json()['entries'])\n",
        "text_column = TextColumn(\"Placing Holds\")\n",
        "# spinner_column = SpinnerColumn(finished_text='Complete!')\n",
        "with Progress(text_column, *Progress.get_default_columns(), expand=False) as progress:\n",
        "  for i in progress.track(range(len_entries)):\n",
        "    entry = r.json()['entries'][i]\n",
        "    # print(i, entry['link'])\n",
        "    r_entry = requests.get(\n",
        "        url=entry['link'] + '?fields=id,location,status,barcode,bibIds,volumes',\n",
        "        headers=headers,\n",
        "        verify=True\n",
        "    )\n",
        "    \n",
        "    # extract the item record number\n",
        "    item_record_num = r_entry.json()['id']\n",
        "        \n",
        "    #extract the barcode\n",
        "    search_barcode = str(r_entry.json()['barcode'])\n",
        "    \n",
        "    # NOTE: this patron record was previously used for testing\n",
        "    # https://classic.cincinnatilibrary.org/iii/sierra-api/v6/patrons/2509457\n",
        "    # patron_record_num = '2509457'\n",
        "\n",
        "    # match the barcode to get the pickup location code in the input file / Dataframe \n",
        "    pickupLocation = df[df.barcode == search_barcode]['branch pickup location'].values[0]\n",
        "    # patron_record_num = df[df.barcode == search_barcode].branch_account.values[0].strip()[1:-1]\n",
        "    \n",
        "    # print('placing hold...')\n",
        "\n",
        "    logging.info(f\"item_record_num\\t{item_record_num}\\tsearch_barcode\\t{search_barcode}\\tpatron_record_num\\t{patron_record_num}\")\n",
        "    \n",
        "    # place the hold ...    \n",
        "    body_data = {\n",
        "        \"recordType\": \"i\",\n",
        "        \"recordNumber\": int(item_record_num),\n",
        "        \"pickupLocation\": pickupLocation,\n",
        "        # \"neededBy\": \"\",\n",
        "        # \"numberOfCopies\": 1,\n",
        "        \"note\": \"chpl-bulk-hold-script\"\n",
        "    }\n",
        "\n",
        "    logging.info(f\"patrons/{patron_record_num}/holds/requests {json.dumps(body_data)}\")\n",
        "    \n",
        "    r_hold = requests.post(\n",
        "        url=base_url + f'patrons/{patron_record_num}/holds/requests',\n",
        "        headers=headers,\n",
        "        data=json.dumps(body_data),\n",
        "        verify=True\n",
        "    )\n",
        "\n",
        "    # print(\"response json: \", r_hold.json())\n",
        "    logging.info(f\"response\\t{r_hold.status_code}\\t{r_hold.content}\")\n",
        "\n"
      ],
      "metadata": {
        "id": "xJp-qufas8_C",
        "cellView": "form"
      },
      "execution_count": null,
      "outputs": []
    },
    {
      "cell_type": "markdown",
      "source": [
        "## 4a. Download log file:\n",
        "\n",
        " ↩ **Click on the \"Files\" button (![image.png](data:image/png;base64,iVBORw0KGgoAAAANSUhEUgAAABcAAAAVCAYAAACt4nWrAAAABHNCSVQICAgIfAhkiAAAABl0RVh0U29mdHdhcmUAZ25vbWUtc2NyZWVuc2hvdO8Dvz4AAAAtdEVYdENyZWF0aW9uIFRpbWUAV2VkIDE2IE1hciAyMDIyIDEwOjE0OjUwIFBNIEVEVPFP3/8AAADASURBVDiN7ZU9DoQgFISHzVa20GIrNbfhInoHTmNouQi1tM/Wlm39QaNm3YRkp3xMPl4xAyyllPCQXk+By4a/1wMiwjiOG6OUElVV3YcTEdq2zRqllOi67tIFbJ6Wvu/hnNs1c84hhMie1XUNY8z+5vMtr2w4TRO892iaBlrrY7gxBkqp0/AQAqy1GIZhAS83in/47+HZKMYYwRg7DYkxZueLhh7V/4ystYsGs/VnQUQgostgIcTmadjAv6ly0/IBLZNG6bijy9UAAAAASUVORK5CYII=)) to the left, right the file `bulk_holds_log.txt` and then click `Download`**"
      ],
      "metadata": {
        "id": "BC1SUVvBpm_H"
      }
    },
    {
      "cell_type": "markdown",
      "source": [
        "## 5. Remove the Holds:\n",
        "\n",
        "If you wish to remove all holds for a patron record num, you can do so here.\n",
        "\n",
        " ↴ **Click on the play button below**, input the patron record num, and ALL the holds will be removed for that patron"
      ],
      "metadata": {
        "id": "_5-Ufi2fmVJV"
      }
    },
    {
      "cell_type": "code",
      "source": [
        "#@title\n",
        "#  delete /v6/patrons/{id}/holds \n",
        "\n",
        "patron_record_num = 0\n",
        "patron_record_num = input('patron record number: ')\n",
        "\n",
        "# cancel all the holds for this patron account\n",
        "r_cancel = requests.delete(\n",
        "        url=base_url + f'patrons/{patron_record_num}/holds',\n",
        "        headers=headers,\n",
        "        verify=True\n",
        ")\n",
        "\n",
        "print('response:\\n', r_cancel.status_code, '\\n', r_cancel.content, sep='')"
      ],
      "metadata": {
        "id": "XaZuowdy1PWD",
        "cellView": "form"
      },
      "execution_count": null,
      "outputs": []
    }
  ],
  "metadata": {
    "colab": {
      "collapsed_sections": [],
      "name": "chpl_rest_api_sierra_bulk_item_level_holds.ipynb",
      "provenance": [],
      "include_colab_link": true
    },
    "kernelspec": {
      "display_name": "Python 3",
      "language": "python",
      "name": "python3"
    },
    "language_info": {
      "codemirror_mode": {
        "name": "ipython",
        "version": 3
      },
      "file_extension": ".py",
      "mimetype": "text/x-python",
      "name": "python",
      "nbconvert_exporter": "python",
      "pygments_lexer": "ipython3",
      "version": "3.8.10"
    }
  },
  "nbformat": 4,
  "nbformat_minor": 0
}