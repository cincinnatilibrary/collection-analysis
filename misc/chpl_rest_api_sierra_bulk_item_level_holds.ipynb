{
  "cells": [
    {
      "cell_type": "markdown",
      "metadata": {
        "id": "view-in-github",
        "colab_type": "text"
      },
      "source": [
        "<a href=\"https://colab.research.google.com/github/cincinnatilibrary/collection-analysis/blob/master/misc/chpl_rest_api_sierra_bulk_item_level_holds.ipynb\" target=\"_parent\"><img src=\"https://colab.research.google.com/assets/colab-badge.svg\" alt=\"Open In Colab\"/></a>"
      ]
    },
    {
      "cell_type": "markdown",
      "metadata": {
        "id": "HrJKYk82ZuQh"
      },
      "source": [
        "<img src=\"https://ilsweb.cincinnatilibrary.org/img/CHPL_Brandmark_Primary.png\" alt=\"CHPL\" title=\"CHPL\" width=\"250\"/>\n",
        "\n",
        "# REST API: Bulk Item-level Holds\n",
        "\n",
        "For various collection-health purposes, this script can be used in conjunction with CollectionHQ to move groups of items from one location to another using the holds functionality.\n",
        "\n",
        "The script expects a Excel workbook with 1 sheet having the following format:\n",
        "\n",
        "| barcode       | branch pickup location\t|\n",
        "|-------------- |------------------------\t|\n",
        "| A000055325526 | an |\n",
        "| A000057896540 | ba |\n",
        "| A000067386443 | dp |\n",
        "| A000071676870 | pr |\n",
        "\n",
        "In this example, the script will place four item-level holds, and set the locations to the coorisponding pickup location--using their pickup location codes (Anderson, Blue Ash, Deer Park, Price Hill)\n",
        "\n",
        "---\n",
        "\n",
        "*Note*: The current 5-character pickup location codes can be found here:\n",
        "\n",
        "https://github.com/cincinnatilibrary/collection-analysis/blob/master/misc/chpl_rest_api_sierra_pickup_locations.ipynb\n",
        "\n"
      ]
    },
    {
      "cell_type": "code",
      "execution_count": null,
      "metadata": {
        "id": "mYssGRtpZxqb"
      },
      "outputs": [],
      "source": [
        "# <--- Click the play button to the left to get started\n",
        "\n",
        "# this is the helper script that contains some needed functions\n",
        "!wget --quiet https://raw.githubusercontent.com/cincinnatilibrary/collection-analysis/master/misc/chpl_helper.py --output-document=chpl_helper.py\n",
        "\n",
        "# import the helper functions we just downloaded ...\n",
        "import chpl_helper\n",
        "from getpass import getpass\n",
        "from google.colab import files\n",
        "import pandas as pd\n",
        "import requests\n",
        "import json\n",
        "\n",
        "\n",
        "# point this to the base URL for the Sierra REST API\n",
        "base_url = 'https://classic.cincinnatilibrary.org:443/iii/sierra-api/v6/'"
      ]
    },
    {
      "cell_type": "markdown",
      "metadata": {
        "id": "D72kS5LMbcpJ"
      },
      "source": [
        "## 1. Enter REST-API Credentials\n",
        "\n",
        "In order to be authorized to use the REST API, you must enter valid credientials.\n",
        "\n",
        "When prompted, enter in the **`auth_string`** as your password:"
      ]
    },
    {
      "cell_type": "code",
      "execution_count": null,
      "metadata": {
        "id": "6zcODxHbbahd"
      },
      "outputs": [],
      "source": [
        "# client_key = getpass('Enter the client KEY value: ')\n",
        "# client_secret = getpass('Enter the client SECRET value: ')\n",
        "auth_string = getpass('Enter the auth_string value: ')\n",
        "\n",
        "# test our credentials\n",
        "\n",
        "headers = chpl_helper.set_access_headers(base_url, auth_string=auth_string)\n",
        "r = requests.get(base_url + 'info/token', headers=headers, verify=True)\n",
        "print('access token expires in: {} seconds'.format(r.json()['expiresIn']))"
      ]
    },
    {
      "cell_type": "markdown",
      "source": [
        "## 2. Upload Input File\n",
        "\n",
        "This file will be processed to placed the holds.\n",
        "\n",
        "When prompted, upload the input file:"
      ],
      "metadata": {
        "id": "R7pn3xjBrjOD"
      }
    },
    {
      "cell_type": "code",
      "source": [
        "input_file = files.upload()"
      ],
      "metadata": {
        "id": "Wjac6ooErlrq"
      },
      "execution_count": null,
      "outputs": []
    },
    {
      "cell_type": "code",
      "source": [
        "# convert the input file to a Dataframe ... \n",
        "df = pd.read_excel( \n",
        "    [key for key in input_file.keys()][0], \n",
        "    converters={\n",
        "        'barcode': str,        \n",
        "    }\n",
        ")\n",
        "print(df.head(5))\n",
        "print('...')\n",
        "print('total rows in input: ', df.shape[0])\n",
        "\n",
        "# construct the item query we'll use to convert barcodes to item record numbers (API endpoint URLs)\n",
        "operands = [row['barcode'] for i, row in df.iterrows()]\n",
        "item_query = {\"queries\": [{\"target\": {\"record\": {\"type\": \"item\"}, \"field\": {\"tag\": \"b\"}}, \"expr\": [{\"op\": \"in\", \"operands\": operands}]}]}\n",
        "\n",
        "print(json.dumps(item_query))\n",
        "\n",
        "headers = chpl_helper.set_access_headers(base_url, auth_string=auth_string)\n",
        "\n",
        "print('\\nsearching ...')\n",
        "\n",
        "r = requests.post(\n",
        "    base_url + 'items/query?offset=0&limit={}'.format(len(operands)), \n",
        "    headers=headers,\n",
        "    data=json.dumps(item_query),\n",
        "    verify=True\n",
        ")\n",
        "\n",
        "print(\"response json: \", r.json())\n",
        "\n",
        "print('...')\n",
        "\n",
        "print('total rows of items from search: {}'.format(r.json()['total']) )"
      ],
      "metadata": {
        "id": "E-RqM3l-sKCD"
      },
      "execution_count": null,
      "outputs": []
    },
    {
      "cell_type": "code",
      "source": [
        "for i, entry in enumerate(r.json()['entries']):\n",
        "    print(i, entry['link'])\n",
        "    r_entry = requests.get(\n",
        "        url=entry['link'] + '?fields=id,location,status,barcode,bibIds',\n",
        "        headers=headers,\n",
        "        verify=True\n",
        "    )\n",
        "    print(r_entry.json())\n",
        "    \n",
        "    # extract the item record number\n",
        "    item_record_num = r_entry.json()['id']\n",
        "        \n",
        "    #extract the barcode\n",
        "    search_barcode = str(r_entry.json()['barcode'])\n",
        "    \n",
        "    # NOTE: for the time being, we'll just use this patron record for testing\n",
        "    # https://classic.cincinnatilibrary.org/iii/sierra-api/v6/patrons/2509457\n",
        "    patron_record_num = '2509457'\n",
        "\n",
        "    # match the barcode to get the pickup location code in the input file / Dataframe \n",
        "    pickupLocation = df[df.barcode == search_barcode]['branch pickup location'].values[0]\n",
        "    # patron_record_num = df[df.barcode == search_barcode].branch_account.values[0].strip()[1:-1]\n",
        "    \n",
        "    print('placing hold...')\n",
        "\n",
        "    print(f'item_record_num:\\t{item_record_num}\\nsearch_barcode:\\t\\t{search_barcode}\\npatron_record_num:\\t{patron_record_num}')\n",
        "\n",
        "    # patron_record_num = df[df.barcode == search_barcode].branch_account.values[0].strip()[1:-1]\n",
        "    \n",
        "    # place the hold ...\n",
        "    \n",
        "    body_data = {\n",
        "        \"recordType\": \"i\",\n",
        "        \"recordNumber\": int(item_record_num),\n",
        "        \"pickupLocation\": pickupLocation,\n",
        "        # \"neededBy\": \"\",\n",
        "        # \"numberOfCopies\": 1,\n",
        "        \"note\": \"chpl-bulk-hold-script\"\n",
        "    }\n",
        "\n",
        "    print(base_url + f'patrons/{patron_record_num}/holds/requests', json.dumps(body_data))\n",
        "    \n",
        "    r_hold = requests.post(\n",
        "        url=base_url + f'patrons/{patron_record_num}/holds/requests',\n",
        "        headers=headers,\n",
        "        data=json.dumps(body_data),\n",
        "        verify=True\n",
        "    )\n",
        "\n",
        "    # print(\"response json: \", r_hold.json())\n",
        "    print('response:\\n', r_hold.status_code, '\\n', r_hold.content, sep='')\n",
        "    \n",
        "    print('---')"
      ],
      "metadata": {
        "id": "xJp-qufas8_C"
      },
      "execution_count": null,
      "outputs": []
    },
    {
      "cell_type": "code",
      "source": [
        "#  delete /v6/patrons/{id}/holds \n",
        "\n",
        "# cancel all the holds for this patron account\n",
        "r_cancel = requests.delete(\n",
        "        url=base_url + f'patrons/{patron_record_num}/holds',\n",
        "        headers=headers,\n",
        "        verify=True\n",
        ")\n",
        "\n",
        "print('response:\\n', r_cancel.status_code, '\\n', r_cancel.content, sep='')"
      ],
      "metadata": {
        "id": "XaZuowdy1PWD"
      },
      "execution_count": null,
      "outputs": []
    }
  ],
  "metadata": {
    "colab": {
      "collapsed_sections": [],
      "name": "chpl_rest_api_sierra_bulk_item_level_holds.ipynb",
      "provenance": [],
      "include_colab_link": true
    },
    "kernelspec": {
      "display_name": "Python 3",
      "language": "python",
      "name": "python3"
    },
    "language_info": {
      "codemirror_mode": {
        "name": "ipython",
        "version": 3
      },
      "file_extension": ".py",
      "mimetype": "text/x-python",
      "name": "python",
      "nbconvert_exporter": "python",
      "pygments_lexer": "ipython3",
      "version": "3.8.10"
    }
  },
  "nbformat": 4,
  "nbformat_minor": 0
}