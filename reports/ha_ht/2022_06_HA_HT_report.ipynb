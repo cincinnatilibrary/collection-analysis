{
  "nbformat": 4,
  "nbformat_minor": 0,
  "metadata": {
    "colab": {
      "name": "2022-06_HA_HT_report.ipynb",
      "provenance": [],
      "collapsed_sections": [],
      "authorship_tag": "ABX9TyPMkkTVyRsg05l3odc4GoTc",
      "include_colab_link": true
    },
    "kernelspec": {
      "name": "python3",
      "display_name": "Python 3"
    },
    "language_info": {
      "name": "python"
    }
  },
  "cells": [
    {
      "cell_type": "markdown",
      "metadata": {
        "id": "view-in-github",
        "colab_type": "text"
      },
      "source": [
        "<a href=\"https://colab.research.google.com/github/cincinnatilibrary/collection-analysis/blob/master/reports/ha_ht/2022_06_HA_HT_report.ipynb\" target=\"_parent\"><img src=\"https://colab.research.google.com/assets/colab-badge.svg\" alt=\"Open In Colab\"/></a>"
      ]
    },
    {
      "cell_type": "markdown",
      "source": [
        "# Hot Authors / Hot Tickets Circulation Analysis\n",
        "\n",
        "<img src=\"https://ilsweb.cincinnatilibrary.org/img/CHPL_Brandmark_Primary.png\" alt=\"CHPL\" title=\"CHPL\" width=\"300\"/>\n",
        "\n",
        "## Purpose\n",
        "\n",
        "This report will attempt to clear up some questions related to the Hot Authors and Hot Tickets programs using data gathered from the Sierra ILS related to hold, circulation, item, and bibliographic data.\n",
        "\n",
        "## Overview \n",
        "\n",
        "Anecdotal evidence would suggest that a fair number of holds associated with the Hot Author and Hot Tix (HA/HT) program are not picked up by customers (abandoned) after items associated with holds are placed on hold shelves. \n",
        "\n",
        "These holds result from bulk  actions taken by ILS staff based on customers' indicated author or genre preferences selected from these web applications: \n",
        "https://apps.chpl.org/services/hot-authors and https://apps.chpl.org/services/hot-tickets/ \n",
        "\n",
        "<!-- ![image.png](attachment:5baca723-b6d4-49d9-b65e-00a4781406bb.png) \n",
        "![image.png](attachment:7897f83f-f6b7-40ae-8698-3c468f71f64b.png)\n",
        " -->\n",
        "<img src=\"https://raw.githubusercontent.com/cincinnatilibrary/collection-analysis/master/reports/ha_ht/ha_from_2022-06-21%2009-51-38.png\" alt=\"CHPL\" title=\"CHPL\" width=\"400\"/> \n",
        "\n",
        "<img src=\"https://raw.githubusercontent.com/cincinnatilibrary/collection-analysis/master/reports/ha_ht/ht_from_2022-06-21%2013-36-41.png\" alt=\"CHPL\" title=\"CHPL\" width=\"400\"/> \n",
        " \n",
        "## Data Used\n",
        "\n",
        "This report is a result of a combination of a two main data sets:\n",
        "1. Data related to holds when the hold status is changed to, \"ready for pickup\" is recorded on a automatic, and regular basis, and captures data that Sierra would ordinarily remove from the system around the hold--hold id, hold placed, associated bib and item, patron, location, time, etc (Sierra removes this data from the system when holds are no longer relevant--e.g. when the associated patron account fills the hold by checking out the item.)\n",
        "1. Data related to circulation activity. This data is use to pair the associated item and patron data from the hold data, and is used to determine if the patron record had a \"filled hold\" transaction for the specific item related to the hold.\n",
        "\n",
        "To identify HA/HT titles and bulk-holds the search involves looking for the following attributes related to holds:\n",
        "1. A large number of holds are placed for a title on a single date\n",
        "1. The date of the hold identified above, is a date _before_ the cataloging date\n",
        "\n",
        "To identify if a patron had filled that hold involves looking at circulation transaction data in relationship with the above HA/HT hold data:\n",
        "1. item and patron record associated with the hold data above also have an associated \"filled hold\" transaction--indicating that the item has been checked out \n",
        "\n",
        "\n",
        "## Analysis\n",
        "\n",
        "---\n",
        "\n",
        "### How often are HA/HT items being abandoned on the holdshlef?\n",
        "\n",
        "Below represents the percentage of \"filled holds\" from the top 5 most popular titles from Hot Authors, and Hot Tickets (by number of items placed on hold shelves.)\n",
        "\n",
        "#### Hot Authors Bulk Holds Placed / Holds Filled -- Top 5 Titles\n",
        "\n",
        "| placed date \t| bib record num \t| cat date   \t| best title                    \t| best author                     \t| call num \t| count holds \t| total on holdshelf \t| total filled holds \t|   \t| PCT Abandoned  \t|\n",
        "|-------------\t|----------------\t|------------\t|-------------------------------\t|---------------------------------\t|----------\t|-------------\t|--------------------\t|--------------------\t|---\t|----------------\t|\n",
        "| 2019-11-06  \t| 3487736        \t| 2020-01-07 \t| Lost                          \t| Patterson, James, 1947- author. \t| fiction  \t| 2240        \t| 2240               \t| 1147               \t|   \t| 48.79%         \t|\n",
        "| 2021-07-12  \t| 3619648        \t| 2021-10-14 \t| The Judge's list              \t| Grisham, John, author.          \t| fiction  \t| 2238        \t| 2238               \t| 1159               \t|   \t| 48.21%         \t|\n",
        "| 2021-03-11  \t| 3590784        \t| 2021-05-12 \t| Sooley                        \t| Grisham, John, author.          \t| fiction  \t| 2186        \t| 2186               \t| 1131               \t|   \t| 48.26%         \t|\n",
        "| 2019-10-11  \t| 3482039        \t| 2019-12-30 \t| The river murders : thrillers \t| Patterson, James, 1947- author. \t| fiction  \t| 2178        \t| 2178               \t| 1103               \t|   \t| 49.36%         \t|\n",
        "| 2020-07-10  \t| 3543280        \t| 2020-10-21 \t| A time for mercy              \t| Grisham, John, author.          \t| fiction  \t| 2167        \t| 2167               \t| 1178               \t|   \t| 45.64%         \t|\n",
        "\n",
        "#### Hot Tickets Bulk Holds Placed / Holds Filled -- Top 5 Titles\n",
        "\n",
        "| placed date \t| bib record num \t| cat date   \t| best title                    \t| call number            \t| count holds \t| total on holdshelf \t| total filled holds \t|   \t| PCT Abandoned  \t|\n",
        "|-------------\t|----------------\t|------------\t|-------------------------------\t|------------------------\t|-------------\t|--------------------\t|--------------------\t|---\t|----------------\t|\n",
        "| 2021-09-01  \t| 3682448        \t| 2021-09-14 \t| Black Widow                   \t| dvd action b62792 2021 \t| 2700        \t| 2696               \t| 1082               \t|   \t| 59.87%         \t|\n",
        "| 2021-03-24  \t| 3597884        \t| 2021-05-10 \t| The marksman                  \t| dvd action m346 2021   \t| 2679        \t| 2678               \t| 1040               \t|   \t| 61.17%         \t|\n",
        "| 2021-05-14  \t| 3608910        \t| 2021-06-25 \t| Nobody                        \t| dvd action n753 2021   \t| 2670        \t| 2670               \t| 1012               \t|   \t| 62.10%         \t|\n",
        "| 2021-07-15  \t| 3620871        \t| 2021-08-13 \t| The hitman's wife's bodyguard \t| dvd action h6752w 2021 \t| 2664        \t| 2662               \t| 1075               \t|   \t| 59.62%         \t|\n",
        "| 2019-09-05  \t| 3474412        \t| 2019-09-24 \t| Spider-Man. Far from home     \t| dvd action s754f 2019  \t| 2622        \t| 2610               \t| 1507               \t|   \t| 42.26%         \t|\n",
        "\n",
        "---\n",
        "\n",
        "### How often are customers abandoning their HA/HT items on the holdshelf?\n",
        "\n",
        "#### Numbers of Customers by Percent HA/HT Items Abandoned\n",
        "\n",
        "<img src=\"https://raw.githubusercontent.com/cincinnatilibrary/collection-analysis/master/reports/ha_ht/abandon_pct_by_patron.png\" alt=\"CHPL\" title=\"CHPL\" />\n",
        "\n",
        "### What hold shelf / pickup location see the most abandoned HA/HT items?\n",
        "\n",
        "#### Percent HA/HT Items Abandoned by Location\n",
        "\n",
        "<img src=\"https://raw.githubusercontent.com/cincinnatilibrary/collection-analysis/master/reports/ha_ht/pct_abandoned_by_hold_shelf.png\" alt=\"CHPL\" title=\"CHPL\" />"
      ],
      "metadata": {
        "id": "TSWx15nEI_Hk"
      }
    }
  ]
}