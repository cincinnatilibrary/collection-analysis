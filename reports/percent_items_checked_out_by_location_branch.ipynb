{
  "nbformat": 4,
  "nbformat_minor": 5,
  "metadata": {
    "kernelspec": {
      "display_name": "Python 3",
      "language": "python",
      "name": "python3"
    },
    "language_info": {
      "codemirror_mode": {
        "name": "ipython",
        "version": 3
      },
      "file_extension": ".py",
      "mimetype": "text/x-python",
      "name": "python",
      "nbconvert_exporter": "python",
      "pygments_lexer": "ipython3",
      "version": "3.9.5"
    },
    "colab": {
      "name": "percent_items_checked_out_by_location_branch.ipynb",
      "provenance": [],
      "collapsed_sections": [],
      "include_colab_link": true
    }
  },
  "cells": [
    {
      "cell_type": "markdown",
      "metadata": {
        "id": "view-in-github",
        "colab_type": "text"
      },
      "source": [
        "<a href=\"https://colab.research.google.com/github/cincinnatilibrary/collection-analysis/blob/master/reports/percent_items_checked_out_by_location_branch.ipynb\" target=\"_parent\"><img src=\"https://colab.research.google.com/assets/colab-badge.svg\" alt=\"Open In Colab\"/></a>"
      ]
    },
    {
      "cell_type": "markdown",
      "metadata": {
        "id": "hjPkK4J4oFGz"
      },
      "source": [
        "# **CHPL - Collection Analysis**\n",
        "\n",
        "### Percent Checked Out by Shelf Location -- Deer Park\n",
        "\n",
        "<img src=\"https://ilsweb.cincinnatilibrary.org/img/CHPL_Brandmark_Primary.png\" alt=\"CHPL\" title=\"CHPL\" width=\"300\"/>\n",
        "\n",
        "Data sources\n",
        "\n",
        "* https://collection-analysis.cincy.pl/"
      ],
      "id": "hjPkK4J4oFGz"
    },
    {
      "cell_type": "code",
      "metadata": {
        "id": "5c5b883e",
        "colab": {
          "base_uri": "https://localhost:8080/"
        },
        "outputId": "655a4027-1749-4ddf-c349-36c1a8ee5e8e",
        "cellView": "form"
      },
      "source": [
        "#@title\n",
        "import pandas as pd\n",
        "import requests\n",
        "import altair as alt\n",
        "import re\n",
        "\n",
        "base_url = 'https://collection-analysis.cincy.pl'\n",
        "\n",
        "# find the name of the target current_collection db--since it's named with its \n",
        "# hashed value\n",
        "# https://datasette.io/plugins/datasette-hashed-urls\n",
        "db_available = requests.get(\n",
        "      url=base_url + '/-/databases' + '.json',\n",
        ").json()\n",
        "\n",
        "db_name = ''\n",
        "\n",
        "for db in db_available:\n",
        "  if re.search(r\"^current_collection.*$\", db['name']):\n",
        "    db_name = db['name']\n",
        "\n",
        "print(db_name)\n",
        "\n",
        "sql = \"\"\"\\\n",
        "with data as (\n",
        "  select\n",
        "    i.location_code,\n",
        "    ln.name,\n",
        "    -- loc.branch_code_num,\n",
        "    -- bn.name as branch_name,\n",
        "    count(*) as count_total_available_items,\n",
        "    (\n",
        "      select\n",
        "        count(*)\n",
        "      from\n",
        "        item as i2\n",
        "      where\n",
        "        i2.location_code = i.location_code\n",
        "        and i2.item_status_code = '-'\n",
        "        and i2.checkout_total = 0\n",
        "    ) as count_items_0_checkouts,\n",
        "    (\n",
        "      select\n",
        "        count(*)\n",
        "      from\n",
        "        item as i2\n",
        "      where\n",
        "        i2.location_code = i.location_code\n",
        "        and i2.item_status_code = '-'\n",
        "        and i2.checkout_total > 0\n",
        "    ) as count_items_gt_0_checkouts,\n",
        "    (\n",
        "      select\n",
        "        count(*)\n",
        "      from\n",
        "        item as i2\n",
        "      where\n",
        "        i2.location_code = i.location_code\n",
        "        and i2.item_status_code = '-'\n",
        "        and i2.checkout_date is not null\n",
        "    ) as count_curr_checked_out\n",
        "  from\n",
        "    item as i\n",
        "    left outer join location as loc on loc.code = i.location_code\n",
        "    left outer join location_name as ln on ln.location_id = loc.id\n",
        "    left outer join branch as br on br.code_num = loc.branch_code_num\n",
        "    left outer join branch_name as bn on bn.branch_id = br.id\n",
        "  where\n",
        "    i.item_status_code = '-'\n",
        "    and br.code_num = :branch_code_num\n",
        "  group by\n",
        "    i.location_code,\n",
        "    ln.name -- loc.branch_code_num,\n",
        "    -- branch_name\n",
        "  order by\n",
        "    loc.branch_code_num\n",
        ")\n",
        "select\n",
        "  *,\n",
        "  round(\n",
        "    (\n",
        "      (data.count_curr_checked_out * 1.0) / (data.count_total_available_items * 1.0)\n",
        "    ) * 100.0,\n",
        "    2\n",
        "  ) as pct_tot_curr_checked_out\n",
        "from\n",
        "  data\n",
        "\"\"\"\n",
        "\n",
        "df = pd.read_json(\n",
        "    requests.get(\n",
        "      url=base_url + '/' + db_name + '.json',\n",
        "      params={\n",
        "        'sql': sql,\n",
        "        'branch_code_num': 11,\n",
        "        '_shape': 'array'\n",
        "      }\n",
        "    ).content\n",
        ")\n",
        "\n"
      ],
      "id": "5c5b883e",
      "execution_count": 23,
      "outputs": [
        {
          "output_type": "stream",
          "name": "stdout",
          "text": [
            "current_collection\n"
          ]
        }
      ]
    },
    {
      "cell_type": "code",
      "source": [
        "#@title\n",
        "# alt.Chart(df[~df['branch_name'].isin(['Main Library', 'Outreach Services' ])]).mark_rect().encode(\n",
        "alt.Chart(df).mark_rect().encode(\n",
        "    x=alt.X(\n",
        "        'name:O',\n",
        "        axis=alt.Axis(labelAngle=-40),\n",
        "        sort=\"-color\"\n",
        "    ),\n",
        "    # y='pct_tot_curr_checked_out:O',\n",
        "    color=alt.Color(\n",
        "        'pct_tot_curr_checked_out:Q', \n",
        "        scale=alt.Scale(\n",
        "            scheme='greens',\n",
        "            domain=(0,100) \n",
        "        )\n",
        "        # scale=alt.Scale(domain=(0, max_scale)),\n",
        "    ),\n",
        "    tooltip=['name', 'location_code', 'count_total_available_items', 'count_items_0_checkouts', 'count_items_gt_0_checkouts', 'count_curr_checked_out', 'pct_tot_curr_checked_out']\n",
        ").properties(\n",
        "    title=\"Percent Checked Out by Shelf Location -- Deer Park\",\n",
        "    width=900,\n",
        "    # height=1000\n",
        ")"
      ],
      "metadata": {
        "id": "_vDVzYlTMMLV",
        "outputId": "7508278b-4ba2-4a86-e995-462494695a42",
        "colab": {
          "base_uri": "https://localhost:8080/",
          "height": 211
        },
        "cellView": "form"
      },
      "id": "_vDVzYlTMMLV",
      "execution_count": 25,
      "outputs": [
        {
          "output_type": "execute_result",
          "data": {
            "text/html": [
              "\n",
              "<div id=\"altair-viz-1601e3b725fa41f9a55172b79536545b\"></div>\n",
              "<script type=\"text/javascript\">\n",
              "  var VEGA_DEBUG = (typeof VEGA_DEBUG == \"undefined\") ? {} : VEGA_DEBUG;\n",
              "  (function(spec, embedOpt){\n",
              "    let outputDiv = document.currentScript.previousElementSibling;\n",
              "    if (outputDiv.id !== \"altair-viz-1601e3b725fa41f9a55172b79536545b\") {\n",
              "      outputDiv = document.getElementById(\"altair-viz-1601e3b725fa41f9a55172b79536545b\");\n",
              "    }\n",
              "    const paths = {\n",
              "      \"vega\": \"https://cdn.jsdelivr.net/npm//vega@5?noext\",\n",
              "      \"vega-lib\": \"https://cdn.jsdelivr.net/npm//vega-lib?noext\",\n",
              "      \"vega-lite\": \"https://cdn.jsdelivr.net/npm//vega-lite@4.17.0?noext\",\n",
              "      \"vega-embed\": \"https://cdn.jsdelivr.net/npm//vega-embed@6?noext\",\n",
              "    };\n",
              "\n",
              "    function maybeLoadScript(lib, version) {\n",
              "      var key = `${lib.replace(\"-\", \"\")}_version`;\n",
              "      return (VEGA_DEBUG[key] == version) ?\n",
              "        Promise.resolve(paths[lib]) :\n",
              "        new Promise(function(resolve, reject) {\n",
              "          var s = document.createElement('script');\n",
              "          document.getElementsByTagName(\"head\")[0].appendChild(s);\n",
              "          s.async = true;\n",
              "          s.onload = () => {\n",
              "            VEGA_DEBUG[key] = version;\n",
              "            return resolve(paths[lib]);\n",
              "          };\n",
              "          s.onerror = () => reject(`Error loading script: ${paths[lib]}`);\n",
              "          s.src = paths[lib];\n",
              "        });\n",
              "    }\n",
              "\n",
              "    function showError(err) {\n",
              "      outputDiv.innerHTML = `<div class=\"error\" style=\"color:red;\">${err}</div>`;\n",
              "      throw err;\n",
              "    }\n",
              "\n",
              "    function displayChart(vegaEmbed) {\n",
              "      vegaEmbed(outputDiv, spec, embedOpt)\n",
              "        .catch(err => showError(`Javascript Error: ${err.message}<br>This usually means there's a typo in your chart specification. See the javascript console for the full traceback.`));\n",
              "    }\n",
              "\n",
              "    if(typeof define === \"function\" && define.amd) {\n",
              "      requirejs.config({paths});\n",
              "      require([\"vega-embed\"], displayChart, err => showError(`Error loading script: ${err.message}`));\n",
              "    } else {\n",
              "      maybeLoadScript(\"vega\", \"5\")\n",
              "        .then(() => maybeLoadScript(\"vega-lite\", \"4.17.0\"))\n",
              "        .then(() => maybeLoadScript(\"vega-embed\", \"6\"))\n",
              "        .catch(showError)\n",
              "        .then(() => displayChart(vegaEmbed));\n",
              "    }\n",
              "  })({\"config\": {\"view\": {\"continuousWidth\": 400, \"continuousHeight\": 300}}, \"data\": {\"name\": \"data-142bf788fa6044b76ba57479bf39d735\"}, \"mark\": \"rect\", \"encoding\": {\"color\": {\"field\": \"pct_tot_curr_checked_out\", \"scale\": {\"domain\": [0, 100], \"scheme\": \"greens\"}, \"type\": \"quantitative\"}, \"tooltip\": [{\"field\": \"name\", \"type\": \"nominal\"}, {\"field\": \"location_code\", \"type\": \"nominal\"}, {\"field\": \"count_total_available_items\", \"type\": \"quantitative\"}, {\"field\": \"count_items_0_checkouts\", \"type\": \"quantitative\"}, {\"field\": \"count_items_gt_0_checkouts\", \"type\": \"quantitative\"}, {\"field\": \"count_curr_checked_out\", \"type\": \"quantitative\"}, {\"field\": \"pct_tot_curr_checked_out\", \"type\": \"quantitative\"}], \"x\": {\"axis\": {\"labelAngle\": -40}, \"field\": \"name\", \"sort\": \"-color\", \"type\": \"ordinal\"}}, \"title\": \"Percent Checked Out by Shelf Location -- Deer Park\", \"width\": 900, \"$schema\": \"https://vega.github.io/schema/vega-lite/v4.17.0.json\", \"datasets\": {\"data-142bf788fa6044b76ba57479bf39d735\": [{\"location_code\": \"dpaab\", \"name\": \"Deer Park Adult Audiobooks\", \"count_total_available_items\": 813, \"count_items_0_checkouts\": 3, \"count_items_gt_0_checkouts\": 810, \"count_curr_checked_out\": 195, \"pct_tot_curr_checked_out\": 23.99}, {\"location_code\": \"dpaar\", \"name\": \"Deer Park New Arrivals\", \"count_total_available_items\": 1614, \"count_items_0_checkouts\": 68, \"count_items_gt_0_checkouts\": 1546, \"count_curr_checked_out\": 1231, \"pct_tot_curr_checked_out\": 76.27}, {\"location_code\": \"dpac\", \"name\": \"Deer Park Compact Discs\", \"count_total_available_items\": 1656, \"count_items_0_checkouts\": 6, \"count_items_gt_0_checkouts\": 1650, \"count_curr_checked_out\": 187, \"pct_tot_curr_checked_out\": 11.29}, {\"location_code\": \"dpacx\", \"name\": \"Deer Park Adult Box Set CDs\", \"count_total_available_items\": 7, \"count_items_0_checkouts\": 0, \"count_items_gt_0_checkouts\": 7, \"count_curr_checked_out\": 2, \"pct_tot_curr_checked_out\": 28.57}, {\"location_code\": \"dpad\", \"name\": \"Deer Park DVDs\", \"count_total_available_items\": 1857, \"count_items_0_checkouts\": 19, \"count_items_gt_0_checkouts\": 1838, \"count_curr_checked_out\": 313, \"pct_tot_curr_checked_out\": 16.86}, {\"location_code\": \"dpadc\", \"name\": \"Deer Park Documentaries\", \"count_total_available_items\": 639, \"count_items_0_checkouts\": 3, \"count_items_gt_0_checkouts\": 636, \"count_curr_checked_out\": 64, \"pct_tot_curr_checked_out\": 10.02}, {\"location_code\": \"dpadf\", \"name\": \"Deer Park Foreign Films\", \"count_total_available_items\": 157, \"count_items_0_checkouts\": 4, \"count_items_gt_0_checkouts\": 153, \"count_curr_checked_out\": 6, \"pct_tot_curr_checked_out\": 3.8200000000000003}, {\"location_code\": \"dpadn\", \"name\": \"Deer Park New Release DVDs\", \"count_total_available_items\": 391, \"count_items_0_checkouts\": 2, \"count_items_gt_0_checkouts\": 389, \"count_curr_checked_out\": 171, \"pct_tot_curr_checked_out\": 43.73}, {\"location_code\": \"dpadt\", \"name\": \"Deer Park Television DVDs\", \"count_total_available_items\": 1209, \"count_items_0_checkouts\": 20, \"count_items_gt_0_checkouts\": 1189, \"count_curr_checked_out\": 184, \"pct_tot_curr_checked_out\": 15.22}, {\"location_code\": \"dpaf\", \"name\": \"Deer Park Fiction\", \"count_total_available_items\": 7013, \"count_items_0_checkouts\": 112, \"count_items_gt_0_checkouts\": 6901, \"count_curr_checked_out\": 1213, \"pct_tot_curr_checked_out\": 17.3}, {\"location_code\": \"dpafl\", \"name\": \"Deer Park Foreign Languages\", \"count_total_available_items\": 2, \"count_items_0_checkouts\": 0, \"count_items_gt_0_checkouts\": 2, \"count_curr_checked_out\": 1, \"pct_tot_curr_checked_out\": 50.0}, {\"location_code\": \"dpaho\", \"name\": \"Deer Park Holidays\", \"count_total_available_items\": 165, \"count_items_0_checkouts\": 0, \"count_items_gt_0_checkouts\": 165, \"count_curr_checked_out\": 9, \"pct_tot_curr_checked_out\": 5.45}, {\"location_code\": \"dpal\", \"name\": \"Deer Park Large Print\", \"count_total_available_items\": 1985, \"count_items_0_checkouts\": 2, \"count_items_gt_0_checkouts\": 1983, \"count_curr_checked_out\": 368, \"pct_tot_curr_checked_out\": 18.54}, {\"location_code\": \"dpalc\", \"name\": \"Deer Park Lucky Day Collection\", \"count_total_available_items\": 208, \"count_items_0_checkouts\": 15, \"count_items_gt_0_checkouts\": 193, \"count_curr_checked_out\": 126, \"pct_tot_curr_checked_out\": 60.58}, {\"location_code\": \"dpamg\", \"name\": \"Deer Park Adult Magazines\", \"count_total_available_items\": 1210, \"count_items_0_checkouts\": 90, \"count_items_gt_0_checkouts\": 1120, \"count_curr_checked_out\": 321, \"pct_tot_curr_checked_out\": 26.53}, {\"location_code\": \"dpanf\", \"name\": \"Deer Park Adult Nonfiction\", \"count_total_available_items\": 4440, \"count_items_0_checkouts\": 88, \"count_items_gt_0_checkouts\": 4352, \"count_curr_checked_out\": 1302, \"pct_tot_curr_checked_out\": 29.32}, {\"location_code\": \"dpapl\", \"name\": \"Deer Park Adult Playaways\", \"count_total_available_items\": 304, \"count_items_0_checkouts\": 2, \"count_items_gt_0_checkouts\": 302, \"count_curr_checked_out\": 32, \"pct_tot_curr_checked_out\": 10.53}, {\"location_code\": \"dpar\", \"name\": \"DO NOT USE\", \"count_total_available_items\": 1, \"count_items_0_checkouts\": 1, \"count_items_gt_0_checkouts\": 0, \"count_curr_checked_out\": 0, \"pct_tot_curr_checked_out\": 0.0}, {\"location_code\": \"dpard\", \"name\": \"Deer Park Adult Reference\", \"count_total_available_items\": 7, \"count_items_0_checkouts\": 2, \"count_items_gt_0_checkouts\": 5, \"count_curr_checked_out\": 1, \"pct_tot_curr_checked_out\": 14.29}, {\"location_code\": \"dpatd\", \"name\": \"Deer Park Technology Dispenser\", \"count_total_available_items\": 12, \"count_items_0_checkouts\": 0, \"count_items_gt_0_checkouts\": 12, \"count_curr_checked_out\": 0, \"pct_tot_curr_checked_out\": 0.0}, {\"location_code\": \"dpjab\", \"name\": \"Deer Park Juvenile Audiobooks\", \"count_total_available_items\": 288, \"count_items_0_checkouts\": 9, \"count_items_gt_0_checkouts\": 279, \"count_curr_checked_out\": 33, \"pct_tot_curr_checked_out\": 11.46}, {\"location_code\": \"dpjbd\", \"name\": \"Deer Park Board Books\", \"count_total_available_items\": 1141, \"count_items_0_checkouts\": 11, \"count_items_gt_0_checkouts\": 1130, \"count_curr_checked_out\": 586, \"pct_tot_curr_checked_out\": 51.36}, {\"location_code\": \"dpjbg\", \"name\": \"Deer Park Big Books\", \"count_total_available_items\": 20, \"count_items_0_checkouts\": 0, \"count_items_gt_0_checkouts\": 20, \"count_curr_checked_out\": 5, \"pct_tot_curr_checked_out\": 25.0}, {\"location_code\": \"dpjbi\", \"name\": \"Deer Park Juvenile Biographies\", \"count_total_available_items\": 800, \"count_items_0_checkouts\": 42, \"count_items_gt_0_checkouts\": 758, \"count_curr_checked_out\": 199, \"pct_tot_curr_checked_out\": 24.88}, {\"location_code\": \"dpjc\", \"name\": \"Deer Park Juvenile Compact Discs\", \"count_total_available_items\": 102, \"count_items_0_checkouts\": 0, \"count_items_gt_0_checkouts\": 102, \"count_curr_checked_out\": 31, \"pct_tot_curr_checked_out\": 30.39}, {\"location_code\": \"dpjd\", \"name\": \"Deer Park Juvenile DVDs\", \"count_total_available_items\": 635, \"count_items_0_checkouts\": 16, \"count_items_gt_0_checkouts\": 619, \"count_curr_checked_out\": 163, \"pct_tot_curr_checked_out\": 25.67}, {\"location_code\": \"dpjeb\", \"name\": \"Deer Park Easy Books\", \"count_total_available_items\": 7687, \"count_items_0_checkouts\": 193, \"count_items_gt_0_checkouts\": 7494, \"count_curr_checked_out\": 2077, \"pct_tot_curr_checked_out\": 27.02}, {\"location_code\": \"dpjec\", \"name\": \"Deer Park Concepts: ABC, Counting, Colors, etc.\", \"count_total_available_items\": 235, \"count_items_0_checkouts\": 0, \"count_items_gt_0_checkouts\": 235, \"count_curr_checked_out\": 64, \"pct_tot_curr_checked_out\": 27.23}, {\"location_code\": \"dpjer\", \"name\": \"Deer Park Easy Readers\", \"count_total_available_items\": 2146, \"count_items_0_checkouts\": 11, \"count_items_gt_0_checkouts\": 2135, \"count_curr_checked_out\": 791, \"pct_tot_curr_checked_out\": 36.86}, {\"location_code\": \"dpjf\", \"name\": \"Deer Park Juvenile Fiction\", \"count_total_available_items\": 4987, \"count_items_0_checkouts\": 25, \"count_items_gt_0_checkouts\": 4962, \"count_curr_checked_out\": 1803, \"pct_tot_curr_checked_out\": 36.15}, {\"location_code\": \"dpjfl\", \"name\": \"Deer Park Juvenile Foreign Languages\", \"count_total_available_items\": 164, \"count_items_0_checkouts\": 4, \"count_items_gt_0_checkouts\": 160, \"count_curr_checked_out\": 35, \"pct_tot_curr_checked_out\": 21.34}, {\"location_code\": \"dpjgn\", \"name\": \"Deer Park Juvenile Graphic Novels\", \"count_total_available_items\": 767, \"count_items_0_checkouts\": 5, \"count_items_gt_0_checkouts\": 762, \"count_curr_checked_out\": 535, \"pct_tot_curr_checked_out\": 69.75}, {\"location_code\": \"dpjho\", \"name\": \"Deer Park Juvenile Holidays\", \"count_total_available_items\": 1354, \"count_items_0_checkouts\": 16, \"count_items_gt_0_checkouts\": 1338, \"count_curr_checked_out\": 298, \"pct_tot_curr_checked_out\": 22.01}, {\"location_code\": \"dpjk\", \"name\": \"Deer Park Juvenile Kit\", \"count_total_available_items\": 31, \"count_items_0_checkouts\": 0, \"count_items_gt_0_checkouts\": 31, \"count_curr_checked_out\": 28, \"pct_tot_curr_checked_out\": 90.32}, {\"location_code\": \"dpjmg\", \"name\": \"Deer Park Juvenile Magazines\", \"count_total_available_items\": 165, \"count_items_0_checkouts\": 59, \"count_items_gt_0_checkouts\": 106, \"count_curr_checked_out\": 30, \"pct_tot_curr_checked_out\": 18.18}, {\"location_code\": \"dpjnf\", \"name\": \"Deer Park Juvenile Nonfiction\", \"count_total_available_items\": 4701, \"count_items_0_checkouts\": 35, \"count_items_gt_0_checkouts\": 4666, \"count_curr_checked_out\": 1519, \"pct_tot_curr_checked_out\": 32.31}, {\"location_code\": \"dpjpl\", \"name\": \"Deer Park Juvenile Playaways\", \"count_total_available_items\": 41, \"count_items_0_checkouts\": 0, \"count_items_gt_0_checkouts\": 41, \"count_curr_checked_out\": 20, \"pct_tot_curr_checked_out\": 48.78}, {\"location_code\": \"dpjpu\", \"name\": \"Deer Park Juvenile Pop-up Books\", \"count_total_available_items\": 43, \"count_items_0_checkouts\": 1, \"count_items_gt_0_checkouts\": 42, \"count_curr_checked_out\": 24, \"pct_tot_curr_checked_out\": 55.81}, {\"location_code\": \"dpjr\", \"name\": \"Deer Park Juvenile Reference\", \"count_total_available_items\": 35, \"count_items_0_checkouts\": 35, \"count_items_gt_0_checkouts\": 0, \"count_curr_checked_out\": 0, \"pct_tot_curr_checked_out\": 0.0}, {\"location_code\": \"dpjse\", \"name\": \"Deer Park Juvenile Seasonal\", \"count_total_available_items\": 371, \"count_items_0_checkouts\": 1, \"count_items_gt_0_checkouts\": 370, \"count_curr_checked_out\": 82, \"pct_tot_curr_checked_out\": 22.1}, {\"location_code\": \"dpjwb\", \"name\": \"Deer Park Juvenile Readalong Book\", \"count_total_available_items\": 232, \"count_items_0_checkouts\": 12, \"count_items_gt_0_checkouts\": 220, \"count_curr_checked_out\": 182, \"pct_tot_curr_checked_out\": 78.45}, {\"location_code\": \"dptab\", \"name\": \"Deer Park Teen Audiobooks\", \"count_total_available_items\": 48, \"count_items_0_checkouts\": 2, \"count_items_gt_0_checkouts\": 46, \"count_curr_checked_out\": 1, \"pct_tot_curr_checked_out\": 2.08}, {\"location_code\": \"dptf\", \"name\": \"Deer Park Teen Fiction\", \"count_total_available_items\": 1611, \"count_items_0_checkouts\": 102, \"count_items_gt_0_checkouts\": 1509, \"count_curr_checked_out\": 361, \"pct_tot_curr_checked_out\": 22.41}, {\"location_code\": \"dptgn\", \"name\": \"Deer Park Teen Graphic Novels\", \"count_total_available_items\": 1089, \"count_items_0_checkouts\": 82, \"count_items_gt_0_checkouts\": 1007, \"count_curr_checked_out\": 139, \"pct_tot_curr_checked_out\": 12.76}, {\"location_code\": \"dptmg\", \"name\": \"Deer Park Teen Magazines\", \"count_total_available_items\": 87, \"count_items_0_checkouts\": 45, \"count_items_gt_0_checkouts\": 42, \"count_curr_checked_out\": 5, \"pct_tot_curr_checked_out\": 5.75}, {\"location_code\": \"dptnf\", \"name\": \"Deer Park Teen Nonfiction\", \"count_total_available_items\": 293, \"count_items_0_checkouts\": 44, \"count_items_gt_0_checkouts\": 249, \"count_curr_checked_out\": 50, \"pct_tot_curr_checked_out\": 17.06}, {\"location_code\": \"dptoo\", \"name\": \"Deer Park On Order Teen\", \"count_total_available_items\": 1, \"count_items_0_checkouts\": 1, \"count_items_gt_0_checkouts\": 0, \"count_curr_checked_out\": 0, \"pct_tot_curr_checked_out\": 0.0}, {\"location_code\": \"dptpl\", \"name\": \"Deer Park Teen Playaways\", \"count_total_available_items\": 13, \"count_items_0_checkouts\": 0, \"count_items_gt_0_checkouts\": 13, \"count_curr_checked_out\": 3, \"pct_tot_curr_checked_out\": 23.08}]}}, {\"mode\": \"vega-lite\"});\n",
              "</script>"
            ],
            "text/plain": [
              "alt.Chart(...)"
            ]
          },
          "metadata": {},
          "execution_count": 25
        }
      ]
    }
  ]
}