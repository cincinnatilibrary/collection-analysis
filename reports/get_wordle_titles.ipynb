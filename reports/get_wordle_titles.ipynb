{
  "nbformat": 4,
  "nbformat_minor": 5,
  "metadata": {
    "kernelspec": {
      "display_name": "Python 3",
      "language": "python",
      "name": "python3"
    },
    "language_info": {
      "codemirror_mode": {
        "name": "ipython",
        "version": 3
      },
      "file_extension": ".py",
      "mimetype": "text/x-python",
      "name": "python",
      "nbconvert_exporter": "python",
      "pygments_lexer": "ipython3",
      "version": "3.9.5"
    },
    "colab": {
      "name": "get_wordle_titles.ipynb",
      "provenance": [],
      "collapsed_sections": [],
      "include_colab_link": true
    }
  },
  "cells": [
    {
      "cell_type": "markdown",
      "metadata": {
        "id": "view-in-github",
        "colab_type": "text"
      },
      "source": [
        "<a href=\"https://colab.research.google.com/github/cincinnatilibrary/collection-analysis/blob/master/reports/get_wordle_titles.ipynb\" target=\"_parent\"><img src=\"https://colab.research.google.com/assets/colab-badge.svg\" alt=\"Open In Colab\"/></a>"
      ]
    },
    {
      "cell_type": "markdown",
      "metadata": {
        "id": "hjPkK4J4oFGz"
      },
      "source": [
        "# CHPL - Collection Analysis - **get some titles by wordle word**\n",
        "<img src=\"https://ilsweb.cincinnatilibrary.org/img/CHPL_Brandmark_Primary.png\" alt=\"CHPL\" title=\"CHPL\" width=\"300\"/>\n",
        "\n",
        "This is what can feed a twitter, \"tweet a random title\" feed\n",
        "\n",
        "Data sources / Documentation:\n",
        "\n",
        "* https://ilsweb.cincinnatilibrary.org/collection-analysis/"
      ],
      "id": "hjPkK4J4oFGz"
    },
    {
      "cell_type": "code",
      "metadata": {
        "id": "5c5b883e"
      },
      "source": [
        "import requests\n",
        "import json\n",
        "from uuid import uuid4\n",
        "from time import sleep\n",
        "from IPython.display import Image\n",
        "import imghdr\n",
        "from IPython.display import Image"
      ],
      "id": "5c5b883e",
      "execution_count": 5,
      "outputs": []
    },
    {
      "cell_type": "code",
      "metadata": {
        "id": "7fc54487"
      },
      "source": [
        "chpl_collection_url = 'https://ilsweb.cincinnatilibrary.org/collection-analysis/current_collection'"
      ],
      "id": "7fc54487",
      "execution_count": 6,
      "outputs": []
    },
    {
      "cell_type": "code",
      "source": [
        "wordle_word = 'whack'"
      ],
      "metadata": {
        "id": "vouqEzqlkTB_"
      },
      "id": "vouqEzqlkTB_",
      "execution_count": 9,
      "outputs": []
    },
    {
      "cell_type": "code",
      "metadata": {
        "colab": {
          "base_uri": "https://localhost:8080/"
        },
        "id": "221f4dc6",
        "outputId": "9ea4418d-d015-4899-9ae8-14d5a54d7dcb"
      },
      "source": [
        "sql = \"\"\"\\\n",
        "with match_data as (\n",
        "  select\n",
        "    rowid\n",
        "  from\n",
        "    bib_fts\n",
        "  where\n",
        "    bib_fts.best_title match escape_fts(:search)\n",
        "  order by\n",
        "    bm25(bib_fts) \n",
        "    -- random()\n",
        ")\n",
        "select\n",
        "  bib.*,\n",
        "  sum(item.checkout_total) as sum_item_checkouts,\n",
        "  min(item.item_format)\n",
        "from\n",
        "  match_data\n",
        "  join bib on bib.rowid = match_data.rowid\n",
        "  join item on item.bib_record_num = bib.bib_record_num\n",
        "group by\n",
        "  1,\n",
        "  2\n",
        "having\n",
        "  min(item.item_format) in (\n",
        "    'Book',\n",
        "    'Juvenile Book',\n",
        "    'Reference Book',\n",
        "    'DVD/Videocassette',\n",
        "    'Magazine',\n",
        "    'Music on CD',\n",
        "    'Teen Book',\n",
        "    'Large Print Book',\n",
        "    'Downloadable Book'\n",
        "  )\n",
        "order by\n",
        "  -- sum(item.checkout_total) DESC\n",
        "  match_data.rowid\n",
        "limit\n",
        "  5\n",
        "\"\"\"\n",
        "\n",
        "# Note: the random search may not return a value, so loop up to 100 times\n",
        "# Note: we're sending a guid so that we can make sure the query is not being cached\n",
        "count = 100\n",
        "while count:\n",
        "  count -= 1\n",
        "  # print('.', end='')\n",
        "\n",
        "  try:\n",
        "      r = requests.get(\n",
        "          chpl_collection_url + '.json',\n",
        "          params={\n",
        "              'sql': sql,\n",
        "              '_shape': 'array',\n",
        "              # 'guid': str(uuid4()),\n",
        "              'search': wordle_word\n",
        "          }\n",
        "      )\n",
        "      if len(r.json()) > 0:\n",
        "        break\n",
        "      \n",
        "      df = pd.read_json(r.text)\n",
        "      \n",
        "  except:\n",
        "      pass\n",
        "\n",
        "  sleep(1)\n",
        "\n",
        "for title in r.json():\n",
        "  print(title['best_title'], '—', title['best_author'], '\\n', 'https://cincinnatilibrary.bibliocommons.com/v2/record/S170C', title['bib_record_num'], sep='')\n",
        "\n",
        "# print(\n",
        "#     \"\\n\",\n",
        "#     json.dumps(r.json(), indent=2),\n",
        "#     sep=\"\"\n",
        "# )"
      ],
      "id": "221f4dc6",
      "execution_count": 10,
      "outputs": [
        {
          "output_type": "stream",
          "name": "stdout",
          "text": [
            "11 tracks of whack [sound recording]—Becker, Walter, 1950-\n",
            "https://cincinnatilibrary.bibliocommons.com/v2/record/S170C1540481\n",
            "Whack your porcupine, and other drawings—Kliban, B.\n",
            "https://cincinnatilibrary.bibliocommons.com/v2/record/S170C1538818\n",
            "A whack on the side of the head : how to unlock your mind for innovation—Von Oech, Roger.\n",
            "https://cincinnatilibrary.bibliocommons.com/v2/record/S170C2024094\n",
            "Knick knack paddy whack—Engel, Christiane (Illustrator)\n",
            "https://cincinnatilibrary.bibliocommons.com/v2/record/S170C2590022\n",
            "Knick knack paddy whack : a novel—O'Hanlon, Ardal.\n",
            "https://cincinnatilibrary.bibliocommons.com/v2/record/S170C1996993\n"
          ]
        }
      ]
    }
  ]
}