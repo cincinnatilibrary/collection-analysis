{
  "nbformat": 4,
  "nbformat_minor": 5,
  "metadata": {
    "kernelspec": {
      "display_name": "Python 3",
      "language": "python",
      "name": "python3"
    },
    "language_info": {
      "codemirror_mode": {
        "name": "ipython",
        "version": 3
      },
      "file_extension": ".py",
      "mimetype": "text/x-python",
      "name": "python",
      "nbconvert_exporter": "python",
      "pygments_lexer": "ipython3",
      "version": "3.9.5"
    },
    "colab": {
      "name": "items and publication date aggregations.ipynb",
      "provenance": [],
      "collapsed_sections": [],
      "include_colab_link": true
    },
    "widgets": {
      "application/vnd.jupyter.widget-state+json": {
        "8ffe92bde9a449db818590abe40f44d9": {
          "model_module": "@jupyter-widgets/output",
          "model_name": "OutputModel",
          "model_module_version": "1.0.0",
          "state": {
            "_view_name": "OutputView",
            "msg_id": "",
            "_dom_classes": [],
            "_model_name": "OutputModel",
            "outputs": [
              {
                "output_type": "display_data",
                "data": {
                  "text/html": "<pre style=\"white-space:pre;overflow-x:auto;line-height:normal;font-family:Menlo,'DejaVu Sans Mono',consolas,'Courier New',monospace\">Processing the above query... <span style=\"color: #729c1f; text-decoration-color: #729c1f\">━━━━━━━━━━━━━━━━━━━━━━━━━━━━━━━━━━━━━━━━</span> <span style=\"color: #800080; text-decoration-color: #800080\">100%</span> <span style=\"color: #008080; text-decoration-color: #008080\">0:00:00</span>\n</pre>\n",
                  "text/plain": "Processing the above query... \u001b[38;2;114;156;31m━━━━━━━━━━━━━━━━━━━━━━━━━━━━━━━━━━━━━━━━\u001b[0m \u001b[35m100%\u001b[0m \u001b[36m0:00:00\u001b[0m\n"
                },
                "metadata": {}
              }
            ],
            "_view_module": "@jupyter-widgets/output",
            "_model_module_version": "1.0.0",
            "_view_count": null,
            "_view_module_version": "1.0.0",
            "layout": "IPY_MODEL_25918c41fde24eb8b81bea05b1f2f550",
            "_model_module": "@jupyter-widgets/output"
          }
        },
        "25918c41fde24eb8b81bea05b1f2f550": {
          "model_module": "@jupyter-widgets/base",
          "model_name": "LayoutModel",
          "model_module_version": "1.2.0",
          "state": {
            "_view_name": "LayoutView",
            "grid_template_rows": null,
            "right": null,
            "justify_content": null,
            "_view_module": "@jupyter-widgets/base",
            "overflow": null,
            "_model_module_version": "1.2.0",
            "_view_count": null,
            "flex_flow": null,
            "width": null,
            "min_width": null,
            "border": null,
            "align_items": null,
            "bottom": null,
            "_model_module": "@jupyter-widgets/base",
            "top": null,
            "grid_column": null,
            "overflow_y": null,
            "overflow_x": null,
            "grid_auto_flow": null,
            "grid_area": null,
            "grid_template_columns": null,
            "flex": null,
            "_model_name": "LayoutModel",
            "justify_items": null,
            "grid_row": null,
            "max_height": null,
            "align_content": null,
            "visibility": null,
            "align_self": null,
            "height": null,
            "min_height": null,
            "padding": null,
            "grid_auto_rows": null,
            "grid_gap": null,
            "max_width": null,
            "order": null,
            "_view_module_version": "1.2.0",
            "grid_template_areas": null,
            "object_position": null,
            "object_fit": null,
            "grid_auto_columns": null,
            "margin": null,
            "display": null,
            "left": null
          }
        }
      }
    }
  },
  "cells": [
    {
      "cell_type": "markdown",
      "metadata": {
        "id": "view-in-github",
        "colab_type": "text"
      },
      "source": [
        "<a href=\"https://colab.research.google.com/github/cincinnatilibrary/collection-analysis/blob/master/reports/items_and_publication_date_aggregations.ipynb\" target=\"_parent\"><img src=\"https://colab.research.google.com/assets/colab-badge.svg\" alt=\"Open In Colab\"/></a>"
      ]
    },
    {
      "cell_type": "markdown",
      "metadata": {
        "id": "hjPkK4J4oFGz"
      },
      "source": [
        "# CHPL - Collection Analysis - **Items -- Publication Dates & Circulation**\n",
        "\n",
        "<img src=\"https://ilsweb.cincinnatilibrary.org/img/CHPL_Brandmark_Primary.png\" alt=\"CHPL\" title=\"CHPL\" width=\"300\"/>\n",
        "\n",
        "Show item counts from the past 5 decades by item type and faceted by decade, and then by the last 5 years\n",
        "\n",
        "Data sources\n",
        "\n",
        "* https://collection-analysis.cincy.pl/"
      ],
      "id": "hjPkK4J4oFGz"
    },
    {
      "cell_type": "code",
      "source": [
        "#@title\n",
        "!pip install rich"
      ],
      "metadata": {
        "cellView": "form",
        "collapsed": true,
        "id": "TmVZFGXTb4Vx",
        "outputId": "69da4e37-08eb-4b2e-e2b0-c2f023c818e9",
        "colab": {
          "base_uri": "https://localhost:8080/"
        }
      },
      "id": "TmVZFGXTb4Vx",
      "execution_count": 1,
      "outputs": [
        {
          "output_type": "stream",
          "name": "stdout",
          "text": [
            "Requirement already satisfied: rich in /usr/local/lib/python3.7/dist-packages (11.2.0)\n",
            "Requirement already satisfied: colorama<0.5.0,>=0.4.0 in /usr/local/lib/python3.7/dist-packages (from rich) (0.4.4)\n",
            "Requirement already satisfied: pygments<3.0.0,>=2.6.0 in /usr/local/lib/python3.7/dist-packages (from rich) (2.6.1)\n",
            "Requirement already satisfied: typing-extensions<5.0,>=3.7.4 in /usr/local/lib/python3.7/dist-packages (from rich) (3.10.0.2)\n",
            "Requirement already satisfied: commonmark<0.10.0,>=0.9.0 in /usr/local/lib/python3.7/dist-packages (from rich) (0.9.1)\n"
          ]
        }
      ]
    },
    {
      "cell_type": "code",
      "metadata": {
        "id": "5c5b883e",
        "cellView": "form"
      },
      "source": [
        "#@title\n",
        "import pandas as pd\n",
        "import numpy as np\n",
        "import altair as alt\n",
        "\n",
        "# if we want to save output as .png use this\n",
        "# NOTE: use !pip install -U altair_saver above to download / install first\n",
        "# from altair_saver import save\n",
        "from urllib.parse import urlencode\n",
        "\n",
        "import requests\n",
        "from requests.adapters import HTTPAdapter, Retry\n",
        "\n",
        "from time import sleep\n",
        "\n",
        "# from rich import print\n",
        "from rich.jupyter import print\n",
        "\n",
        "base_url = 'https://collection-analysis.cincy.pl/current_collection'\n",
        "\n",
        "# this will allow us to try multiple times to make a request\n",
        "s = requests.Session()\n",
        "retries = Retry(\n",
        "    total=5,\n",
        "    backoff_factor=1,\n",
        "    status_forcelist=[502, 503, 504]\n",
        ")\n",
        "\n",
        "s.mount('https://', HTTPAdapter(max_retries=retries))"
      ],
      "id": "5c5b883e",
      "execution_count": 69,
      "outputs": []
    },
    {
      "cell_type": "code",
      "source": [
        "#@title\n",
        "sql = \"\"\"\\\n",
        "-- group titles (bib records) by the decade in which they were published\n",
        "select\n",
        "  cast(round(publish_year / 10, 1) * 10 as integer) AS decade,\n",
        "  case\n",
        "    when item.item_format = 'New Release DVDs' then 'DVD/Videocassette'\n",
        "    else item.item_format\n",
        "  end as item_format,\n",
        "  count(*) AS count_items\n",
        "from\n",
        "  bib\n",
        "  join item on item.bib_record_num = bib.bib_record_num\n",
        "where\n",
        "  bib.publish_year >= 1980\n",
        "  and bib.publish_year <= 2022\n",
        "  and item_format in (\n",
        "    'Book',\n",
        "    'Juvenile Book',\n",
        "    'Reference Book',\n",
        "    'DVD/Videocassette',\n",
        "    'Music on CD',\n",
        "    'Teen Book',\n",
        "    'Magazine',\n",
        "    'Large Print Book',\n",
        "    'Microfilm',\n",
        "    'Rare Book',\n",
        "    'Book on CD',\n",
        "    'Microfiche',\n",
        "    'Music Score',\n",
        "    'Reference Juvenile Book',\n",
        "    'LP Record',\n",
        "    'New Release DVDs',\n",
        "    'Juvenile Magazine',\n",
        "    'Reference Magazine',\n",
        "    'Juvenile Book on CD',\n",
        "    'Leased Book'\n",
        "  )\n",
        "group by\n",
        "  1,\n",
        "  2\n",
        "order by\n",
        "  1,2\n",
        "\"\"\"\n",
        "\n",
        "df = pd.read_json(\n",
        "    requests.get(\n",
        "      url=base_url + '.json',\n",
        "      params={\n",
        "        'sql': sql,\n",
        "        '_shape': 'array'\n",
        "      }\n",
        "    ).content\n",
        ")\n",
        "\n",
        "# df.head()"
      ],
      "metadata": {
        "id": "4lL9J9g-V0Pw",
        "cellView": "form"
      },
      "id": "4lL9J9g-V0Pw",
      "execution_count": null,
      "outputs": []
    },
    {
      "cell_type": "code",
      "source": [
        "#@title\n",
        "print('Click the link below to view the raw data:', base_url + '?' + urlencode({'sql':sql}), sep='\\n')"
      ],
      "metadata": {
        "id": "kWaCu1qqxjDo",
        "outputId": "19333c4b-e599-4868-a4e4-7001058d2e9d",
        "colab": {
          "base_uri": "https://localhost:8080/"
        },
        "cellView": "form"
      },
      "id": "kWaCu1qqxjDo",
      "execution_count": null,
      "outputs": [
        {
          "output_type": "stream",
          "name": "stdout",
          "text": [
            "Click the link below to view the raw data:\n",
            "https://collection-analysis.cincy.pl/current_collection?sql=--+group+titles+%28bib+records%29+by+the+decade+in+which+they+were+published%0Aselect%0A++cast%28round%28publish_year+%2F+10%2C+1%29+%2A+10+as+integer%29+AS+decade%2C%0A++case%0A++++when+item.item_format+%3D+%27New+Release+DVDs%27+then+%27DVD%2FVideocassette%27%0A++++else+item.item_format%0A++end+as+item_format%2C%0A++count%28%2A%29+AS+count_items%0Afrom%0A++bib%0A++join+item+on+item.bib_record_num+%3D+bib.bib_record_num%0Awhere%0A++bib.publish_year+%3E%3D+1980%0A++and+bib.publish_year+%3C%3D+2022%0A++and+item_format+in+%28%0A++++%27Book%27%2C%0A++++%27Juvenile+Book%27%2C%0A++++%27Reference+Book%27%2C%0A++++%27DVD%2FVideocassette%27%2C%0A++++%27Music+on+CD%27%2C%0A++++%27Teen+Book%27%2C%0A++++%27Magazine%27%2C%0A++++%27Large+Print+Book%27%2C%0A++++%27Microfilm%27%2C%0A++++%27Rare+Book%27%2C%0A++++%27Book+on+CD%27%2C%0A++++%27Microfiche%27%2C%0A++++%27Music+Score%27%2C%0A++++%27Reference+Juvenile+Book%27%2C%0A++++%27LP+Record%27%2C%0A++++%27New+Release+DVDs%27%2C%0A++++%27Juvenile+Magazine%27%2C%0A++++%27Reference+Magazine%27%2C%0A++++%27Juvenile+Book+on+CD%27%2C%0A++++%27Leased+Book%27%0A++%29%0Agroup+by%0A++1%2C%0A++2%0Aorder+by%0A++1%2C2%0A\n"
          ]
        }
      ]
    },
    {
      "cell_type": "code",
      "source": [
        "#@title\n",
        "chart = alt.Chart(df).mark_bar().encode(\n",
        "    # x='end_date:T',\n",
        "    x=alt.X(\n",
        "        'item_format',\n",
        "        axis=alt.Axis(title='item format', labelAngle=-70),\n",
        "        # sort='-y'\n",
        "    ),\n",
        "    y=alt.Y(\n",
        "        'count_items:Q',\n",
        "        title = 'count total items',\n",
        "        # scale = alt.Scale(domain=[0,100]),\n",
        "    ),\n",
        "    color=alt.Color(\n",
        "        'item_format',\n",
        "        # legend=None\n",
        "    ),\n",
        "    tooltip=['decade', 'item_format', 'count_items']\n",
        ").properties(\n",
        "    title=\"\",\n",
        "    # .format(df.iloc[0]['branch_name']),\n",
        "    width=270,\n",
        ").facet(\n",
        "    facet='decade',\n",
        "    columns=5\n",
        ")\n",
        "\n",
        "chart.display()"
      ],
      "metadata": {
        "cellView": "form",
        "id": "Y9JpM16TVAv7",
        "outputId": "043c092d-0c3d-4036-9c29-f4e968e190d6",
        "colab": {
          "base_uri": "https://localhost:8080/",
          "height": 512
        }
      },
      "id": "Y9JpM16TVAv7",
      "execution_count": null,
      "outputs": [
        {
          "output_type": "display_data",
          "data": {
            "text/plain": [
              "alt.FacetChart(...)"
            ],
            "text/html": [
              "\n",
              "<div id=\"altair-viz-6215ffcb4d7b44578b683ce9ea8625c1\"></div>\n",
              "<script type=\"text/javascript\">\n",
              "  var VEGA_DEBUG = (typeof VEGA_DEBUG == \"undefined\") ? {} : VEGA_DEBUG;\n",
              "  (function(spec, embedOpt){\n",
              "    let outputDiv = document.currentScript.previousElementSibling;\n",
              "    if (outputDiv.id !== \"altair-viz-6215ffcb4d7b44578b683ce9ea8625c1\") {\n",
              "      outputDiv = document.getElementById(\"altair-viz-6215ffcb4d7b44578b683ce9ea8625c1\");\n",
              "    }\n",
              "    const paths = {\n",
              "      \"vega\": \"https://cdn.jsdelivr.net/npm//vega@5?noext\",\n",
              "      \"vega-lib\": \"https://cdn.jsdelivr.net/npm//vega-lib?noext\",\n",
              "      \"vega-lite\": \"https://cdn.jsdelivr.net/npm//vega-lite@4.17.0?noext\",\n",
              "      \"vega-embed\": \"https://cdn.jsdelivr.net/npm//vega-embed@6?noext\",\n",
              "    };\n",
              "\n",
              "    function maybeLoadScript(lib, version) {\n",
              "      var key = `${lib.replace(\"-\", \"\")}_version`;\n",
              "      return (VEGA_DEBUG[key] == version) ?\n",
              "        Promise.resolve(paths[lib]) :\n",
              "        new Promise(function(resolve, reject) {\n",
              "          var s = document.createElement('script');\n",
              "          document.getElementsByTagName(\"head\")[0].appendChild(s);\n",
              "          s.async = true;\n",
              "          s.onload = () => {\n",
              "            VEGA_DEBUG[key] = version;\n",
              "            return resolve(paths[lib]);\n",
              "          };\n",
              "          s.onerror = () => reject(`Error loading script: ${paths[lib]}`);\n",
              "          s.src = paths[lib];\n",
              "        });\n",
              "    }\n",
              "\n",
              "    function showError(err) {\n",
              "      outputDiv.innerHTML = `<div class=\"error\" style=\"color:red;\">${err}</div>`;\n",
              "      throw err;\n",
              "    }\n",
              "\n",
              "    function displayChart(vegaEmbed) {\n",
              "      vegaEmbed(outputDiv, spec, embedOpt)\n",
              "        .catch(err => showError(`Javascript Error: ${err.message}<br>This usually means there's a typo in your chart specification. See the javascript console for the full traceback.`));\n",
              "    }\n",
              "\n",
              "    if(typeof define === \"function\" && define.amd) {\n",
              "      requirejs.config({paths});\n",
              "      require([\"vega-embed\"], displayChart, err => showError(`Error loading script: ${err.message}`));\n",
              "    } else {\n",
              "      maybeLoadScript(\"vega\", \"5\")\n",
              "        .then(() => maybeLoadScript(\"vega-lite\", \"4.17.0\"))\n",
              "        .then(() => maybeLoadScript(\"vega-embed\", \"6\"))\n",
              "        .catch(showError)\n",
              "        .then(() => displayChart(vegaEmbed));\n",
              "    }\n",
              "  })({\"config\": {\"view\": {\"continuousWidth\": 400, \"continuousHeight\": 300}}, \"data\": {\"name\": \"data-00430cbfd0b6591dded7fa6fc9a4467f\"}, \"facet\": {\"field\": \"decade\", \"type\": \"quantitative\"}, \"spec\": {\"mark\": \"bar\", \"encoding\": {\"color\": {\"field\": \"item_format\", \"type\": \"nominal\"}, \"tooltip\": [{\"field\": \"decade\", \"type\": \"quantitative\"}, {\"field\": \"item_format\", \"type\": \"nominal\"}, {\"field\": \"count_items\", \"type\": \"quantitative\"}], \"x\": {\"axis\": {\"labelAngle\": -70, \"title\": \"item format\"}, \"field\": \"item_format\", \"type\": \"nominal\"}, \"y\": {\"field\": \"count_items\", \"title\": \"count total items\", \"type\": \"quantitative\"}}, \"title\": \"\", \"width\": 270}, \"columns\": 5, \"$schema\": \"https://vega.github.io/schema/vega-lite/v4.17.0.json\", \"datasets\": {\"data-00430cbfd0b6591dded7fa6fc9a4467f\": [{\"decade\": 1980, \"item_format\": \"Book\", \"count_items\": 190100}, {\"decade\": 1980, \"item_format\": \"Book on CD\", \"count_items\": 214}, {\"decade\": 1980, \"item_format\": \"DVD/Videocassette\", \"count_items\": 57}, {\"decade\": 1980, \"item_format\": \"Juvenile Book\", \"count_items\": 48122}, {\"decade\": 1980, \"item_format\": \"Juvenile Book on CD\", \"count_items\": 154}, {\"decade\": 1980, \"item_format\": \"Juvenile Magazine\", \"count_items\": 2876}, {\"decade\": 1980, \"item_format\": \"LP Record\", \"count_items\": 4669}, {\"decade\": 1980, \"item_format\": \"Large Print Book\", \"count_items\": 8350}, {\"decade\": 1980, \"item_format\": \"Magazine\", \"count_items\": 16189}, {\"decade\": 1980, \"item_format\": \"Microfiche\", \"count_items\": 2134}, {\"decade\": 1980, \"item_format\": \"Microfilm\", \"count_items\": 7088}, {\"decade\": 1980, \"item_format\": \"Music Score\", \"count_items\": 2274}, {\"decade\": 1980, \"item_format\": \"Music on CD\", \"count_items\": 10811}, {\"decade\": 1980, \"item_format\": \"Rare Book\", \"count_items\": 1581}, {\"decade\": 1980, \"item_format\": \"Reference Book\", \"count_items\": 97222}, {\"decade\": 1980, \"item_format\": \"Reference Juvenile Book\", \"count_items\": 2230}, {\"decade\": 1980, \"item_format\": \"Reference Magazine\", \"count_items\": 1884}, {\"decade\": 1980, \"item_format\": \"Teen Book\", \"count_items\": 2105}, {\"decade\": 1990, \"item_format\": \"Book\", \"count_items\": 226693}, {\"decade\": 1990, \"item_format\": \"Book on CD\", \"count_items\": 1572}, {\"decade\": 1990, \"item_format\": \"DVD/Videocassette\", \"count_items\": 8270}, {\"decade\": 1990, \"item_format\": \"Juvenile Book\", \"count_items\": 139201}, {\"decade\": 1990, \"item_format\": \"Juvenile Book on CD\", \"count_items\": 1199}, {\"decade\": 1990, \"item_format\": \"Juvenile Magazine\", \"count_items\": 2773}, {\"decade\": 1990, \"item_format\": \"LP Record\", \"count_items\": 52}, {\"decade\": 1990, \"item_format\": \"Large Print Book\", \"count_items\": 12801}, {\"decade\": 1990, \"item_format\": \"Magazine\", \"count_items\": 22412}, {\"decade\": 1990, \"item_format\": \"Microfiche\", \"count_items\": 633}, {\"decade\": 1990, \"item_format\": \"Microfilm\", \"count_items\": 8629}, {\"decade\": 1990, \"item_format\": \"Music Score\", \"count_items\": 3521}, {\"decade\": 1990, \"item_format\": \"Music on CD\", \"count_items\": 31309}, {\"decade\": 1990, \"item_format\": \"Rare Book\", \"count_items\": 1437}, {\"decade\": 1990, \"item_format\": \"Reference Book\", \"count_items\": 69581}, {\"decade\": 1990, \"item_format\": \"Reference Juvenile Book\", \"count_items\": 5075}, {\"decade\": 1990, \"item_format\": \"Reference Magazine\", \"count_items\": 988}, {\"decade\": 1990, \"item_format\": \"Teen Book\", \"count_items\": 6933}, {\"decade\": 2000, \"item_format\": \"Book\", \"count_items\": 242974}, {\"decade\": 2000, \"item_format\": \"Book on CD\", \"count_items\": 15310}, {\"decade\": 2000, \"item_format\": \"DVD/Videocassette\", \"count_items\": 101122}, {\"decade\": 2000, \"item_format\": \"Juvenile Book\", \"count_items\": 264534}, {\"decade\": 2000, \"item_format\": \"Juvenile Book on CD\", \"count_items\": 6136}, {\"decade\": 2000, \"item_format\": \"Juvenile Magazine\", \"count_items\": 4136}, {\"decade\": 2000, \"item_format\": \"LP Record\", \"count_items\": 15}, {\"decade\": 2000, \"item_format\": \"Large Print Book\", \"count_items\": 19530}, {\"decade\": 2000, \"item_format\": \"Magazine\", \"count_items\": 24680}, {\"decade\": 2000, \"item_format\": \"Microfiche\", \"count_items\": 63}, {\"decade\": 2000, \"item_format\": \"Microfilm\", \"count_items\": 20}, {\"decade\": 2000, \"item_format\": \"Music Score\", \"count_items\": 1747}, {\"decade\": 2000, \"item_format\": \"Music on CD\", \"count_items\": 40579}, {\"decade\": 2000, \"item_format\": \"Rare Book\", \"count_items\": 602}, {\"decade\": 2000, \"item_format\": \"Reference Book\", \"count_items\": 22254}, {\"decade\": 2000, \"item_format\": \"Reference Juvenile Book\", \"count_items\": 4965}, {\"decade\": 2000, \"item_format\": \"Reference Magazine\", \"count_items\": 420}, {\"decade\": 2000, \"item_format\": \"Teen Book\", \"count_items\": 26709}, {\"decade\": 2010, \"item_format\": \"Book\", \"count_items\": 561471}, {\"decade\": 2010, \"item_format\": \"Book on CD\", \"count_items\": 30465}, {\"decade\": 2010, \"item_format\": \"DVD/Videocassette\", \"count_items\": 286482}, {\"decade\": 2010, \"item_format\": \"Juvenile Book\", \"count_items\": 677462}, {\"decade\": 2010, \"item_format\": \"Juvenile Book on CD\", \"count_items\": 5252}, {\"decade\": 2010, \"item_format\": \"Juvenile Magazine\", \"count_items\": 3634}, {\"decade\": 2010, \"item_format\": \"LP Record\", \"count_items\": 492}, {\"decade\": 2010, \"item_format\": \"Large Print Book\", \"count_items\": 66343}, {\"decade\": 2010, \"item_format\": \"Leased Book\", \"count_items\": 564}, {\"decade\": 2010, \"item_format\": \"Magazine\", \"count_items\": 7900}, {\"decade\": 2010, \"item_format\": \"Microfiche\", \"count_items\": 2}, {\"decade\": 2010, \"item_format\": \"Microfilm\", \"count_items\": 6}, {\"decade\": 2010, \"item_format\": \"Music Score\", \"count_items\": 953}, {\"decade\": 2010, \"item_format\": \"Music on CD\", \"count_items\": 74624}, {\"decade\": 2010, \"item_format\": \"Rare Book\", \"count_items\": 333}, {\"decade\": 2010, \"item_format\": \"Reference Book\", \"count_items\": 5265}, {\"decade\": 2010, \"item_format\": \"Reference Juvenile Book\", \"count_items\": 4167}, {\"decade\": 2010, \"item_format\": \"Reference Magazine\", \"count_items\": 25}, {\"decade\": 2010, \"item_format\": \"Teen Book\", \"count_items\": 100578}, {\"decade\": 2020, \"item_format\": \"Book\", \"count_items\": 179090}, {\"decade\": 2020, \"item_format\": \"Book on CD\", \"count_items\": 5011}, {\"decade\": 2020, \"item_format\": \"DVD/Videocassette\", \"count_items\": 51459}, {\"decade\": 2020, \"item_format\": \"Juvenile Book\", \"count_items\": 171630}, {\"decade\": 2020, \"item_format\": \"Juvenile Book on CD\", \"count_items\": 277}, {\"decade\": 2020, \"item_format\": \"Juvenile Magazine\", \"count_items\": 101}, {\"decade\": 2020, \"item_format\": \"LP Record\", \"count_items\": 185}, {\"decade\": 2020, \"item_format\": \"Large Print Book\", \"count_items\": 15671}, {\"decade\": 2020, \"item_format\": \"Leased Book\", \"count_items\": 10837}, {\"decade\": 2020, \"item_format\": \"Magazine\", \"count_items\": 277}, {\"decade\": 2020, \"item_format\": \"Music Score\", \"count_items\": 67}, {\"decade\": 2020, \"item_format\": \"Music on CD\", \"count_items\": 9813}, {\"decade\": 2020, \"item_format\": \"Rare Book\", \"count_items\": 50}, {\"decade\": 2020, \"item_format\": \"Reference Book\", \"count_items\": 349}, {\"decade\": 2020, \"item_format\": \"Reference Juvenile Book\", \"count_items\": 1074}, {\"decade\": 2020, \"item_format\": \"Reference Magazine\", \"count_items\": 104}, {\"decade\": 2020, \"item_format\": \"Teen Book\", \"count_items\": 22711}]}}, {\"mode\": \"vega-lite\"});\n",
              "</script>"
            ]
          },
          "metadata": {}
        }
      ]
    },
    {
      "cell_type": "code",
      "source": [
        "#@title\n",
        "sql = \"\"\"\\\n",
        "select\n",
        "  publish_year,\n",
        "  case\n",
        "    when item.item_format = 'New Release DVDs' then 'DVD/Videocassette'\n",
        "    else item.item_format\n",
        "  end as item_format,\n",
        "  count(*) AS count_items\n",
        "from\n",
        "  bib\n",
        "  join item on item.bib_record_num = bib.bib_record_num\n",
        "where\n",
        "  bib.publish_year >= 2018\n",
        "  and bib.publish_year <= 2022\n",
        "  and item_format in (\n",
        "    'Book',\n",
        "    'Juvenile Book',\n",
        "    'Reference Book',\n",
        "    'DVD/Videocassette',\n",
        "    'Music on CD',\n",
        "    'Teen Book',\n",
        "    'Magazine',\n",
        "    'Large Print Book',\n",
        "    'Microfilm',\n",
        "    'Rare Book',\n",
        "    'Book on CD',\n",
        "    'Microfiche',\n",
        "    'Music Score',\n",
        "    'Reference Juvenile Book',\n",
        "    'LP Record',\n",
        "    'New Release DVDs',\n",
        "    'Juvenile Magazine',\n",
        "    'Reference Magazine',\n",
        "    'Juvenile Book on CD',\n",
        "    'Leased Book'\n",
        "  )\n",
        "group by\n",
        "  1,\n",
        "  2\n",
        "order by\n",
        "  1,2\n",
        "\"\"\"\n",
        "\n",
        "df = pd.read_json(\n",
        "    requests.get(\n",
        "      url=base_url + '.json',\n",
        "      params={\n",
        "        'sql': sql,\n",
        "        '_shape': 'array'\n",
        "      }\n",
        "    ).content\n",
        ")\n",
        "\n",
        "# df.head()"
      ],
      "metadata": {
        "cellView": "form",
        "id": "voNOMeMAWEv_"
      },
      "id": "voNOMeMAWEv_",
      "execution_count": null,
      "outputs": []
    },
    {
      "cell_type": "code",
      "source": [
        "#@title\n",
        "chart = alt.Chart(df).mark_bar().encode(\n",
        "    # x='end_date:T',\n",
        "    x=alt.X(\n",
        "        'item_format',\n",
        "        axis=alt.Axis(title='item format', labelAngle=-70),\n",
        "        # sort='-y'\n",
        "    ),\n",
        "    y=alt.Y(\n",
        "        'count_items:Q',\n",
        "        title = 'count total items',\n",
        "        # scale = alt.Scale(domain=[0,100]),\n",
        "    ),\n",
        "    color=alt.Color(\n",
        "        'item_format',\n",
        "        # legend=None\n",
        "    ),\n",
        "    tooltip=['publish_year', 'item_format', 'count_items']\n",
        ").properties(\n",
        "    title=\"\",\n",
        "    # .format(df.iloc[0]['branch_name']),\n",
        "    width=270,\n",
        ").facet(\n",
        "    facet='publish_year',\n",
        "    columns=5\n",
        ")\n",
        "\n",
        "chart.display()"
      ],
      "metadata": {
        "cellView": "form",
        "id": "CiOTVtJAagKh",
        "outputId": "485cf5c0-d86c-41e8-bb96-4d655ce1a438",
        "colab": {
          "base_uri": "https://localhost:8080/",
          "height": 512
        }
      },
      "id": "CiOTVtJAagKh",
      "execution_count": null,
      "outputs": [
        {
          "output_type": "display_data",
          "data": {
            "text/plain": [
              "alt.FacetChart(...)"
            ],
            "text/html": [
              "\n",
              "<div id=\"altair-viz-f510daf86a54424ea1cb2579020d53a6\"></div>\n",
              "<script type=\"text/javascript\">\n",
              "  var VEGA_DEBUG = (typeof VEGA_DEBUG == \"undefined\") ? {} : VEGA_DEBUG;\n",
              "  (function(spec, embedOpt){\n",
              "    let outputDiv = document.currentScript.previousElementSibling;\n",
              "    if (outputDiv.id !== \"altair-viz-f510daf86a54424ea1cb2579020d53a6\") {\n",
              "      outputDiv = document.getElementById(\"altair-viz-f510daf86a54424ea1cb2579020d53a6\");\n",
              "    }\n",
              "    const paths = {\n",
              "      \"vega\": \"https://cdn.jsdelivr.net/npm//vega@5?noext\",\n",
              "      \"vega-lib\": \"https://cdn.jsdelivr.net/npm//vega-lib?noext\",\n",
              "      \"vega-lite\": \"https://cdn.jsdelivr.net/npm//vega-lite@4.17.0?noext\",\n",
              "      \"vega-embed\": \"https://cdn.jsdelivr.net/npm//vega-embed@6?noext\",\n",
              "    };\n",
              "\n",
              "    function maybeLoadScript(lib, version) {\n",
              "      var key = `${lib.replace(\"-\", \"\")}_version`;\n",
              "      return (VEGA_DEBUG[key] == version) ?\n",
              "        Promise.resolve(paths[lib]) :\n",
              "        new Promise(function(resolve, reject) {\n",
              "          var s = document.createElement('script');\n",
              "          document.getElementsByTagName(\"head\")[0].appendChild(s);\n",
              "          s.async = true;\n",
              "          s.onload = () => {\n",
              "            VEGA_DEBUG[key] = version;\n",
              "            return resolve(paths[lib]);\n",
              "          };\n",
              "          s.onerror = () => reject(`Error loading script: ${paths[lib]}`);\n",
              "          s.src = paths[lib];\n",
              "        });\n",
              "    }\n",
              "\n",
              "    function showError(err) {\n",
              "      outputDiv.innerHTML = `<div class=\"error\" style=\"color:red;\">${err}</div>`;\n",
              "      throw err;\n",
              "    }\n",
              "\n",
              "    function displayChart(vegaEmbed) {\n",
              "      vegaEmbed(outputDiv, spec, embedOpt)\n",
              "        .catch(err => showError(`Javascript Error: ${err.message}<br>This usually means there's a typo in your chart specification. See the javascript console for the full traceback.`));\n",
              "    }\n",
              "\n",
              "    if(typeof define === \"function\" && define.amd) {\n",
              "      requirejs.config({paths});\n",
              "      require([\"vega-embed\"], displayChart, err => showError(`Error loading script: ${err.message}`));\n",
              "    } else {\n",
              "      maybeLoadScript(\"vega\", \"5\")\n",
              "        .then(() => maybeLoadScript(\"vega-lite\", \"4.17.0\"))\n",
              "        .then(() => maybeLoadScript(\"vega-embed\", \"6\"))\n",
              "        .catch(showError)\n",
              "        .then(() => displayChart(vegaEmbed));\n",
              "    }\n",
              "  })({\"config\": {\"view\": {\"continuousWidth\": 400, \"continuousHeight\": 300}}, \"data\": {\"name\": \"data-72a373685463867f7f02fbc7efe38578\"}, \"facet\": {\"field\": \"publish_year\", \"type\": \"quantitative\"}, \"spec\": {\"mark\": \"bar\", \"encoding\": {\"color\": {\"field\": \"item_format\", \"type\": \"nominal\"}, \"tooltip\": [{\"field\": \"publish_year\", \"type\": \"quantitative\"}, {\"field\": \"item_format\", \"type\": \"nominal\"}, {\"field\": \"count_items\", \"type\": \"quantitative\"}], \"x\": {\"axis\": {\"labelAngle\": -70, \"title\": \"item format\"}, \"field\": \"item_format\", \"type\": \"nominal\"}, \"y\": {\"field\": \"count_items\", \"title\": \"count total items\", \"type\": \"quantitative\"}}, \"title\": \"\", \"width\": 270}, \"columns\": 5, \"$schema\": \"https://vega.github.io/schema/vega-lite/v4.17.0.json\", \"datasets\": {\"data-72a373685463867f7f02fbc7efe38578\": [{\"publish_year\": 2018, \"item_format\": \"Book\", \"count_items\": 89352}, {\"publish_year\": 2018, \"item_format\": \"Book on CD\", \"count_items\": 2547}, {\"publish_year\": 2018, \"item_format\": \"DVD/Videocassette\", \"count_items\": 37996}, {\"publish_year\": 2018, \"item_format\": \"Juvenile Book\", \"count_items\": 97963}, {\"publish_year\": 2018, \"item_format\": \"Juvenile Book on CD\", \"count_items\": 120}, {\"publish_year\": 2018, \"item_format\": \"Juvenile Magazine\", \"count_items\": 69}, {\"publish_year\": 2018, \"item_format\": \"LP Record\", \"count_items\": 150}, {\"publish_year\": 2018, \"item_format\": \"Large Print Book\", \"count_items\": 10702}, {\"publish_year\": 2018, \"item_format\": \"Leased Book\", \"count_items\": 42}, {\"publish_year\": 2018, \"item_format\": \"Magazine\", \"count_items\": 14}, {\"publish_year\": 2018, \"item_format\": \"Music Score\", \"count_items\": 21}, {\"publish_year\": 2018, \"item_format\": \"Music on CD\", \"count_items\": 6831}, {\"publish_year\": 2018, \"item_format\": \"Rare Book\", \"count_items\": 42}, {\"publish_year\": 2018, \"item_format\": \"Reference Book\", \"count_items\": 369}, {\"publish_year\": 2018, \"item_format\": \"Reference Juvenile Book\", \"count_items\": 481}, {\"publish_year\": 2018, \"item_format\": \"Teen Book\", \"count_items\": 14311}, {\"publish_year\": 2019, \"item_format\": \"Book\", \"count_items\": 100626}, {\"publish_year\": 2019, \"item_format\": \"Book on CD\", \"count_items\": 2727}, {\"publish_year\": 2019, \"item_format\": \"DVD/Videocassette\", \"count_items\": 44957}, {\"publish_year\": 2019, \"item_format\": \"Juvenile Book\", \"count_items\": 98512}, {\"publish_year\": 2019, \"item_format\": \"Juvenile Book on CD\", \"count_items\": 233}, {\"publish_year\": 2019, \"item_format\": \"LP Record\", \"count_items\": 135}, {\"publish_year\": 2019, \"item_format\": \"Large Print Book\", \"count_items\": 11249}, {\"publish_year\": 2019, \"item_format\": \"Leased Book\", \"count_items\": 519}, {\"publish_year\": 2019, \"item_format\": \"Magazine\", \"count_items\": 131}, {\"publish_year\": 2019, \"item_format\": \"Music Score\", \"count_items\": 56}, {\"publish_year\": 2019, \"item_format\": \"Music on CD\", \"count_items\": 6411}, {\"publish_year\": 2019, \"item_format\": \"Rare Book\", \"count_items\": 26}, {\"publish_year\": 2019, \"item_format\": \"Reference Book\", \"count_items\": 234}, {\"publish_year\": 2019, \"item_format\": \"Reference Juvenile Book\", \"count_items\": 408}, {\"publish_year\": 2019, \"item_format\": \"Teen Book\", \"count_items\": 13831}, {\"publish_year\": 2020, \"item_format\": \"Book\", \"count_items\": 79921}, {\"publish_year\": 2020, \"item_format\": \"Book on CD\", \"count_items\": 2305}, {\"publish_year\": 2020, \"item_format\": \"DVD/Videocassette\", \"count_items\": 25284}, {\"publish_year\": 2020, \"item_format\": \"Juvenile Book\", \"count_items\": 71190}, {\"publish_year\": 2020, \"item_format\": \"Juvenile Book on CD\", \"count_items\": 150}, {\"publish_year\": 2020, \"item_format\": \"Juvenile Magazine\", \"count_items\": 31}, {\"publish_year\": 2020, \"item_format\": \"LP Record\", \"count_items\": 105}, {\"publish_year\": 2020, \"item_format\": \"Large Print Book\", \"count_items\": 6783}, {\"publish_year\": 2020, \"item_format\": \"Leased Book\", \"count_items\": 3426}, {\"publish_year\": 2020, \"item_format\": \"Magazine\", \"count_items\": 101}, {\"publish_year\": 2020, \"item_format\": \"Music Score\", \"count_items\": 25}, {\"publish_year\": 2020, \"item_format\": \"Music on CD\", \"count_items\": 4881}, {\"publish_year\": 2020, \"item_format\": \"Rare Book\", \"count_items\": 23}, {\"publish_year\": 2020, \"item_format\": \"Reference Book\", \"count_items\": 141}, {\"publish_year\": 2020, \"item_format\": \"Reference Juvenile Book\", \"count_items\": 428}, {\"publish_year\": 2020, \"item_format\": \"Reference Magazine\", \"count_items\": 1}, {\"publish_year\": 2020, \"item_format\": \"Teen Book\", \"count_items\": 10978}, {\"publish_year\": 2021, \"item_format\": \"Book\", \"count_items\": 91121}, {\"publish_year\": 2021, \"item_format\": \"Book on CD\", \"count_items\": 2502}, {\"publish_year\": 2021, \"item_format\": \"DVD/Videocassette\", \"count_items\": 22895}, {\"publish_year\": 2021, \"item_format\": \"Juvenile Book\", \"count_items\": 88717}, {\"publish_year\": 2021, \"item_format\": \"Juvenile Book on CD\", \"count_items\": 127}, {\"publish_year\": 2021, \"item_format\": \"Juvenile Magazine\", \"count_items\": 70}, {\"publish_year\": 2021, \"item_format\": \"LP Record\", \"count_items\": 80}, {\"publish_year\": 2021, \"item_format\": \"Large Print Book\", \"count_items\": 8573}, {\"publish_year\": 2021, \"item_format\": \"Leased Book\", \"count_items\": 7004}, {\"publish_year\": 2021, \"item_format\": \"Magazine\", \"count_items\": 176}, {\"publish_year\": 2021, \"item_format\": \"Music Score\", \"count_items\": 42}, {\"publish_year\": 2021, \"item_format\": \"Music on CD\", \"count_items\": 4781}, {\"publish_year\": 2021, \"item_format\": \"Rare Book\", \"count_items\": 27}, {\"publish_year\": 2021, \"item_format\": \"Reference Book\", \"count_items\": 142}, {\"publish_year\": 2021, \"item_format\": \"Reference Juvenile Book\", \"count_items\": 279}, {\"publish_year\": 2021, \"item_format\": \"Reference Magazine\", \"count_items\": 103}, {\"publish_year\": 2021, \"item_format\": \"Teen Book\", \"count_items\": 10918}, {\"publish_year\": 2022, \"item_format\": \"Book\", \"count_items\": 8048}, {\"publish_year\": 2022, \"item_format\": \"Book on CD\", \"count_items\": 204}, {\"publish_year\": 2022, \"item_format\": \"DVD/Videocassette\", \"count_items\": 3280}, {\"publish_year\": 2022, \"item_format\": \"Juvenile Book\", \"count_items\": 11723}, {\"publish_year\": 2022, \"item_format\": \"Large Print Book\", \"count_items\": 315}, {\"publish_year\": 2022, \"item_format\": \"Leased Book\", \"count_items\": 407}, {\"publish_year\": 2022, \"item_format\": \"Music on CD\", \"count_items\": 151}, {\"publish_year\": 2022, \"item_format\": \"Reference Book\", \"count_items\": 66}, {\"publish_year\": 2022, \"item_format\": \"Reference Juvenile Book\", \"count_items\": 367}, {\"publish_year\": 2022, \"item_format\": \"Teen Book\", \"count_items\": 815}]}}, {\"mode\": \"vega-lite\"});\n",
              "</script>"
            ]
          },
          "metadata": {}
        }
      ]
    },
    {
      "cell_type": "markdown",
      "source": [
        "# Find Items by Create Date that have 0 Circulations"
      ],
      "metadata": {
        "id": "44dlfJd6Wqok"
      },
      "id": "44dlfJd6Wqok"
    },
    {
      "cell_type": "code",
      "source": [
        "#@title\n",
        "%%time\n",
        "\n",
        "\n",
        "\n",
        "url = \"\"\"\\\n",
        "https://collection-analysis.cincy.pl/current_collection\\\n",
        "/item_view.json?\\\n",
        "&checkout_total__exact=0\\\n",
        "&creation_date__gte={}\\\n",
        "&creation_date__lte={}\\\n",
        "&item_format__notin=Downloadable+Audiobook%2C+Downloadable+Book%2C+Downloadable+Video%2C+Downloadable+Music%2C+Web+Document%2C+Rare+Book\\\n",
        "\"\"\".format('2021-03-01', '2021-09-01')\n",
        "print(url)\n",
        "\n",
        "results = s.get(url=url)\n",
        "df = pd.DataFrame()\n",
        "df = df.append(results.json()['rows'], ignore_index=True)\n",
        "\n",
        "print(results.json()['human_description_en'])\n",
        "print('filtered_table_rows_count:', results.json()['filtered_table_rows_count'])\n",
        "\n",
        "url = results.json()['next_url']\n",
        "track_range = int( int(results.json()['filtered_table_rows_count']) / int(results.json()['next']))\n",
        "# print(track_range)\n",
        "print('---')\n",
        "for n in track(range(track_range), description=\"Processing the above query...\"):\n",
        "  results = s.get(url=url)\n",
        "  df = df.append(results.json()['rows'])\n",
        "  url = results.json()['next_url']\n",
        "\n",
        "# replace the column names ...\n",
        "df.columns = results.json()['columns']"
      ],
      "metadata": {
        "cellView": "form",
        "id": "nFZRELC8WqPv",
        "outputId": "2c5b4b9e-89ff-4bb1-ad40-44698aecb61a",
        "colab": {
          "base_uri": "https://localhost:8080/",
          "height": 222,
          "referenced_widgets": [
            "8ffe92bde9a449db818590abe40f44d9",
            "25918c41fde24eb8b81bea05b1f2f550"
          ]
        }
      },
      "id": "nFZRELC8WqPv",
      "execution_count": 61,
      "outputs": [
        {
          "output_type": "display_data",
          "data": {
            "text/html": [
              "<pre style=\"white-space:pre;overflow-x:auto;line-height:normal;font-family:Menlo,'DejaVu Sans Mono',consolas,'Courier New',monospace\"><span style=\"color: #0000ff; text-decoration-color: #0000ff; text-decoration: underline\">https://collection-analysis.cincy.pl/current_collection/item_view.json?&amp;checkout_total__exact</span>\n",
              "<span style=\"color: #0000ff; text-decoration-color: #0000ff; text-decoration: underline\">=0&amp;creation_date__gte=2021-03-01&amp;creation_date__lte=2021-09-01&amp;item_format__notin=Downloadabl</span>\n",
              "<span style=\"color: #0000ff; text-decoration-color: #0000ff; text-decoration: underline\">e+Audiobook%2C+Downloadable+Book%2C+Downloadable+Video%2C+Downloadable+Music%2C+Web+Document%</span>\n",
              "<span style=\"color: #0000ff; text-decoration-color: #0000ff; text-decoration: underline\">2C+Rare+Book</span>\n",
              "</pre>\n"
            ],
            "text/plain": [
              "\u001b[4;94mhttps://collection-analysis.cincy.pl/current_collection/item_view.json?&\u001b[0m\u001b[4;94mcheckout_total__exact\u001b[0m\n",
              "\u001b[4;94m=\u001b[0m\u001b[4;94m0\u001b[0m\u001b[4;94m&\u001b[0m\u001b[4;94mcreation_date__gte\u001b[0m\u001b[4;94m=\u001b[0m\u001b[4;94m2021\u001b[0m\u001b[4;94m-03-01&\u001b[0m\u001b[4;94mcreation_date__lte\u001b[0m\u001b[4;94m=\u001b[0m\u001b[4;94m2021\u001b[0m\u001b[4;94m-09-01&\u001b[0m\u001b[4;94mitem_format__notin\u001b[0m\u001b[4;94m=\u001b[0m\u001b[4;94mDownloadabl\u001b[0m\n",
              "\u001b[4;94me\u001b[0m\u001b[4;94m+Audiobook%2C+Downloadable+Book%2C+Downloadable+Video%2C+Downloadable+Music%2C+Web+Document%\u001b[0m\n",
              "\u001b[4;94m2C+Rare+Book\u001b[0m\n"
            ]
          },
          "metadata": {}
        },
        {
          "output_type": "display_data",
          "data": {
            "text/html": [
              "<pre style=\"white-space:pre;overflow-x:auto;line-height:normal;font-family:Menlo,'DejaVu Sans Mono',consolas,'Courier New',monospace\">where checkout_total = <span style=\"color: #008080; text-decoration-color: #008080; font-weight: bold\">0</span>, creation_date ≥ <span style=\"color: #008080; text-decoration-color: #008080; font-weight: bold\">2021</span>-<span style=\"color: #008080; text-decoration-color: #008080; font-weight: bold\">03</span>-<span style=\"color: #008080; text-decoration-color: #008080; font-weight: bold\">01</span>, creation_date ≤ <span style=\"color: #008080; text-decoration-color: #008080; font-weight: bold\">2021</span>-<span style=\"color: #008080; text-decoration-color: #008080; font-weight: bold\">09</span>-<span style=\"color: #008080; text-decoration-color: #008080; font-weight: bold\">01</span> and \n",
              "item_format not in <span style=\"font-weight: bold\">[</span><span style=\"color: #008000; text-decoration-color: #008000\">\"Downloadable Audiobook\"</span>, <span style=\"color: #008000; text-decoration-color: #008000\">\"Downloadable Book\"</span>, <span style=\"color: #008000; text-decoration-color: #008000\">\"Downloadable Video\"</span>, \n",
              "<span style=\"color: #008000; text-decoration-color: #008000\">\"Downloadable Music\"</span>, <span style=\"color: #008000; text-decoration-color: #008000\">\"Web Document\"</span>, <span style=\"color: #008000; text-decoration-color: #008000\">\"Rare Book\"</span><span style=\"font-weight: bold\">]</span>\n",
              "</pre>\n"
            ],
            "text/plain": [
              "where checkout_total = \u001b[1;36m0\u001b[0m, creation_date ≥ \u001b[1;36m2021\u001b[0m-\u001b[1;36m03\u001b[0m-\u001b[1;36m01\u001b[0m, creation_date ≤ \u001b[1;36m2021\u001b[0m-\u001b[1;36m09\u001b[0m-\u001b[1;36m01\u001b[0m and \n",
              "item_format not in \u001b[1m[\u001b[0m\u001b[32m\"Downloadable Audiobook\"\u001b[0m, \u001b[32m\"Downloadable Book\"\u001b[0m, \u001b[32m\"Downloadable Video\"\u001b[0m, \n",
              "\u001b[32m\"Downloadable Music\"\u001b[0m, \u001b[32m\"Web Document\"\u001b[0m, \u001b[32m\"Rare Book\"\u001b[0m\u001b[1m]\u001b[0m\n"
            ]
          },
          "metadata": {}
        },
        {
          "output_type": "display_data",
          "data": {
            "text/html": [
              "<pre style=\"white-space:pre;overflow-x:auto;line-height:normal;font-family:Menlo,'DejaVu Sans Mono',consolas,'Courier New',monospace\">filtered_table_rows_count: <span style=\"color: #008080; text-decoration-color: #008080; font-weight: bold\">23304</span>\n",
              "</pre>\n"
            ],
            "text/plain": [
              "filtered_table_rows_count: \u001b[1;36m23304\u001b[0m\n"
            ]
          },
          "metadata": {}
        },
        {
          "output_type": "display_data",
          "data": {
            "text/html": [
              "<pre style=\"white-space:pre;overflow-x:auto;line-height:normal;font-family:Menlo,'DejaVu Sans Mono',consolas,'Courier New',monospace\">---\n",
              "</pre>\n"
            ],
            "text/plain": [
              "---\n"
            ]
          },
          "metadata": {}
        },
        {
          "output_type": "display_data",
          "data": {
            "application/vnd.jupyter.widget-view+json": {
              "model_id": "8ffe92bde9a449db818590abe40f44d9",
              "version_minor": 0,
              "version_major": 2
            },
            "text/plain": [
              "Output()"
            ]
          },
          "metadata": {}
        },
        {
          "output_type": "display_data",
          "data": {
            "text/html": [
              "<pre style=\"white-space:pre;overflow-x:auto;line-height:normal;font-family:Menlo,'DejaVu Sans Mono',consolas,'Courier New',monospace\"></pre>\n"
            ],
            "text/plain": [
              ""
            ]
          },
          "metadata": {}
        },
        {
          "output_type": "display_data",
          "data": {
            "text/html": [
              "<pre style=\"white-space:pre;overflow-x:auto;line-height:normal;font-family:Menlo,'DejaVu Sans Mono',consolas,'Courier New',monospace\">\n",
              "</pre>\n"
            ],
            "text/plain": [
              "\n"
            ]
          },
          "metadata": {}
        },
        {
          "output_type": "stream",
          "name": "stdout",
          "text": [
            "CPU times: user 4.2 s, sys: 240 ms, total: 4.44 s\n",
            "Wall time: 45.3 s\n"
          ]
        }
      ]
    },
    {
      "cell_type": "code",
      "source": [
        "#@title\n",
        "print(df.shape)\n",
        "print(df.head())"
      ],
      "metadata": {
        "cellView": "form",
        "id": "sMmpGHWYF-qj",
        "outputId": "7b104cd0-dd3f-4aa6-e660-4122f7783cdd",
        "colab": {
          "base_uri": "https://localhost:8080/",
          "height": 765
        }
      },
      "id": "sMmpGHWYF-qj",
      "execution_count": 59,
      "outputs": [
        {
          "output_type": "display_data",
          "data": {
            "text/html": [
              "<pre style=\"white-space:pre;overflow-x:auto;line-height:normal;font-family:Menlo,'DejaVu Sans Mono',consolas,'Courier New',monospace\"><span style=\"font-weight: bold\">(</span><span style=\"color: #008080; text-decoration-color: #008080; font-weight: bold\">23304</span>, <span style=\"color: #008080; text-decoration-color: #008080; font-weight: bold\">23</span><span style=\"font-weight: bold\">)</span>\n",
              "</pre>\n"
            ],
            "text/plain": [
              "\u001b[1m(\u001b[0m\u001b[1;36m23304\u001b[0m, \u001b[1;36m23\u001b[0m\u001b[1m)\u001b[0m\n"
            ]
          },
          "metadata": {}
        },
        {
          "output_type": "display_data",
          "data": {
            "text/html": [
              "<pre style=\"white-space:pre;overflow-x:auto;line-height:normal;font-family:Menlo,'DejaVu Sans Mono',consolas,'Courier New',monospace\">   item_record_num  volume_record_num  bib_record_num creation_date  \\\n",
              "<span style=\"color: #008080; text-decoration-color: #008080; font-weight: bold\">0</span>         <span style=\"color: #008080; text-decoration-color: #008080; font-weight: bold\">11077892</span>          <span style=\"color: #008080; text-decoration-color: #008080; font-weight: bold\">1517125.0</span>         <span style=\"color: #008080; text-decoration-color: #008080; font-weight: bold\">1211762</span>    <span style=\"color: #008080; text-decoration-color: #008080; font-weight: bold\">2021</span>-<span style=\"color: #008080; text-decoration-color: #008080; font-weight: bold\">03</span>-<span style=\"color: #008080; text-decoration-color: #008080; font-weight: bold\">01</span>   \n",
              "<span style=\"color: #008080; text-decoration-color: #008080; font-weight: bold\">1</span>         <span style=\"color: #008080; text-decoration-color: #008080; font-weight: bold\">11077893</span>          <span style=\"color: #008080; text-decoration-color: #008080; font-weight: bold\">1517125.0</span>         <span style=\"color: #008080; text-decoration-color: #008080; font-weight: bold\">1211762</span>    <span style=\"color: #008080; text-decoration-color: #008080; font-weight: bold\">2021</span>-<span style=\"color: #008080; text-decoration-color: #008080; font-weight: bold\">03</span>-<span style=\"color: #008080; text-decoration-color: #008080; font-weight: bold\">01</span>   \n",
              "<span style=\"color: #008080; text-decoration-color: #008080; font-weight: bold\">2</span>         <span style=\"color: #008080; text-decoration-color: #008080; font-weight: bold\">11077894</span>          <span style=\"color: #008080; text-decoration-color: #008080; font-weight: bold\">1517125.0</span>         <span style=\"color: #008080; text-decoration-color: #008080; font-weight: bold\">1211762</span>    <span style=\"color: #008080; text-decoration-color: #008080; font-weight: bold\">2021</span>-<span style=\"color: #008080; text-decoration-color: #008080; font-weight: bold\">03</span>-<span style=\"color: #008080; text-decoration-color: #008080; font-weight: bold\">01</span>   \n",
              "<span style=\"color: #008080; text-decoration-color: #008080; font-weight: bold\">3</span>         <span style=\"color: #008080; text-decoration-color: #008080; font-weight: bold\">11077895</span>          <span style=\"color: #008080; text-decoration-color: #008080; font-weight: bold\">1513991.0</span>         <span style=\"color: #008080; text-decoration-color: #008080; font-weight: bold\">1391284</span>    <span style=\"color: #008080; text-decoration-color: #008080; font-weight: bold\">2021</span>-<span style=\"color: #008080; text-decoration-color: #008080; font-weight: bold\">03</span>-<span style=\"color: #008080; text-decoration-color: #008080; font-weight: bold\">01</span>   \n",
              "<span style=\"color: #008080; text-decoration-color: #008080; font-weight: bold\">4</span>         <span style=\"color: #008080; text-decoration-color: #008080; font-weight: bold\">11077896</span>          <span style=\"color: #008080; text-decoration-color: #008080; font-weight: bold\">1513991.0</span>         <span style=\"color: #008080; text-decoration-color: #008080; font-weight: bold\">1391284</span>    <span style=\"color: #008080; text-decoration-color: #008080; font-weight: bold\">2021</span>-<span style=\"color: #008080; text-decoration-color: #008080; font-weight: bold\">03</span>-<span style=\"color: #008080; text-decoration-color: #008080; font-weight: bold\">01</span>   \n",
              "\n",
              "         barcode item_format location_code  \\\n",
              "<span style=\"color: #008080; text-decoration-color: #008080; font-weight: bold\">0</span>  A000071152179    Magazine         mmamg   \n",
              "<span style=\"color: #008080; text-decoration-color: #008080; font-weight: bold\">1</span>  A000071152203    Magazine         2mamh   \n",
              "<span style=\"color: #008080; text-decoration-color: #008080; font-weight: bold\">2</span>  A000071152195    Magazine         chamg   \n",
              "<span style=\"color: #008080; text-decoration-color: #008080; font-weight: bold\">3</span>  A000071152229    Magazine         nramg   \n",
              "<span style=\"color: #008080; text-decoration-color: #008080; font-weight: bold\">4</span>  A000071152211    Magazine         2mamh   \n",
              "\n",
              "                                       location_name    branch_name  \\\n",
              "<span style=\"color: #008080; text-decoration-color: #008080; font-weight: bold\">0</span>                          Mariemont Adult Magazines      Mariemont   \n",
              "<span style=\"color: #008080; text-decoration-color: #008080; font-weight: bold\">1</span>  Main - North - Magazines &amp; Newspapers - Circul<span style=\"color: #808000; text-decoration-color: #808000\">...</span>   Main Library   \n",
              "<span style=\"color: #008080; text-decoration-color: #008080; font-weight: bold\">2</span>                            Cheviot Adult Magazines        Cheviot   \n",
              "<span style=\"color: #008080; text-decoration-color: #008080; font-weight: bold\">3</span>                      North Central Adult Magazines  North Central   \n",
              "<span style=\"color: #008080; text-decoration-color: #008080; font-weight: bold\">4</span>  Main - North - Magazines &amp; Newspapers - Circul<span style=\"color: #808000; text-decoration-color: #808000\">...</span>   Main Library   \n",
              "\n",
              "  item_callnumber  <span style=\"color: #808000; text-decoration-color: #808000\">...</span> agency_code_num item_status_code item_status_name  \\\n",
              "<span style=\"color: #008080; text-decoration-color: #008080; font-weight: bold\">0</span>      periodical  <span style=\"color: #808000; text-decoration-color: #808000\">...</span>              <span style=\"color: #008080; text-decoration-color: #008080; font-weight: bold\">23</span>                w        WITHDRAWN   \n",
              "<span style=\"color: #008080; text-decoration-color: #008080; font-weight: bold\">1</span>      periodical  <span style=\"color: #808000; text-decoration-color: #808000\">...</span>               <span style=\"color: #008080; text-decoration-color: #008080; font-weight: bold\">1</span>                w        WITHDRAWN   \n",
              "<span style=\"color: #008080; text-decoration-color: #008080; font-weight: bold\">2</span>      periodical  <span style=\"color: #808000; text-decoration-color: #808000\">...</span>               <span style=\"color: #008080; text-decoration-color: #008080; font-weight: bold\">6</span>                w        WITHDRAWN   \n",
              "<span style=\"color: #008080; text-decoration-color: #008080; font-weight: bold\">3</span>      periodical  <span style=\"color: #808000; text-decoration-color: #808000\">...</span>              <span style=\"color: #008080; text-decoration-color: #008080; font-weight: bold\">28</span>                w        WITHDRAWN   \n",
              "<span style=\"color: #008080; text-decoration-color: #008080; font-weight: bold\">4</span>      periodical  <span style=\"color: #808000; text-decoration-color: #808000\">...</span>               <span style=\"color: #008080; text-decoration-color: #008080; font-weight: bold\">1</span>                -    CHECK SHELVES   \n",
              "\n",
              "   last_circ_act_date checkout_date due_date checkout_total renewal_total  \\\n",
              "<span style=\"color: #008080; text-decoration-color: #008080; font-weight: bold\">0</span>                <span style=\"color: #800080; text-decoration-color: #800080; font-style: italic\">None</span>          <span style=\"color: #800080; text-decoration-color: #800080; font-style: italic\">None</span>     <span style=\"color: #800080; text-decoration-color: #800080; font-style: italic\">None</span>              <span style=\"color: #008080; text-decoration-color: #008080; font-weight: bold\">0</span>             <span style=\"color: #008080; text-decoration-color: #008080; font-weight: bold\">0</span>   \n",
              "<span style=\"color: #008080; text-decoration-color: #008080; font-weight: bold\">1</span>                <span style=\"color: #800080; text-decoration-color: #800080; font-style: italic\">None</span>          <span style=\"color: #800080; text-decoration-color: #800080; font-style: italic\">None</span>     <span style=\"color: #800080; text-decoration-color: #800080; font-style: italic\">None</span>              <span style=\"color: #008080; text-decoration-color: #008080; font-weight: bold\">0</span>             <span style=\"color: #008080; text-decoration-color: #008080; font-weight: bold\">0</span>   \n",
              "<span style=\"color: #008080; text-decoration-color: #008080; font-weight: bold\">2</span>                <span style=\"color: #800080; text-decoration-color: #800080; font-style: italic\">None</span>          <span style=\"color: #800080; text-decoration-color: #800080; font-style: italic\">None</span>     <span style=\"color: #800080; text-decoration-color: #800080; font-style: italic\">None</span>              <span style=\"color: #008080; text-decoration-color: #008080; font-weight: bold\">0</span>             <span style=\"color: #008080; text-decoration-color: #008080; font-weight: bold\">0</span>   \n",
              "<span style=\"color: #008080; text-decoration-color: #008080; font-weight: bold\">3</span>                <span style=\"color: #800080; text-decoration-color: #800080; font-style: italic\">None</span>          <span style=\"color: #800080; text-decoration-color: #800080; font-style: italic\">None</span>     <span style=\"color: #800080; text-decoration-color: #800080; font-style: italic\">None</span>              <span style=\"color: #008080; text-decoration-color: #008080; font-weight: bold\">0</span>             <span style=\"color: #008080; text-decoration-color: #008080; font-weight: bold\">0</span>   \n",
              "<span style=\"color: #008080; text-decoration-color: #008080; font-weight: bold\">4</span>                <span style=\"color: #800080; text-decoration-color: #800080; font-style: italic\">None</span>          <span style=\"color: #800080; text-decoration-color: #800080; font-style: italic\">None</span>     <span style=\"color: #800080; text-decoration-color: #800080; font-style: italic\">None</span>              <span style=\"color: #008080; text-decoration-color: #008080; font-weight: bold\">0</span>             <span style=\"color: #008080; text-decoration-color: #008080; font-weight: bold\">0</span>   \n",
              "\n",
              "  item_price  publish_year  \n",
              "<span style=\"color: #008080; text-decoration-color: #008080; font-weight: bold\">0</span>        <span style=\"color: #008080; text-decoration-color: #008080; font-weight: bold\">0.0</span>        <span style=\"color: #008080; text-decoration-color: #008080; font-weight: bold\">1963.0</span>  \n",
              "<span style=\"color: #008080; text-decoration-color: #008080; font-weight: bold\">1</span>        <span style=\"color: #008080; text-decoration-color: #008080; font-weight: bold\">5.0</span>        <span style=\"color: #008080; text-decoration-color: #008080; font-weight: bold\">1963.0</span>  \n",
              "<span style=\"color: #008080; text-decoration-color: #008080; font-weight: bold\">2</span>        <span style=\"color: #008080; text-decoration-color: #008080; font-weight: bold\">0.0</span>        <span style=\"color: #008080; text-decoration-color: #008080; font-weight: bold\">1963.0</span>  \n",
              "<span style=\"color: #008080; text-decoration-color: #008080; font-weight: bold\">3</span>        <span style=\"color: #008080; text-decoration-color: #008080; font-weight: bold\">0.0</span>        <span style=\"color: #008080; text-decoration-color: #008080; font-weight: bold\">1894.0</span>  \n",
              "<span style=\"color: #008080; text-decoration-color: #008080; font-weight: bold\">4</span>        <span style=\"color: #008080; text-decoration-color: #008080; font-weight: bold\">5.0</span>        <span style=\"color: #008080; text-decoration-color: #008080; font-weight: bold\">1894.0</span>  \n",
              "\n",
              "<span style=\"font-weight: bold\">[</span><span style=\"color: #008080; text-decoration-color: #008080; font-weight: bold\">5</span> rows x <span style=\"color: #008080; text-decoration-color: #008080; font-weight: bold\">23</span> columns<span style=\"font-weight: bold\">]</span>\n",
              "</pre>\n"
            ],
            "text/plain": [
              "   item_record_num  volume_record_num  bib_record_num creation_date  \\\n",
              "\u001b[1;36m0\u001b[0m         \u001b[1;36m11077892\u001b[0m          \u001b[1;36m1517125.0\u001b[0m         \u001b[1;36m1211762\u001b[0m    \u001b[1;36m2021\u001b[0m-\u001b[1;36m03\u001b[0m-\u001b[1;36m01\u001b[0m   \n",
              "\u001b[1;36m1\u001b[0m         \u001b[1;36m11077893\u001b[0m          \u001b[1;36m1517125.0\u001b[0m         \u001b[1;36m1211762\u001b[0m    \u001b[1;36m2021\u001b[0m-\u001b[1;36m03\u001b[0m-\u001b[1;36m01\u001b[0m   \n",
              "\u001b[1;36m2\u001b[0m         \u001b[1;36m11077894\u001b[0m          \u001b[1;36m1517125.0\u001b[0m         \u001b[1;36m1211762\u001b[0m    \u001b[1;36m2021\u001b[0m-\u001b[1;36m03\u001b[0m-\u001b[1;36m01\u001b[0m   \n",
              "\u001b[1;36m3\u001b[0m         \u001b[1;36m11077895\u001b[0m          \u001b[1;36m1513991.0\u001b[0m         \u001b[1;36m1391284\u001b[0m    \u001b[1;36m2021\u001b[0m-\u001b[1;36m03\u001b[0m-\u001b[1;36m01\u001b[0m   \n",
              "\u001b[1;36m4\u001b[0m         \u001b[1;36m11077896\u001b[0m          \u001b[1;36m1513991.0\u001b[0m         \u001b[1;36m1391284\u001b[0m    \u001b[1;36m2021\u001b[0m-\u001b[1;36m03\u001b[0m-\u001b[1;36m01\u001b[0m   \n",
              "\n",
              "         barcode item_format location_code  \\\n",
              "\u001b[1;36m0\u001b[0m  A000071152179    Magazine         mmamg   \n",
              "\u001b[1;36m1\u001b[0m  A000071152203    Magazine         2mamh   \n",
              "\u001b[1;36m2\u001b[0m  A000071152195    Magazine         chamg   \n",
              "\u001b[1;36m3\u001b[0m  A000071152229    Magazine         nramg   \n",
              "\u001b[1;36m4\u001b[0m  A000071152211    Magazine         2mamh   \n",
              "\n",
              "                                       location_name    branch_name  \\\n",
              "\u001b[1;36m0\u001b[0m                          Mariemont Adult Magazines      Mariemont   \n",
              "\u001b[1;36m1\u001b[0m  Main - North - Magazines & Newspapers - Circul\u001b[33m...\u001b[0m   Main Library   \n",
              "\u001b[1;36m2\u001b[0m                            Cheviot Adult Magazines        Cheviot   \n",
              "\u001b[1;36m3\u001b[0m                      North Central Adult Magazines  North Central   \n",
              "\u001b[1;36m4\u001b[0m  Main - North - Magazines & Newspapers - Circul\u001b[33m...\u001b[0m   Main Library   \n",
              "\n",
              "  item_callnumber  \u001b[33m...\u001b[0m agency_code_num item_status_code item_status_name  \\\n",
              "\u001b[1;36m0\u001b[0m      periodical  \u001b[33m...\u001b[0m              \u001b[1;36m23\u001b[0m                w        WITHDRAWN   \n",
              "\u001b[1;36m1\u001b[0m      periodical  \u001b[33m...\u001b[0m               \u001b[1;36m1\u001b[0m                w        WITHDRAWN   \n",
              "\u001b[1;36m2\u001b[0m      periodical  \u001b[33m...\u001b[0m               \u001b[1;36m6\u001b[0m                w        WITHDRAWN   \n",
              "\u001b[1;36m3\u001b[0m      periodical  \u001b[33m...\u001b[0m              \u001b[1;36m28\u001b[0m                w        WITHDRAWN   \n",
              "\u001b[1;36m4\u001b[0m      periodical  \u001b[33m...\u001b[0m               \u001b[1;36m1\u001b[0m                -    CHECK SHELVES   \n",
              "\n",
              "   last_circ_act_date checkout_date due_date checkout_total renewal_total  \\\n",
              "\u001b[1;36m0\u001b[0m                \u001b[3;35mNone\u001b[0m          \u001b[3;35mNone\u001b[0m     \u001b[3;35mNone\u001b[0m              \u001b[1;36m0\u001b[0m             \u001b[1;36m0\u001b[0m   \n",
              "\u001b[1;36m1\u001b[0m                \u001b[3;35mNone\u001b[0m          \u001b[3;35mNone\u001b[0m     \u001b[3;35mNone\u001b[0m              \u001b[1;36m0\u001b[0m             \u001b[1;36m0\u001b[0m   \n",
              "\u001b[1;36m2\u001b[0m                \u001b[3;35mNone\u001b[0m          \u001b[3;35mNone\u001b[0m     \u001b[3;35mNone\u001b[0m              \u001b[1;36m0\u001b[0m             \u001b[1;36m0\u001b[0m   \n",
              "\u001b[1;36m3\u001b[0m                \u001b[3;35mNone\u001b[0m          \u001b[3;35mNone\u001b[0m     \u001b[3;35mNone\u001b[0m              \u001b[1;36m0\u001b[0m             \u001b[1;36m0\u001b[0m   \n",
              "\u001b[1;36m4\u001b[0m                \u001b[3;35mNone\u001b[0m          \u001b[3;35mNone\u001b[0m     \u001b[3;35mNone\u001b[0m              \u001b[1;36m0\u001b[0m             \u001b[1;36m0\u001b[0m   \n",
              "\n",
              "  item_price  publish_year  \n",
              "\u001b[1;36m0\u001b[0m        \u001b[1;36m0.0\u001b[0m        \u001b[1;36m1963.0\u001b[0m  \n",
              "\u001b[1;36m1\u001b[0m        \u001b[1;36m5.0\u001b[0m        \u001b[1;36m1963.0\u001b[0m  \n",
              "\u001b[1;36m2\u001b[0m        \u001b[1;36m0.0\u001b[0m        \u001b[1;36m1963.0\u001b[0m  \n",
              "\u001b[1;36m3\u001b[0m        \u001b[1;36m0.0\u001b[0m        \u001b[1;36m1894.0\u001b[0m  \n",
              "\u001b[1;36m4\u001b[0m        \u001b[1;36m5.0\u001b[0m        \u001b[1;36m1894.0\u001b[0m  \n",
              "\n",
              "\u001b[1m[\u001b[0m\u001b[1;36m5\u001b[0m rows x \u001b[1;36m23\u001b[0m columns\u001b[1m]\u001b[0m\n"
            ]
          },
          "metadata": {}
        }
      ]
    },
    {
      "cell_type": "code",
      "source": [
        "#@title\n",
        "url = 'https://collection-analysis.cincy.pl/current_collection.json?_shape=array&sql=select%0D%0A++item_format%2C%0D%0A++branch_name%2C%0D%0A++count%28%2A%29+as+count_items%0D%0Afrom%0D%0A++item_view%0D%0Awhere%0D%0A++%22checkout_total%22+%3D+%3Ap0%0D%0A++and+%22creation_date%22+%3E%3D+%3Ap1%0D%0A++and+%22creation_date%22+%3C%3D+%3Ap2%0D%0A++and+item_format+not+in+%28%3Ap3%2C+%3Ap4%2C+%3Ap5%2C+%3Ap6%2C+%3Ap7%2C+%3Ap8%29%0D%0Agroup+by%0D%0A++1%2C%0D%0A++2&p1=2021-03-01&p2=2021-09-01&p3=Downloadable+Audiobook&p4=Downloadable+Book&p5=Downloadable+Video&p6=Downloadable+Music&p7=Web+Document&p8=Rare+Book&p0=0'\n",
        "results = s.get(url=url)\n",
        "\n",
        "df = pd.json_normalize(results.json())"
      ],
      "metadata": {
        "cellView": "form",
        "id": "naSTJbk7R5oK"
      },
      "id": "naSTJbk7R5oK",
      "execution_count": 70,
      "outputs": []
    },
    {
      "cell_type": "code",
      "source": [
        "#@title\n",
        "df.head()"
      ],
      "metadata": {
        "cellView": "form",
        "id": "vAdhk8UTXHs7",
        "outputId": "ec17e316-691e-4471-a332-30b7b7f230ac",
        "colab": {
          "base_uri": "https://localhost:8080/",
          "height": 206
        }
      },
      "id": "vAdhk8UTXHs7",
      "execution_count": 77,
      "outputs": [
        {
          "output_type": "execute_result",
          "data": {
            "text/html": [
              "\n",
              "  <div id=\"df-65ee4f52-59df-438f-8501-cc71a58af80f\">\n",
              "    <div class=\"colab-df-container\">\n",
              "      <div>\n",
              "<style scoped>\n",
              "    .dataframe tbody tr th:only-of-type {\n",
              "        vertical-align: middle;\n",
              "    }\n",
              "\n",
              "    .dataframe tbody tr th {\n",
              "        vertical-align: top;\n",
              "    }\n",
              "\n",
              "    .dataframe thead th {\n",
              "        text-align: right;\n",
              "    }\n",
              "</style>\n",
              "<table border=\"1\" class=\"dataframe\">\n",
              "  <thead>\n",
              "    <tr style=\"text-align: right;\">\n",
              "      <th></th>\n",
              "      <th>item_format</th>\n",
              "      <th>branch_name</th>\n",
              "      <th>count_items</th>\n",
              "    </tr>\n",
              "  </thead>\n",
              "  <tbody>\n",
              "    <tr>\n",
              "      <th>0</th>\n",
              "      <td>Bluray</td>\n",
              "      <td>Main Library</td>\n",
              "      <td>2</td>\n",
              "    </tr>\n",
              "    <tr>\n",
              "      <th>1</th>\n",
              "      <td>Book</td>\n",
              "      <td>Anderson</td>\n",
              "      <td>40</td>\n",
              "    </tr>\n",
              "    <tr>\n",
              "      <th>2</th>\n",
              "      <td>Book</td>\n",
              "      <td>Avondale</td>\n",
              "      <td>84</td>\n",
              "    </tr>\n",
              "    <tr>\n",
              "      <th>3</th>\n",
              "      <td>Book</td>\n",
              "      <td>Blue Ash</td>\n",
              "      <td>60</td>\n",
              "    </tr>\n",
              "    <tr>\n",
              "      <th>4</th>\n",
              "      <td>Book</td>\n",
              "      <td>Bond Hill</td>\n",
              "      <td>175</td>\n",
              "    </tr>\n",
              "  </tbody>\n",
              "</table>\n",
              "</div>\n",
              "      <button class=\"colab-df-convert\" onclick=\"convertToInteractive('df-65ee4f52-59df-438f-8501-cc71a58af80f')\"\n",
              "              title=\"Convert this dataframe to an interactive table.\"\n",
              "              style=\"display:none;\">\n",
              "        \n",
              "  <svg xmlns=\"http://www.w3.org/2000/svg\" height=\"24px\"viewBox=\"0 0 24 24\"\n",
              "       width=\"24px\">\n",
              "    <path d=\"M0 0h24v24H0V0z\" fill=\"none\"/>\n",
              "    <path d=\"M18.56 5.44l.94 2.06.94-2.06 2.06-.94-2.06-.94-.94-2.06-.94 2.06-2.06.94zm-11 1L8.5 8.5l.94-2.06 2.06-.94-2.06-.94L8.5 2.5l-.94 2.06-2.06.94zm10 10l.94 2.06.94-2.06 2.06-.94-2.06-.94-.94-2.06-.94 2.06-2.06.94z\"/><path d=\"M17.41 7.96l-1.37-1.37c-.4-.4-.92-.59-1.43-.59-.52 0-1.04.2-1.43.59L10.3 9.45l-7.72 7.72c-.78.78-.78 2.05 0 2.83L4 21.41c.39.39.9.59 1.41.59.51 0 1.02-.2 1.41-.59l7.78-7.78 2.81-2.81c.8-.78.8-2.07 0-2.86zM5.41 20L4 18.59l7.72-7.72 1.47 1.35L5.41 20z\"/>\n",
              "  </svg>\n",
              "      </button>\n",
              "      \n",
              "  <style>\n",
              "    .colab-df-container {\n",
              "      display:flex;\n",
              "      flex-wrap:wrap;\n",
              "      gap: 12px;\n",
              "    }\n",
              "\n",
              "    .colab-df-convert {\n",
              "      background-color: #E8F0FE;\n",
              "      border: none;\n",
              "      border-radius: 50%;\n",
              "      cursor: pointer;\n",
              "      display: none;\n",
              "      fill: #1967D2;\n",
              "      height: 32px;\n",
              "      padding: 0 0 0 0;\n",
              "      width: 32px;\n",
              "    }\n",
              "\n",
              "    .colab-df-convert:hover {\n",
              "      background-color: #E2EBFA;\n",
              "      box-shadow: 0px 1px 2px rgba(60, 64, 67, 0.3), 0px 1px 3px 1px rgba(60, 64, 67, 0.15);\n",
              "      fill: #174EA6;\n",
              "    }\n",
              "\n",
              "    [theme=dark] .colab-df-convert {\n",
              "      background-color: #3B4455;\n",
              "      fill: #D2E3FC;\n",
              "    }\n",
              "\n",
              "    [theme=dark] .colab-df-convert:hover {\n",
              "      background-color: #434B5C;\n",
              "      box-shadow: 0px 1px 3px 1px rgba(0, 0, 0, 0.15);\n",
              "      filter: drop-shadow(0px 1px 2px rgba(0, 0, 0, 0.3));\n",
              "      fill: #FFFFFF;\n",
              "    }\n",
              "  </style>\n",
              "\n",
              "      <script>\n",
              "        const buttonEl =\n",
              "          document.querySelector('#df-65ee4f52-59df-438f-8501-cc71a58af80f button.colab-df-convert');\n",
              "        buttonEl.style.display =\n",
              "          google.colab.kernel.accessAllowed ? 'block' : 'none';\n",
              "\n",
              "        async function convertToInteractive(key) {\n",
              "          const element = document.querySelector('#df-65ee4f52-59df-438f-8501-cc71a58af80f');\n",
              "          const dataTable =\n",
              "            await google.colab.kernel.invokeFunction('convertToInteractive',\n",
              "                                                     [key], {});\n",
              "          if (!dataTable) return;\n",
              "\n",
              "          const docLinkHtml = 'Like what you see? Visit the ' +\n",
              "            '<a target=\"_blank\" href=https://colab.research.google.com/notebooks/data_table.ipynb>data table notebook</a>'\n",
              "            + ' to learn more about interactive tables.';\n",
              "          element.innerHTML = '';\n",
              "          dataTable['output_type'] = 'display_data';\n",
              "          await google.colab.output.renderOutput(dataTable, element);\n",
              "          const docLink = document.createElement('div');\n",
              "          docLink.innerHTML = docLinkHtml;\n",
              "          element.appendChild(docLink);\n",
              "        }\n",
              "      </script>\n",
              "    </div>\n",
              "  </div>\n",
              "  "
            ]
          },
          "metadata": {},
          "execution_count": 77
        }
      ]
    },
    {
      "cell_type": "code",
      "source": [
        "#@title\n",
        "chart = alt.Chart(df).mark_bar().encode(\n",
        "    # x='end_date:T',\n",
        "    x=alt.X(\n",
        "        'item_format',\n",
        "        axis=alt.Axis(title='item format', labelAngle=-70),\n",
        "        # sort='-y'\n",
        "    ),\n",
        "    y=alt.Y(\n",
        "        'count_items:Q',\n",
        "        title = 'count total items w/ no chk outs (6-12 months old)',\n",
        "        # scale = alt.Scale(domain=[0,100]),\n",
        "    ),\n",
        "    color=alt.Color(\n",
        "        'item_format',\n",
        "        # legend=None\n",
        "    ),\n",
        "    tooltip=['branch_name', 'item_format', 'count_items']\n",
        ").properties(\n",
        "    title=\"\",\n",
        "    # .format(df.iloc[0]['branch_name']),\n",
        "    width=400,\n",
        ").facet(\n",
        "    facet='branch_name',\n",
        "    columns=4\n",
        ")\n",
        "\n",
        "chart.display()\n",
        "chart.save('output.html')"
      ],
      "metadata": {
        "cellView": "form",
        "id": "4yaPfllMW9Yu",
        "outputId": "6d532bce-3e2a-4580-c57d-3edd16902a60",
        "colab": {
          "base_uri": "https://localhost:8080/",
          "height": 1000
        }
      },
      "id": "4yaPfllMW9Yu",
      "execution_count": 83,
      "outputs": [
        {
          "output_type": "display_data",
          "data": {
            "text/html": [
              "\n",
              "<div id=\"altair-viz-3a9ffe5166db48eaa44c7c545b9dce1f\"></div>\n",
              "<script type=\"text/javascript\">\n",
              "  var VEGA_DEBUG = (typeof VEGA_DEBUG == \"undefined\") ? {} : VEGA_DEBUG;\n",
              "  (function(spec, embedOpt){\n",
              "    let outputDiv = document.currentScript.previousElementSibling;\n",
              "    if (outputDiv.id !== \"altair-viz-3a9ffe5166db48eaa44c7c545b9dce1f\") {\n",
              "      outputDiv = document.getElementById(\"altair-viz-3a9ffe5166db48eaa44c7c545b9dce1f\");\n",
              "    }\n",
              "    const paths = {\n",
              "      \"vega\": \"https://cdn.jsdelivr.net/npm//vega@5?noext\",\n",
              "      \"vega-lib\": \"https://cdn.jsdelivr.net/npm//vega-lib?noext\",\n",
              "      \"vega-lite\": \"https://cdn.jsdelivr.net/npm//vega-lite@4.17.0?noext\",\n",
              "      \"vega-embed\": \"https://cdn.jsdelivr.net/npm//vega-embed@6?noext\",\n",
              "    };\n",
              "\n",
              "    function maybeLoadScript(lib, version) {\n",
              "      var key = `${lib.replace(\"-\", \"\")}_version`;\n",
              "      return (VEGA_DEBUG[key] == version) ?\n",
              "        Promise.resolve(paths[lib]) :\n",
              "        new Promise(function(resolve, reject) {\n",
              "          var s = document.createElement('script');\n",
              "          document.getElementsByTagName(\"head\")[0].appendChild(s);\n",
              "          s.async = true;\n",
              "          s.onload = () => {\n",
              "            VEGA_DEBUG[key] = version;\n",
              "            return resolve(paths[lib]);\n",
              "          };\n",
              "          s.onerror = () => reject(`Error loading script: ${paths[lib]}`);\n",
              "          s.src = paths[lib];\n",
              "        });\n",
              "    }\n",
              "\n",
              "    function showError(err) {\n",
              "      outputDiv.innerHTML = `<div class=\"error\" style=\"color:red;\">${err}</div>`;\n",
              "      throw err;\n",
              "    }\n",
              "\n",
              "    function displayChart(vegaEmbed) {\n",
              "      vegaEmbed(outputDiv, spec, embedOpt)\n",
              "        .catch(err => showError(`Javascript Error: ${err.message}<br>This usually means there's a typo in your chart specification. See the javascript console for the full traceback.`));\n",
              "    }\n",
              "\n",
              "    if(typeof define === \"function\" && define.amd) {\n",
              "      requirejs.config({paths});\n",
              "      require([\"vega-embed\"], displayChart, err => showError(`Error loading script: ${err.message}`));\n",
              "    } else {\n",
              "      maybeLoadScript(\"vega\", \"5\")\n",
              "        .then(() => maybeLoadScript(\"vega-lite\", \"4.17.0\"))\n",
              "        .then(() => maybeLoadScript(\"vega-embed\", \"6\"))\n",
              "        .catch(showError)\n",
              "        .then(() => displayChart(vegaEmbed));\n",
              "    }\n",
              "  })({\"config\": {\"view\": {\"continuousWidth\": 400, \"continuousHeight\": 300}}, \"data\": {\"name\": \"data-ade77ce36e7a1e58f39bff8f6b7df2df\"}, \"facet\": {\"field\": \"branch_name\", \"type\": \"nominal\"}, \"spec\": {\"mark\": \"bar\", \"encoding\": {\"color\": {\"field\": \"item_format\", \"type\": \"nominal\"}, \"tooltip\": [{\"field\": \"branch_name\", \"type\": \"nominal\"}, {\"field\": \"item_format\", \"type\": \"nominal\"}, {\"field\": \"count_items\", \"type\": \"quantitative\"}], \"x\": {\"axis\": {\"labelAngle\": -70, \"title\": \"item format\"}, \"field\": \"item_format\", \"type\": \"nominal\"}, \"y\": {\"field\": \"count_items\", \"title\": \"count total items w/ no chk outs (6-12 months old)\", \"type\": \"quantitative\"}}, \"title\": \"\", \"width\": 400}, \"columns\": 4, \"$schema\": \"https://vega.github.io/schema/vega-lite/v4.17.0.json\", \"datasets\": {\"data-ade77ce36e7a1e58f39bff8f6b7df2df\": [{\"item_format\": \"Bluray\", \"branch_name\": \"Main Library\", \"count_items\": 2}, {\"item_format\": \"Book\", \"branch_name\": \"Anderson\", \"count_items\": 40}, {\"item_format\": \"Book\", \"branch_name\": \"Avondale\", \"count_items\": 84}, {\"item_format\": \"Book\", \"branch_name\": \"Blue Ash\", \"count_items\": 60}, {\"item_format\": \"Book\", \"branch_name\": \"Bond Hill\", \"count_items\": 175}, {\"item_format\": \"Book\", \"branch_name\": \"Cheviot\", \"count_items\": 60}, {\"item_format\": \"Book\", \"branch_name\": \"Clifton\", \"count_items\": 29}, {\"item_format\": \"Book\", \"branch_name\": \"College Hill\", \"count_items\": 80}, {\"item_format\": \"Book\", \"branch_name\": \"Corryville\", \"count_items\": 68}, {\"item_format\": \"Book\", \"branch_name\": \"Covedale\", \"count_items\": 99}, {\"item_format\": \"Book\", \"branch_name\": \"Deer Park\", \"count_items\": 116}, {\"item_format\": \"Book\", \"branch_name\": \"Delhi Township\", \"count_items\": 78}, {\"item_format\": \"Book\", \"branch_name\": \"Elmwood Place\", \"count_items\": 37}, {\"item_format\": \"Book\", \"branch_name\": \"Forest Park\", \"count_items\": 64}, {\"item_format\": \"Book\", \"branch_name\": \"Green Township\", \"count_items\": 89}, {\"item_format\": \"Book\", \"branch_name\": \"Greenhills\", \"count_items\": 51}, {\"item_format\": \"Book\", \"branch_name\": \"Groesbeck\", \"count_items\": 76}, {\"item_format\": \"Book\", \"branch_name\": \"Harrison\", \"count_items\": 68}, {\"item_format\": \"Book\", \"branch_name\": \"Hyde Park\", \"count_items\": 38}, {\"item_format\": \"Book\", \"branch_name\": \"Loveland\", \"count_items\": 65}, {\"item_format\": \"Book\", \"branch_name\": \"Madeira\", \"count_items\": 77}, {\"item_format\": \"Book\", \"branch_name\": \"Madisonville\", \"count_items\": 62}, {\"item_format\": \"Book\", \"branch_name\": \"Main Library\", \"count_items\": 721}, {\"item_format\": \"Book\", \"branch_name\": \"Mariemont\", \"count_items\": 70}, {\"item_format\": \"Book\", \"branch_name\": \"Miami Township\", \"count_items\": 55}, {\"item_format\": \"Book\", \"branch_name\": \"Monfort Heights\", \"count_items\": 43}, {\"item_format\": \"Book\", \"branch_name\": \"Mt Healthy\", \"count_items\": 4}, {\"item_format\": \"Book\", \"branch_name\": \"Mt Washington\", \"count_items\": 45}, {\"item_format\": \"Book\", \"branch_name\": \"North Central\", \"count_items\": 142}, {\"item_format\": \"Book\", \"branch_name\": \"Northside\", \"count_items\": 26}, {\"item_format\": \"Book\", \"branch_name\": \"Norwood\", \"count_items\": 47}, {\"item_format\": \"Book\", \"branch_name\": \"Oakley\", \"count_items\": 74}, {\"item_format\": \"Book\", \"branch_name\": \"Outreach Services\", \"count_items\": 11}, {\"item_format\": \"Book\", \"branch_name\": \"Pleasant Ridge\", \"count_items\": 22}, {\"item_format\": \"Book\", \"branch_name\": \"Price Hill\", \"count_items\": 289}, {\"item_format\": \"Book\", \"branch_name\": \"Reading\", \"count_items\": 82}, {\"item_format\": \"Book\", \"branch_name\": \"Sharonville\", \"count_items\": 94}, {\"item_format\": \"Book\", \"branch_name\": \"St Bernard\", \"count_items\": 80}, {\"item_format\": \"Book\", \"branch_name\": \"Symmes Township\", \"count_items\": 69}, {\"item_format\": \"Book\", \"branch_name\": \"Virtual Library\", \"count_items\": 6}, {\"item_format\": \"Book\", \"branch_name\": \"Walnut Hills\", \"count_items\": 18}, {\"item_format\": \"Book\", \"branch_name\": \"West End\", \"count_items\": 87}, {\"item_format\": \"Book\", \"branch_name\": \"Westwood\", \"count_items\": 68}, {\"item_format\": \"Book\", \"branch_name\": \"Wyoming\", \"count_items\": 56}, {\"item_format\": \"Book on CD\", \"branch_name\": \"Anderson\", \"count_items\": 1}, {\"item_format\": \"Book on CD\", \"branch_name\": \"Avondale\", \"count_items\": 1}, {\"item_format\": \"Book on CD\", \"branch_name\": \"Bond Hill\", \"count_items\": 2}, {\"item_format\": \"Book on CD\", \"branch_name\": \"Clifton\", \"count_items\": 2}, {\"item_format\": \"Book on CD\", \"branch_name\": \"Corryville\", \"count_items\": 1}, {\"item_format\": \"Book on CD\", \"branch_name\": \"Covedale\", \"count_items\": 1}, {\"item_format\": \"Book on CD\", \"branch_name\": \"Deer Park\", \"count_items\": 10}, {\"item_format\": \"Book on CD\", \"branch_name\": \"Delhi Township\", \"count_items\": 2}, {\"item_format\": \"Book on CD\", \"branch_name\": \"Elmwood Place\", \"count_items\": 1}, {\"item_format\": \"Book on CD\", \"branch_name\": \"Green Township\", \"count_items\": 5}, {\"item_format\": \"Book on CD\", \"branch_name\": \"Greenhills\", \"count_items\": 1}, {\"item_format\": \"Book on CD\", \"branch_name\": \"Hyde Park\", \"count_items\": 1}, {\"item_format\": \"Book on CD\", \"branch_name\": \"Madeira\", \"count_items\": 2}, {\"item_format\": \"Book on CD\", \"branch_name\": \"Main Library\", \"count_items\": 21}, {\"item_format\": \"Book on CD\", \"branch_name\": \"Monfort Heights\", \"count_items\": 1}, {\"item_format\": \"Book on CD\", \"branch_name\": \"North Central\", \"count_items\": 1}, {\"item_format\": \"Book on CD\", \"branch_name\": \"Norwood\", \"count_items\": 1}, {\"item_format\": \"Book on CD\", \"branch_name\": \"Oakley\", \"count_items\": 1}, {\"item_format\": \"Book on CD\", \"branch_name\": \"Outreach Services\", \"count_items\": 1}, {\"item_format\": \"Book on CD\", \"branch_name\": \"Price Hill\", \"count_items\": 3}, {\"item_format\": \"Book on CD\", \"branch_name\": \"Reading\", \"count_items\": 3}, {\"item_format\": \"Book on CD\", \"branch_name\": \"Sharonville\", \"count_items\": 1}, {\"item_format\": \"Book on CD\", \"branch_name\": \"Symmes Township\", \"count_items\": 2}, {\"item_format\": \"Book on CD\", \"branch_name\": \"Wyoming\", \"count_items\": 1}, {\"item_format\": \"DVD/Videocassette\", \"branch_name\": \"Anderson\", \"count_items\": 4}, {\"item_format\": \"DVD/Videocassette\", \"branch_name\": \"Avondale\", \"count_items\": 4}, {\"item_format\": \"DVD/Videocassette\", \"branch_name\": \"Blue Ash\", \"count_items\": 13}, {\"item_format\": \"DVD/Videocassette\", \"branch_name\": \"Bond Hill\", \"count_items\": 26}, {\"item_format\": \"DVD/Videocassette\", \"branch_name\": \"Cheviot\", \"count_items\": 3}, {\"item_format\": \"DVD/Videocassette\", \"branch_name\": \"Clifton\", \"count_items\": 2}, {\"item_format\": \"DVD/Videocassette\", \"branch_name\": \"College Hill\", \"count_items\": 3}, {\"item_format\": \"DVD/Videocassette\", \"branch_name\": \"Corryville\", \"count_items\": 9}, {\"item_format\": \"DVD/Videocassette\", \"branch_name\": \"Covedale\", \"count_items\": 7}, {\"item_format\": \"DVD/Videocassette\", \"branch_name\": \"Deer Park\", \"count_items\": 23}, {\"item_format\": \"DVD/Videocassette\", \"branch_name\": \"Delhi Township\", \"count_items\": 12}, {\"item_format\": \"DVD/Videocassette\", \"branch_name\": \"Elmwood Place\", \"count_items\": 4}, {\"item_format\": \"DVD/Videocassette\", \"branch_name\": \"Forest Park\", \"count_items\": 7}, {\"item_format\": \"DVD/Videocassette\", \"branch_name\": \"Green Township\", \"count_items\": 9}, {\"item_format\": \"DVD/Videocassette\", \"branch_name\": \"Greenhills\", \"count_items\": 6}, {\"item_format\": \"DVD/Videocassette\", \"branch_name\": \"Groesbeck\", \"count_items\": 9}, {\"item_format\": \"DVD/Videocassette\", \"branch_name\": \"Harrison\", \"count_items\": 4}, {\"item_format\": \"DVD/Videocassette\", \"branch_name\": \"Hyde Park\", \"count_items\": 3}, {\"item_format\": \"DVD/Videocassette\", \"branch_name\": \"Loveland\", \"count_items\": 5}, {\"item_format\": \"DVD/Videocassette\", \"branch_name\": \"Madeira\", \"count_items\": 16}, {\"item_format\": \"DVD/Videocassette\", \"branch_name\": \"Madisonville\", \"count_items\": 15}, {\"item_format\": \"DVD/Videocassette\", \"branch_name\": \"Main Library\", \"count_items\": 68}, {\"item_format\": \"DVD/Videocassette\", \"branch_name\": \"Mariemont\", \"count_items\": 13}, {\"item_format\": \"DVD/Videocassette\", \"branch_name\": \"Miami Township\", \"count_items\": 3}, {\"item_format\": \"DVD/Videocassette\", \"branch_name\": \"Monfort Heights\", \"count_items\": 10}, {\"item_format\": \"DVD/Videocassette\", \"branch_name\": \"Mt Washington\", \"count_items\": 5}, {\"item_format\": \"DVD/Videocassette\", \"branch_name\": \"North Central\", \"count_items\": 22}, {\"item_format\": \"DVD/Videocassette\", \"branch_name\": \"Northside\", \"count_items\": 25}, {\"item_format\": \"DVD/Videocassette\", \"branch_name\": \"Norwood\", \"count_items\": 9}, {\"item_format\": \"DVD/Videocassette\", \"branch_name\": \"Oakley\", \"count_items\": 6}, {\"item_format\": \"DVD/Videocassette\", \"branch_name\": \"Pleasant Ridge\", \"count_items\": 4}, {\"item_format\": \"DVD/Videocassette\", \"branch_name\": \"Price Hill\", \"count_items\": 39}, {\"item_format\": \"DVD/Videocassette\", \"branch_name\": \"Reading\", \"count_items\": 18}, {\"item_format\": \"DVD/Videocassette\", \"branch_name\": \"Sharonville\", \"count_items\": 22}, {\"item_format\": \"DVD/Videocassette\", \"branch_name\": \"St Bernard\", \"count_items\": 15}, {\"item_format\": \"DVD/Videocassette\", \"branch_name\": \"Symmes Township\", \"count_items\": 14}, {\"item_format\": \"DVD/Videocassette\", \"branch_name\": \"West End\", \"count_items\": 2}, {\"item_format\": \"DVD/Videocassette\", \"branch_name\": \"Westwood\", \"count_items\": 6}, {\"item_format\": \"DVD/Videocassette\", \"branch_name\": \"Wyoming\", \"count_items\": 13}, {\"item_format\": \"E-Magazine\", \"branch_name\": \"Virtual Library\", \"count_items\": 4}, {\"item_format\": \"Government Document\", \"branch_name\": \"Main Library\", \"count_items\": 4}, {\"item_format\": \"Juv Large Print Book (Branches)\", \"branch_name\": \"Main Library\", \"count_items\": 2}, {\"item_format\": \"Juvenile Book\", \"branch_name\": \"Anderson\", \"count_items\": 50}, {\"item_format\": \"Juvenile Book\", \"branch_name\": \"Avondale\", \"count_items\": 152}, {\"item_format\": \"Juvenile Book\", \"branch_name\": \"Blue Ash\", \"count_items\": 67}, {\"item_format\": \"Juvenile Book\", \"branch_name\": \"Bond Hill\", \"count_items\": 516}, {\"item_format\": \"Juvenile Book\", \"branch_name\": \"Cheviot\", \"count_items\": 165}, {\"item_format\": \"Juvenile Book\", \"branch_name\": \"Clifton\", \"count_items\": 35}, {\"item_format\": \"Juvenile Book\", \"branch_name\": \"College Hill\", \"count_items\": 110}, {\"item_format\": \"Juvenile Book\", \"branch_name\": \"Corryville\", \"count_items\": 331}, {\"item_format\": \"Juvenile Book\", \"branch_name\": \"Covedale\", \"count_items\": 198}, {\"item_format\": \"Juvenile Book\", \"branch_name\": \"Deer Park\", \"count_items\": 154}, {\"item_format\": \"Juvenile Book\", \"branch_name\": \"Delhi Township\", \"count_items\": 243}, {\"item_format\": \"Juvenile Book\", \"branch_name\": \"Elmwood Place\", \"count_items\": 109}, {\"item_format\": \"Juvenile Book\", \"branch_name\": \"Forest Park\", \"count_items\": 173}, {\"item_format\": \"Juvenile Book\", \"branch_name\": \"Green Township\", \"count_items\": 111}, {\"item_format\": \"Juvenile Book\", \"branch_name\": \"Greenhills\", \"count_items\": 96}, {\"item_format\": \"Juvenile Book\", \"branch_name\": \"Groesbeck\", \"count_items\": 442}, {\"item_format\": \"Juvenile Book\", \"branch_name\": \"Harrison\", \"count_items\": 136}, {\"item_format\": \"Juvenile Book\", \"branch_name\": \"Hyde Park\", \"count_items\": 32}, {\"item_format\": \"Juvenile Book\", \"branch_name\": \"Loveland\", \"count_items\": 26}, {\"item_format\": \"Juvenile Book\", \"branch_name\": \"Madeira\", \"count_items\": 227}, {\"item_format\": \"Juvenile Book\", \"branch_name\": \"Madisonville\", \"count_items\": 276}, {\"item_format\": \"Juvenile Book\", \"branch_name\": \"Main Library\", \"count_items\": 576}, {\"item_format\": \"Juvenile Book\", \"branch_name\": \"Mariemont\", \"count_items\": 50}, {\"item_format\": \"Juvenile Book\", \"branch_name\": \"Miami Township\", \"count_items\": 84}, {\"item_format\": \"Juvenile Book\", \"branch_name\": \"Monfort Heights\", \"count_items\": 265}, {\"item_format\": \"Juvenile Book\", \"branch_name\": \"Mt Healthy\", \"count_items\": 3}, {\"item_format\": \"Juvenile Book\", \"branch_name\": \"Mt Washington\", \"count_items\": 80}, {\"item_format\": \"Juvenile Book\", \"branch_name\": \"North Central\", \"count_items\": 567}, {\"item_format\": \"Juvenile Book\", \"branch_name\": \"Northside\", \"count_items\": 202}, {\"item_format\": \"Juvenile Book\", \"branch_name\": \"Norwood\", \"count_items\": 157}, {\"item_format\": \"Juvenile Book\", \"branch_name\": \"Oakley\", \"count_items\": 196}, {\"item_format\": \"Juvenile Book\", \"branch_name\": \"Outreach Services\", \"count_items\": 1619}, {\"item_format\": \"Juvenile Book\", \"branch_name\": \"Pleasant Ridge\", \"count_items\": 12}, {\"item_format\": \"Juvenile Book\", \"branch_name\": \"Price Hill\", \"count_items\": 372}, {\"item_format\": \"Juvenile Book\", \"branch_name\": \"Reading\", \"count_items\": 160}, {\"item_format\": \"Juvenile Book\", \"branch_name\": \"Sharonville\", \"count_items\": 239}, {\"item_format\": \"Juvenile Book\", \"branch_name\": \"St Bernard\", \"count_items\": 302}, {\"item_format\": \"Juvenile Book\", \"branch_name\": \"Symmes Township\", \"count_items\": 61}, {\"item_format\": \"Juvenile Book\", \"branch_name\": \"Walnut Hills\", \"count_items\": 30}, {\"item_format\": \"Juvenile Book\", \"branch_name\": \"West End\", \"count_items\": 313}, {\"item_format\": \"Juvenile Book\", \"branch_name\": \"Westwood\", \"count_items\": 198}, {\"item_format\": \"Juvenile Book\", \"branch_name\": \"Wyoming\", \"count_items\": 62}, {\"item_format\": \"Juvenile Book on CD\", \"branch_name\": \"Anderson\", \"count_items\": 6}, {\"item_format\": \"Juvenile Book on CD\", \"branch_name\": \"Blue Ash\", \"count_items\": 5}, {\"item_format\": \"Juvenile Book on CD\", \"branch_name\": \"Bond Hill\", \"count_items\": 3}, {\"item_format\": \"Juvenile Book on CD\", \"branch_name\": \"Clifton\", \"count_items\": 1}, {\"item_format\": \"Juvenile Book on CD\", \"branch_name\": \"Corryville\", \"count_items\": 1}, {\"item_format\": \"Juvenile Book on CD\", \"branch_name\": \"Covedale\", \"count_items\": 1}, {\"item_format\": \"Juvenile Book on CD\", \"branch_name\": \"Deer Park\", \"count_items\": 2}, {\"item_format\": \"Juvenile Book on CD\", \"branch_name\": \"Delhi Township\", \"count_items\": 2}, {\"item_format\": \"Juvenile Book on CD\", \"branch_name\": \"Elmwood Place\", \"count_items\": 2}, {\"item_format\": \"Juvenile Book on CD\", \"branch_name\": \"Forest Park\", \"count_items\": 1}, {\"item_format\": \"Juvenile Book on CD\", \"branch_name\": \"Green Township\", \"count_items\": 3}, {\"item_format\": \"Juvenile Book on CD\", \"branch_name\": \"Groesbeck\", \"count_items\": 2}, {\"item_format\": \"Juvenile Book on CD\", \"branch_name\": \"Harrison\", \"count_items\": 2}, {\"item_format\": \"Juvenile Book on CD\", \"branch_name\": \"Loveland\", \"count_items\": 3}, {\"item_format\": \"Juvenile Book on CD\", \"branch_name\": \"Madeira\", \"count_items\": 6}, {\"item_format\": \"Juvenile Book on CD\", \"branch_name\": \"Madisonville\", \"count_items\": 2}, {\"item_format\": \"Juvenile Book on CD\", \"branch_name\": \"Main Library\", \"count_items\": 1}, {\"item_format\": \"Juvenile Book on CD\", \"branch_name\": \"Mariemont\", \"count_items\": 1}, {\"item_format\": \"Juvenile Book on CD\", \"branch_name\": \"Miami Township\", \"count_items\": 1}, {\"item_format\": \"Juvenile Book on CD\", \"branch_name\": \"North Central\", \"count_items\": 2}, {\"item_format\": \"Juvenile Book on CD\", \"branch_name\": \"Norwood\", \"count_items\": 1}, {\"item_format\": \"Juvenile Book on CD\", \"branch_name\": \"Outreach Services\", \"count_items\": 1}, {\"item_format\": \"Juvenile Book on CD\", \"branch_name\": \"Price Hill\", \"count_items\": 4}, {\"item_format\": \"Juvenile Book on CD\", \"branch_name\": \"Reading\", \"count_items\": 3}, {\"item_format\": \"Juvenile Book on CD\", \"branch_name\": \"Sharonville\", \"count_items\": 2}, {\"item_format\": \"Juvenile Book on CD\", \"branch_name\": \"St Bernard\", \"count_items\": 1}, {\"item_format\": \"Juvenile Book on CD\", \"branch_name\": \"Symmes Township\", \"count_items\": 3}, {\"item_format\": \"Juvenile Book on CD\", \"branch_name\": \"West End\", \"count_items\": 1}, {\"item_format\": \"Juvenile Book on CD\", \"branch_name\": \"Westwood\", \"count_items\": 2}, {\"item_format\": \"Juvenile Book on CD\", \"branch_name\": \"Wyoming\", \"count_items\": 2}, {\"item_format\": \"Juvenile Kit\", \"branch_name\": \"Main Library\", \"count_items\": 1}, {\"item_format\": \"Juvenile Large Print Book\", \"branch_name\": \"Bond Hill\", \"count_items\": 3}, {\"item_format\": \"Juvenile Large Print Book\", \"branch_name\": \"Cheviot\", \"count_items\": 1}, {\"item_format\": \"Juvenile Large Print Book\", \"branch_name\": \"Corryville\", \"count_items\": 3}, {\"item_format\": \"Juvenile Large Print Book\", \"branch_name\": \"Deer Park\", \"count_items\": 1}, {\"item_format\": \"Juvenile Large Print Book\", \"branch_name\": \"Delhi Township\", \"count_items\": 2}, {\"item_format\": \"Juvenile Large Print Book\", \"branch_name\": \"Forest Park\", \"count_items\": 2}, {\"item_format\": \"Juvenile Large Print Book\", \"branch_name\": \"Green Township\", \"count_items\": 1}, {\"item_format\": \"Juvenile Large Print Book\", \"branch_name\": \"Groesbeck\", \"count_items\": 7}, {\"item_format\": \"Juvenile Large Print Book\", \"branch_name\": \"Madeira\", \"count_items\": 3}, {\"item_format\": \"Juvenile Large Print Book\", \"branch_name\": \"Madisonville\", \"count_items\": 3}, {\"item_format\": \"Juvenile Large Print Book\", \"branch_name\": \"Main Library\", \"count_items\": 5}, {\"item_format\": \"Juvenile Large Print Book\", \"branch_name\": \"Mariemont\", \"count_items\": 1}, {\"item_format\": \"Juvenile Large Print Book\", \"branch_name\": \"Monfort Heights\", \"count_items\": 2}, {\"item_format\": \"Juvenile Large Print Book\", \"branch_name\": \"Mt Washington\", \"count_items\": 1}, {\"item_format\": \"Juvenile Large Print Book\", \"branch_name\": \"North Central\", \"count_items\": 6}, {\"item_format\": \"Juvenile Large Print Book\", \"branch_name\": \"Norwood\", \"count_items\": 1}, {\"item_format\": \"Juvenile Large Print Book\", \"branch_name\": \"Oakley\", \"count_items\": 1}, {\"item_format\": \"Juvenile Large Print Book\", \"branch_name\": \"Outreach Services\", \"count_items\": 20}, {\"item_format\": \"Juvenile Large Print Book\", \"branch_name\": \"Pleasant Ridge\", \"count_items\": 1}, {\"item_format\": \"Juvenile Large Print Book\", \"branch_name\": \"Price Hill\", \"count_items\": 2}, {\"item_format\": \"Juvenile Large Print Book\", \"branch_name\": \"Reading\", \"count_items\": 2}, {\"item_format\": \"Juvenile Large Print Book\", \"branch_name\": \"St Bernard\", \"count_items\": 6}, {\"item_format\": \"Juvenile Large Print Book\", \"branch_name\": \"West End\", \"count_items\": 1}, {\"item_format\": \"Juvenile Large Print Book\", \"branch_name\": \"Westwood\", \"count_items\": 2}, {\"item_format\": \"Juvenile Magazine\", \"branch_name\": \"Anderson\", \"count_items\": 11}, {\"item_format\": \"Juvenile Magazine\", \"branch_name\": \"Avondale\", \"count_items\": 12}, {\"item_format\": \"Juvenile Magazine\", \"branch_name\": \"Blue Ash\", \"count_items\": 13}, {\"item_format\": \"Juvenile Magazine\", \"branch_name\": \"Bond Hill\", \"count_items\": 32}, {\"item_format\": \"Juvenile Magazine\", \"branch_name\": \"Cheviot\", \"count_items\": 6}, {\"item_format\": \"Juvenile Magazine\", \"branch_name\": \"Clifton\", \"count_items\": 10}, {\"item_format\": \"Juvenile Magazine\", \"branch_name\": \"College Hill\", \"count_items\": 34}, {\"item_format\": \"Juvenile Magazine\", \"branch_name\": \"Corryville\", \"count_items\": 16}, {\"item_format\": \"Juvenile Magazine\", \"branch_name\": \"Covedale\", \"count_items\": 44}, {\"item_format\": \"Juvenile Magazine\", \"branch_name\": \"Deer Park\", \"count_items\": 15}, {\"item_format\": \"Juvenile Magazine\", \"branch_name\": \"Delhi Township\", \"count_items\": 14}, {\"item_format\": \"Juvenile Magazine\", \"branch_name\": \"Elmwood Place\", \"count_items\": 32}, {\"item_format\": \"Juvenile Magazine\", \"branch_name\": \"Forest Park\", \"count_items\": 19}, {\"item_format\": \"Juvenile Magazine\", \"branch_name\": \"Green Township\", \"count_items\": 21}, {\"item_format\": \"Juvenile Magazine\", \"branch_name\": \"Greenhills\", \"count_items\": 11}, {\"item_format\": \"Juvenile Magazine\", \"branch_name\": \"Groesbeck\", \"count_items\": 5}, {\"item_format\": \"Juvenile Magazine\", \"branch_name\": \"Harrison\", \"count_items\": 5}, {\"item_format\": \"Juvenile Magazine\", \"branch_name\": \"Hyde Park\", \"count_items\": 5}, {\"item_format\": \"Juvenile Magazine\", \"branch_name\": \"Loveland\", \"count_items\": 9}, {\"item_format\": \"Juvenile Magazine\", \"branch_name\": \"Madeira\", \"count_items\": 18}, {\"item_format\": \"Juvenile Magazine\", \"branch_name\": \"Madisonville\", \"count_items\": 38}, {\"item_format\": \"Juvenile Magazine\", \"branch_name\": \"Main Library\", \"count_items\": 85}, {\"item_format\": \"Juvenile Magazine\", \"branch_name\": \"Mariemont\", \"count_items\": 8}, {\"item_format\": \"Juvenile Magazine\", \"branch_name\": \"Miami Township\", \"count_items\": 11}, {\"item_format\": \"Juvenile Magazine\", \"branch_name\": \"Monfort Heights\", \"count_items\": 7}, {\"item_format\": \"Juvenile Magazine\", \"branch_name\": \"Mt Healthy\", \"count_items\": 31}, {\"item_format\": \"Juvenile Magazine\", \"branch_name\": \"Mt Washington\", \"count_items\": 5}, {\"item_format\": \"Juvenile Magazine\", \"branch_name\": \"North Central\", \"count_items\": 30}, {\"item_format\": \"Juvenile Magazine\", \"branch_name\": \"Northside\", \"count_items\": 17}, {\"item_format\": \"Juvenile Magazine\", \"branch_name\": \"Norwood\", \"count_items\": 18}, {\"item_format\": \"Juvenile Magazine\", \"branch_name\": \"Oakley\", \"count_items\": 14}, {\"item_format\": \"Juvenile Magazine\", \"branch_name\": \"Outreach Services\", \"count_items\": 56}, {\"item_format\": \"Juvenile Magazine\", \"branch_name\": \"Pleasant Ridge\", \"count_items\": 27}, {\"item_format\": \"Juvenile Magazine\", \"branch_name\": \"Price Hill\", \"count_items\": 16}, {\"item_format\": \"Juvenile Magazine\", \"branch_name\": \"Reading\", \"count_items\": 5}, {\"item_format\": \"Juvenile Magazine\", \"branch_name\": \"Sharonville\", \"count_items\": 11}, {\"item_format\": \"Juvenile Magazine\", \"branch_name\": \"St Bernard\", \"count_items\": 10}, {\"item_format\": \"Juvenile Magazine\", \"branch_name\": \"Symmes Township\", \"count_items\": 5}, {\"item_format\": \"Juvenile Magazine\", \"branch_name\": \"West End\", \"count_items\": 14}, {\"item_format\": \"Juvenile Magazine\", \"branch_name\": \"Westwood\", \"count_items\": 20}, {\"item_format\": \"Juvenile Magazine\", \"branch_name\": \"Wyoming\", \"count_items\": 17}, {\"item_format\": \"Juvenile Music on CD\", \"branch_name\": \"Corryville\", \"count_items\": 1}, {\"item_format\": \"Juvenile Music on CD\", \"branch_name\": \"Elmwood Place\", \"count_items\": 1}, {\"item_format\": \"Juvenile Music on CD\", \"branch_name\": \"Harrison\", \"count_items\": 1}, {\"item_format\": \"Juvenile Music on CD\", \"branch_name\": \"Madisonville\", \"count_items\": 1}, {\"item_format\": \"Juvenile Music on CD\", \"branch_name\": \"Monfort Heights\", \"count_items\": 1}, {\"item_format\": \"Juvenile Music on CD\", \"branch_name\": \"Pleasant Ridge\", \"count_items\": 1}, {\"item_format\": \"Juvenile Music on CD\", \"branch_name\": \"Sharonville\", \"count_items\": 1}, {\"item_format\": \"Juvenile Playaway\", \"branch_name\": \"College Hill\", \"count_items\": 1}, {\"item_format\": \"Juvenile Playaway\", \"branch_name\": \"Forest Park\", \"count_items\": 1}, {\"item_format\": \"Juvenile Playaway\", \"branch_name\": \"Outreach Services\", \"count_items\": 16}, {\"item_format\": \"Juvenile Playaway\", \"branch_name\": \"Wyoming\", \"count_items\": 1}, {\"item_format\": \"LP Record\", \"branch_name\": \"Main Library\", \"count_items\": 6}, {\"item_format\": \"Large Print Book\", \"branch_name\": \"Anderson\", \"count_items\": 1}, {\"item_format\": \"Large Print Book\", \"branch_name\": \"Avondale\", \"count_items\": 1}, {\"item_format\": \"Large Print Book\", \"branch_name\": \"Blue Ash\", \"count_items\": 2}, {\"item_format\": \"Large Print Book\", \"branch_name\": \"Cheviot\", \"count_items\": 4}, {\"item_format\": \"Large Print Book\", \"branch_name\": \"Clifton\", \"count_items\": 5}, {\"item_format\": \"Large Print Book\", \"branch_name\": \"College Hill\", \"count_items\": 1}, {\"item_format\": \"Large Print Book\", \"branch_name\": \"Corryville\", \"count_items\": 4}, {\"item_format\": \"Large Print Book\", \"branch_name\": \"Deer Park\", \"count_items\": 3}, {\"item_format\": \"Large Print Book\", \"branch_name\": \"Delhi Township\", \"count_items\": 2}, {\"item_format\": \"Large Print Book\", \"branch_name\": \"Green Township\", \"count_items\": 4}, {\"item_format\": \"Large Print Book\", \"branch_name\": \"Greenhills\", \"count_items\": 5}, {\"item_format\": \"Large Print Book\", \"branch_name\": \"Groesbeck\", \"count_items\": 9}, {\"item_format\": \"Large Print Book\", \"branch_name\": \"Madeira\", \"count_items\": 1}, {\"item_format\": \"Large Print Book\", \"branch_name\": \"Madisonville\", \"count_items\": 6}, {\"item_format\": \"Large Print Book\", \"branch_name\": \"Main Library\", \"count_items\": 3}, {\"item_format\": \"Large Print Book\", \"branch_name\": \"Miami Township\", \"count_items\": 2}, {\"item_format\": \"Large Print Book\", \"branch_name\": \"Monfort Heights\", \"count_items\": 2}, {\"item_format\": \"Large Print Book\", \"branch_name\": \"Mt Washington\", \"count_items\": 4}, {\"item_format\": \"Large Print Book\", \"branch_name\": \"North Central\", \"count_items\": 4}, {\"item_format\": \"Large Print Book\", \"branch_name\": \"Outreach Services\", \"count_items\": 9}, {\"item_format\": \"Large Print Book\", \"branch_name\": \"Pleasant Ridge\", \"count_items\": 5}, {\"item_format\": \"Large Print Book\", \"branch_name\": \"Price Hill\", \"count_items\": 5}, {\"item_format\": \"Large Print Book\", \"branch_name\": \"Reading\", \"count_items\": 2}, {\"item_format\": \"Large Print Book\", \"branch_name\": \"Sharonville\", \"count_items\": 9}, {\"item_format\": \"Large Print Book\", \"branch_name\": \"Symmes Township\", \"count_items\": 3}, {\"item_format\": \"Large Print Book\", \"branch_name\": \"West End\", \"count_items\": 2}, {\"item_format\": \"Large Print Book\", \"branch_name\": \"Westwood\", \"count_items\": 1}, {\"item_format\": \"Large Print Book\", \"branch_name\": \"Wyoming\", \"count_items\": 4}, {\"item_format\": \"Leased Book\", \"branch_name\": \"Anderson\", \"count_items\": 3}, {\"item_format\": \"Leased Book\", \"branch_name\": \"Avondale\", \"count_items\": 12}, {\"item_format\": \"Leased Book\", \"branch_name\": \"Blue Ash\", \"count_items\": 6}, {\"item_format\": \"Leased Book\", \"branch_name\": \"Bond Hill\", \"count_items\": 4}, {\"item_format\": \"Leased Book\", \"branch_name\": \"Cheviot\", \"count_items\": 4}, {\"item_format\": \"Leased Book\", \"branch_name\": \"Clifton\", \"count_items\": 8}, {\"item_format\": \"Leased Book\", \"branch_name\": \"Corryville\", \"count_items\": 6}, {\"item_format\": \"Leased Book\", \"branch_name\": \"Covedale\", \"count_items\": 3}, {\"item_format\": \"Leased Book\", \"branch_name\": \"Deer Park\", \"count_items\": 2}, {\"item_format\": \"Leased Book\", \"branch_name\": \"Delhi Township\", \"count_items\": 10}, {\"item_format\": \"Leased Book\", \"branch_name\": \"Elmwood Place\", \"count_items\": 12}, {\"item_format\": \"Leased Book\", \"branch_name\": \"Forest Park\", \"count_items\": 2}, {\"item_format\": \"Leased Book\", \"branch_name\": \"Green Township\", \"count_items\": 3}, {\"item_format\": \"Leased Book\", \"branch_name\": \"Greenhills\", \"count_items\": 1}, {\"item_format\": \"Leased Book\", \"branch_name\": \"Groesbeck\", \"count_items\": 8}, {\"item_format\": \"Leased Book\", \"branch_name\": \"Harrison\", \"count_items\": 10}, {\"item_format\": \"Leased Book\", \"branch_name\": \"Hyde Park\", \"count_items\": 11}, {\"item_format\": \"Leased Book\", \"branch_name\": \"Loveland\", \"count_items\": 5}, {\"item_format\": \"Leased Book\", \"branch_name\": \"Madeira\", \"count_items\": 8}, {\"item_format\": \"Leased Book\", \"branch_name\": \"Madisonville\", \"count_items\": 2}, {\"item_format\": \"Leased Book\", \"branch_name\": \"Main Library\", \"count_items\": 2}, {\"item_format\": \"Leased Book\", \"branch_name\": \"Mariemont\", \"count_items\": 2}, {\"item_format\": \"Leased Book\", \"branch_name\": \"Miami Township\", \"count_items\": 3}, {\"item_format\": \"Leased Book\", \"branch_name\": \"Monfort Heights\", \"count_items\": 21}, {\"item_format\": \"Leased Book\", \"branch_name\": \"Mt Healthy\", \"count_items\": 4}, {\"item_format\": \"Leased Book\", \"branch_name\": \"Mt Washington\", \"count_items\": 1}, {\"item_format\": \"Leased Book\", \"branch_name\": \"North Central\", \"count_items\": 19}, {\"item_format\": \"Leased Book\", \"branch_name\": \"Northside\", \"count_items\": 16}, {\"item_format\": \"Leased Book\", \"branch_name\": \"Oakley\", \"count_items\": 12}, {\"item_format\": \"Leased Book\", \"branch_name\": \"Price Hill\", \"count_items\": 1}, {\"item_format\": \"Leased Book\", \"branch_name\": \"Reading\", \"count_items\": 6}, {\"item_format\": \"Leased Book\", \"branch_name\": \"Sharonville\", \"count_items\": 3}, {\"item_format\": \"Leased Book\", \"branch_name\": \"St Bernard\", \"count_items\": 24}, {\"item_format\": \"Leased Book\", \"branch_name\": \"Walnut Hills\", \"count_items\": 3}, {\"item_format\": \"Leased Book\", \"branch_name\": \"West End\", \"count_items\": 11}, {\"item_format\": \"Leased Book\", \"branch_name\": \"Westwood\", \"count_items\": 1}, {\"item_format\": \"Leased Book\", \"branch_name\": \"Wyoming\", \"count_items\": 5}, {\"item_format\": \"Leased DVD\", \"branch_name\": \"Avondale\", \"count_items\": 2}, {\"item_format\": \"Leased DVD\", \"branch_name\": \"Green Township\", \"count_items\": 1}, {\"item_format\": \"Leased DVD\", \"branch_name\": \"Harrison\", \"count_items\": 1}, {\"item_format\": \"Leased DVD\", \"branch_name\": \"Madisonville\", \"count_items\": 2}, {\"item_format\": \"Leased DVD\", \"branch_name\": \"Main Library\", \"count_items\": 5}, {\"item_format\": \"Leased DVD\", \"branch_name\": \"Mt Washington\", \"count_items\": 2}, {\"item_format\": \"Leased DVD\", \"branch_name\": \"North Central\", \"count_items\": 1}, {\"item_format\": \"Leased DVD\", \"branch_name\": \"Price Hill\", \"count_items\": 14}, {\"item_format\": \"Leased DVD\", \"branch_name\": \"Symmes Township\", \"count_items\": 1}, {\"item_format\": \"Leased DVD\", \"branch_name\": \"West End\", \"count_items\": 1}, {\"item_format\": \"Leased DVD\", \"branch_name\": \"Westwood\", \"count_items\": 1}, {\"item_format\": \"Magazine\", \"branch_name\": \"Anderson\", \"count_items\": 157}, {\"item_format\": \"Magazine\", \"branch_name\": \"Avondale\", \"count_items\": 67}, {\"item_format\": \"Magazine\", \"branch_name\": \"Blue Ash\", \"count_items\": 88}, {\"item_format\": \"Magazine\", \"branch_name\": \"Bond Hill\", \"count_items\": 74}, {\"item_format\": \"Magazine\", \"branch_name\": \"Cheviot\", \"count_items\": 69}, {\"item_format\": \"Magazine\", \"branch_name\": \"Clifton\", \"count_items\": 167}, {\"item_format\": \"Magazine\", \"branch_name\": \"College Hill\", \"count_items\": 271}, {\"item_format\": \"Magazine\", \"branch_name\": \"Corryville\", \"count_items\": 145}, {\"item_format\": \"Magazine\", \"branch_name\": \"Covedale\", \"count_items\": 103}, {\"item_format\": \"Magazine\", \"branch_name\": \"Deer Park\", \"count_items\": 29}, {\"item_format\": \"Magazine\", \"branch_name\": \"Delhi Township\", \"count_items\": 172}, {\"item_format\": \"Magazine\", \"branch_name\": \"Elmwood Place\", \"count_items\": 111}, {\"item_format\": \"Magazine\", \"branch_name\": \"Forest Park\", \"count_items\": 168}, {\"item_format\": \"Magazine\", \"branch_name\": \"Green Township\", \"count_items\": 17}, {\"item_format\": \"Magazine\", \"branch_name\": \"Greenhills\", \"count_items\": 48}, {\"item_format\": \"Magazine\", \"branch_name\": \"Groesbeck\", \"count_items\": 210}, {\"item_format\": \"Magazine\", \"branch_name\": \"Harrison\", \"count_items\": 76}, {\"item_format\": \"Magazine\", \"branch_name\": \"Hyde Park\", \"count_items\": 109}, {\"item_format\": \"Magazine\", \"branch_name\": \"Loveland\", \"count_items\": 78}, {\"item_format\": \"Magazine\", \"branch_name\": \"Madeira\", \"count_items\": 113}, {\"item_format\": \"Magazine\", \"branch_name\": \"Madisonville\", \"count_items\": 64}, {\"item_format\": \"Magazine\", \"branch_name\": \"Main Library\", \"count_items\": 914}, {\"item_format\": \"Magazine\", \"branch_name\": \"Mariemont\", \"count_items\": 108}, {\"item_format\": \"Magazine\", \"branch_name\": \"Miami Township\", \"count_items\": 25}, {\"item_format\": \"Magazine\", \"branch_name\": \"Monfort Heights\", \"count_items\": 65}, {\"item_format\": \"Magazine\", \"branch_name\": \"Mt Healthy\", \"count_items\": 81}, {\"item_format\": \"Magazine\", \"branch_name\": \"Mt Washington\", \"count_items\": 67}, {\"item_format\": \"Magazine\", \"branch_name\": \"North Central\", \"count_items\": 177}, {\"item_format\": \"Magazine\", \"branch_name\": \"Northside\", \"count_items\": 144}, {\"item_format\": \"Magazine\", \"branch_name\": \"Norwood\", \"count_items\": 91}, {\"item_format\": \"Magazine\", \"branch_name\": \"Oakley\", \"count_items\": 99}, {\"item_format\": \"Magazine\", \"branch_name\": \"Outreach Services\", \"count_items\": 129}, {\"item_format\": \"Magazine\", \"branch_name\": \"Pleasant Ridge\", \"count_items\": 79}, {\"item_format\": \"Magazine\", \"branch_name\": \"Price Hill\", \"count_items\": 123}, {\"item_format\": \"Magazine\", \"branch_name\": \"Reading\", \"count_items\": 59}, {\"item_format\": \"Magazine\", \"branch_name\": \"Sharonville\", \"count_items\": 88}, {\"item_format\": \"Magazine\", \"branch_name\": \"St Bernard\", \"count_items\": 57}, {\"item_format\": \"Magazine\", \"branch_name\": \"Symmes Township\", \"count_items\": 126}, {\"item_format\": \"Magazine\", \"branch_name\": \"Walnut Hills\", \"count_items\": 10}, {\"item_format\": \"Magazine\", \"branch_name\": \"West End\", \"count_items\": 58}, {\"item_format\": \"Magazine\", \"branch_name\": \"Westwood\", \"count_items\": 119}, {\"item_format\": \"Magazine\", \"branch_name\": \"Wyoming\", \"count_items\": 87}, {\"item_format\": \"Map\", \"branch_name\": \"Main Library\", \"count_items\": 3}, {\"item_format\": \"Microfiche\", \"branch_name\": \"Main Library\", \"count_items\": 3}, {\"item_format\": \"Music Score\", \"branch_name\": \"Main Library\", \"count_items\": 10}, {\"item_format\": \"Music on CD\", \"branch_name\": \"Anderson\", \"count_items\": 2}, {\"item_format\": \"Music on CD\", \"branch_name\": \"Blue Ash\", \"count_items\": 9}, {\"item_format\": \"Music on CD\", \"branch_name\": \"Bond Hill\", \"count_items\": 5}, {\"item_format\": \"Music on CD\", \"branch_name\": \"Clifton\", \"count_items\": 2}, {\"item_format\": \"Music on CD\", \"branch_name\": \"College Hill\", \"count_items\": 2}, {\"item_format\": \"Music on CD\", \"branch_name\": \"Corryville\", \"count_items\": 10}, {\"item_format\": \"Music on CD\", \"branch_name\": \"Covedale\", \"count_items\": 1}, {\"item_format\": \"Music on CD\", \"branch_name\": \"Deer Park\", \"count_items\": 7}, {\"item_format\": \"Music on CD\", \"branch_name\": \"Delhi Township\", \"count_items\": 7}, {\"item_format\": \"Music on CD\", \"branch_name\": \"Forest Park\", \"count_items\": 1}, {\"item_format\": \"Music on CD\", \"branch_name\": \"Green Township\", \"count_items\": 3}, {\"item_format\": \"Music on CD\", \"branch_name\": \"Groesbeck\", \"count_items\": 2}, {\"item_format\": \"Music on CD\", \"branch_name\": \"Madeira\", \"count_items\": 1}, {\"item_format\": \"Music on CD\", \"branch_name\": \"Madisonville\", \"count_items\": 3}, {\"item_format\": \"Music on CD\", \"branch_name\": \"Main Library\", \"count_items\": 70}, {\"item_format\": \"Music on CD\", \"branch_name\": \"Mariemont\", \"count_items\": 6}, {\"item_format\": \"Music on CD\", \"branch_name\": \"Miami Township\", \"count_items\": 2}, {\"item_format\": \"Music on CD\", \"branch_name\": \"Monfort Heights\", \"count_items\": 1}, {\"item_format\": \"Music on CD\", \"branch_name\": \"Mt Washington\", \"count_items\": 6}, {\"item_format\": \"Music on CD\", \"branch_name\": \"Northside\", \"count_items\": 2}, {\"item_format\": \"Music on CD\", \"branch_name\": \"Norwood\", \"count_items\": 2}, {\"item_format\": \"Music on CD\", \"branch_name\": \"Oakley\", \"count_items\": 2}, {\"item_format\": \"Music on CD\", \"branch_name\": \"Pleasant Ridge\", \"count_items\": 2}, {\"item_format\": \"Music on CD\", \"branch_name\": \"Price Hill\", \"count_items\": 3}, {\"item_format\": \"Music on CD\", \"branch_name\": \"Reading\", \"count_items\": 2}, {\"item_format\": \"Music on CD\", \"branch_name\": \"Sharonville\", \"count_items\": 6}, {\"item_format\": \"Music on CD\", \"branch_name\": \"St Bernard\", \"count_items\": 1}, {\"item_format\": \"Music on CD\", \"branch_name\": \"Symmes Township\", \"count_items\": 1}, {\"item_format\": \"Music on CD\", \"branch_name\": \"West End\", \"count_items\": 4}, {\"item_format\": \"Music on CD\", \"branch_name\": \"Wyoming\", \"count_items\": 5}, {\"item_format\": \"New Release DVDs\", \"branch_name\": \"Anderson\", \"count_items\": 1}, {\"item_format\": \"New Release DVDs\", \"branch_name\": \"Clifton\", \"count_items\": 1}, {\"item_format\": \"New Release DVDs\", \"branch_name\": \"College Hill\", \"count_items\": 1}, {\"item_format\": \"New Release DVDs\", \"branch_name\": \"Corryville\", \"count_items\": 1}, {\"item_format\": \"New Release DVDs\", \"branch_name\": \"Covedale\", \"count_items\": 1}, {\"item_format\": \"New Release DVDs\", \"branch_name\": \"Deer Park\", \"count_items\": 2}, {\"item_format\": \"New Release DVDs\", \"branch_name\": \"Delhi Township\", \"count_items\": 2}, {\"item_format\": \"New Release DVDs\", \"branch_name\": \"Forest Park\", \"count_items\": 1}, {\"item_format\": \"New Release DVDs\", \"branch_name\": \"Harrison\", \"count_items\": 2}, {\"item_format\": \"New Release DVDs\", \"branch_name\": \"Hyde Park\", \"count_items\": 2}, {\"item_format\": \"New Release DVDs\", \"branch_name\": \"Madeira\", \"count_items\": 1}, {\"item_format\": \"New Release DVDs\", \"branch_name\": \"Madisonville\", \"count_items\": 2}, {\"item_format\": \"New Release DVDs\", \"branch_name\": \"Main Library\", \"count_items\": 8}, {\"item_format\": \"New Release DVDs\", \"branch_name\": \"Mariemont\", \"count_items\": 1}, {\"item_format\": \"New Release DVDs\", \"branch_name\": \"Miami Township\", \"count_items\": 1}, {\"item_format\": \"New Release DVDs\", \"branch_name\": \"Mt Healthy\", \"count_items\": 1}, {\"item_format\": \"New Release DVDs\", \"branch_name\": \"St Bernard\", \"count_items\": 1}, {\"item_format\": \"New Release DVDs\", \"branch_name\": \"Symmes Township\", \"count_items\": 1}, {\"item_format\": \"New Release DVDs\", \"branch_name\": \"Walnut Hills\", \"count_items\": 2}, {\"item_format\": \"New Release DVDs\", \"branch_name\": \"West End\", \"count_items\": 1}, {\"item_format\": \"New Release DVDs\", \"branch_name\": \"Westwood\", \"count_items\": 1}, {\"item_format\": \"New Release DVDs\", \"branch_name\": \"Wyoming\", \"count_items\": 2}, {\"item_format\": \"Photograph\", \"branch_name\": \"Main Library\", \"count_items\": 4}, {\"item_format\": \"Playaway\", \"branch_name\": \"Blue Ash\", \"count_items\": 1}, {\"item_format\": \"Playaway\", \"branch_name\": \"College Hill\", \"count_items\": 1}, {\"item_format\": \"Playaway\", \"branch_name\": \"Harrison\", \"count_items\": 1}, {\"item_format\": \"Playaway\", \"branch_name\": \"Sharonville\", \"count_items\": 1}, {\"item_format\": \"Reference Book\", \"branch_name\": \"Anderson\", \"count_items\": 5}, {\"item_format\": \"Reference Book\", \"branch_name\": \"Blue Ash\", \"count_items\": 2}, {\"item_format\": \"Reference Book\", \"branch_name\": \"Bond Hill\", \"count_items\": 1}, {\"item_format\": \"Reference Book\", \"branch_name\": \"Cheviot\", \"count_items\": 1}, {\"item_format\": \"Reference Book\", \"branch_name\": \"Clifton\", \"count_items\": 2}, {\"item_format\": \"Reference Book\", \"branch_name\": \"College Hill\", \"count_items\": 3}, {\"item_format\": \"Reference Book\", \"branch_name\": \"Covedale\", \"count_items\": 2}, {\"item_format\": \"Reference Book\", \"branch_name\": \"Delhi Township\", \"count_items\": 4}, {\"item_format\": \"Reference Book\", \"branch_name\": \"Elmwood Place\", \"count_items\": 1}, {\"item_format\": \"Reference Book\", \"branch_name\": \"Forest Park\", \"count_items\": 3}, {\"item_format\": \"Reference Book\", \"branch_name\": \"Green Township\", \"count_items\": 5}, {\"item_format\": \"Reference Book\", \"branch_name\": \"Groesbeck\", \"count_items\": 2}, {\"item_format\": \"Reference Book\", \"branch_name\": \"Harrison\", \"count_items\": 5}, {\"item_format\": \"Reference Book\", \"branch_name\": \"Hyde Park\", \"count_items\": 4}, {\"item_format\": \"Reference Book\", \"branch_name\": \"Loveland\", \"count_items\": 3}, {\"item_format\": \"Reference Book\", \"branch_name\": \"Madeira\", \"count_items\": 6}, {\"item_format\": \"Reference Book\", \"branch_name\": \"Main Library\", \"count_items\": 231}, {\"item_format\": \"Reference Book\", \"branch_name\": \"Miami Township\", \"count_items\": 2}, {\"item_format\": \"Reference Book\", \"branch_name\": \"Monfort Heights\", \"count_items\": 3}, {\"item_format\": \"Reference Book\", \"branch_name\": \"North Central\", \"count_items\": 5}, {\"item_format\": \"Reference Book\", \"branch_name\": \"Northside\", \"count_items\": 1}, {\"item_format\": \"Reference Book\", \"branch_name\": \"Norwood\", \"count_items\": 3}, {\"item_format\": \"Reference Book\", \"branch_name\": \"Oakley\", \"count_items\": 1}, {\"item_format\": \"Reference Book\", \"branch_name\": \"Pleasant Ridge\", \"count_items\": 1}, {\"item_format\": \"Reference Book\", \"branch_name\": \"Price Hill\", \"count_items\": 2}, {\"item_format\": \"Reference Book\", \"branch_name\": \"Reading\", \"count_items\": 1}, {\"item_format\": \"Reference Book\", \"branch_name\": \"Sharonville\", \"count_items\": 4}, {\"item_format\": \"Reference Book\", \"branch_name\": \"St Bernard\", \"count_items\": 1}, {\"item_format\": \"Reference Book\", \"branch_name\": \"Symmes Township\", \"count_items\": 3}, {\"item_format\": \"Reference Book\", \"branch_name\": \"West End\", \"count_items\": 3}, {\"item_format\": \"Reference Book\", \"branch_name\": \"Westwood\", \"count_items\": 1}, {\"item_format\": \"Reference Book\", \"branch_name\": \"Wyoming\", \"count_items\": 1}, {\"item_format\": \"Reference Government Document\", \"branch_name\": \"Main Library\", \"count_items\": 2}, {\"item_format\": \"Reference Juvenile Book\", \"branch_name\": \"Bond Hill\", \"count_items\": 2}, {\"item_format\": \"Reference Juvenile Book\", \"branch_name\": \"Main Library\", \"count_items\": 199}, {\"item_format\": \"Reference Juvenile Book\", \"branch_name\": \"Outreach Services\", \"count_items\": 52}, {\"item_format\": \"Reference Juvenile Book\", \"branch_name\": \"Wyoming\", \"count_items\": 1}, {\"item_format\": \"Reference Juvenile Magazine\", \"branch_name\": \"Cheviot\", \"count_items\": 4}, {\"item_format\": \"Reference Magazine\", \"branch_name\": \"Anderson\", \"count_items\": 11}, {\"item_format\": \"Reference Magazine\", \"branch_name\": \"Blue Ash\", \"count_items\": 8}, {\"item_format\": \"Reference Magazine\", \"branch_name\": \"Cheviot\", \"count_items\": 1}, {\"item_format\": \"Reference Magazine\", \"branch_name\": \"Clifton\", \"count_items\": 6}, {\"item_format\": \"Reference Magazine\", \"branch_name\": \"College Hill\", \"count_items\": 7}, {\"item_format\": \"Reference Magazine\", \"branch_name\": \"Forest Park\", \"count_items\": 3}, {\"item_format\": \"Reference Magazine\", \"branch_name\": \"Harrison\", \"count_items\": 13}, {\"item_format\": \"Reference Magazine\", \"branch_name\": \"Madeira\", \"count_items\": 16}, {\"item_format\": \"Reference Magazine\", \"branch_name\": \"Main Library\", \"count_items\": 44}, {\"item_format\": \"Reference Magazine\", \"branch_name\": \"Monfort Heights\", \"count_items\": 5}, {\"item_format\": \"Reference Magazine\", \"branch_name\": \"North Central\", \"count_items\": 1}, {\"item_format\": \"Reference Magazine\", \"branch_name\": \"Oakley\", \"count_items\": 7}, {\"item_format\": \"Reference Magazine\", \"branch_name\": \"Pleasant Ridge\", \"count_items\": 5}, {\"item_format\": \"Reference Magazine\", \"branch_name\": \"Symmes Township\", \"count_items\": 16}, {\"item_format\": \"Reference Magazine\", \"branch_name\": \"Westwood\", \"count_items\": 5}, {\"item_format\": \"Reference Magazine\", \"branch_name\": \"Wyoming\", \"count_items\": 6}, {\"item_format\": \"Reference Picture\", \"branch_name\": \"Main Library\", \"count_items\": 2}, {\"item_format\": \"Reference Poster/Print\", \"branch_name\": \"Main Library\", \"count_items\": 2}, {\"item_format\": \"Reference Print\", \"branch_name\": \"Main Library\", \"count_items\": 3}, {\"item_format\": \"Reference Realia\", \"branch_name\": \"Main Library\", \"count_items\": 4}, {\"item_format\": \"Teen Book\", \"branch_name\": \"Anderson\", \"count_items\": 18}, {\"item_format\": \"Teen Book\", \"branch_name\": \"Avondale\", \"count_items\": 41}, {\"item_format\": \"Teen Book\", \"branch_name\": \"Blue Ash\", \"count_items\": 43}, {\"item_format\": \"Teen Book\", \"branch_name\": \"Bond Hill\", \"count_items\": 19}, {\"item_format\": \"Teen Book\", \"branch_name\": \"Cheviot\", \"count_items\": 86}, {\"item_format\": \"Teen Book\", \"branch_name\": \"Clifton\", \"count_items\": 6}, {\"item_format\": \"Teen Book\", \"branch_name\": \"College Hill\", \"count_items\": 45}, {\"item_format\": \"Teen Book\", \"branch_name\": \"Corryville\", \"count_items\": 113}, {\"item_format\": \"Teen Book\", \"branch_name\": \"Covedale\", \"count_items\": 30}, {\"item_format\": \"Teen Book\", \"branch_name\": \"Deer Park\", \"count_items\": 79}, {\"item_format\": \"Teen Book\", \"branch_name\": \"Delhi Township\", \"count_items\": 77}, {\"item_format\": \"Teen Book\", \"branch_name\": \"Elmwood Place\", \"count_items\": 36}, {\"item_format\": \"Teen Book\", \"branch_name\": \"Forest Park\", \"count_items\": 85}, {\"item_format\": \"Teen Book\", \"branch_name\": \"Green Township\", \"count_items\": 45}, {\"item_format\": \"Teen Book\", \"branch_name\": \"Greenhills\", \"count_items\": 51}, {\"item_format\": \"Teen Book\", \"branch_name\": \"Groesbeck\", \"count_items\": 53}, {\"item_format\": \"Teen Book\", \"branch_name\": \"Harrison\", \"count_items\": 26}, {\"item_format\": \"Teen Book\", \"branch_name\": \"Hyde Park\", \"count_items\": 34}, {\"item_format\": \"Teen Book\", \"branch_name\": \"Loveland\", \"count_items\": 40}, {\"item_format\": \"Teen Book\", \"branch_name\": \"Madeira\", \"count_items\": 58}, {\"item_format\": \"Teen Book\", \"branch_name\": \"Madisonville\", \"count_items\": 43}, {\"item_format\": \"Teen Book\", \"branch_name\": \"Main Library\", \"count_items\": 200}, {\"item_format\": \"Teen Book\", \"branch_name\": \"Mariemont\", \"count_items\": 75}, {\"item_format\": \"Teen Book\", \"branch_name\": \"Miami Township\", \"count_items\": 42}, {\"item_format\": \"Teen Book\", \"branch_name\": \"Monfort Heights\", \"count_items\": 34}, {\"item_format\": \"Teen Book\", \"branch_name\": \"Mt Healthy\", \"count_items\": 2}, {\"item_format\": \"Teen Book\", \"branch_name\": \"Mt Washington\", \"count_items\": 13}, {\"item_format\": \"Teen Book\", \"branch_name\": \"North Central\", \"count_items\": 112}, {\"item_format\": \"Teen Book\", \"branch_name\": \"Northside\", \"count_items\": 36}, {\"item_format\": \"Teen Book\", \"branch_name\": \"Norwood\", \"count_items\": 43}, {\"item_format\": \"Teen Book\", \"branch_name\": \"Oakley\", \"count_items\": 12}, {\"item_format\": \"Teen Book\", \"branch_name\": \"Outreach Services\", \"count_items\": 6}, {\"item_format\": \"Teen Book\", \"branch_name\": \"Pleasant Ridge\", \"count_items\": 39}, {\"item_format\": \"Teen Book\", \"branch_name\": \"Price Hill\", \"count_items\": 114}, {\"item_format\": \"Teen Book\", \"branch_name\": \"Reading\", \"count_items\": 127}, {\"item_format\": \"Teen Book\", \"branch_name\": \"Sharonville\", \"count_items\": 21}, {\"item_format\": \"Teen Book\", \"branch_name\": \"St Bernard\", \"count_items\": 102}, {\"item_format\": \"Teen Book\", \"branch_name\": \"Symmes Township\", \"count_items\": 26}, {\"item_format\": \"Teen Book\", \"branch_name\": \"Walnut Hills\", \"count_items\": 4}, {\"item_format\": \"Teen Book\", \"branch_name\": \"West End\", \"count_items\": 41}, {\"item_format\": \"Teen Book\", \"branch_name\": \"Westwood\", \"count_items\": 38}, {\"item_format\": \"Teen Book\", \"branch_name\": \"Wyoming\", \"count_items\": 6}, {\"item_format\": \"Teen Book on CD\", \"branch_name\": \"Covedale\", \"count_items\": 2}, {\"item_format\": \"Teen Book on CD\", \"branch_name\": \"Delhi Township\", \"count_items\": 1}, {\"item_format\": \"Teen Book on CD\", \"branch_name\": \"Forest Park\", \"count_items\": 1}, {\"item_format\": \"Teen Book on CD\", \"branch_name\": \"Hyde Park\", \"count_items\": 1}, {\"item_format\": \"Teen Book on CD\", \"branch_name\": \"Madeira\", \"count_items\": 1}, {\"item_format\": \"Teen Book on CD\", \"branch_name\": \"Main Library\", \"count_items\": 3}, {\"item_format\": \"Teen Book on CD\", \"branch_name\": \"Monfort Heights\", \"count_items\": 1}, {\"item_format\": \"Teen Book on CD\", \"branch_name\": \"Mt Washington\", \"count_items\": 1}, {\"item_format\": \"Teen Book on CD\", \"branch_name\": \"North Central\", \"count_items\": 1}, {\"item_format\": \"Teen Book on CD\", \"branch_name\": \"Westwood\", \"count_items\": 1}, {\"item_format\": \"Teen Large Print Book\", \"branch_name\": \"Cheviot\", \"count_items\": 2}, {\"item_format\": \"Teen Large Print Book\", \"branch_name\": \"College Hill\", \"count_items\": 1}, {\"item_format\": \"Teen Large Print Book\", \"branch_name\": \"Corryville\", \"count_items\": 7}, {\"item_format\": \"Teen Large Print Book\", \"branch_name\": \"Covedale\", \"count_items\": 4}, {\"item_format\": \"Teen Large Print Book\", \"branch_name\": \"Delhi Township\", \"count_items\": 1}, {\"item_format\": \"Teen Large Print Book\", \"branch_name\": \"Forest Park\", \"count_items\": 2}, {\"item_format\": \"Teen Large Print Book\", \"branch_name\": \"Green Township\", \"count_items\": 3}, {\"item_format\": \"Teen Large Print Book\", \"branch_name\": \"Groesbeck\", \"count_items\": 2}, {\"item_format\": \"Teen Large Print Book\", \"branch_name\": \"Harrison\", \"count_items\": 1}, {\"item_format\": \"Teen Large Print Book\", \"branch_name\": \"Madeira\", \"count_items\": 2}, {\"item_format\": \"Teen Large Print Book\", \"branch_name\": \"Madisonville\", \"count_items\": 1}, {\"item_format\": \"Teen Large Print Book\", \"branch_name\": \"Main Library\", \"count_items\": 23}, {\"item_format\": \"Teen Large Print Book\", \"branch_name\": \"Mariemont\", \"count_items\": 10}, {\"item_format\": \"Teen Large Print Book\", \"branch_name\": \"Monfort Heights\", \"count_items\": 2}, {\"item_format\": \"Teen Large Print Book\", \"branch_name\": \"North Central\", \"count_items\": 4}, {\"item_format\": \"Teen Large Print Book\", \"branch_name\": \"Outreach Services\", \"count_items\": 6}, {\"item_format\": \"Teen Large Print Book\", \"branch_name\": \"Pleasant Ridge\", \"count_items\": 1}, {\"item_format\": \"Teen Large Print Book\", \"branch_name\": \"Price Hill\", \"count_items\": 1}, {\"item_format\": \"Teen Large Print Book\", \"branch_name\": \"Reading\", \"count_items\": 5}, {\"item_format\": \"Teen Large Print Book\", \"branch_name\": \"St Bernard\", \"count_items\": 3}, {\"item_format\": \"Teen Large Print Book\", \"branch_name\": \"Symmes Township\", \"count_items\": 1}, {\"item_format\": \"Teen Large Print Book\", \"branch_name\": \"West End\", \"count_items\": 1}, {\"item_format\": \"Teen Large Print Book\", \"branch_name\": \"Westwood\", \"count_items\": 1}, {\"item_format\": \"Teen Magazine\", \"branch_name\": \"Anderson\", \"count_items\": 7}, {\"item_format\": \"Teen Magazine\", \"branch_name\": \"Avondale\", \"count_items\": 2}, {\"item_format\": \"Teen Magazine\", \"branch_name\": \"Blue Ash\", \"count_items\": 7}, {\"item_format\": \"Teen Magazine\", \"branch_name\": \"Bond Hill\", \"count_items\": 24}, {\"item_format\": \"Teen Magazine\", \"branch_name\": \"Cheviot\", \"count_items\": 7}, {\"item_format\": \"Teen Magazine\", \"branch_name\": \"Clifton\", \"count_items\": 14}, {\"item_format\": \"Teen Magazine\", \"branch_name\": \"College Hill\", \"count_items\": 14}, {\"item_format\": \"Teen Magazine\", \"branch_name\": \"Corryville\", \"count_items\": 2}, {\"item_format\": \"Teen Magazine\", \"branch_name\": \"Covedale\", \"count_items\": 6}, {\"item_format\": \"Teen Magazine\", \"branch_name\": \"Deer Park\", \"count_items\": 10}, {\"item_format\": \"Teen Magazine\", \"branch_name\": \"Delhi Township\", \"count_items\": 19}, {\"item_format\": \"Teen Magazine\", \"branch_name\": \"Elmwood Place\", \"count_items\": 10}, {\"item_format\": \"Teen Magazine\", \"branch_name\": \"Forest Park\", \"count_items\": 10}, {\"item_format\": \"Teen Magazine\", \"branch_name\": \"Green Township\", \"count_items\": 1}, {\"item_format\": \"Teen Magazine\", \"branch_name\": \"Greenhills\", \"count_items\": 1}, {\"item_format\": \"Teen Magazine\", \"branch_name\": \"Harrison\", \"count_items\": 24}, {\"item_format\": \"Teen Magazine\", \"branch_name\": \"Hyde Park\", \"count_items\": 3}, {\"item_format\": \"Teen Magazine\", \"branch_name\": \"Loveland\", \"count_items\": 5}, {\"item_format\": \"Teen Magazine\", \"branch_name\": \"Madeira\", \"count_items\": 1}, {\"item_format\": \"Teen Magazine\", \"branch_name\": \"Madisonville\", \"count_items\": 4}, {\"item_format\": \"Teen Magazine\", \"branch_name\": \"Main Library\", \"count_items\": 37}, {\"item_format\": \"Teen Magazine\", \"branch_name\": \"Mariemont\", \"count_items\": 3}, {\"item_format\": \"Teen Magazine\", \"branch_name\": \"Monfort Heights\", \"count_items\": 3}, {\"item_format\": \"Teen Magazine\", \"branch_name\": \"Mt Healthy\", \"count_items\": 10}, {\"item_format\": \"Teen Magazine\", \"branch_name\": \"Mt Washington\", \"count_items\": 6}, {\"item_format\": \"Teen Magazine\", \"branch_name\": \"North Central\", \"count_items\": 19}, {\"item_format\": \"Teen Magazine\", \"branch_name\": \"Northside\", \"count_items\": 5}, {\"item_format\": \"Teen Magazine\", \"branch_name\": \"Norwood\", \"count_items\": 11}, {\"item_format\": \"Teen Magazine\", \"branch_name\": \"Oakley\", \"count_items\": 6}, {\"item_format\": \"Teen Magazine\", \"branch_name\": \"Pleasant Ridge\", \"count_items\": 13}, {\"item_format\": \"Teen Magazine\", \"branch_name\": \"Price Hill\", \"count_items\": 16}, {\"item_format\": \"Teen Magazine\", \"branch_name\": \"Reading\", \"count_items\": 8}, {\"item_format\": \"Teen Magazine\", \"branch_name\": \"Sharonville\", \"count_items\": 5}, {\"item_format\": \"Teen Magazine\", \"branch_name\": \"St Bernard\", \"count_items\": 9}, {\"item_format\": \"Teen Magazine\", \"branch_name\": \"Symmes Township\", \"count_items\": 4}, {\"item_format\": \"Teen Magazine\", \"branch_name\": \"Walnut Hills\", \"count_items\": 4}, {\"item_format\": \"Teen Magazine\", \"branch_name\": \"West End\", \"count_items\": 14}, {\"item_format\": \"Teen Magazine\", \"branch_name\": \"Westwood\", \"count_items\": 9}, {\"item_format\": \"Teen Magazine\", \"branch_name\": \"Wyoming\", \"count_items\": 3}, {\"item_format\": \"Teen Playaway\", \"branch_name\": \"Mariemont\", \"count_items\": 1}]}}, {\"mode\": \"vega-lite\"});\n",
              "</script>"
            ]
          },
          "metadata": {}
        }
      ]
    }
  ]
}