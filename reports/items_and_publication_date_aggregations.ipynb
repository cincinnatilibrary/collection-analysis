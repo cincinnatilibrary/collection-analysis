{
  "nbformat": 4,
  "nbformat_minor": 5,
  "metadata": {
    "kernelspec": {
      "display_name": "Python 3",
      "language": "python",
      "name": "python3"
    },
    "language_info": {
      "codemirror_mode": {
        "name": "ipython",
        "version": 3
      },
      "file_extension": ".py",
      "mimetype": "text/x-python",
      "name": "python",
      "nbconvert_exporter": "python",
      "pygments_lexer": "ipython3",
      "version": "3.9.5"
    },
    "colab": {
      "name": "items and publication date aggregations.ipynb",
      "provenance": [],
      "collapsed_sections": [],
      "include_colab_link": true
    }
  },
  "cells": [
    {
      "cell_type": "markdown",
      "metadata": {
        "id": "view-in-github",
        "colab_type": "text"
      },
      "source": [
        "<a href=\"https://colab.research.google.com/github/cincinnatilibrary/collection-analysis/blob/master/reports/items_and_publication_date_aggregations.ipynb\" target=\"_parent\"><img src=\"https://colab.research.google.com/assets/colab-badge.svg\" alt=\"Open In Colab\"/></a>"
      ]
    },
    {
      "cell_type": "markdown",
      "metadata": {
        "id": "hjPkK4J4oFGz"
      },
      "source": [
        "# CHPL - Collection Analysis - **Items & Publication Dates**\n",
        "\n",
        "<img src=\"https://ilsweb.cincinnatilibrary.org/img/CHPL_Brandmark_Primary.png\" alt=\"CHPL\" title=\"CHPL\" width=\"300\"/>\n",
        "\n",
        "Show item counts from the past 5 decades by item type and faceted by decade, and then by the last 5 years\n",
        "\n",
        "Data sources\n",
        "\n",
        "* https://collection-analysis.cincy.pl/"
      ],
      "id": "hjPkK4J4oFGz"
    },
    {
      "cell_type": "code",
      "metadata": {
        "id": "5c5b883e",
        "cellView": "form"
      },
      "source": [
        "#@title\n",
        "import pandas as pd\n",
        "import numpy as np\n",
        "import altair as alt\n",
        "# if we want to save output as .png use this\n",
        "# NOTE: use !pip install -U altair_saver above to download / install first\n",
        "# from altair_saver import save\n",
        "from urllib.parse import urlencode\n",
        "import requests\n",
        "\n",
        "base_url = 'https://collection-analysis.cincy.pl/current_collection'"
      ],
      "id": "5c5b883e",
      "execution_count": 7,
      "outputs": []
    },
    {
      "cell_type": "code",
      "source": [
        "#@title\n",
        "sql = \"\"\"\\\n",
        "-- group titles (bib records) by the decade in which they were published\n",
        "select\n",
        "  cast(round(publish_year / 10, 1) * 10 as integer) AS decade,\n",
        "  case\n",
        "    when item.item_format = 'New Release DVDs' then 'DVD/Videocassette'\n",
        "    else item.item_format\n",
        "  end as item_format,\n",
        "  count(*) AS count_items\n",
        "from\n",
        "  bib\n",
        "  join item on item.bib_record_num = bib.bib_record_num\n",
        "where\n",
        "  bib.publish_year >= 1980\n",
        "  and bib.publish_year <= 2022\n",
        "  and item_format in (\n",
        "    'Book',\n",
        "    'Juvenile Book',\n",
        "    'Reference Book',\n",
        "    'DVD/Videocassette',\n",
        "    'Music on CD',\n",
        "    'Teen Book',\n",
        "    'Magazine',\n",
        "    'Large Print Book',\n",
        "    'Microfilm',\n",
        "    'Rare Book',\n",
        "    'Book on CD',\n",
        "    'Microfiche',\n",
        "    'Music Score',\n",
        "    'Reference Juvenile Book',\n",
        "    'LP Record',\n",
        "    'New Release DVDs',\n",
        "    'Juvenile Magazine',\n",
        "    'Reference Magazine',\n",
        "    'Juvenile Book on CD',\n",
        "    'Leased Book'\n",
        "  )\n",
        "group by\n",
        "  1,\n",
        "  2\n",
        "order by\n",
        "  1,2\n",
        "\"\"\"\n",
        "\n",
        "df = pd.read_json(\n",
        "    requests.get(\n",
        "      url=base_url + '.json',\n",
        "      params={\n",
        "        'sql': sql,\n",
        "        '_shape': 'array'\n",
        "      }\n",
        "    ).content\n",
        ")\n",
        "\n",
        "# df.head()"
      ],
      "metadata": {
        "id": "4lL9J9g-V0Pw",
        "cellView": "form"
      },
      "id": "4lL9J9g-V0Pw",
      "execution_count": 8,
      "outputs": []
    },
    {
      "cell_type": "code",
      "source": [
        "#@title\n",
        "print('Click the link below to view the raw data:', base_url + '?' + urlencode({'sql':sql}), sep='\\n')"
      ],
      "metadata": {
        "id": "kWaCu1qqxjDo",
        "outputId": "19333c4b-e599-4868-a4e4-7001058d2e9d",
        "colab": {
          "base_uri": "https://localhost:8080/"
        },
        "cellView": "form"
      },
      "id": "kWaCu1qqxjDo",
      "execution_count": 9,
      "outputs": [
        {
          "output_type": "stream",
          "name": "stdout",
          "text": [
            "Click the link below to view the raw data:\n",
            "https://collection-analysis.cincy.pl/current_collection?sql=--+group+titles+%28bib+records%29+by+the+decade+in+which+they+were+published%0Aselect%0A++cast%28round%28publish_year+%2F+10%2C+1%29+%2A+10+as+integer%29+AS+decade%2C%0A++case%0A++++when+item.item_format+%3D+%27New+Release+DVDs%27+then+%27DVD%2FVideocassette%27%0A++++else+item.item_format%0A++end+as+item_format%2C%0A++count%28%2A%29+AS+count_items%0Afrom%0A++bib%0A++join+item+on+item.bib_record_num+%3D+bib.bib_record_num%0Awhere%0A++bib.publish_year+%3E%3D+1980%0A++and+bib.publish_year+%3C%3D+2022%0A++and+item_format+in+%28%0A++++%27Book%27%2C%0A++++%27Juvenile+Book%27%2C%0A++++%27Reference+Book%27%2C%0A++++%27DVD%2FVideocassette%27%2C%0A++++%27Music+on+CD%27%2C%0A++++%27Teen+Book%27%2C%0A++++%27Magazine%27%2C%0A++++%27Large+Print+Book%27%2C%0A++++%27Microfilm%27%2C%0A++++%27Rare+Book%27%2C%0A++++%27Book+on+CD%27%2C%0A++++%27Microfiche%27%2C%0A++++%27Music+Score%27%2C%0A++++%27Reference+Juvenile+Book%27%2C%0A++++%27LP+Record%27%2C%0A++++%27New+Release+DVDs%27%2C%0A++++%27Juvenile+Magazine%27%2C%0A++++%27Reference+Magazine%27%2C%0A++++%27Juvenile+Book+on+CD%27%2C%0A++++%27Leased+Book%27%0A++%29%0Agroup+by%0A++1%2C%0A++2%0Aorder+by%0A++1%2C2%0A\n"
          ]
        }
      ]
    },
    {
      "cell_type": "code",
      "source": [
        "#@title\n",
        "chart = alt.Chart(df).mark_bar().encode(\n",
        "    # x='end_date:T',\n",
        "    x=alt.X(\n",
        "        'item_format',\n",
        "        axis=alt.Axis(title='item format', labelAngle=-70),\n",
        "        # sort='-y'\n",
        "    ),\n",
        "    y=alt.Y(\n",
        "        'count_items:Q',\n",
        "        title = 'count total items',\n",
        "        # scale = alt.Scale(domain=[0,100]),\n",
        "    ),\n",
        "    color=alt.Color(\n",
        "        'item_format',\n",
        "        # legend=None\n",
        "    ),\n",
        "    tooltip=['decade', 'item_format', 'count_items']\n",
        ").properties(\n",
        "    title=\"\",\n",
        "    # .format(df.iloc[0]['branch_name']),\n",
        "    width=270,\n",
        ").facet(\n",
        "    facet='decade',\n",
        "    columns=5\n",
        ")\n",
        "\n",
        "chart.display()"
      ],
      "metadata": {
        "cellView": "form",
        "id": "Y9JpM16TVAv7",
        "outputId": "043c092d-0c3d-4036-9c29-f4e968e190d6",
        "colab": {
          "base_uri": "https://localhost:8080/",
          "height": 512
        }
      },
      "id": "Y9JpM16TVAv7",
      "execution_count": 10,
      "outputs": [
        {
          "output_type": "display_data",
          "data": {
            "text/plain": [
              "alt.FacetChart(...)"
            ],
            "text/html": [
              "\n",
              "<div id=\"altair-viz-6215ffcb4d7b44578b683ce9ea8625c1\"></div>\n",
              "<script type=\"text/javascript\">\n",
              "  var VEGA_DEBUG = (typeof VEGA_DEBUG == \"undefined\") ? {} : VEGA_DEBUG;\n",
              "  (function(spec, embedOpt){\n",
              "    let outputDiv = document.currentScript.previousElementSibling;\n",
              "    if (outputDiv.id !== \"altair-viz-6215ffcb4d7b44578b683ce9ea8625c1\") {\n",
              "      outputDiv = document.getElementById(\"altair-viz-6215ffcb4d7b44578b683ce9ea8625c1\");\n",
              "    }\n",
              "    const paths = {\n",
              "      \"vega\": \"https://cdn.jsdelivr.net/npm//vega@5?noext\",\n",
              "      \"vega-lib\": \"https://cdn.jsdelivr.net/npm//vega-lib?noext\",\n",
              "      \"vega-lite\": \"https://cdn.jsdelivr.net/npm//vega-lite@4.17.0?noext\",\n",
              "      \"vega-embed\": \"https://cdn.jsdelivr.net/npm//vega-embed@6?noext\",\n",
              "    };\n",
              "\n",
              "    function maybeLoadScript(lib, version) {\n",
              "      var key = `${lib.replace(\"-\", \"\")}_version`;\n",
              "      return (VEGA_DEBUG[key] == version) ?\n",
              "        Promise.resolve(paths[lib]) :\n",
              "        new Promise(function(resolve, reject) {\n",
              "          var s = document.createElement('script');\n",
              "          document.getElementsByTagName(\"head\")[0].appendChild(s);\n",
              "          s.async = true;\n",
              "          s.onload = () => {\n",
              "            VEGA_DEBUG[key] = version;\n",
              "            return resolve(paths[lib]);\n",
              "          };\n",
              "          s.onerror = () => reject(`Error loading script: ${paths[lib]}`);\n",
              "          s.src = paths[lib];\n",
              "        });\n",
              "    }\n",
              "\n",
              "    function showError(err) {\n",
              "      outputDiv.innerHTML = `<div class=\"error\" style=\"color:red;\">${err}</div>`;\n",
              "      throw err;\n",
              "    }\n",
              "\n",
              "    function displayChart(vegaEmbed) {\n",
              "      vegaEmbed(outputDiv, spec, embedOpt)\n",
              "        .catch(err => showError(`Javascript Error: ${err.message}<br>This usually means there's a typo in your chart specification. See the javascript console for the full traceback.`));\n",
              "    }\n",
              "\n",
              "    if(typeof define === \"function\" && define.amd) {\n",
              "      requirejs.config({paths});\n",
              "      require([\"vega-embed\"], displayChart, err => showError(`Error loading script: ${err.message}`));\n",
              "    } else {\n",
              "      maybeLoadScript(\"vega\", \"5\")\n",
              "        .then(() => maybeLoadScript(\"vega-lite\", \"4.17.0\"))\n",
              "        .then(() => maybeLoadScript(\"vega-embed\", \"6\"))\n",
              "        .catch(showError)\n",
              "        .then(() => displayChart(vegaEmbed));\n",
              "    }\n",
              "  })({\"config\": {\"view\": {\"continuousWidth\": 400, \"continuousHeight\": 300}}, \"data\": {\"name\": \"data-00430cbfd0b6591dded7fa6fc9a4467f\"}, \"facet\": {\"field\": \"decade\", \"type\": \"quantitative\"}, \"spec\": {\"mark\": \"bar\", \"encoding\": {\"color\": {\"field\": \"item_format\", \"type\": \"nominal\"}, \"tooltip\": [{\"field\": \"decade\", \"type\": \"quantitative\"}, {\"field\": \"item_format\", \"type\": \"nominal\"}, {\"field\": \"count_items\", \"type\": \"quantitative\"}], \"x\": {\"axis\": {\"labelAngle\": -70, \"title\": \"item format\"}, \"field\": \"item_format\", \"type\": \"nominal\"}, \"y\": {\"field\": \"count_items\", \"title\": \"count total items\", \"type\": \"quantitative\"}}, \"title\": \"\", \"width\": 270}, \"columns\": 5, \"$schema\": \"https://vega.github.io/schema/vega-lite/v4.17.0.json\", \"datasets\": {\"data-00430cbfd0b6591dded7fa6fc9a4467f\": [{\"decade\": 1980, \"item_format\": \"Book\", \"count_items\": 190100}, {\"decade\": 1980, \"item_format\": \"Book on CD\", \"count_items\": 214}, {\"decade\": 1980, \"item_format\": \"DVD/Videocassette\", \"count_items\": 57}, {\"decade\": 1980, \"item_format\": \"Juvenile Book\", \"count_items\": 48122}, {\"decade\": 1980, \"item_format\": \"Juvenile Book on CD\", \"count_items\": 154}, {\"decade\": 1980, \"item_format\": \"Juvenile Magazine\", \"count_items\": 2876}, {\"decade\": 1980, \"item_format\": \"LP Record\", \"count_items\": 4669}, {\"decade\": 1980, \"item_format\": \"Large Print Book\", \"count_items\": 8350}, {\"decade\": 1980, \"item_format\": \"Magazine\", \"count_items\": 16189}, {\"decade\": 1980, \"item_format\": \"Microfiche\", \"count_items\": 2134}, {\"decade\": 1980, \"item_format\": \"Microfilm\", \"count_items\": 7088}, {\"decade\": 1980, \"item_format\": \"Music Score\", \"count_items\": 2274}, {\"decade\": 1980, \"item_format\": \"Music on CD\", \"count_items\": 10811}, {\"decade\": 1980, \"item_format\": \"Rare Book\", \"count_items\": 1581}, {\"decade\": 1980, \"item_format\": \"Reference Book\", \"count_items\": 97222}, {\"decade\": 1980, \"item_format\": \"Reference Juvenile Book\", \"count_items\": 2230}, {\"decade\": 1980, \"item_format\": \"Reference Magazine\", \"count_items\": 1884}, {\"decade\": 1980, \"item_format\": \"Teen Book\", \"count_items\": 2105}, {\"decade\": 1990, \"item_format\": \"Book\", \"count_items\": 226693}, {\"decade\": 1990, \"item_format\": \"Book on CD\", \"count_items\": 1572}, {\"decade\": 1990, \"item_format\": \"DVD/Videocassette\", \"count_items\": 8270}, {\"decade\": 1990, \"item_format\": \"Juvenile Book\", \"count_items\": 139201}, {\"decade\": 1990, \"item_format\": \"Juvenile Book on CD\", \"count_items\": 1199}, {\"decade\": 1990, \"item_format\": \"Juvenile Magazine\", \"count_items\": 2773}, {\"decade\": 1990, \"item_format\": \"LP Record\", \"count_items\": 52}, {\"decade\": 1990, \"item_format\": \"Large Print Book\", \"count_items\": 12801}, {\"decade\": 1990, \"item_format\": \"Magazine\", \"count_items\": 22412}, {\"decade\": 1990, \"item_format\": \"Microfiche\", \"count_items\": 633}, {\"decade\": 1990, \"item_format\": \"Microfilm\", \"count_items\": 8629}, {\"decade\": 1990, \"item_format\": \"Music Score\", \"count_items\": 3521}, {\"decade\": 1990, \"item_format\": \"Music on CD\", \"count_items\": 31309}, {\"decade\": 1990, \"item_format\": \"Rare Book\", \"count_items\": 1437}, {\"decade\": 1990, \"item_format\": \"Reference Book\", \"count_items\": 69581}, {\"decade\": 1990, \"item_format\": \"Reference Juvenile Book\", \"count_items\": 5075}, {\"decade\": 1990, \"item_format\": \"Reference Magazine\", \"count_items\": 988}, {\"decade\": 1990, \"item_format\": \"Teen Book\", \"count_items\": 6933}, {\"decade\": 2000, \"item_format\": \"Book\", \"count_items\": 242974}, {\"decade\": 2000, \"item_format\": \"Book on CD\", \"count_items\": 15310}, {\"decade\": 2000, \"item_format\": \"DVD/Videocassette\", \"count_items\": 101122}, {\"decade\": 2000, \"item_format\": \"Juvenile Book\", \"count_items\": 264534}, {\"decade\": 2000, \"item_format\": \"Juvenile Book on CD\", \"count_items\": 6136}, {\"decade\": 2000, \"item_format\": \"Juvenile Magazine\", \"count_items\": 4136}, {\"decade\": 2000, \"item_format\": \"LP Record\", \"count_items\": 15}, {\"decade\": 2000, \"item_format\": \"Large Print Book\", \"count_items\": 19530}, {\"decade\": 2000, \"item_format\": \"Magazine\", \"count_items\": 24680}, {\"decade\": 2000, \"item_format\": \"Microfiche\", \"count_items\": 63}, {\"decade\": 2000, \"item_format\": \"Microfilm\", \"count_items\": 20}, {\"decade\": 2000, \"item_format\": \"Music Score\", \"count_items\": 1747}, {\"decade\": 2000, \"item_format\": \"Music on CD\", \"count_items\": 40579}, {\"decade\": 2000, \"item_format\": \"Rare Book\", \"count_items\": 602}, {\"decade\": 2000, \"item_format\": \"Reference Book\", \"count_items\": 22254}, {\"decade\": 2000, \"item_format\": \"Reference Juvenile Book\", \"count_items\": 4965}, {\"decade\": 2000, \"item_format\": \"Reference Magazine\", \"count_items\": 420}, {\"decade\": 2000, \"item_format\": \"Teen Book\", \"count_items\": 26709}, {\"decade\": 2010, \"item_format\": \"Book\", \"count_items\": 561471}, {\"decade\": 2010, \"item_format\": \"Book on CD\", \"count_items\": 30465}, {\"decade\": 2010, \"item_format\": \"DVD/Videocassette\", \"count_items\": 286482}, {\"decade\": 2010, \"item_format\": \"Juvenile Book\", \"count_items\": 677462}, {\"decade\": 2010, \"item_format\": \"Juvenile Book on CD\", \"count_items\": 5252}, {\"decade\": 2010, \"item_format\": \"Juvenile Magazine\", \"count_items\": 3634}, {\"decade\": 2010, \"item_format\": \"LP Record\", \"count_items\": 492}, {\"decade\": 2010, \"item_format\": \"Large Print Book\", \"count_items\": 66343}, {\"decade\": 2010, \"item_format\": \"Leased Book\", \"count_items\": 564}, {\"decade\": 2010, \"item_format\": \"Magazine\", \"count_items\": 7900}, {\"decade\": 2010, \"item_format\": \"Microfiche\", \"count_items\": 2}, {\"decade\": 2010, \"item_format\": \"Microfilm\", \"count_items\": 6}, {\"decade\": 2010, \"item_format\": \"Music Score\", \"count_items\": 953}, {\"decade\": 2010, \"item_format\": \"Music on CD\", \"count_items\": 74624}, {\"decade\": 2010, \"item_format\": \"Rare Book\", \"count_items\": 333}, {\"decade\": 2010, \"item_format\": \"Reference Book\", \"count_items\": 5265}, {\"decade\": 2010, \"item_format\": \"Reference Juvenile Book\", \"count_items\": 4167}, {\"decade\": 2010, \"item_format\": \"Reference Magazine\", \"count_items\": 25}, {\"decade\": 2010, \"item_format\": \"Teen Book\", \"count_items\": 100578}, {\"decade\": 2020, \"item_format\": \"Book\", \"count_items\": 179090}, {\"decade\": 2020, \"item_format\": \"Book on CD\", \"count_items\": 5011}, {\"decade\": 2020, \"item_format\": \"DVD/Videocassette\", \"count_items\": 51459}, {\"decade\": 2020, \"item_format\": \"Juvenile Book\", \"count_items\": 171630}, {\"decade\": 2020, \"item_format\": \"Juvenile Book on CD\", \"count_items\": 277}, {\"decade\": 2020, \"item_format\": \"Juvenile Magazine\", \"count_items\": 101}, {\"decade\": 2020, \"item_format\": \"LP Record\", \"count_items\": 185}, {\"decade\": 2020, \"item_format\": \"Large Print Book\", \"count_items\": 15671}, {\"decade\": 2020, \"item_format\": \"Leased Book\", \"count_items\": 10837}, {\"decade\": 2020, \"item_format\": \"Magazine\", \"count_items\": 277}, {\"decade\": 2020, \"item_format\": \"Music Score\", \"count_items\": 67}, {\"decade\": 2020, \"item_format\": \"Music on CD\", \"count_items\": 9813}, {\"decade\": 2020, \"item_format\": \"Rare Book\", \"count_items\": 50}, {\"decade\": 2020, \"item_format\": \"Reference Book\", \"count_items\": 349}, {\"decade\": 2020, \"item_format\": \"Reference Juvenile Book\", \"count_items\": 1074}, {\"decade\": 2020, \"item_format\": \"Reference Magazine\", \"count_items\": 104}, {\"decade\": 2020, \"item_format\": \"Teen Book\", \"count_items\": 22711}]}}, {\"mode\": \"vega-lite\"});\n",
              "</script>"
            ]
          },
          "metadata": {}
        }
      ]
    },
    {
      "cell_type": "code",
      "source": [
        "#@title\n",
        "sql = \"\"\"\\\n",
        "select\n",
        "  publish_year,\n",
        "  case\n",
        "    when item.item_format = 'New Release DVDs' then 'DVD/Videocassette'\n",
        "    else item.item_format\n",
        "  end as item_format,\n",
        "  count(*) AS count_items\n",
        "from\n",
        "  bib\n",
        "  join item on item.bib_record_num = bib.bib_record_num\n",
        "where\n",
        "  bib.publish_year >= 2018\n",
        "  and bib.publish_year <= 2022\n",
        "  and item_format in (\n",
        "    'Book',\n",
        "    'Juvenile Book',\n",
        "    'Reference Book',\n",
        "    'DVD/Videocassette',\n",
        "    'Music on CD',\n",
        "    'Teen Book',\n",
        "    'Magazine',\n",
        "    'Large Print Book',\n",
        "    'Microfilm',\n",
        "    'Rare Book',\n",
        "    'Book on CD',\n",
        "    'Microfiche',\n",
        "    'Music Score',\n",
        "    'Reference Juvenile Book',\n",
        "    'LP Record',\n",
        "    'New Release DVDs',\n",
        "    'Juvenile Magazine',\n",
        "    'Reference Magazine',\n",
        "    'Juvenile Book on CD',\n",
        "    'Leased Book'\n",
        "  )\n",
        "group by\n",
        "  1,\n",
        "  2\n",
        "order by\n",
        "  1,2\n",
        "\"\"\"\n",
        "\n",
        "df = pd.read_json(\n",
        "    requests.get(\n",
        "      url=base_url + '.json',\n",
        "      params={\n",
        "        'sql': sql,\n",
        "        '_shape': 'array'\n",
        "      }\n",
        "    ).content\n",
        ")\n",
        "\n",
        "# df.head()"
      ],
      "metadata": {
        "cellView": "form",
        "id": "voNOMeMAWEv_"
      },
      "id": "voNOMeMAWEv_",
      "execution_count": 11,
      "outputs": []
    },
    {
      "cell_type": "code",
      "source": [
        "#@title\n",
        "chart = alt.Chart(df).mark_bar().encode(\n",
        "    # x='end_date:T',\n",
        "    x=alt.X(\n",
        "        'item_format',\n",
        "        axis=alt.Axis(title='item format', labelAngle=-70),\n",
        "        # sort='-y'\n",
        "    ),\n",
        "    y=alt.Y(\n",
        "        'count_items:Q',\n",
        "        title = 'count total items',\n",
        "        # scale = alt.Scale(domain=[0,100]),\n",
        "    ),\n",
        "    color=alt.Color(\n",
        "        'item_format',\n",
        "        # legend=None\n",
        "    ),\n",
        "    tooltip=['publish_year', 'item_format', 'count_items']\n",
        ").properties(\n",
        "    title=\"\",\n",
        "    # .format(df.iloc[0]['branch_name']),\n",
        "    width=270,\n",
        ").facet(\n",
        "    facet='publish_year',\n",
        "    columns=5\n",
        ")\n",
        "\n",
        "chart.display()"
      ],
      "metadata": {
        "cellView": "form",
        "id": "CiOTVtJAagKh",
        "outputId": "485cf5c0-d86c-41e8-bb96-4d655ce1a438",
        "colab": {
          "base_uri": "https://localhost:8080/",
          "height": 512
        }
      },
      "id": "CiOTVtJAagKh",
      "execution_count": 12,
      "outputs": [
        {
          "output_type": "display_data",
          "data": {
            "text/plain": [
              "alt.FacetChart(...)"
            ],
            "text/html": [
              "\n",
              "<div id=\"altair-viz-f510daf86a54424ea1cb2579020d53a6\"></div>\n",
              "<script type=\"text/javascript\">\n",
              "  var VEGA_DEBUG = (typeof VEGA_DEBUG == \"undefined\") ? {} : VEGA_DEBUG;\n",
              "  (function(spec, embedOpt){\n",
              "    let outputDiv = document.currentScript.previousElementSibling;\n",
              "    if (outputDiv.id !== \"altair-viz-f510daf86a54424ea1cb2579020d53a6\") {\n",
              "      outputDiv = document.getElementById(\"altair-viz-f510daf86a54424ea1cb2579020d53a6\");\n",
              "    }\n",
              "    const paths = {\n",
              "      \"vega\": \"https://cdn.jsdelivr.net/npm//vega@5?noext\",\n",
              "      \"vega-lib\": \"https://cdn.jsdelivr.net/npm//vega-lib?noext\",\n",
              "      \"vega-lite\": \"https://cdn.jsdelivr.net/npm//vega-lite@4.17.0?noext\",\n",
              "      \"vega-embed\": \"https://cdn.jsdelivr.net/npm//vega-embed@6?noext\",\n",
              "    };\n",
              "\n",
              "    function maybeLoadScript(lib, version) {\n",
              "      var key = `${lib.replace(\"-\", \"\")}_version`;\n",
              "      return (VEGA_DEBUG[key] == version) ?\n",
              "        Promise.resolve(paths[lib]) :\n",
              "        new Promise(function(resolve, reject) {\n",
              "          var s = document.createElement('script');\n",
              "          document.getElementsByTagName(\"head\")[0].appendChild(s);\n",
              "          s.async = true;\n",
              "          s.onload = () => {\n",
              "            VEGA_DEBUG[key] = version;\n",
              "            return resolve(paths[lib]);\n",
              "          };\n",
              "          s.onerror = () => reject(`Error loading script: ${paths[lib]}`);\n",
              "          s.src = paths[lib];\n",
              "        });\n",
              "    }\n",
              "\n",
              "    function showError(err) {\n",
              "      outputDiv.innerHTML = `<div class=\"error\" style=\"color:red;\">${err}</div>`;\n",
              "      throw err;\n",
              "    }\n",
              "\n",
              "    function displayChart(vegaEmbed) {\n",
              "      vegaEmbed(outputDiv, spec, embedOpt)\n",
              "        .catch(err => showError(`Javascript Error: ${err.message}<br>This usually means there's a typo in your chart specification. See the javascript console for the full traceback.`));\n",
              "    }\n",
              "\n",
              "    if(typeof define === \"function\" && define.amd) {\n",
              "      requirejs.config({paths});\n",
              "      require([\"vega-embed\"], displayChart, err => showError(`Error loading script: ${err.message}`));\n",
              "    } else {\n",
              "      maybeLoadScript(\"vega\", \"5\")\n",
              "        .then(() => maybeLoadScript(\"vega-lite\", \"4.17.0\"))\n",
              "        .then(() => maybeLoadScript(\"vega-embed\", \"6\"))\n",
              "        .catch(showError)\n",
              "        .then(() => displayChart(vegaEmbed));\n",
              "    }\n",
              "  })({\"config\": {\"view\": {\"continuousWidth\": 400, \"continuousHeight\": 300}}, \"data\": {\"name\": \"data-72a373685463867f7f02fbc7efe38578\"}, \"facet\": {\"field\": \"publish_year\", \"type\": \"quantitative\"}, \"spec\": {\"mark\": \"bar\", \"encoding\": {\"color\": {\"field\": \"item_format\", \"type\": \"nominal\"}, \"tooltip\": [{\"field\": \"publish_year\", \"type\": \"quantitative\"}, {\"field\": \"item_format\", \"type\": \"nominal\"}, {\"field\": \"count_items\", \"type\": \"quantitative\"}], \"x\": {\"axis\": {\"labelAngle\": -70, \"title\": \"item format\"}, \"field\": \"item_format\", \"type\": \"nominal\"}, \"y\": {\"field\": \"count_items\", \"title\": \"count total items\", \"type\": \"quantitative\"}}, \"title\": \"\", \"width\": 270}, \"columns\": 5, \"$schema\": \"https://vega.github.io/schema/vega-lite/v4.17.0.json\", \"datasets\": {\"data-72a373685463867f7f02fbc7efe38578\": [{\"publish_year\": 2018, \"item_format\": \"Book\", \"count_items\": 89352}, {\"publish_year\": 2018, \"item_format\": \"Book on CD\", \"count_items\": 2547}, {\"publish_year\": 2018, \"item_format\": \"DVD/Videocassette\", \"count_items\": 37996}, {\"publish_year\": 2018, \"item_format\": \"Juvenile Book\", \"count_items\": 97963}, {\"publish_year\": 2018, \"item_format\": \"Juvenile Book on CD\", \"count_items\": 120}, {\"publish_year\": 2018, \"item_format\": \"Juvenile Magazine\", \"count_items\": 69}, {\"publish_year\": 2018, \"item_format\": \"LP Record\", \"count_items\": 150}, {\"publish_year\": 2018, \"item_format\": \"Large Print Book\", \"count_items\": 10702}, {\"publish_year\": 2018, \"item_format\": \"Leased Book\", \"count_items\": 42}, {\"publish_year\": 2018, \"item_format\": \"Magazine\", \"count_items\": 14}, {\"publish_year\": 2018, \"item_format\": \"Music Score\", \"count_items\": 21}, {\"publish_year\": 2018, \"item_format\": \"Music on CD\", \"count_items\": 6831}, {\"publish_year\": 2018, \"item_format\": \"Rare Book\", \"count_items\": 42}, {\"publish_year\": 2018, \"item_format\": \"Reference Book\", \"count_items\": 369}, {\"publish_year\": 2018, \"item_format\": \"Reference Juvenile Book\", \"count_items\": 481}, {\"publish_year\": 2018, \"item_format\": \"Teen Book\", \"count_items\": 14311}, {\"publish_year\": 2019, \"item_format\": \"Book\", \"count_items\": 100626}, {\"publish_year\": 2019, \"item_format\": \"Book on CD\", \"count_items\": 2727}, {\"publish_year\": 2019, \"item_format\": \"DVD/Videocassette\", \"count_items\": 44957}, {\"publish_year\": 2019, \"item_format\": \"Juvenile Book\", \"count_items\": 98512}, {\"publish_year\": 2019, \"item_format\": \"Juvenile Book on CD\", \"count_items\": 233}, {\"publish_year\": 2019, \"item_format\": \"LP Record\", \"count_items\": 135}, {\"publish_year\": 2019, \"item_format\": \"Large Print Book\", \"count_items\": 11249}, {\"publish_year\": 2019, \"item_format\": \"Leased Book\", \"count_items\": 519}, {\"publish_year\": 2019, \"item_format\": \"Magazine\", \"count_items\": 131}, {\"publish_year\": 2019, \"item_format\": \"Music Score\", \"count_items\": 56}, {\"publish_year\": 2019, \"item_format\": \"Music on CD\", \"count_items\": 6411}, {\"publish_year\": 2019, \"item_format\": \"Rare Book\", \"count_items\": 26}, {\"publish_year\": 2019, \"item_format\": \"Reference Book\", \"count_items\": 234}, {\"publish_year\": 2019, \"item_format\": \"Reference Juvenile Book\", \"count_items\": 408}, {\"publish_year\": 2019, \"item_format\": \"Teen Book\", \"count_items\": 13831}, {\"publish_year\": 2020, \"item_format\": \"Book\", \"count_items\": 79921}, {\"publish_year\": 2020, \"item_format\": \"Book on CD\", \"count_items\": 2305}, {\"publish_year\": 2020, \"item_format\": \"DVD/Videocassette\", \"count_items\": 25284}, {\"publish_year\": 2020, \"item_format\": \"Juvenile Book\", \"count_items\": 71190}, {\"publish_year\": 2020, \"item_format\": \"Juvenile Book on CD\", \"count_items\": 150}, {\"publish_year\": 2020, \"item_format\": \"Juvenile Magazine\", \"count_items\": 31}, {\"publish_year\": 2020, \"item_format\": \"LP Record\", \"count_items\": 105}, {\"publish_year\": 2020, \"item_format\": \"Large Print Book\", \"count_items\": 6783}, {\"publish_year\": 2020, \"item_format\": \"Leased Book\", \"count_items\": 3426}, {\"publish_year\": 2020, \"item_format\": \"Magazine\", \"count_items\": 101}, {\"publish_year\": 2020, \"item_format\": \"Music Score\", \"count_items\": 25}, {\"publish_year\": 2020, \"item_format\": \"Music on CD\", \"count_items\": 4881}, {\"publish_year\": 2020, \"item_format\": \"Rare Book\", \"count_items\": 23}, {\"publish_year\": 2020, \"item_format\": \"Reference Book\", \"count_items\": 141}, {\"publish_year\": 2020, \"item_format\": \"Reference Juvenile Book\", \"count_items\": 428}, {\"publish_year\": 2020, \"item_format\": \"Reference Magazine\", \"count_items\": 1}, {\"publish_year\": 2020, \"item_format\": \"Teen Book\", \"count_items\": 10978}, {\"publish_year\": 2021, \"item_format\": \"Book\", \"count_items\": 91121}, {\"publish_year\": 2021, \"item_format\": \"Book on CD\", \"count_items\": 2502}, {\"publish_year\": 2021, \"item_format\": \"DVD/Videocassette\", \"count_items\": 22895}, {\"publish_year\": 2021, \"item_format\": \"Juvenile Book\", \"count_items\": 88717}, {\"publish_year\": 2021, \"item_format\": \"Juvenile Book on CD\", \"count_items\": 127}, {\"publish_year\": 2021, \"item_format\": \"Juvenile Magazine\", \"count_items\": 70}, {\"publish_year\": 2021, \"item_format\": \"LP Record\", \"count_items\": 80}, {\"publish_year\": 2021, \"item_format\": \"Large Print Book\", \"count_items\": 8573}, {\"publish_year\": 2021, \"item_format\": \"Leased Book\", \"count_items\": 7004}, {\"publish_year\": 2021, \"item_format\": \"Magazine\", \"count_items\": 176}, {\"publish_year\": 2021, \"item_format\": \"Music Score\", \"count_items\": 42}, {\"publish_year\": 2021, \"item_format\": \"Music on CD\", \"count_items\": 4781}, {\"publish_year\": 2021, \"item_format\": \"Rare Book\", \"count_items\": 27}, {\"publish_year\": 2021, \"item_format\": \"Reference Book\", \"count_items\": 142}, {\"publish_year\": 2021, \"item_format\": \"Reference Juvenile Book\", \"count_items\": 279}, {\"publish_year\": 2021, \"item_format\": \"Reference Magazine\", \"count_items\": 103}, {\"publish_year\": 2021, \"item_format\": \"Teen Book\", \"count_items\": 10918}, {\"publish_year\": 2022, \"item_format\": \"Book\", \"count_items\": 8048}, {\"publish_year\": 2022, \"item_format\": \"Book on CD\", \"count_items\": 204}, {\"publish_year\": 2022, \"item_format\": \"DVD/Videocassette\", \"count_items\": 3280}, {\"publish_year\": 2022, \"item_format\": \"Juvenile Book\", \"count_items\": 11723}, {\"publish_year\": 2022, \"item_format\": \"Large Print Book\", \"count_items\": 315}, {\"publish_year\": 2022, \"item_format\": \"Leased Book\", \"count_items\": 407}, {\"publish_year\": 2022, \"item_format\": \"Music on CD\", \"count_items\": 151}, {\"publish_year\": 2022, \"item_format\": \"Reference Book\", \"count_items\": 66}, {\"publish_year\": 2022, \"item_format\": \"Reference Juvenile Book\", \"count_items\": 367}, {\"publish_year\": 2022, \"item_format\": \"Teen Book\", \"count_items\": 815}]}}, {\"mode\": \"vega-lite\"});\n",
              "</script>"
            ]
          },
          "metadata": {}
        }
      ]
    }
  ]
}