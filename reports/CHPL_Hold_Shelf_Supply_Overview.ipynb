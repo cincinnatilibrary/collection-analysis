{
  "nbformat": 4,
  "nbformat_minor": 5,
  "metadata": {
    "kernelspec": {
      "display_name": "Python 3",
      "language": "python",
      "name": "python3"
    },
    "language_info": {
      "codemirror_mode": {
        "name": "ipython",
        "version": 3
      },
      "file_extension": ".py",
      "mimetype": "text/x-python",
      "name": "python",
      "nbconvert_exporter": "python",
      "pygments_lexer": "ipython3",
      "version": "3.9.5"
    },
    "colab": {
      "name": "CHPL Hold Shelf Supply Overview.ipynb",
      "provenance": [],
      "collapsed_sections": [],
      "include_colab_link": true
    }
  },
  "cells": [
    {
      "cell_type": "markdown",
      "metadata": {
        "id": "view-in-github",
        "colab_type": "text"
      },
      "source": [
        "<a href=\"https://colab.research.google.com/github/cincinnatilibrary/collection-analysis/blob/master/reports/CHPL_Hold_Shelf_Supply_Overview.ipynb\" target=\"_parent\"><img src=\"https://colab.research.google.com/assets/colab-badge.svg\" alt=\"Open In Colab\"/></a>"
      ]
    },
    {
      "cell_type": "markdown",
      "metadata": {
        "id": "hjPkK4J4oFGz"
      },
      "source": [
        "# CHPL - Collection Analysis - **Hold-Shelves Supply**\n",
        "<img src=\"https://ilsweb.cincinnatilibrary.org/img/CHPL_Brandmark_Primary.png\" alt=\"CHPL\" title=\"CHPL\" width=\"300\"/>\n",
        "\n",
        "This report provides some queries and generates some visualizations for data\n",
        "related to items that have been delievered to various hold-shelf locations in\n",
        "the CHPL system.\n",
        "\n",
        "Data sources:\n",
        "\n",
        "* https://ilsweb.cincinnatilibrary.org/collection-analysis/\n",
        "* https://github.com/plch/plch-holds-shelf"
      ],
      "id": "hjPkK4J4oFGz"
    },
    {
      "cell_type": "code",
      "metadata": {
        "id": "5c5b883e"
      },
      "source": [
        "import pandas as pd\n",
        "import numpy as np\n",
        "import altair as alt\n",
        "from urllib.parse import urlencode\n",
        "\n",
        "chpl_collection_url = 'https://ilsweb.cincinnatilibrary.org/collection-analysis/current_collection'\n",
        "\n",
        "# this is the month we want to target for the aggregation \n",
        "start_date = '2021-11'"
      ],
      "id": "5c5b883e",
      "execution_count": 1,
      "outputs": []
    },
    {
      "cell_type": "code",
      "metadata": {
        "id": "G61S5eDxPGNj"
      },
      "source": [
        "# Hold-shelf Supply Query\n",
        "# where are the items to fill holds coming from (when not being sourced and filled from the same branch)? \n",
        "\n",
        "\"\"\"\n",
        "NOTE: this excludes:\n",
        "  * items where the source branch is the same same as the pickup branch\n",
        "  * items having item types where there are not more than 100 of that type in the set \n",
        "\"\"\"\n",
        "sql = \"\"\"\\\n",
        "with hold_shelf_data as (\n",
        "  select\n",
        "    date(modified_epoch, 'unixepoch', 'localtime') as date_hold_on_holdshelf,\n",
        "    date(placed_epoch, 'unixepoch', 'localtime') as date_hold_placed,\n",
        "    s_location_code as item_source_location_code,\n",
        "    (\n",
        "      select\n",
        "        coalesce(branch_name.name, s_location_code, '')\n",
        "      from\n",
        "        \"location\"\n",
        "        left outer join branch on branch.code_num = \"location\".branch_code_num\n",
        "        left outer join branch_name on branch_name.branch_id = branch.id\n",
        "      where\n",
        "        \"location\".code = s_location_code\n",
        "      limit\n",
        "        1\n",
        "    ) as item_source_branch_name,\n",
        "    item.item_format,\n",
        "    pickup_location_code,\n",
        "    (\n",
        "      select\n",
        "        coalesce(branch_name.name, pickup_location_code, '')\n",
        "      from\n",
        "        \"location\"\n",
        "        left outer join branch on branch.code_num = \"location\".branch_code_num\n",
        "        left outer join branch_name on branch_name.branch_id = branch.id\n",
        "      where\n",
        "        \"location\".code = pickup_location_code\n",
        "      limit\n",
        "        1\n",
        "    ) as item_pickup_branch_name\n",
        "  from\n",
        "    holds_shelf\n",
        "    left outer join item as item on item.item_record_num = holds_shelf.record_num\n",
        "  where\n",
        "    modified_epoch >= CAST(\n",
        "      strftime('%s', :start_date || '-01') AS INT\n",
        "    )\n",
        "    and modified_epoch < CAST(\n",
        "      strftime('%s', DATE(:start_date || '-01', '+1 months')) AS INT\n",
        "    )\n",
        ")\n",
        "select\n",
        "  :start_date as month,\n",
        "  item_source_branch_name,\n",
        "  -- item_format,\n",
        "  count(*) as count\n",
        "from\n",
        "  hold_shelf_data\n",
        "where\n",
        "  item_source_branch_name != item_pickup_branch_name\n",
        "group by\n",
        "  1,\n",
        "  2\n",
        "\"\"\""
      ],
      "id": "G61S5eDxPGNj",
      "execution_count": 2,
      "outputs": []
    },
    {
      "cell_type": "code",
      "source": [
        "df = pd.read_csv(\n",
        "        chpl_collection_url + '.csv?' + urlencode(query={'sql': sql, 'start_date': start_date})\n",
        ")\n",
        "\n",
        "# save output as .csv ...\n",
        "df.to_csv(f'{start_date}-holds-supply-output.csv', index=False)"
      ],
      "metadata": {
        "id": "l1CXhaKttM0t"
      },
      "id": "l1CXhaKttM0t",
      "execution_count": 3,
      "outputs": []
    },
    {
      "cell_type": "code",
      "source": [
        "df.columns"
      ],
      "metadata": {
        "colab": {
          "base_uri": "https://localhost:8080/"
        },
        "id": "jgdo-OObuF5n",
        "outputId": "14688415-5ccd-43da-ade6-ab1f931be323"
      },
      "id": "jgdo-OObuF5n",
      "execution_count": 4,
      "outputs": [
        {
          "output_type": "execute_result",
          "data": {
            "text/plain": [
              "Index(['month', 'item_source_branch_name', 'count'], dtype='object')"
            ]
          },
          "metadata": {},
          "execution_count": 4
        }
      ]
    },
    {
      "cell_type": "code",
      "source": [
        "# Chart where are the items to fill holds coming from (when not being sourced and filled from the same branch)? \n",
        "alt.Chart(df).mark_bar().encode(\n",
        "    x=alt.X('count:Q'),\n",
        "    y=alt.Y('item_source_branch_name', sort='-x'),\n",
        "    # color='item_format',\n",
        "    tooltip=['month', 'item_source_branch_name', 'count']\n",
        ").properties(\n",
        "    title = f\"Hold-shelf Supply - {df.iloc[0]['month']}\",\n",
        "    width = 800\n",
        ").display()"
      ],
      "metadata": {
        "colab": {
          "base_uri": "https://localhost:8080/",
          "height": 940
        },
        "id": "RNLouFDMtfyj",
        "outputId": "da26e3cf-0ba6-45bd-8aa1-ab8fa00e7dd9"
      },
      "id": "RNLouFDMtfyj",
      "execution_count": 5,
      "outputs": [
        {
          "output_type": "display_data",
          "data": {
            "text/plain": [
              "alt.Chart(...)"
            ],
            "text/html": [
              "\n",
              "<div id=\"altair-viz-fa3ff84606cb4edfb64458603e3c298b\"></div>\n",
              "<script type=\"text/javascript\">\n",
              "  (function(spec, embedOpt){\n",
              "    let outputDiv = document.currentScript.previousElementSibling;\n",
              "    if (outputDiv.id !== \"altair-viz-fa3ff84606cb4edfb64458603e3c298b\") {\n",
              "      outputDiv = document.getElementById(\"altair-viz-fa3ff84606cb4edfb64458603e3c298b\");\n",
              "    }\n",
              "    const paths = {\n",
              "      \"vega\": \"https://cdn.jsdelivr.net/npm//vega@5?noext\",\n",
              "      \"vega-lib\": \"https://cdn.jsdelivr.net/npm//vega-lib?noext\",\n",
              "      \"vega-lite\": \"https://cdn.jsdelivr.net/npm//vega-lite@4.8.1?noext\",\n",
              "      \"vega-embed\": \"https://cdn.jsdelivr.net/npm//vega-embed@6?noext\",\n",
              "    };\n",
              "\n",
              "    function loadScript(lib) {\n",
              "      return new Promise(function(resolve, reject) {\n",
              "        var s = document.createElement('script');\n",
              "        s.src = paths[lib];\n",
              "        s.async = true;\n",
              "        s.onload = () => resolve(paths[lib]);\n",
              "        s.onerror = () => reject(`Error loading script: ${paths[lib]}`);\n",
              "        document.getElementsByTagName(\"head\")[0].appendChild(s);\n",
              "      });\n",
              "    }\n",
              "\n",
              "    function showError(err) {\n",
              "      outputDiv.innerHTML = `<div class=\"error\" style=\"color:red;\">${err}</div>`;\n",
              "      throw err;\n",
              "    }\n",
              "\n",
              "    function displayChart(vegaEmbed) {\n",
              "      vegaEmbed(outputDiv, spec, embedOpt)\n",
              "        .catch(err => showError(`Javascript Error: ${err.message}<br>This usually means there's a typo in your chart specification. See the javascript console for the full traceback.`));\n",
              "    }\n",
              "\n",
              "    if(typeof define === \"function\" && define.amd) {\n",
              "      requirejs.config({paths});\n",
              "      require([\"vega-embed\"], displayChart, err => showError(`Error loading script: ${err.message}`));\n",
              "    } else if (typeof vegaEmbed === \"function\") {\n",
              "      displayChart(vegaEmbed);\n",
              "    } else {\n",
              "      loadScript(\"vega\")\n",
              "        .then(() => loadScript(\"vega-lite\"))\n",
              "        .then(() => loadScript(\"vega-embed\"))\n",
              "        .catch(showError)\n",
              "        .then(() => displayChart(vegaEmbed));\n",
              "    }\n",
              "  })({\"config\": {\"view\": {\"continuousWidth\": 400, \"continuousHeight\": 300}}, \"data\": {\"name\": \"data-4afeab60dab093dc2b9f0218f9f29085\"}, \"mark\": \"bar\", \"encoding\": {\"tooltip\": [{\"type\": \"nominal\", \"field\": \"month\"}, {\"type\": \"nominal\", \"field\": \"item_source_branch_name\"}, {\"type\": \"quantitative\", \"field\": \"count\"}], \"x\": {\"type\": \"quantitative\", \"field\": \"count\"}, \"y\": {\"type\": \"nominal\", \"field\": \"item_source_branch_name\", \"sort\": \"-x\"}}, \"title\": \"Hold-shelf Supply - 2021-11\", \"width\": 800, \"$schema\": \"https://vega.github.io/schema/vega-lite/v4.8.1.json\", \"datasets\": {\"data-4afeab60dab093dc2b9f0218f9f29085\": [{\"month\": \"2021-11\", \"item_source_branch_name\": \"Anderson\", \"count\": 7029}, {\"month\": \"2021-11\", \"item_source_branch_name\": \"Avondale\", \"count\": 322}, {\"month\": \"2021-11\", \"item_source_branch_name\": \"Blue Ash\", \"count\": 4920}, {\"month\": \"2021-11\", \"item_source_branch_name\": \"Bond Hill\", \"count\": 517}, {\"month\": \"2021-11\", \"item_source_branch_name\": \"Cheviot\", \"count\": 1490}, {\"month\": \"2021-11\", \"item_source_branch_name\": \"Clifton\", \"count\": 2313}, {\"month\": \"2021-11\", \"item_source_branch_name\": \"College Hill\", \"count\": 1155}, {\"month\": \"2021-11\", \"item_source_branch_name\": \"Corryville\", \"count\": 635}, {\"month\": \"2021-11\", \"item_source_branch_name\": \"Covedale\", \"count\": 2520}, {\"month\": \"2021-11\", \"item_source_branch_name\": \"Deer Park\", \"count\": 2433}, {\"month\": \"2021-11\", \"item_source_branch_name\": \"Delhi Township\", \"count\": 4365}, {\"month\": \"2021-11\", \"item_source_branch_name\": \"Distribution Center\", \"count\": 2597}, {\"month\": \"2021-11\", \"item_source_branch_name\": \"Elmwood Place\", \"count\": 432}, {\"month\": \"2021-11\", \"item_source_branch_name\": \"Forest Park\", \"count\": 1726}, {\"month\": \"2021-11\", \"item_source_branch_name\": \"Green Township\", \"count\": 4021}, {\"month\": \"2021-11\", \"item_source_branch_name\": \"Greenhills\", \"count\": 974}, {\"month\": \"2021-11\", \"item_source_branch_name\": \"Groesbeck\", \"count\": 4755}, {\"month\": \"2021-11\", \"item_source_branch_name\": \"Harrison\", \"count\": 4090}, {\"month\": \"2021-11\", \"item_source_branch_name\": \"Hyde Park\", \"count\": 3797}, {\"month\": \"2021-11\", \"item_source_branch_name\": \"Loveland\", \"count\": 3719}, {\"month\": \"2021-11\", \"item_source_branch_name\": \"Madeira\", \"count\": 4752}, {\"month\": \"2021-11\", \"item_source_branch_name\": \"Madisonville\", \"count\": 553}, {\"month\": \"2021-11\", \"item_source_branch_name\": \"Main Library\", \"count\": 29127}, {\"month\": \"2021-11\", \"item_source_branch_name\": \"Mariemont\", \"count\": 2788}, {\"month\": \"2021-11\", \"item_source_branch_name\": \"Miami Township\", \"count\": 1521}, {\"month\": \"2021-11\", \"item_source_branch_name\": \"Monfort Heights\", \"count\": 3590}, {\"month\": \"2021-11\", \"item_source_branch_name\": \"Mt Healthy\", \"count\": 774}, {\"month\": \"2021-11\", \"item_source_branch_name\": \"Mt Washington\", \"count\": 2833}, {\"month\": \"2021-11\", \"item_source_branch_name\": \"North Central\", \"count\": 2825}, {\"month\": \"2021-11\", \"item_source_branch_name\": \"Northside\", \"count\": 1169}, {\"month\": \"2021-11\", \"item_source_branch_name\": \"Norwood\", \"count\": 1876}, {\"month\": \"2021-11\", \"item_source_branch_name\": \"Oakley\", \"count\": 2787}, {\"month\": \"2021-11\", \"item_source_branch_name\": \"Outreach Services\", \"count\": 2727}, {\"month\": \"2021-11\", \"item_source_branch_name\": \"Pleasant Ridge\", \"count\": 2325}, {\"month\": \"2021-11\", \"item_source_branch_name\": \"Price Hill\", \"count\": 730}, {\"month\": \"2021-11\", \"item_source_branch_name\": \"Reading\", \"count\": 2118}, {\"month\": \"2021-11\", \"item_source_branch_name\": \"Sharonville\", \"count\": 3555}, {\"month\": \"2021-11\", \"item_source_branch_name\": \"St Bernard\", \"count\": 985}, {\"month\": \"2021-11\", \"item_source_branch_name\": \"Symmes Township\", \"count\": 8000}, {\"month\": \"2021-11\", \"item_source_branch_name\": \"Walnut Hills\", \"count\": 728}, {\"month\": \"2021-11\", \"item_source_branch_name\": \"West End\", \"count\": 501}, {\"month\": \"2021-11\", \"item_source_branch_name\": \"Westwood\", \"count\": 1961}, {\"month\": \"2021-11\", \"item_source_branch_name\": \"Wyoming\", \"count\": 2742}]}}, {\"mode\": \"vega-lite\"});\n",
              "</script>"
            ]
          },
          "metadata": {}
        }
      ]
    },
    {
      "cell_type": "code",
      "source": [
        "# how many items did we ship through the system in this month?\n",
        "df['count'].sum()"
      ],
      "metadata": {
        "colab": {
          "base_uri": "https://localhost:8080/"
        },
        "id": "dTj7aPK7vbFv",
        "outputId": "ac656346-b76f-4d9a-bb59-d91185e6ad62"
      },
      "id": "dTj7aPK7vbFv",
      "execution_count": 6,
      "outputs": [
        {
          "output_type": "execute_result",
          "data": {
            "text/plain": [
              "134777"
            ]
          },
          "metadata": {},
          "execution_count": 6
        }
      ]
    },
    {
      "cell_type": "code",
      "source": [
        "# how many items did we ship through the system PER DAY on average in this month?\n",
        "df['count'].sum() / pd.Period(start_date + '-01').days_in_month"
      ],
      "metadata": {
        "colab": {
          "base_uri": "https://localhost:8080/"
        },
        "id": "4G6U_Y7svptf",
        "outputId": "5180183f-9d76-41f8-ba9c-d75bcdc42f02"
      },
      "id": "4G6U_Y7svptf",
      "execution_count": 7,
      "outputs": [
        {
          "output_type": "execute_result",
          "data": {
            "text/plain": [
              "4492.566666666667"
            ]
          },
          "metadata": {},
          "execution_count": 7
        }
      ]
    }
  ]
}