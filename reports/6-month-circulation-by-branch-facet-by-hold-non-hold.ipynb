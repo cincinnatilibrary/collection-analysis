{
  "nbformat": 4,
  "nbformat_minor": 0,
  "metadata": {
    "colab": {
      "provenance": []
    },
    "kernelspec": {
      "name": "python3",
      "display_name": "Python 3"
    },
    "language_info": {
      "name": "python"
    }
  },
  "cells": [
    {
      "cell_type": "markdown",
      "source": [
        "# 6-Month Circulation By Branch and Item Type"
      ],
      "metadata": {
        "id": "QskRIkF4HA-J"
      }
    },
    {
      "cell_type": "code",
      "execution_count": 1,
      "metadata": {
        "id": "p5fp8PyNgfYI"
      },
      "outputs": [],
      "source": [
        "import requests\n",
        "import pandas as pd\n",
        "import altair as alt\n",
        "from datetime import date\n",
        "from dateutil.relativedelta import relativedelta\n",
        "import zipfile"
      ]
    },
    {
      "cell_type": "code",
      "source": [
        "# set the API base URL\n",
        "base_url = \"https://collection-analysis.cincy.pl/current_collection/\"\n",
        "\n",
        "# create a requests session for connection pooling\n",
        "session = requests.session()"
      ],
      "metadata": {
        "id": "fO7xVIjJgmtI"
      },
      "execution_count": 2,
      "outputs": []
    },
    {
      "cell_type": "code",
      "source": [
        "# list comprehension to get the list of branches ...\n",
        "branches = [\n",
        "    branch[2]\n",
        "    for branch\n",
        "    in (\n",
        "        session.get(base_url+'branch_name.json').json()['rows']\n",
        "    )\n",
        "    if branch[2] != ''\n",
        "]"
      ],
      "metadata": {
        "id": "K1vJs5XQeCFc"
      },
      "execution_count": 3,
      "outputs": []
    },
    {
      "cell_type": "code",
      "source": [
        "# create the dataframe where we'll store the results\n",
        "df = pd.DataFrame(index=None)\n",
        "\n",
        "# this is the API endpoint where our current collection results will come from\n",
        "next_url = base_url+'circ_agg_branch_view.json'\n",
        "\n",
        "# work through the results (the endpoint will return `None` when no more rows)\n",
        "while next_url is not None:\n",
        "  r = session.get(next_url)\n",
        "\n",
        "  # concatinate the results into the DataFrame as we go\n",
        "  df = pd.concat(\n",
        "      [\n",
        "          df,\n",
        "          pd.DataFrame(\n",
        "              r.json()['rows'],\n",
        "              columns=r.json()['columns'],\n",
        "              index=None\n",
        "          )\n",
        "      ],\n",
        "  )\n",
        "\n",
        "  # get the next url (results are paginated)\n",
        "  if 'next_url' in r.json().keys():\n",
        "    next_url = r.json()['next_url']\n",
        "    print('.', end='')\n",
        "  else:\n",
        "    break"
      ],
      "metadata": {
        "colab": {
          "base_uri": "https://localhost:8080/"
        },
        "id": "KWvHVeHQgvVo",
        "outputId": "73bea71a-3ca0-438f-a308-04d68a09e4d1"
      },
      "execution_count": 4,
      "outputs": [
        {
          "output_type": "stream",
          "name": "stdout",
          "text": [
            "..............................................................."
          ]
        }
      ]
    },
    {
      "cell_type": "code",
      "source": [
        "# branch_name = 'Cheviot'\n",
        "html_files = []\n",
        "\n",
        "for branch_name in branches:\n",
        "\n",
        "  # assume that this report is going to be run at any time...\n",
        "  # so, assume that we have 5 months of complete data + the current month\n",
        "  six_months_ago = (date.today() + relativedelta(months=-5)).strftime('%Y-%m')\n",
        "\n",
        "  # filter the DataFrame by the parameters above\n",
        "  source = df[\n",
        "      (df['transaction_month'] >= six_months_ago)\n",
        "      & (df['branch_name'] == branch_name)\n",
        "  ]\n",
        "\n",
        "  # create the chart for the branch\n",
        "  chart = alt.Chart(source).mark_bar().encode(\n",
        "      x=alt.X('sum_transactions'),\n",
        "      y=alt.Y('itype_name', sort='-x'),\n",
        "      color='checkout_type',\n",
        "      tooltip=['branch_name', 'transaction_month', 'itype_name', 'sum_transactions']\n",
        "  ).facet(\n",
        "      'transaction_month',\n",
        "      columns=3\n",
        "  ).properties(\n",
        "      title=f'{branch_name} Item Type Circulations 6 Months (generated: {date.today()})'\n",
        "  )\n",
        "\n",
        "  # create a zip file of all the html output (append to the zip file as we go)\n",
        "  with zipfile.ZipFile(f'{date.today()}_6-months_circ_by_branch.zip', mode='a') as z:\n",
        "    z.writestr(\n",
        "        f\"{branch_name}.html\",\n",
        "        chart.to_html().encode('utf-8')\n",
        "    )"
      ],
      "metadata": {
        "colab": {
          "base_uri": "https://localhost:8080/"
        },
        "id": "fCRDpke22uiw",
        "outputId": "60203838-294a-4251-b476-3e3cf221432a"
      },
      "execution_count": 5,
      "outputs": [
        {
          "output_type": "stream",
          "name": "stderr",
          "text": [
            "/usr/local/lib/python3.10/dist-packages/altair/utils/core.py:219: UserWarning: I don't know how to infer vegalite type from 'empty'.  Defaulting to nominal.\n",
            "  warnings.warn(\n"
          ]
        }
      ]
    }
  ]
}