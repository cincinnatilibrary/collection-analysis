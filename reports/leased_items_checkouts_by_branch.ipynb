{
  "nbformat": 4,
  "nbformat_minor": 5,
  "metadata": {
    "kernelspec": {
      "display_name": "Python 3",
      "language": "python",
      "name": "python3"
    },
    "language_info": {
      "codemirror_mode": {
        "name": "ipython",
        "version": 3
      },
      "file_extension": ".py",
      "mimetype": "text/x-python",
      "name": "python",
      "nbconvert_exporter": "python",
      "pygments_lexer": "ipython3",
      "version": "3.9.5"
    },
    "colab": {
      "name": "leased_items_checkouts_by_branch.ipynb",
      "provenance": [],
      "collapsed_sections": [],
      "include_colab_link": true
    }
  },
  "cells": [
    {
      "cell_type": "markdown",
      "metadata": {
        "id": "view-in-github",
        "colab_type": "text"
      },
      "source": [
        "<a href=\"https://colab.research.google.com/github/cincinnatilibrary/collection-analysis/blob/master/reports/leased_items_checkouts_by_branch.ipynb\" target=\"_parent\"><img src=\"https://colab.research.google.com/assets/colab-badge.svg\" alt=\"Open In Colab\"/></a>"
      ]
    },
    {
      "cell_type": "markdown",
      "metadata": {
        "id": "hjPkK4J4oFGz"
      },
      "source": [
        "# CHPL - Collection Analysis - **Leased Items**\n",
        "\n",
        "<img src=\"https://ilsweb.cincinnatilibrary.org/img/CHPL_Brandmark_Primary.png\" alt=\"CHPL\" title=\"CHPL\" width=\"300\"/>\n",
        "\n",
        "Data sources / Documentation:\n",
        "\n",
        "* https://ilsweb.cincinnatilibrary.org/collection-analysis/"
      ],
      "id": "hjPkK4J4oFGz"
    },
    {
      "cell_type": "code",
      "metadata": {
        "id": "5c5b883e",
        "cellView": "form"
      },
      "source": [
        "#@title\n",
        "import pandas as pd\n",
        "import numpy as np\n",
        "import altair as alt\n",
        "# if we want to save output as .png use this\n",
        "# NOTE: use !pip install -U altair_saver above to download / install first\n",
        "# from altair_saver import save\n",
        "from urllib.parse import urlencode\n",
        "import requests"
      ],
      "id": "5c5b883e",
      "execution_count": 1,
      "outputs": []
    },
    {
      "cell_type": "code",
      "metadata": {
        "id": "7fc54487",
        "cellView": "form"
      },
      "source": [
        "#@title\n",
        "# engine = create_engine('sqlite:///file:current.db?mode=rw&uri=true')\n",
        "\n",
        "# instead of the local db, we'll use the current_collection data set instead ...\n",
        "# NOTE: the queries change slighly from the local db\n",
        "base_url = 'https://collection-analysis.cincy.pl/current_collection'"
      ],
      "id": "7fc54487",
      "execution_count": 2,
      "outputs": []
    },
    {
      "cell_type": "code",
      "source": [
        "#@title\n",
        "sql = \"\"\"\\\n",
        "-- find the ciculation of leased items by stat group of branch\n",
        "select\n",
        "  strftime('%Y-%m', transaction_day) as circ_month,\n",
        "  stat_group_branch_name,\n",
        "  -- bib_record_num,\n",
        "  count(*) as count_checkouts\n",
        "from\n",
        "  circ_leased_items\n",
        "where\n",
        "  op_code = 'o'\n",
        "group by\n",
        "  1,\n",
        "  2\n",
        "order by\n",
        "  1,\n",
        "  2\n",
        "\"\"\"\n",
        "\n",
        "df = pd.read_json(\n",
        "    requests.get(\n",
        "      url=base_url + '.json',\n",
        "      params={\n",
        "        'sql': sql,\n",
        "        '_shape': 'array'\n",
        "      }\n",
        "    ).content\n",
        ")\n",
        "\n",
        "# df.head()"
      ],
      "metadata": {
        "cellView": "form",
        "id": "4lL9J9g-V0Pw"
      },
      "id": "4lL9J9g-V0Pw",
      "execution_count": 3,
      "outputs": []
    },
    {
      "cell_type": "markdown",
      "source": [
        "## Find Aggregated Check-out Circulations For Leased Items by Branch and Month \n",
        "\n",
        "(previous 180 days)"
      ],
      "metadata": {
        "id": "ki1d-7l8aZIe"
      },
      "id": "ki1d-7l8aZIe"
    },
    {
      "cell_type": "code",
      "source": [
        "#@title\n",
        "# color=\"#0090bd\"\n",
        "chart = alt.Chart(df).mark_bar().encode(\n",
        "    # x='end_date:T',\n",
        "    x=alt.X(\n",
        "        'circ_month',\n",
        "        axis=alt.Axis(title='circulation month', labelAngle=-70),\n",
        "        # sort='-y'\n",
        "    ),\n",
        "    y=alt.Y(\n",
        "        'count_checkouts:Q',\n",
        "        title = 'count total leased item checkouts',\n",
        "        # scale = alt.Scale(domain=[0,100]),\n",
        "    ),\n",
        "    color=alt.Color(\n",
        "        'stat_group_branch_name',\n",
        "        legend=None\n",
        "    ),\n",
        "    tooltip=['stat_group_branch_name', 'circ_month', 'count_checkouts']\n",
        ").properties(\n",
        "    title=\"\",\n",
        "    # .format(df.iloc[0]['branch_name']),\n",
        "    width=300,\n",
        ").facet(\n",
        "    facet='stat_group_branch_name',\n",
        "    columns=6\n",
        ")\n",
        "\n",
        "chart.display()"
      ],
      "metadata": {
        "colab": {
          "base_uri": "https://localhost:8080/",
          "height": 1000
        },
        "cellView": "form",
        "id": "eJDscXAtXQcZ",
        "outputId": "d385d8e8-c9dd-411a-8912-970fbdb45538"
      },
      "id": "eJDscXAtXQcZ",
      "execution_count": 6,
      "outputs": [
        {
          "output_type": "display_data",
          "data": {
            "text/plain": [
              "alt.FacetChart(...)"
            ],
            "text/html": [
              "\n",
              "<div id=\"altair-viz-2643e56f93754465a48fde54a3ef9a84\"></div>\n",
              "<script type=\"text/javascript\">\n",
              "  var VEGA_DEBUG = (typeof VEGA_DEBUG == \"undefined\") ? {} : VEGA_DEBUG;\n",
              "  (function(spec, embedOpt){\n",
              "    let outputDiv = document.currentScript.previousElementSibling;\n",
              "    if (outputDiv.id !== \"altair-viz-2643e56f93754465a48fde54a3ef9a84\") {\n",
              "      outputDiv = document.getElementById(\"altair-viz-2643e56f93754465a48fde54a3ef9a84\");\n",
              "    }\n",
              "    const paths = {\n",
              "      \"vega\": \"https://cdn.jsdelivr.net/npm//vega@5?noext\",\n",
              "      \"vega-lib\": \"https://cdn.jsdelivr.net/npm//vega-lib?noext\",\n",
              "      \"vega-lite\": \"https://cdn.jsdelivr.net/npm//vega-lite@4.17.0?noext\",\n",
              "      \"vega-embed\": \"https://cdn.jsdelivr.net/npm//vega-embed@6?noext\",\n",
              "    };\n",
              "\n",
              "    function maybeLoadScript(lib, version) {\n",
              "      var key = `${lib.replace(\"-\", \"\")}_version`;\n",
              "      return (VEGA_DEBUG[key] == version) ?\n",
              "        Promise.resolve(paths[lib]) :\n",
              "        new Promise(function(resolve, reject) {\n",
              "          var s = document.createElement('script');\n",
              "          document.getElementsByTagName(\"head\")[0].appendChild(s);\n",
              "          s.async = true;\n",
              "          s.onload = () => {\n",
              "            VEGA_DEBUG[key] = version;\n",
              "            return resolve(paths[lib]);\n",
              "          };\n",
              "          s.onerror = () => reject(`Error loading script: ${paths[lib]}`);\n",
              "          s.src = paths[lib];\n",
              "        });\n",
              "    }\n",
              "\n",
              "    function showError(err) {\n",
              "      outputDiv.innerHTML = `<div class=\"error\" style=\"color:red;\">${err}</div>`;\n",
              "      throw err;\n",
              "    }\n",
              "\n",
              "    function displayChart(vegaEmbed) {\n",
              "      vegaEmbed(outputDiv, spec, embedOpt)\n",
              "        .catch(err => showError(`Javascript Error: ${err.message}<br>This usually means there's a typo in your chart specification. See the javascript console for the full traceback.`));\n",
              "    }\n",
              "\n",
              "    if(typeof define === \"function\" && define.amd) {\n",
              "      requirejs.config({paths});\n",
              "      require([\"vega-embed\"], displayChart, err => showError(`Error loading script: ${err.message}`));\n",
              "    } else {\n",
              "      maybeLoadScript(\"vega\", \"5\")\n",
              "        .then(() => maybeLoadScript(\"vega-lite\", \"4.17.0\"))\n",
              "        .then(() => maybeLoadScript(\"vega-embed\", \"6\"))\n",
              "        .catch(showError)\n",
              "        .then(() => displayChart(vegaEmbed));\n",
              "    }\n",
              "  })({\"config\": {\"view\": {\"continuousWidth\": 400, \"continuousHeight\": 300}}, \"data\": {\"name\": \"data-ea32566cd1417515eb0b0a6cfe255c11\"}, \"facet\": {\"field\": \"stat_group_branch_name\", \"type\": \"nominal\"}, \"spec\": {\"mark\": \"bar\", \"encoding\": {\"color\": {\"field\": \"stat_group_branch_name\", \"legend\": null, \"type\": \"nominal\"}, \"tooltip\": [{\"field\": \"stat_group_branch_name\", \"type\": \"nominal\"}, {\"field\": \"circ_month\", \"type\": \"nominal\"}, {\"field\": \"count_checkouts\", \"type\": \"quantitative\"}], \"x\": {\"axis\": {\"labelAngle\": -70, \"title\": \"circulation month\"}, \"field\": \"circ_month\", \"type\": \"nominal\"}, \"y\": {\"field\": \"count_checkouts\", \"title\": \"count total leased item checkouts\", \"type\": \"quantitative\"}}, \"title\": \"\", \"width\": 300}, \"columns\": 6, \"$schema\": \"https://vega.github.io/schema/vega-lite/v4.17.0.json\", \"datasets\": {\"data-ea32566cd1417515eb0b0a6cfe255c11\": [{\"circ_month\": \"2021-09\", \"stat_group_branch_name\": \"Anderson\", \"count_checkouts\": 144}, {\"circ_month\": \"2021-09\", \"stat_group_branch_name\": \"Avondale\", \"count_checkouts\": 71}, {\"circ_month\": \"2021-09\", \"stat_group_branch_name\": \"Blue Ash\", \"count_checkouts\": 179}, {\"circ_month\": \"2021-09\", \"stat_group_branch_name\": \"Bond Hill\", \"count_checkouts\": 14}, {\"circ_month\": \"2021-09\", \"stat_group_branch_name\": \"Cheviot\", \"count_checkouts\": 53}, {\"circ_month\": \"2021-09\", \"stat_group_branch_name\": \"Clifton\", \"count_checkouts\": 20}, {\"circ_month\": \"2021-09\", \"stat_group_branch_name\": \"College Hill\", \"count_checkouts\": 13}, {\"circ_month\": \"2021-09\", \"stat_group_branch_name\": \"Corryville\", \"count_checkouts\": 5}, {\"circ_month\": \"2021-09\", \"stat_group_branch_name\": \"Covedale\", \"count_checkouts\": 14}, {\"circ_month\": \"2021-09\", \"stat_group_branch_name\": \"Deer Park\", \"count_checkouts\": 266}, {\"circ_month\": \"2021-09\", \"stat_group_branch_name\": \"Delhi Township\", \"count_checkouts\": 57}, {\"circ_month\": \"2021-09\", \"stat_group_branch_name\": \"Elmwood Place\", \"count_checkouts\": 1}, {\"circ_month\": \"2021-09\", \"stat_group_branch_name\": \"Forest Park\", \"count_checkouts\": 23}, {\"circ_month\": \"2021-09\", \"stat_group_branch_name\": \"Green Township\", \"count_checkouts\": 309}, {\"circ_month\": \"2021-09\", \"stat_group_branch_name\": \"Greenhills\", \"count_checkouts\": 7}, {\"circ_month\": \"2021-09\", \"stat_group_branch_name\": \"Groesbeck\", \"count_checkouts\": 263}, {\"circ_month\": \"2021-09\", \"stat_group_branch_name\": \"Harrison\", \"count_checkouts\": 280}, {\"circ_month\": \"2021-09\", \"stat_group_branch_name\": \"Hyde Park\", \"count_checkouts\": 108}, {\"circ_month\": \"2021-09\", \"stat_group_branch_name\": \"Loveland\", \"count_checkouts\": 70}, {\"circ_month\": \"2021-09\", \"stat_group_branch_name\": \"Madeira\", \"count_checkouts\": 95}, {\"circ_month\": \"2021-09\", \"stat_group_branch_name\": \"Madisonville\", \"count_checkouts\": 103}, {\"circ_month\": \"2021-09\", \"stat_group_branch_name\": \"Main Library\", \"count_checkouts\": 335}, {\"circ_month\": \"2021-09\", \"stat_group_branch_name\": \"Mariemont\", \"count_checkouts\": 41}, {\"circ_month\": \"2021-09\", \"stat_group_branch_name\": \"Miami Township\", \"count_checkouts\": 16}, {\"circ_month\": \"2021-09\", \"stat_group_branch_name\": \"Monfort Heights\", \"count_checkouts\": 123}, {\"circ_month\": \"2021-09\", \"stat_group_branch_name\": \"Mt Healthy\", \"count_checkouts\": 3}, {\"circ_month\": \"2021-09\", \"stat_group_branch_name\": \"Mt Washington\", \"count_checkouts\": 158}, {\"circ_month\": \"2021-09\", \"stat_group_branch_name\": \"North Central\", \"count_checkouts\": 192}, {\"circ_month\": \"2021-09\", \"stat_group_branch_name\": \"Northside\", \"count_checkouts\": 1}, {\"circ_month\": \"2021-09\", \"stat_group_branch_name\": \"Norwood\", \"count_checkouts\": 19}, {\"circ_month\": \"2021-09\", \"stat_group_branch_name\": \"Oakley\", \"count_checkouts\": 38}, {\"circ_month\": \"2021-09\", \"stat_group_branch_name\": \"Pleasant Ridge\", \"count_checkouts\": 104}, {\"circ_month\": \"2021-09\", \"stat_group_branch_name\": \"Price Hill\", \"count_checkouts\": 95}, {\"circ_month\": \"2021-09\", \"stat_group_branch_name\": \"Reading\", \"count_checkouts\": 70}, {\"circ_month\": \"2021-09\", \"stat_group_branch_name\": \"Sharonville\", \"count_checkouts\": 101}, {\"circ_month\": \"2021-09\", \"stat_group_branch_name\": \"St Bernard\", \"count_checkouts\": 17}, {\"circ_month\": \"2021-09\", \"stat_group_branch_name\": \"Symmes Township\", \"count_checkouts\": 379}, {\"circ_month\": \"2021-09\", \"stat_group_branch_name\": \"Walnut Hills\", \"count_checkouts\": 6}, {\"circ_month\": \"2021-09\", \"stat_group_branch_name\": \"West End\", \"count_checkouts\": 94}, {\"circ_month\": \"2021-09\", \"stat_group_branch_name\": \"Westwood\", \"count_checkouts\": 155}, {\"circ_month\": \"2021-09\", \"stat_group_branch_name\": \"Wyoming\", \"count_checkouts\": 54}, {\"circ_month\": \"2021-10\", \"stat_group_branch_name\": \"Anderson\", \"count_checkouts\": 164}, {\"circ_month\": \"2021-10\", \"stat_group_branch_name\": \"Avondale\", \"count_checkouts\": 95}, {\"circ_month\": \"2021-10\", \"stat_group_branch_name\": \"Blue Ash\", \"count_checkouts\": 197}, {\"circ_month\": \"2021-10\", \"stat_group_branch_name\": \"Bond Hill\", \"count_checkouts\": 14}, {\"circ_month\": \"2021-10\", \"stat_group_branch_name\": \"Cheviot\", \"count_checkouts\": 85}, {\"circ_month\": \"2021-10\", \"stat_group_branch_name\": \"Clifton\", \"count_checkouts\": 23}, {\"circ_month\": \"2021-10\", \"stat_group_branch_name\": \"College Hill\", \"count_checkouts\": 17}, {\"circ_month\": \"2021-10\", \"stat_group_branch_name\": \"Corryville\", \"count_checkouts\": 7}, {\"circ_month\": \"2021-10\", \"stat_group_branch_name\": \"Covedale\", \"count_checkouts\": 23}, {\"circ_month\": \"2021-10\", \"stat_group_branch_name\": \"Deer Park\", \"count_checkouts\": 289}, {\"circ_month\": \"2021-10\", \"stat_group_branch_name\": \"Delhi Township\", \"count_checkouts\": 75}, {\"circ_month\": \"2021-10\", \"stat_group_branch_name\": \"Elmwood Place\", \"count_checkouts\": 1}, {\"circ_month\": \"2021-10\", \"stat_group_branch_name\": \"Forest Park\", \"count_checkouts\": 43}, {\"circ_month\": \"2021-10\", \"stat_group_branch_name\": \"Green Township\", \"count_checkouts\": 295}, {\"circ_month\": \"2021-10\", \"stat_group_branch_name\": \"Greenhills\", \"count_checkouts\": 12}, {\"circ_month\": \"2021-10\", \"stat_group_branch_name\": \"Groesbeck\", \"count_checkouts\": 285}, {\"circ_month\": \"2021-10\", \"stat_group_branch_name\": \"Harrison\", \"count_checkouts\": 314}, {\"circ_month\": \"2021-10\", \"stat_group_branch_name\": \"Hyde Park\", \"count_checkouts\": 123}, {\"circ_month\": \"2021-10\", \"stat_group_branch_name\": \"Loveland\", \"count_checkouts\": 68}, {\"circ_month\": \"2021-10\", \"stat_group_branch_name\": \"Madeira\", \"count_checkouts\": 128}, {\"circ_month\": \"2021-10\", \"stat_group_branch_name\": \"Madisonville\", \"count_checkouts\": 115}, {\"circ_month\": \"2021-10\", \"stat_group_branch_name\": \"Main Library\", \"count_checkouts\": 293}, {\"circ_month\": \"2021-10\", \"stat_group_branch_name\": \"Mariemont\", \"count_checkouts\": 37}, {\"circ_month\": \"2021-10\", \"stat_group_branch_name\": \"Miami Township\", \"count_checkouts\": 23}, {\"circ_month\": \"2021-10\", \"stat_group_branch_name\": \"Monfort Heights\", \"count_checkouts\": 140}, {\"circ_month\": \"2021-10\", \"stat_group_branch_name\": \"Mt Healthy\", \"count_checkouts\": 4}, {\"circ_month\": \"2021-10\", \"stat_group_branch_name\": \"Mt Washington\", \"count_checkouts\": 209}, {\"circ_month\": \"2021-10\", \"stat_group_branch_name\": \"North Central\", \"count_checkouts\": 229}, {\"circ_month\": \"2021-10\", \"stat_group_branch_name\": \"Northside\", \"count_checkouts\": 8}, {\"circ_month\": \"2021-10\", \"stat_group_branch_name\": \"Norwood\", \"count_checkouts\": 18}, {\"circ_month\": \"2021-10\", \"stat_group_branch_name\": \"Oakley\", \"count_checkouts\": 44}, {\"circ_month\": \"2021-10\", \"stat_group_branch_name\": \"Pleasant Ridge\", \"count_checkouts\": 119}, {\"circ_month\": \"2021-10\", \"stat_group_branch_name\": \"Price Hill\", \"count_checkouts\": 93}, {\"circ_month\": \"2021-10\", \"stat_group_branch_name\": \"Reading\", \"count_checkouts\": 60}, {\"circ_month\": \"2021-10\", \"stat_group_branch_name\": \"Sharonville\", \"count_checkouts\": 131}, {\"circ_month\": \"2021-10\", \"stat_group_branch_name\": \"St Bernard\", \"count_checkouts\": 20}, {\"circ_month\": \"2021-10\", \"stat_group_branch_name\": \"Symmes Township\", \"count_checkouts\": 404}, {\"circ_month\": \"2021-10\", \"stat_group_branch_name\": \"Walnut Hills\", \"count_checkouts\": 11}, {\"circ_month\": \"2021-10\", \"stat_group_branch_name\": \"West End\", \"count_checkouts\": 103}, {\"circ_month\": \"2021-10\", \"stat_group_branch_name\": \"Westwood\", \"count_checkouts\": 158}, {\"circ_month\": \"2021-10\", \"stat_group_branch_name\": \"Wyoming\", \"count_checkouts\": 54}, {\"circ_month\": \"2021-11\", \"stat_group_branch_name\": \"Anderson\", \"count_checkouts\": 170}, {\"circ_month\": \"2021-11\", \"stat_group_branch_name\": \"Avondale\", \"count_checkouts\": 124}, {\"circ_month\": \"2021-11\", \"stat_group_branch_name\": \"Blue Ash\", \"count_checkouts\": 160}, {\"circ_month\": \"2021-11\", \"stat_group_branch_name\": \"Bond Hill\", \"count_checkouts\": 4}, {\"circ_month\": \"2021-11\", \"stat_group_branch_name\": \"Cheviot\", \"count_checkouts\": 94}, {\"circ_month\": \"2021-11\", \"stat_group_branch_name\": \"Clifton\", \"count_checkouts\": 37}, {\"circ_month\": \"2021-11\", \"stat_group_branch_name\": \"College Hill\", \"count_checkouts\": 10}, {\"circ_month\": \"2021-11\", \"stat_group_branch_name\": \"Corryville\", \"count_checkouts\": 8}, {\"circ_month\": \"2021-11\", \"stat_group_branch_name\": \"Covedale\", \"count_checkouts\": 10}, {\"circ_month\": \"2021-11\", \"stat_group_branch_name\": \"Deer Park\", \"count_checkouts\": 270}, {\"circ_month\": \"2021-11\", \"stat_group_branch_name\": \"Delhi Township\", \"count_checkouts\": 56}, {\"circ_month\": \"2021-11\", \"stat_group_branch_name\": \"Elmwood Place\", \"count_checkouts\": 4}, {\"circ_month\": \"2021-11\", \"stat_group_branch_name\": \"Forest Park\", \"count_checkouts\": 26}, {\"circ_month\": \"2021-11\", \"stat_group_branch_name\": \"Green Township\", \"count_checkouts\": 311}, {\"circ_month\": \"2021-11\", \"stat_group_branch_name\": \"Greenhills\", \"count_checkouts\": 4}, {\"circ_month\": \"2021-11\", \"stat_group_branch_name\": \"Groesbeck\", \"count_checkouts\": 330}, {\"circ_month\": \"2021-11\", \"stat_group_branch_name\": \"Harrison\", \"count_checkouts\": 381}, {\"circ_month\": \"2021-11\", \"stat_group_branch_name\": \"Hyde Park\", \"count_checkouts\": 111}, {\"circ_month\": \"2021-11\", \"stat_group_branch_name\": \"Loveland\", \"count_checkouts\": 74}, {\"circ_month\": \"2021-11\", \"stat_group_branch_name\": \"Madeira\", \"count_checkouts\": 81}, {\"circ_month\": \"2021-11\", \"stat_group_branch_name\": \"Madisonville\", \"count_checkouts\": 98}, {\"circ_month\": \"2021-11\", \"stat_group_branch_name\": \"Main Library\", \"count_checkouts\": 306}, {\"circ_month\": \"2021-11\", \"stat_group_branch_name\": \"Mariemont\", \"count_checkouts\": 30}, {\"circ_month\": \"2021-11\", \"stat_group_branch_name\": \"Miami Township\", \"count_checkouts\": 6}, {\"circ_month\": \"2021-11\", \"stat_group_branch_name\": \"Monfort Heights\", \"count_checkouts\": 104}, {\"circ_month\": \"2021-11\", \"stat_group_branch_name\": \"Mt Healthy\", \"count_checkouts\": 6}, {\"circ_month\": \"2021-11\", \"stat_group_branch_name\": \"Mt Washington\", \"count_checkouts\": 196}, {\"circ_month\": \"2021-11\", \"stat_group_branch_name\": \"North Central\", \"count_checkouts\": 215}, {\"circ_month\": \"2021-11\", \"stat_group_branch_name\": \"Northside\", \"count_checkouts\": 2}, {\"circ_month\": \"2021-11\", \"stat_group_branch_name\": \"Norwood\", \"count_checkouts\": 22}, {\"circ_month\": \"2021-11\", \"stat_group_branch_name\": \"Oakley\", \"count_checkouts\": 51}, {\"circ_month\": \"2021-11\", \"stat_group_branch_name\": \"Pleasant Ridge\", \"count_checkouts\": 123}, {\"circ_month\": \"2021-11\", \"stat_group_branch_name\": \"Price Hill\", \"count_checkouts\": 106}, {\"circ_month\": \"2021-11\", \"stat_group_branch_name\": \"Reading\", \"count_checkouts\": 65}, {\"circ_month\": \"2021-11\", \"stat_group_branch_name\": \"Sharonville\", \"count_checkouts\": 109}, {\"circ_month\": \"2021-11\", \"stat_group_branch_name\": \"St Bernard\", \"count_checkouts\": 21}, {\"circ_month\": \"2021-11\", \"stat_group_branch_name\": \"Symmes Township\", \"count_checkouts\": 441}, {\"circ_month\": \"2021-11\", \"stat_group_branch_name\": \"Walnut Hills\", \"count_checkouts\": 11}, {\"circ_month\": \"2021-11\", \"stat_group_branch_name\": \"West End\", \"count_checkouts\": 150}, {\"circ_month\": \"2021-11\", \"stat_group_branch_name\": \"Westwood\", \"count_checkouts\": 188}, {\"circ_month\": \"2021-11\", \"stat_group_branch_name\": \"Wyoming\", \"count_checkouts\": 45}, {\"circ_month\": \"2021-12\", \"stat_group_branch_name\": \"Anderson\", \"count_checkouts\": 202}, {\"circ_month\": \"2021-12\", \"stat_group_branch_name\": \"Avondale\", \"count_checkouts\": 112}, {\"circ_month\": \"2021-12\", \"stat_group_branch_name\": \"Blue Ash\", \"count_checkouts\": 153}, {\"circ_month\": \"2021-12\", \"stat_group_branch_name\": \"Bond Hill\", \"count_checkouts\": 4}, {\"circ_month\": \"2021-12\", \"stat_group_branch_name\": \"Cheviot\", \"count_checkouts\": 79}, {\"circ_month\": \"2021-12\", \"stat_group_branch_name\": \"Clifton\", \"count_checkouts\": 22}, {\"circ_month\": \"2021-12\", \"stat_group_branch_name\": \"College Hill\", \"count_checkouts\": 19}, {\"circ_month\": \"2021-12\", \"stat_group_branch_name\": \"Corryville\", \"count_checkouts\": 6}, {\"circ_month\": \"2021-12\", \"stat_group_branch_name\": \"Covedale\", \"count_checkouts\": 10}, {\"circ_month\": \"2021-12\", \"stat_group_branch_name\": \"Deer Park\", \"count_checkouts\": 310}, {\"circ_month\": \"2021-12\", \"stat_group_branch_name\": \"Delhi Township\", \"count_checkouts\": 59}, {\"circ_month\": \"2021-12\", \"stat_group_branch_name\": \"Forest Park\", \"count_checkouts\": 29}, {\"circ_month\": \"2021-12\", \"stat_group_branch_name\": \"Green Township\", \"count_checkouts\": 290}, {\"circ_month\": \"2021-12\", \"stat_group_branch_name\": \"Greenhills\", \"count_checkouts\": 4}, {\"circ_month\": \"2021-12\", \"stat_group_branch_name\": \"Groesbeck\", \"count_checkouts\": 341}, {\"circ_month\": \"2021-12\", \"stat_group_branch_name\": \"Harrison\", \"count_checkouts\": 360}, {\"circ_month\": \"2021-12\", \"stat_group_branch_name\": \"Hyde Park\", \"count_checkouts\": 120}, {\"circ_month\": \"2021-12\", \"stat_group_branch_name\": \"Loveland\", \"count_checkouts\": 52}, {\"circ_month\": \"2021-12\", \"stat_group_branch_name\": \"Madeira\", \"count_checkouts\": 80}, {\"circ_month\": \"2021-12\", \"stat_group_branch_name\": \"Madisonville\", \"count_checkouts\": 84}, {\"circ_month\": \"2021-12\", \"stat_group_branch_name\": \"Main Library\", \"count_checkouts\": 426}, {\"circ_month\": \"2021-12\", \"stat_group_branch_name\": \"Mariemont\", \"count_checkouts\": 40}, {\"circ_month\": \"2021-12\", \"stat_group_branch_name\": \"Miami Township\", \"count_checkouts\": 9}, {\"circ_month\": \"2021-12\", \"stat_group_branch_name\": \"Monfort Heights\", \"count_checkouts\": 114}, {\"circ_month\": \"2021-12\", \"stat_group_branch_name\": \"Mt Healthy\", \"count_checkouts\": 5}, {\"circ_month\": \"2021-12\", \"stat_group_branch_name\": \"Mt Washington\", \"count_checkouts\": 210}, {\"circ_month\": \"2021-12\", \"stat_group_branch_name\": \"North Central\", \"count_checkouts\": 206}, {\"circ_month\": \"2021-12\", \"stat_group_branch_name\": \"Northside\", \"count_checkouts\": 3}, {\"circ_month\": \"2021-12\", \"stat_group_branch_name\": \"Norwood\", \"count_checkouts\": 25}, {\"circ_month\": \"2021-12\", \"stat_group_branch_name\": \"Oakley\", \"count_checkouts\": 40}, {\"circ_month\": \"2021-12\", \"stat_group_branch_name\": \"Pleasant Ridge\", \"count_checkouts\": 136}, {\"circ_month\": \"2021-12\", \"stat_group_branch_name\": \"Price Hill\", \"count_checkouts\": 108}, {\"circ_month\": \"2021-12\", \"stat_group_branch_name\": \"Reading\", \"count_checkouts\": 62}, {\"circ_month\": \"2021-12\", \"stat_group_branch_name\": \"Sharonville\", \"count_checkouts\": 105}, {\"circ_month\": \"2021-12\", \"stat_group_branch_name\": \"St Bernard\", \"count_checkouts\": 22}, {\"circ_month\": \"2021-12\", \"stat_group_branch_name\": \"Symmes Township\", \"count_checkouts\": 336}, {\"circ_month\": \"2021-12\", \"stat_group_branch_name\": \"Walnut Hills\", \"count_checkouts\": 23}, {\"circ_month\": \"2021-12\", \"stat_group_branch_name\": \"West End\", \"count_checkouts\": 131}, {\"circ_month\": \"2021-12\", \"stat_group_branch_name\": \"Westwood\", \"count_checkouts\": 206}, {\"circ_month\": \"2021-12\", \"stat_group_branch_name\": \"Wyoming\", \"count_checkouts\": 37}, {\"circ_month\": \"2022-01\", \"stat_group_branch_name\": \"Anderson\", \"count_checkouts\": 176}, {\"circ_month\": \"2022-01\", \"stat_group_branch_name\": \"Avondale\", \"count_checkouts\": 100}, {\"circ_month\": \"2022-01\", \"stat_group_branch_name\": \"Blue Ash\", \"count_checkouts\": 152}, {\"circ_month\": \"2022-01\", \"stat_group_branch_name\": \"Bond Hill\", \"count_checkouts\": 7}, {\"circ_month\": \"2022-01\", \"stat_group_branch_name\": \"Cheviot\", \"count_checkouts\": 96}, {\"circ_month\": \"2022-01\", \"stat_group_branch_name\": \"Clifton\", \"count_checkouts\": 15}, {\"circ_month\": \"2022-01\", \"stat_group_branch_name\": \"College Hill\", \"count_checkouts\": 10}, {\"circ_month\": \"2022-01\", \"stat_group_branch_name\": \"Corryville\", \"count_checkouts\": 2}, {\"circ_month\": \"2022-01\", \"stat_group_branch_name\": \"Covedale\", \"count_checkouts\": 10}, {\"circ_month\": \"2022-01\", \"stat_group_branch_name\": \"Deer Park\", \"count_checkouts\": 284}, {\"circ_month\": \"2022-01\", \"stat_group_branch_name\": \"Delhi Township\", \"count_checkouts\": 53}, {\"circ_month\": \"2022-01\", \"stat_group_branch_name\": \"Elmwood Place\", \"count_checkouts\": 1}, {\"circ_month\": \"2022-01\", \"stat_group_branch_name\": \"Forest Park\", \"count_checkouts\": 34}, {\"circ_month\": \"2022-01\", \"stat_group_branch_name\": \"Green Township\", \"count_checkouts\": 268}, {\"circ_month\": \"2022-01\", \"stat_group_branch_name\": \"Greenhills\", \"count_checkouts\": 9}, {\"circ_month\": \"2022-01\", \"stat_group_branch_name\": \"Groesbeck\", \"count_checkouts\": 311}, {\"circ_month\": \"2022-01\", \"stat_group_branch_name\": \"Harrison\", \"count_checkouts\": 260}, {\"circ_month\": \"2022-01\", \"stat_group_branch_name\": \"Hyde Park\", \"count_checkouts\": 128}, {\"circ_month\": \"2022-01\", \"stat_group_branch_name\": \"Loveland\", \"count_checkouts\": 50}, {\"circ_month\": \"2022-01\", \"stat_group_branch_name\": \"Madeira\", \"count_checkouts\": 41}, {\"circ_month\": \"2022-01\", \"stat_group_branch_name\": \"Madisonville\", \"count_checkouts\": 101}, {\"circ_month\": \"2022-01\", \"stat_group_branch_name\": \"Main Library\", \"count_checkouts\": 341}, {\"circ_month\": \"2022-01\", \"stat_group_branch_name\": \"Mariemont\", \"count_checkouts\": 45}, {\"circ_month\": \"2022-01\", \"stat_group_branch_name\": \"Miami Township\", \"count_checkouts\": 9}, {\"circ_month\": \"2022-01\", \"stat_group_branch_name\": \"Monfort Heights\", \"count_checkouts\": 140}, {\"circ_month\": \"2022-01\", \"stat_group_branch_name\": \"Mt Healthy\", \"count_checkouts\": 7}, {\"circ_month\": \"2022-01\", \"stat_group_branch_name\": \"Mt Washington\", \"count_checkouts\": 146}, {\"circ_month\": \"2022-01\", \"stat_group_branch_name\": \"North Central\", \"count_checkouts\": 153}, {\"circ_month\": \"2022-01\", \"stat_group_branch_name\": \"Northside\", \"count_checkouts\": 2}, {\"circ_month\": \"2022-01\", \"stat_group_branch_name\": \"Norwood\", \"count_checkouts\": 24}, {\"circ_month\": \"2022-01\", \"stat_group_branch_name\": \"Oakley\", \"count_checkouts\": 50}, {\"circ_month\": \"2022-01\", \"stat_group_branch_name\": \"Pleasant Ridge\", \"count_checkouts\": 157}, {\"circ_month\": \"2022-01\", \"stat_group_branch_name\": \"Price Hill\", \"count_checkouts\": 80}, {\"circ_month\": \"2022-01\", \"stat_group_branch_name\": \"Reading\", \"count_checkouts\": 52}, {\"circ_month\": \"2022-01\", \"stat_group_branch_name\": \"Sharonville\", \"count_checkouts\": 102}, {\"circ_month\": \"2022-01\", \"stat_group_branch_name\": \"St Bernard\", \"count_checkouts\": 19}, {\"circ_month\": \"2022-01\", \"stat_group_branch_name\": \"Symmes Township\", \"count_checkouts\": 323}, {\"circ_month\": \"2022-01\", \"stat_group_branch_name\": \"Walnut Hills\", \"count_checkouts\": 7}, {\"circ_month\": \"2022-01\", \"stat_group_branch_name\": \"West End\", \"count_checkouts\": 119}, {\"circ_month\": \"2022-01\", \"stat_group_branch_name\": \"Westwood\", \"count_checkouts\": 157}, {\"circ_month\": \"2022-01\", \"stat_group_branch_name\": \"Wyoming\", \"count_checkouts\": 29}, {\"circ_month\": \"2022-02\", \"stat_group_branch_name\": \"Anderson\", \"count_checkouts\": 164}, {\"circ_month\": \"2022-02\", \"stat_group_branch_name\": \"Avondale\", \"count_checkouts\": 81}, {\"circ_month\": \"2022-02\", \"stat_group_branch_name\": \"Blue Ash\", \"count_checkouts\": 132}, {\"circ_month\": \"2022-02\", \"stat_group_branch_name\": \"Bond Hill\", \"count_checkouts\": 4}, {\"circ_month\": \"2022-02\", \"stat_group_branch_name\": \"Cheviot\", \"count_checkouts\": 67}, {\"circ_month\": \"2022-02\", \"stat_group_branch_name\": \"Clifton\", \"count_checkouts\": 18}, {\"circ_month\": \"2022-02\", \"stat_group_branch_name\": \"College Hill\", \"count_checkouts\": 10}, {\"circ_month\": \"2022-02\", \"stat_group_branch_name\": \"Corryville\", \"count_checkouts\": 2}, {\"circ_month\": \"2022-02\", \"stat_group_branch_name\": \"Covedale\", \"count_checkouts\": 5}, {\"circ_month\": \"2022-02\", \"stat_group_branch_name\": \"Deer Park\", \"count_checkouts\": 219}, {\"circ_month\": \"2022-02\", \"stat_group_branch_name\": \"Delhi Township\", \"count_checkouts\": 42}, {\"circ_month\": \"2022-02\", \"stat_group_branch_name\": \"Elmwood Place\", \"count_checkouts\": 3}, {\"circ_month\": \"2022-02\", \"stat_group_branch_name\": \"Forest Park\", \"count_checkouts\": 21}, {\"circ_month\": \"2022-02\", \"stat_group_branch_name\": \"Green Township\", \"count_checkouts\": 197}, {\"circ_month\": \"2022-02\", \"stat_group_branch_name\": \"Greenhills\", \"count_checkouts\": 9}, {\"circ_month\": \"2022-02\", \"stat_group_branch_name\": \"Groesbeck\", \"count_checkouts\": 259}, {\"circ_month\": \"2022-02\", \"stat_group_branch_name\": \"Harrison\", \"count_checkouts\": 171}, {\"circ_month\": \"2022-02\", \"stat_group_branch_name\": \"Hyde Park\", \"count_checkouts\": 96}, {\"circ_month\": \"2022-02\", \"stat_group_branch_name\": \"Loveland\", \"count_checkouts\": 46}, {\"circ_month\": \"2022-02\", \"stat_group_branch_name\": \"Madeira\", \"count_checkouts\": 45}, {\"circ_month\": \"2022-02\", \"stat_group_branch_name\": \"Madisonville\", \"count_checkouts\": 64}, {\"circ_month\": \"2022-02\", \"stat_group_branch_name\": \"Main Library\", \"count_checkouts\": 254}, {\"circ_month\": \"2022-02\", \"stat_group_branch_name\": \"Mariemont\", \"count_checkouts\": 27}, {\"circ_month\": \"2022-02\", \"stat_group_branch_name\": \"Miami Township\", \"count_checkouts\": 11}, {\"circ_month\": \"2022-02\", \"stat_group_branch_name\": \"Monfort Heights\", \"count_checkouts\": 129}, {\"circ_month\": \"2022-02\", \"stat_group_branch_name\": \"Mt Healthy\", \"count_checkouts\": 4}, {\"circ_month\": \"2022-02\", \"stat_group_branch_name\": \"Mt Washington\", \"count_checkouts\": 122}, {\"circ_month\": \"2022-02\", \"stat_group_branch_name\": \"North Central\", \"count_checkouts\": 155}, {\"circ_month\": \"2022-02\", \"stat_group_branch_name\": \"Northside\", \"count_checkouts\": 4}, {\"circ_month\": \"2022-02\", \"stat_group_branch_name\": \"Norwood\", \"count_checkouts\": 19}, {\"circ_month\": \"2022-02\", \"stat_group_branch_name\": \"Oakley\", \"count_checkouts\": 51}, {\"circ_month\": \"2022-02\", \"stat_group_branch_name\": \"Pleasant Ridge\", \"count_checkouts\": 114}, {\"circ_month\": \"2022-02\", \"stat_group_branch_name\": \"Price Hill\", \"count_checkouts\": 44}, {\"circ_month\": \"2022-02\", \"stat_group_branch_name\": \"Reading\", \"count_checkouts\": 48}, {\"circ_month\": \"2022-02\", \"stat_group_branch_name\": \"Sharonville\", \"count_checkouts\": 88}, {\"circ_month\": \"2022-02\", \"stat_group_branch_name\": \"St Bernard\", \"count_checkouts\": 26}, {\"circ_month\": \"2022-02\", \"stat_group_branch_name\": \"Symmes Township\", \"count_checkouts\": 194}, {\"circ_month\": \"2022-02\", \"stat_group_branch_name\": \"Walnut Hills\", \"count_checkouts\": 7}, {\"circ_month\": \"2022-02\", \"stat_group_branch_name\": \"West End\", \"count_checkouts\": 76}, {\"circ_month\": \"2022-02\", \"stat_group_branch_name\": \"Westwood\", \"count_checkouts\": 131}, {\"circ_month\": \"2022-02\", \"stat_group_branch_name\": \"Wyoming\", \"count_checkouts\": 29}, {\"circ_month\": \"2022-03\", \"stat_group_branch_name\": \"Anderson\", \"count_checkouts\": 3}, {\"circ_month\": \"2022-03\", \"stat_group_branch_name\": \"Avondale\", \"count_checkouts\": 1}, {\"circ_month\": \"2022-03\", \"stat_group_branch_name\": \"Blue Ash\", \"count_checkouts\": 6}, {\"circ_month\": \"2022-03\", \"stat_group_branch_name\": \"Bond Hill\", \"count_checkouts\": 1}, {\"circ_month\": \"2022-03\", \"stat_group_branch_name\": \"Cheviot\", \"count_checkouts\": 2}, {\"circ_month\": \"2022-03\", \"stat_group_branch_name\": \"Deer Park\", \"count_checkouts\": 5}, {\"circ_month\": \"2022-03\", \"stat_group_branch_name\": \"Delhi Township\", \"count_checkouts\": 5}, {\"circ_month\": \"2022-03\", \"stat_group_branch_name\": \"Forest Park\", \"count_checkouts\": 3}, {\"circ_month\": \"2022-03\", \"stat_group_branch_name\": \"Green Township\", \"count_checkouts\": 8}, {\"circ_month\": \"2022-03\", \"stat_group_branch_name\": \"Groesbeck\", \"count_checkouts\": 9}, {\"circ_month\": \"2022-03\", \"stat_group_branch_name\": \"Harrison\", \"count_checkouts\": 11}, {\"circ_month\": \"2022-03\", \"stat_group_branch_name\": \"Hyde Park\", \"count_checkouts\": 4}, {\"circ_month\": \"2022-03\", \"stat_group_branch_name\": \"Loveland\", \"count_checkouts\": 7}, {\"circ_month\": \"2022-03\", \"stat_group_branch_name\": \"Madeira\", \"count_checkouts\": 2}, {\"circ_month\": \"2022-03\", \"stat_group_branch_name\": \"Madisonville\", \"count_checkouts\": 2}, {\"circ_month\": \"2022-03\", \"stat_group_branch_name\": \"Main Library\", \"count_checkouts\": 7}, {\"circ_month\": \"2022-03\", \"stat_group_branch_name\": \"Mariemont\", \"count_checkouts\": 2}, {\"circ_month\": \"2022-03\", \"stat_group_branch_name\": \"Miami Township\", \"count_checkouts\": 2}, {\"circ_month\": \"2022-03\", \"stat_group_branch_name\": \"Monfort Heights\", \"count_checkouts\": 4}, {\"circ_month\": \"2022-03\", \"stat_group_branch_name\": \"Mt Washington\", \"count_checkouts\": 6}, {\"circ_month\": \"2022-03\", \"stat_group_branch_name\": \"North Central\", \"count_checkouts\": 3}, {\"circ_month\": \"2022-03\", \"stat_group_branch_name\": \"Norwood\", \"count_checkouts\": 1}, {\"circ_month\": \"2022-03\", \"stat_group_branch_name\": \"Pleasant Ridge\", \"count_checkouts\": 2}, {\"circ_month\": \"2022-03\", \"stat_group_branch_name\": \"Price Hill\", \"count_checkouts\": 2}, {\"circ_month\": \"2022-03\", \"stat_group_branch_name\": \"Sharonville\", \"count_checkouts\": 5}, {\"circ_month\": \"2022-03\", \"stat_group_branch_name\": \"Symmes Township\", \"count_checkouts\": 9}, {\"circ_month\": \"2022-03\", \"stat_group_branch_name\": \"West End\", \"count_checkouts\": 3}, {\"circ_month\": \"2022-03\", \"stat_group_branch_name\": \"Westwood\", \"count_checkouts\": 6}, {\"circ_month\": \"2022-03\", \"stat_group_branch_name\": \"Wyoming\", \"count_checkouts\": 3}]}}, {\"mode\": \"vega-lite\"});\n",
              "</script>"
            ]
          },
          "metadata": {}
        }
      ]
    }
  ]
}