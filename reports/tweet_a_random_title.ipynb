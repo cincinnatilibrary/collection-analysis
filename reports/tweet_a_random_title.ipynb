{
  "nbformat": 4,
  "nbformat_minor": 5,
  "metadata": {
    "kernelspec": {
      "display_name": "Python 3",
      "language": "python",
      "name": "python3"
    },
    "language_info": {
      "codemirror_mode": {
        "name": "ipython",
        "version": 3
      },
      "file_extension": ".py",
      "mimetype": "text/x-python",
      "name": "python",
      "nbconvert_exporter": "python",
      "pygments_lexer": "ipython3",
      "version": "3.9.5"
    },
    "colab": {
      "name": "tweet_a_random_title.ipynb",
      "provenance": [],
      "collapsed_sections": [],
      "include_colab_link": true
    }
  },
  "cells": [
    {
      "cell_type": "markdown",
      "metadata": {
        "id": "view-in-github",
        "colab_type": "text"
      },
      "source": [
        "<a href=\"https://colab.research.google.com/github/cincinnatilibrary/collection-analysis/blob/master/reports/tweet_a_random_title.ipynb\" target=\"_parent\"><img src=\"https://colab.research.google.com/assets/colab-badge.svg\" alt=\"Open In Colab\"/></a>"
      ]
    },
    {
      "cell_type": "markdown",
      "metadata": {
        "id": "hjPkK4J4oFGz"
      },
      "source": [
        "# CHPL - Collection Analysis - **tweet a random title's data**\n",
        "<img src=\"https://ilsweb.cincinnatilibrary.org/img/CHPL_Brandmark_Primary.png\" alt=\"CHPL\" title=\"CHPL\" width=\"300\"/>\n",
        "\n",
        "This is what can feed a twitter, \"tweet a random title\" feed\n",
        "\n",
        "Data sources / Documentation:\n",
        "\n",
        "* https://ilsweb.cincinnatilibrary.org/collection-analysis/"
      ],
      "id": "hjPkK4J4oFGz"
    },
    {
      "cell_type": "code",
      "source": [
        "# !pip install -U tweepy"
      ],
      "metadata": {
        "id": "2J5GHwR5etMH"
      },
      "id": "2J5GHwR5etMH",
      "execution_count": 2,
      "outputs": []
    },
    {
      "cell_type": "code",
      "metadata": {
        "id": "5c5b883e"
      },
      "source": [
        "from getpass import getpass\n",
        "import requests\n",
        "import json\n",
        "from uuid import uuid4\n",
        "from time import sleep\n",
        "from IPython.display import Image\n",
        "import pandas as pd\n",
        "import altair as alt\n",
        "import re\n",
        "import imghdr\n",
        "from IPython.display import Image\n",
        "import tweepy"
      ],
      "id": "5c5b883e",
      "execution_count": 11,
      "outputs": []
    },
    {
      "cell_type": "code",
      "source": [
        "bc_key = getpass('bc api key:')"
      ],
      "metadata": {
        "colab": {
          "base_uri": "https://localhost:8080/"
        },
        "id": "PGiktPUsLzFD",
        "outputId": "9f9e082b-e02e-4792-a0cd-c589cb965074"
      },
      "id": "PGiktPUsLzFD",
      "execution_count": 4,
      "outputs": [
        {
          "name": "stdout",
          "output_type": "stream",
          "text": [
            "bc api key:··········\n"
          ]
        }
      ]
    },
    {
      "cell_type": "code",
      "source": [
        "json_twitter_creds_text = getpass('enter json_twitter_creds:')\n",
        "json_twitter_creds = json.loads(json_twitter_creds_text)"
      ],
      "metadata": {
        "id": "3m_gRf5HZxaA",
        "outputId": "851a02fd-f746-4731-87f0-028ca0fe6960",
        "colab": {
          "base_uri": "https://localhost:8080/"
        }
      },
      "id": "3m_gRf5HZxaA",
      "execution_count": 13,
      "outputs": [
        {
          "name": "stdout",
          "output_type": "stream",
          "text": [
            "enter json_twitter_creds:··········\n"
          ]
        }
      ]
    },
    {
      "cell_type": "code",
      "metadata": {
        "id": "7fc54487"
      },
      "source": [
        "chpl_collection_url = 'https://ilsweb.cincinnatilibrary.org/collection-analysis/current_collection'"
      ],
      "id": "7fc54487",
      "execution_count": 5,
      "outputs": []
    },
    {
      "cell_type": "code",
      "source": [
        "# # get a distribution of titles in the CHPL collection by decade\n",
        "# sql = \"\"\"\\\n",
        "# select\n",
        "#   cast(\n",
        "#     (cast(bib.publish_year as INTEGER) / 10) AS TEXT\n",
        "#   ) || 'X' as \"publish decade\",\n",
        "#   -- (cast(bib.publish_year as INTEGER) / 10) * 10 as \"publish decade\" ,\n",
        "#   count(bib.bib_record_num) as \"count titles\"\n",
        "# from\n",
        "#   bib\n",
        "#   join item on item.bib_record_num = bib.bib_record_num\n",
        "# where\n",
        "#   bib.publish_year is not null\n",
        "#   and bib.publish_year != ''\n",
        "#   and bib.publish_year >= 1830\n",
        "#   and bib.publish_year <= cast(strftime('%Y', 'now') as INTEGER)\n",
        "#   and bib.isbn is not null\n",
        "# group by\n",
        "#   1\n",
        "# having\n",
        "#   count(\n",
        "#     case\n",
        "#       when item.item_status_code IN ('-', 'd', 't') then 1\n",
        "#       else 0\n",
        "#     end\n",
        "#   ) > 1\n",
        "# order by\n",
        "#   1\n",
        "# \"\"\"\n",
        "\n",
        "# try:\n",
        "#     r = requests.get(\n",
        "#         chpl_collection_url + '.json',\n",
        "#         params={\n",
        "#             'sql': sql,\n",
        "#             '_shape': 'array'\n",
        "#         }\n",
        "#     )\n",
        "    \n",
        "#     df = pd.read_json(r.text)\n",
        "    \n",
        "# except:\n",
        "#     pass\n",
        "\n",
        "# chart = alt.Chart(df).mark_bar().encode(\n",
        "#     x=alt.X('publish decade', axis=alt.Axis(labelAngle=-45)), # sort='-y' ),\n",
        "#     y=alt.Y('count titles', ),\n",
        "#     tooltip=['publish decade', 'count titles'],\n",
        "#     # color='op_name',\n",
        "# ).properties(\n",
        "#     width=600,\n",
        "#     title='CHPL Collection: Titles in Collection Published By Decade (having an ISBN)',\n",
        "\n",
        "# ).configure_title(\n",
        "#     # fontSize=20,\n",
        "#     # anchor='start',\n",
        "# )\n",
        "\n",
        "# chart.display()\n",
        "# # Image('visualization.png')"
      ],
      "metadata": {
        "id": "p50sv0d_uCom",
        "outputId": "d71d8176-eee4-48df-9f68-546b11d1edc3",
        "colab": {
          "base_uri": "https://localhost:8080/",
          "height": 401
        }
      },
      "id": "p50sv0d_uCom",
      "execution_count": 6,
      "outputs": [
        {
          "output_type": "display_data",
          "data": {
            "text/plain": [
              "alt.Chart(...)"
            ],
            "text/html": [
              "\n",
              "<div id=\"altair-viz-7a5a6ebfb1e14521825310a07b29345f\"></div>\n",
              "<script type=\"text/javascript\">\n",
              "  var VEGA_DEBUG = (typeof VEGA_DEBUG == \"undefined\") ? {} : VEGA_DEBUG;\n",
              "  (function(spec, embedOpt){\n",
              "    let outputDiv = document.currentScript.previousElementSibling;\n",
              "    if (outputDiv.id !== \"altair-viz-7a5a6ebfb1e14521825310a07b29345f\") {\n",
              "      outputDiv = document.getElementById(\"altair-viz-7a5a6ebfb1e14521825310a07b29345f\");\n",
              "    }\n",
              "    const paths = {\n",
              "      \"vega\": \"https://cdn.jsdelivr.net/npm//vega@5?noext\",\n",
              "      \"vega-lib\": \"https://cdn.jsdelivr.net/npm//vega-lib?noext\",\n",
              "      \"vega-lite\": \"https://cdn.jsdelivr.net/npm//vega-lite@4.17.0?noext\",\n",
              "      \"vega-embed\": \"https://cdn.jsdelivr.net/npm//vega-embed@6?noext\",\n",
              "    };\n",
              "\n",
              "    function maybeLoadScript(lib, version) {\n",
              "      var key = `${lib.replace(\"-\", \"\")}_version`;\n",
              "      return (VEGA_DEBUG[key] == version) ?\n",
              "        Promise.resolve(paths[lib]) :\n",
              "        new Promise(function(resolve, reject) {\n",
              "          var s = document.createElement('script');\n",
              "          document.getElementsByTagName(\"head\")[0].appendChild(s);\n",
              "          s.async = true;\n",
              "          s.onload = () => {\n",
              "            VEGA_DEBUG[key] = version;\n",
              "            return resolve(paths[lib]);\n",
              "          };\n",
              "          s.onerror = () => reject(`Error loading script: ${paths[lib]}`);\n",
              "          s.src = paths[lib];\n",
              "        });\n",
              "    }\n",
              "\n",
              "    function showError(err) {\n",
              "      outputDiv.innerHTML = `<div class=\"error\" style=\"color:red;\">${err}</div>`;\n",
              "      throw err;\n",
              "    }\n",
              "\n",
              "    function displayChart(vegaEmbed) {\n",
              "      vegaEmbed(outputDiv, spec, embedOpt)\n",
              "        .catch(err => showError(`Javascript Error: ${err.message}<br>This usually means there's a typo in your chart specification. See the javascript console for the full traceback.`));\n",
              "    }\n",
              "\n",
              "    if(typeof define === \"function\" && define.amd) {\n",
              "      requirejs.config({paths});\n",
              "      require([\"vega-embed\"], displayChart, err => showError(`Error loading script: ${err.message}`));\n",
              "    } else {\n",
              "      maybeLoadScript(\"vega\", \"5\")\n",
              "        .then(() => maybeLoadScript(\"vega-lite\", \"4.17.0\"))\n",
              "        .then(() => maybeLoadScript(\"vega-embed\", \"6\"))\n",
              "        .catch(showError)\n",
              "        .then(() => displayChart(vegaEmbed));\n",
              "    }\n",
              "  })({\"config\": {\"view\": {\"continuousWidth\": 400, \"continuousHeight\": 300}, \"title\": {}}, \"data\": {\"name\": \"data-ed898403fb81fb36e14548c215058143\"}, \"mark\": \"bar\", \"encoding\": {\"tooltip\": [{\"field\": \"publish decade\", \"type\": \"nominal\"}, {\"field\": \"count titles\", \"type\": \"quantitative\"}], \"x\": {\"axis\": {\"labelAngle\": -45}, \"field\": \"publish decade\", \"type\": \"nominal\"}, \"y\": {\"field\": \"count titles\", \"type\": \"quantitative\"}}, \"title\": \"CHPL Collection: Titles in Collection Published By Decade (having an ISBN)\", \"width\": 600, \"$schema\": \"https://vega.github.io/schema/vega-lite/v4.17.0.json\", \"datasets\": {\"data-ed898403fb81fb36e14548c215058143\": [{\"publish decade\": \"183X\", \"count titles\": 11}, {\"publish decade\": \"184X\", \"count titles\": 11}, {\"publish decade\": \"185X\", \"count titles\": 10}, {\"publish decade\": \"186X\", \"count titles\": 57}, {\"publish decade\": \"187X\", \"count titles\": 60}, {\"publish decade\": \"188X\", \"count titles\": 90}, {\"publish decade\": \"189X\", \"count titles\": 132}, {\"publish decade\": \"190X\", \"count titles\": 698}, {\"publish decade\": \"191X\", \"count titles\": 292}, {\"publish decade\": \"192X\", \"count titles\": 1008}, {\"publish decade\": \"193X\", \"count titles\": 1066}, {\"publish decade\": \"194X\", \"count titles\": 1438}, {\"publish decade\": \"195X\", \"count titles\": 3325}, {\"publish decade\": \"196X\", \"count titles\": 12469}, {\"publish decade\": \"197X\", \"count titles\": 155080}, {\"publish decade\": \"198X\", \"count titles\": 299648}, {\"publish decade\": \"199X\", \"count titles\": 452686}, {\"publish decade\": \"200X\", \"count titles\": 700145}, {\"publish decade\": \"201X\", \"count titles\": 1619576}, {\"publish decade\": \"202X\", \"count titles\": 405828}]}}, {\"mode\": \"vega-lite\"});\n",
              "</script>"
            ]
          },
          "metadata": {}
        }
      ]
    },
    {
      "cell_type": "code",
      "metadata": {
        "colab": {
          "base_uri": "https://localhost:8080/",
          "height": 684
        },
        "id": "221f4dc6",
        "outputId": "b1b3327f-0987-4a6c-fb83-ec9cb150c29a"
      },
      "source": [
        "sql = \"\"\"\\\n",
        "with bib_data as (\n",
        "  with random_bib as (\n",
        "    select\n",
        "      :guid as query_guid,\n",
        "      datetime('now', 'localtime') as time_stamp,\n",
        "      bib.bib_record_num\n",
        "    from\n",
        "      bib\n",
        "    where\n",
        "      bib.publish_year is not null\n",
        "      and bib.publish_year != ''\n",
        "      and bib.publish_year >= 1830\n",
        "      and bib.publish_year <= cast(strftime('%Y', 'now') as INTEGER)\n",
        "      and bib.isbn is not null\n",
        "    order by\n",
        "      random()\n",
        "    limit\n",
        "      1\n",
        "  )\n",
        "  select\n",
        "    r.query_guid,\n",
        "    r.time_stamp,\n",
        "    r.bib_record_num,\n",
        "    count(\n",
        "      case\n",
        "        when item.item_status_code IN ('-', 'd', 't') then 1\n",
        "        else 0\n",
        "      end\n",
        "    ) as count_available,\n",
        "    count(item.item_record_num) as count_total_items,\n",
        "    (\n",
        "      sum(item.checkout_total) + sum(item.renewal_total)\n",
        "    ) as sum_circulation,\n",
        "    max(\n",
        "      coalesce(\n",
        "        item.last_checkin_date,\n",
        "        item.checkout_date,\n",
        "        item.last_checkout_date\n",
        "      )\n",
        "    ) as last_circ_date,\n",
        "    -- ltrim(strftime('%m/%Y', last_circ_date), '0') as last_circ_month,\n",
        "    -- max(item.item_format) as item_format,\n",
        "    (\n",
        "      select\n",
        "        group_concat(item_format, ', ')\n",
        "      from\n",
        "        (\n",
        "          select\n",
        "            distinct item.item_format\n",
        "          from\n",
        "            item\n",
        "          where\n",
        "            bib_record_num = r.bib_record_num\n",
        "            and item.item_status_code IN ('-', 'd', 't')\n",
        "          order by\n",
        "            item_format\n",
        "        )\n",
        "    ) as item_format,\n",
        "    max(item.item_callnumber) as callnumber\n",
        "  from\n",
        "    random_bib as r -- join bib on bib.bib_record_num = r.bib_record_num\n",
        "    join item on item.bib_record_num = r.bib_record_num\n",
        "  group by\n",
        "    1,\n",
        "    2,\n",
        "    3\n",
        "  having\n",
        "    count(\n",
        "      case\n",
        "        when item.item_status_code IN ('-', 'd', 't') then 1\n",
        "        else 0\n",
        "      end\n",
        "    ) > 1\n",
        ")\n",
        "select\n",
        "  d.query_guid,\n",
        "  d.time_stamp,\n",
        "  d.bib_record_num,\n",
        "  d.count_available,\n",
        "  d.count_total_items,\n",
        "  d.sum_circulation,\n",
        "  d.last_circ_date,\n",
        "  ltrim(strftime('%m/%Y', d.last_circ_date), '0') as last_circ_month,\n",
        "  d.item_format,\n",
        "  callnumber,\n",
        "  bib.*\n",
        "from\n",
        "  bib_data as d\n",
        "  join bib on bib.bib_record_num = d.bib_record_num\n",
        "\"\"\"\n",
        "\n",
        "# Note: the random search may not return a value, so loop up to 100 times\n",
        "# Note: we're sending a guid so that we can make sure the query is not being cached\n",
        "count = 100\n",
        "while count:\n",
        "  count -= 1\n",
        "  print('.', end='')\n",
        "\n",
        "  try:\n",
        "      r = requests.get(\n",
        "          chpl_collection_url + '.json',\n",
        "          params={\n",
        "              'sql': sql,\n",
        "              '_shape': 'array',\n",
        "              'guid': str(uuid4())\n",
        "          }\n",
        "      )\n",
        "      if len(r.json()) > 0:\n",
        "        break\n",
        "      \n",
        "      df = pd.read_json(r.text)\n",
        "      \n",
        "  except:\n",
        "      pass\n",
        "\n",
        "  sleep(1)\n",
        "\n",
        "print(\n",
        "    \"\\n\",\n",
        "    json.dumps(r.json(), indent=2),\n",
        "    sep=\"\"\n",
        ")\n",
        "\n",
        "try:\n",
        "  r_open_library = requests.get(\n",
        "    'https://covers.openlibrary.org/b/isbn/{}-L.jpg'.format(r.json()[0]['isbn'])\n",
        "  )\n",
        "  if imghdr.what(None, h=r_open_library.content) == 'jpeg':\n",
        "      print('https://covers.openlibrary.org/b/isbn/{}-L.jpg'.format(r.json()[0]['isbn']))\n",
        "      # break\n",
        "  else:\n",
        "    print('No Image Found', end='')\n",
        "except:\n",
        "  pass\n",
        "\n",
        "try:\n",
        "  r_title = requests.get(\n",
        "    url = \"https://api.bibliocommons.com/v1/titles/{}\".format(\n",
        "        str(r.json()[0]['bib_record_num']) + \"170\"\n",
        "    ),\n",
        "    params={\n",
        "      \"api_key\": bc_key\n",
        "    }\n",
        "  )\n",
        "\n",
        "  print(r_title.json()['title']['description'])\n",
        "  # print(r_title.status_code, json.dumps(r_title.json(), indent=2), sep=\"\\n\")\n",
        "except:\n",
        "  pass\n",
        "\n",
        "# Image(r_open_library.content)"
      ],
      "id": "221f4dc6",
      "execution_count": 44,
      "outputs": [
        {
          "output_type": "stream",
          "name": "stdout",
          "text": [
            ".....\n",
            "[\n",
            "  {\n",
            "    \"query_guid\": \"29a1b499-6e9d-4ef9-bf49-fd5a853794c6\",\n",
            "    \"time_stamp\": \"2022-01-28 21:59:09\",\n",
            "    \"bib_record_num\": 1464417,\n",
            "    \"count_available\": 2,\n",
            "    \"count_total_items\": 2,\n",
            "    \"sum_circulation\": 23,\n",
            "    \"last_circ_date\": \"2014-03-17\",\n",
            "    \"last_circ_month\": \"3/2014\",\n",
            "    \"item_format\": \"Book\",\n",
            "    \"callnumber\": \"378.7444 h339 zb\",\n",
            "    \"creation_date\": \"2012-06-20\",\n",
            "    \"record_last_updated\": \"2017-10-20\",\n",
            "    \"isbn\": \"0814779727\",\n",
            "    \"best_author\": null,\n",
            "    \"best_title\": \"Blacks at Harvard : a documentary history of African-American experience at Harvard and Radcliffe\",\n",
            "    \"publisher\": \"New York University Press,\",\n",
            "    \"publish_year\": 1993,\n",
            "    \"bib_level_callnumber\": \"378.7444 h339 zb,     1993\",\n",
            "    \"indexed_subjects\": \"harvard university history sources,sources harvard university history,radcliffe college history sources,sources radcliffe college history,african americans education higher massachusetts history sources,education higher african americans massachusetts history sources,massachusetts african americans education higher history sources,sources african americans education higher massachusetts history,united states race relations history sources,sources united states race relations history,race relations united states history sources\"\n",
            "  }\n",
            "]\n",
            "https://covers.openlibrary.org/b/isbn/0814779727-L.jpg\n",
            "\n"
          ]
        },
        {
          "output_type": "execute_result",
          "data": {
            "image/jpeg": "[encoded data removed]",
            "text/plain": [
              "<IPython.core.display.Image object>"
            ]
          },
          "metadata": {},
          "execution_count": 44
        }
      ]
    },
    {
      "cell_type": "code",
      "source": [
        "# 280 characters max (includes a link, representing 23 characters ... see below)\n",
        "# A URL of any length will be altered to 23 characters, \n",
        "# even if the link itself is less than 23 characters long, \n",
        "# character count will reflect this.\n",
        "tweet = \"\"\n",
        "tweet += \"\"\"{}\"\"\".format(\n",
        "    str(r.json()[0]['best_title']).title(),\n",
        ")\n",
        "if r.json()[0]['best_author'] is not None:\n",
        "    tweet += \"\"\"—{}\\n\"\"\".format(str(r.json()[0]['best_author']))\n",
        "else:\n",
        "    tweet += \"\"\"\\n\"\"\"\n",
        "\n",
        "# regex to replace excess whitespace\n",
        "re_compress_space = re.compile(\"\\s+\")\n",
        "\n",
        "tweet += \"\"\"{}\n",
        "{} | {}\n",
        "items: {} | circs: {}\"\"\".format(\n",
        "    str(r.json()[0]['publish_year']),\n",
        "    str(r.json()[0]['item_format']),\n",
        "    re_compress_space.sub(\" \", str(r.json()[0]['callnumber'])),\n",
        "    str(r.json()[0]['count_available']),\n",
        "    str(r.json()[0]['sum_circulation']),\n",
        ")\n",
        "\n",
        "if r.json()[0]['last_circ_month'] is not None:\n",
        "    tweet += \"\"\" | last circ: {}\\n\"\"\".format(r.json()[0]['last_circ_month'])\n",
        "else:\n",
        "    tweet += \"\"\"\\n\"\"\"\n",
        "\n",
        "extra = \"\"\n",
        "if r.json()[0]['indexed_subjects'] is not None:\n",
        "    subject = re_compress_space.sub(\" \", str(r.json()[0]['indexed_subjects']))\n",
        "    if len(subject) <= (253 - len(tweet)):\n",
        "      extra += subject\n",
        "      extra += \"\\n\"\n",
        "    else:\n",
        "      extra += subject[:253 - len(tweet)]\n",
        "      extra += \"... \"\n",
        "\n",
        "extra += \"\"\"https://cincinnatilibrary.bibliocommons.com/v2/record/S170C{}\"\"\".format(\n",
        "    str(r.json()[0]['bib_record_num'])\n",
        ")\n",
        "\n",
        "print(tweet+extra)\n",
        "print(len(tweet+extra))"
      ],
      "metadata": {
        "id": "xQg3CbYRXAKQ",
        "colab": {
          "base_uri": "https://localhost:8080/"
        },
        "outputId": "9e3c52a1-ab4a-494a-9200-be8e17332383"
      },
      "id": "xQg3CbYRXAKQ",
      "execution_count": 45,
      "outputs": [
        {
          "output_type": "stream",
          "name": "stdout",
          "text": [
            "Blacks At Harvard : A Documentary History Of African-American Experience At Harvard And Radcliffe\n",
            "1993\n",
            "Book | 378.7444 h339 zb\n",
            "items: 2 | circs: 23 | last circ: 3/2014\n",
            "harvard university history sources,sources harvard university history,radcliffe colle... https://cincinnatilibrary.bibliocommons.com/v2/record/S170C1464417\n",
            "323\n"
          ]
        }
      ]
    },
    {
      "cell_type": "code",
      "source": [
        "from tweepy import media\n",
        "client = tweepy.Client(\n",
        "    consumer_key=json_twitter_creds['consumer_key'], \n",
        "    consumer_secret=json_twitter_creds['consumer_secret'],\n",
        "    access_token=json_twitter_creds['access_token'], \n",
        "    access_token_secret=json_twitter_creds['access_token_secret']\n",
        ")\n",
        "\n",
        "response = client.create_tweet(\n",
        "    text=tweet+extra,\n",
        "    # media_ids=\n",
        ")\n",
        "print(f\"https://twitter.com/user/status/{response.data['id']}\")\n",
        "\n",
        "img_link = \"\"\n",
        "try:\n",
        "  r_open_library = requests.get(\n",
        "    'https://covers.openlibrary.org/b/isbn/{}-L.jpg'.format(r.json()[0]['isbn'])\n",
        "  )\n",
        "  if imghdr.what(None, h=r_open_library.content) == 'jpeg':\n",
        "      print('https://covers.openlibrary.org/b/isbn/{}-L.jpg'.format(r.json()[0]['isbn']))\n",
        "      img_link = 'https://covers.openlibrary.org/b/isbn/{}-L.jpg'.format(r.json()[0]['isbn'])\n",
        "      # break\n",
        "  else:\n",
        "    print('No Image Found', end='')\n",
        "except:\n",
        "  pass\n",
        "\n",
        "try:\n",
        "  response2 = client.create_tweet(\n",
        "      text = img_link + \"\\n\" + r_title.json()['title']['description'][:253],\n",
        "      in_reply_to_tweet_id=response.data['id']\n",
        "      # media_ids=\n",
        "  )\n",
        "  print(f\"https://twitter.com/user/status/{response2.data['id']}\")\n",
        "except:\n",
        "  pass"
      ],
      "metadata": {
        "id": "HZz04M8JXaKc",
        "outputId": "f6c19916-884f-43b9-fdb9-02410cefda1a",
        "colab": {
          "base_uri": "https://localhost:8080/"
        }
      },
      "id": "HZz04M8JXaKc",
      "execution_count": 46,
      "outputs": [
        {
          "output_type": "stream",
          "name": "stdout",
          "text": [
            "https://twitter.com/user/status/1487259085095510019\n",
            "https://covers.openlibrary.org/b/isbn/0814779727-L.jpg\n",
            "https://twitter.com/user/status/1487259092422901764\n"
          ]
        }
      ]
    }
  ]
}